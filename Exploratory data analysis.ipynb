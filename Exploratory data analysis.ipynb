{
  "cells": [
    {
      "cell_type": "markdown",
      "metadata": {
        "id": "DtNBZFHO3M7n"
      },
      "source": [
        "# **Waze Project**\n",
        "**Course 3 - Go Beyond the Numbers: Translate Data into Insights**"
      ]
    },
    {
      "cell_type": "markdown",
      "metadata": {
        "id": "g-E8SNtmRUkN"
      },
      "source": [
        "Your team is still in the early stages of their user churn project. So far, you’ve completed a project proposal and used Python to inspect and organize Waze’s user data.\n",
        "\n",
        "You check your inbox and notice a new message from Chidi Ga, your team’s Senior Data Analyst. Chidi is pleased with the work you have already completed and requests your assistance with exploratory data analysis (EDA) and further data visualization. Harriet Hadzic, Waze's Director of Data Analysis, will want to review a Python notebook that shows your data exploration and visualization.\n",
        "\n",
        "A notebook was structured and prepared to help you in this project. Please complete the following questions and prepare an executive summary."
      ]
    },
    {
      "cell_type": "markdown",
      "metadata": {
        "id": "rgSbVJvomcVa"
      },
      "source": [
        "# **Course 3 End-of-course project: Exploratory data analysis**\n",
        "\n",
        "In this activity, you will examine data provided and prepare it for analysis.\n",
        "<br/>\n",
        "\n",
        "**The purpose** of this project is to conduct exploratory data analysis (EDA) on a provided dataset.\n",
        "\n",
        "**The goal** is to continue the examination of the data that you began in the previous Course, adding relevant visualizations that help communicate the story that the data tells.\n",
        "<br/>\n",
        "\n",
        "\n",
        "*This activity has 4 parts:*\n",
        "\n",
        "**Part 1:** Imports, links, and loading\n",
        "\n",
        "**Part 2:** Data Exploration\n",
        "*   Data cleaning\n",
        "\n",
        "\n",
        "**Part 3:** Building visualizations\n",
        "\n",
        "**Part 4:** Evaluating and sharing results\n",
        "\n",
        "<br/>\n",
        "\n",
        "\n",
        "Follow the instructions and answer the question below to complete the activity. Then, you will complete an executive summary using the questions listed on the [PACE Strategy Document ](https://docs.google.com/document/d/1iSHdbfQR6w8RClJNWai8oJXn9tQmYoTKn6QohuaK4-s/template/preview?resourcekey=0-ZIHnbxL1dd2u9A47iEVXvg).\n",
        "\n",
        "Be sure to complete this activity before moving on. The next course item will provide you with a completed exemplar to compare to your own work."
      ]
    },
    {
      "cell_type": "markdown",
      "metadata": {
        "id": "9D43bTW0zOlX"
      },
      "source": [
        "# **Visualize a story in Python**"
      ]
    },
    {
      "cell_type": "markdown",
      "metadata": {
        "id": "rdR5eWbYx8GE"
      },
      "source": [
        "<img src=\"images/Pace.png\" width=\"100\" height=\"100\" align=left>\n",
        "\n",
        "# **PACE stages**\n"
      ]
    },
    {
      "cell_type": "markdown",
      "metadata": {
        "id": "diPme_MzeshF"
      },
      "source": [
        "Throughout these project notebooks, you'll see references to the problem-solving framework PACE. The following notebook components are labeled with the respective PACE stage: Plan, Analyze, Construct, and Execute."
      ]
    },
    {
      "cell_type": "markdown",
      "metadata": {
        "id": "xKLZJUqMx8GE"
      },
      "source": [
        "<img src=\"images/Plan.png\" width=\"100\" height=\"100\" align=left>\n",
        "\n",
        "\n",
        "## **PACE: Plan**\n",
        "\n",
        "Consider the questions in your PACE Strategy Document to reflect on the Plan stage.\n",
        "\n"
      ]
    },
    {
      "cell_type": "markdown",
      "metadata": {
        "id": "SKur6gTPRcvy"
      },
      "source": [
        "### **Task 1. Imports and data loading**\n",
        "\n",
        "For EDA of the data, import the data and packages that will be most helpful, such as pandas, numpy, and matplotlib.\n",
        "\n",
        "\n"
      ]
    },
    {
      "cell_type": "code",
      "execution_count": null,
      "metadata": {
        "id": "EO8vKZI8x8GF"
      },
      "outputs": [],
      "source": [
        "### YOUR CODE HERE ###\n",
        "import pandas as pd\n",
        "import numpy as np\n",
        "import matplotlib.pyplot as plt\n",
        "import seaborn as sns"
      ]
    },
    {
      "cell_type": "markdown",
      "metadata": {
        "id": "Rf1WWIBW48QC"
      },
      "source": [
        "Read in the data and store it as a dataframe object called df.\n",
        "\n",
        "**Note:** As shown in this cell, the dataset has been automatically loaded in for you. You do not need to download the .csv file, or provide more code, in order to access the dataset and proceed with this lab. Please continue with this activity by completing the following instructions."
      ]
    },
    {
      "cell_type": "code",
      "execution_count": null,
      "metadata": {
        "id": "w7XSDxoqyF9D",
        "scrolled": true
      },
      "outputs": [],
      "source": [
        "# Load the dataset into a dataframe\n",
        "df = pd.read_csv('waze_dataset.csv')"
      ]
    },
    {
      "cell_type": "markdown",
      "metadata": {
        "id": "3mipEiyZx8GI"
      },
      "source": [
        "<img src=\"images/Analyze.png\" width=\"100\" height=\"100\" align=left>\n",
        "\n",
        "## **PACE: Analyze**\n",
        "\n",
        "Consider the questions in your PACE Strategy Document and those below where applicable to complete your code:\n",
        "1. Does the data need to be restructured or converted into usable formats?\n",
        "\n",
        "2. Are there any variables that have missing data?\n"
      ]
    },
    {
      "cell_type": "markdown",
      "metadata": {
        "id": "VZiH_pEMNm_M"
      },
      "source": [
        "1. The data is already in a structured format with each row representing a different user\n",
        "2. There are 700 missing values in the `sessions` column"
      ]
    },
    {
      "cell_type": "code",
      "execution_count": null,
      "metadata": {
        "id": "IWxBVIfLIHnY",
        "outputId": "e582f486-9f30-4971-da8f-7cdd919cba99"
      },
      "outputs": [
        {
          "data": {
            "text/plain": [
              "ID                           0\n",
              "label                      700\n",
              "sessions                     0\n",
              "drives                       0\n",
              "total_sessions               0\n",
              "n_days_after_onboarding      0\n",
              "total_navigations_fav1       0\n",
              "total_navigations_fav2       0\n",
              "driven_km_drives             0\n",
              "duration_minutes_drives      0\n",
              "activity_days                0\n",
              "driving_days                 0\n",
              "device                       0\n",
              "dtype: int64"
            ]
          },
          "execution_count": 3,
          "metadata": {},
          "output_type": "execute_result"
        }
      ],
      "source": [
        "df.isnull().sum()"
      ]
    },
    {
      "cell_type": "markdown",
      "metadata": {
        "id": "n09krlKWRw_2"
      },
      "source": [
        "### **Task 2. Data exploration and cleaning**\n",
        "\n",
        "Consider the following questions:\n",
        "\n",
        "\n",
        "\n",
        "1.  Given the scenario, which data columns are most applicable?\n",
        "\n",
        "2.  Which data columns can you eliminate, knowing they won’t solve your problem scenario?\n",
        "\n",
        "3.  How would you check for missing data? And how would you handle missing data (if any)?\n",
        "\n",
        "4.  How would you check for outliers? And how would handle outliers (if any)?\n",
        "\n",
        "\n",
        "\n",
        "\n",
        "\n"
      ]
    },
    {
      "cell_type": "markdown",
      "metadata": {
        "id": "WQDcGzfANuSe"
      },
      "source": [
        "1. I believe all columns are applicable except for ID, since they all give insight into user behavior. However, I do believe that the `label` column is the most imporant since we are dealing with user churn.\n",
        "2. I believe that the ID column can be dropped since any identifiers for particular users are irrelevant.\n",
        "3. There are multiple ways to check for missing data, but the easist way is using the info() method and checking the non-null count number.\n",
        "4."
      ]
    },
    {
      "cell_type": "markdown",
      "metadata": {
        "id": "uk6zuv_mUU2k"
      },
      "source": [
        "#### **Data overview and summary statistics**\n",
        "\n",
        "Use the following methods and attributes on the dataframe:\n",
        "\n",
        "* `head()`\n",
        "* `size`\n",
        "* `describe()`\n",
        "* `info()`\n",
        "\n",
        "It's always helpful to have this information at the beginning of a project, where you can always refer back to if needed."
      ]
    },
    {
      "cell_type": "code",
      "execution_count": null,
      "metadata": {
        "id": "cBOUo5p-tbib",
        "outputId": "1a4f502f-dbcf-4827-f71c-e5dda4bce4cb"
      },
      "outputs": [
        {
          "data": {
            "text/html": [
              "<div>\n",
              "<style scoped>\n",
              "    .dataframe tbody tr th:only-of-type {\n",
              "        vertical-align: middle;\n",
              "    }\n",
              "\n",
              "    .dataframe tbody tr th {\n",
              "        vertical-align: top;\n",
              "    }\n",
              "\n",
              "    .dataframe thead th {\n",
              "        text-align: right;\n",
              "    }\n",
              "</style>\n",
              "<table border=\"1\" class=\"dataframe\">\n",
              "  <thead>\n",
              "    <tr style=\"text-align: right;\">\n",
              "      <th></th>\n",
              "      <th>ID</th>\n",
              "      <th>label</th>\n",
              "      <th>sessions</th>\n",
              "      <th>drives</th>\n",
              "      <th>total_sessions</th>\n",
              "      <th>n_days_after_onboarding</th>\n",
              "      <th>total_navigations_fav1</th>\n",
              "      <th>total_navigations_fav2</th>\n",
              "      <th>driven_km_drives</th>\n",
              "      <th>duration_minutes_drives</th>\n",
              "      <th>activity_days</th>\n",
              "      <th>driving_days</th>\n",
              "      <th>device</th>\n",
              "    </tr>\n",
              "  </thead>\n",
              "  <tbody>\n",
              "    <tr>\n",
              "      <th>0</th>\n",
              "      <td>0</td>\n",
              "      <td>retained</td>\n",
              "      <td>283</td>\n",
              "      <td>226</td>\n",
              "      <td>296.748273</td>\n",
              "      <td>2276</td>\n",
              "      <td>208</td>\n",
              "      <td>0</td>\n",
              "      <td>2628.845068</td>\n",
              "      <td>1985.775061</td>\n",
              "      <td>28</td>\n",
              "      <td>19</td>\n",
              "      <td>Android</td>\n",
              "    </tr>\n",
              "    <tr>\n",
              "      <th>1</th>\n",
              "      <td>1</td>\n",
              "      <td>retained</td>\n",
              "      <td>133</td>\n",
              "      <td>107</td>\n",
              "      <td>326.896596</td>\n",
              "      <td>1225</td>\n",
              "      <td>19</td>\n",
              "      <td>64</td>\n",
              "      <td>13715.920550</td>\n",
              "      <td>3160.472914</td>\n",
              "      <td>13</td>\n",
              "      <td>11</td>\n",
              "      <td>iPhone</td>\n",
              "    </tr>\n",
              "    <tr>\n",
              "      <th>2</th>\n",
              "      <td>2</td>\n",
              "      <td>retained</td>\n",
              "      <td>114</td>\n",
              "      <td>95</td>\n",
              "      <td>135.522926</td>\n",
              "      <td>2651</td>\n",
              "      <td>0</td>\n",
              "      <td>0</td>\n",
              "      <td>3059.148818</td>\n",
              "      <td>1610.735904</td>\n",
              "      <td>14</td>\n",
              "      <td>8</td>\n",
              "      <td>Android</td>\n",
              "    </tr>\n",
              "    <tr>\n",
              "      <th>3</th>\n",
              "      <td>3</td>\n",
              "      <td>retained</td>\n",
              "      <td>49</td>\n",
              "      <td>40</td>\n",
              "      <td>67.589221</td>\n",
              "      <td>15</td>\n",
              "      <td>322</td>\n",
              "      <td>7</td>\n",
              "      <td>913.591123</td>\n",
              "      <td>587.196542</td>\n",
              "      <td>7</td>\n",
              "      <td>3</td>\n",
              "      <td>iPhone</td>\n",
              "    </tr>\n",
              "    <tr>\n",
              "      <th>4</th>\n",
              "      <td>4</td>\n",
              "      <td>retained</td>\n",
              "      <td>84</td>\n",
              "      <td>68</td>\n",
              "      <td>168.247020</td>\n",
              "      <td>1562</td>\n",
              "      <td>166</td>\n",
              "      <td>5</td>\n",
              "      <td>3950.202008</td>\n",
              "      <td>1219.555924</td>\n",
              "      <td>27</td>\n",
              "      <td>18</td>\n",
              "      <td>Android</td>\n",
              "    </tr>\n",
              "  </tbody>\n",
              "</table>\n",
              "</div>"
            ],
            "text/plain": [
              "   ID     label  sessions  drives  total_sessions  n_days_after_onboarding  \\\n",
              "0   0  retained       283     226      296.748273                     2276   \n",
              "1   1  retained       133     107      326.896596                     1225   \n",
              "2   2  retained       114      95      135.522926                     2651   \n",
              "3   3  retained        49      40       67.589221                       15   \n",
              "4   4  retained        84      68      168.247020                     1562   \n",
              "\n",
              "   total_navigations_fav1  total_navigations_fav2  driven_km_drives  \\\n",
              "0                     208                       0       2628.845068   \n",
              "1                      19                      64      13715.920550   \n",
              "2                       0                       0       3059.148818   \n",
              "3                     322                       7        913.591123   \n",
              "4                     166                       5       3950.202008   \n",
              "\n",
              "   duration_minutes_drives  activity_days  driving_days   device  \n",
              "0              1985.775061             28            19  Android  \n",
              "1              3160.472914             13            11   iPhone  \n",
              "2              1610.735904             14             8  Android  \n",
              "3               587.196542              7             3   iPhone  \n",
              "4              1219.555924             27            18  Android  "
            ]
          },
          "execution_count": 4,
          "metadata": {},
          "output_type": "execute_result"
        }
      ],
      "source": [
        "df.head()"
      ]
    },
    {
      "cell_type": "code",
      "execution_count": null,
      "metadata": {
        "id": "S3tza5fNfIMo",
        "outputId": "6e4829fe-4258-496a-b251-3817e9e3e400"
      },
      "outputs": [
        {
          "data": {
            "text/plain": [
              "194987"
            ]
          },
          "execution_count": 5,
          "metadata": {},
          "output_type": "execute_result"
        }
      ],
      "source": [
        "df.size"
      ]
    },
    {
      "cell_type": "markdown",
      "metadata": {
        "id": "WulP4lZ9UVgy"
      },
      "source": [
        "Generate summary statistics using the `describe()` method."
      ]
    },
    {
      "cell_type": "code",
      "execution_count": null,
      "metadata": {
        "id": "fhPkaaqDR99b",
        "outputId": "dab60b8a-8209-4d8b-ffdb-14be74031c48"
      },
      "outputs": [
        {
          "data": {
            "text/html": [
              "<div>\n",
              "<style scoped>\n",
              "    .dataframe tbody tr th:only-of-type {\n",
              "        vertical-align: middle;\n",
              "    }\n",
              "\n",
              "    .dataframe tbody tr th {\n",
              "        vertical-align: top;\n",
              "    }\n",
              "\n",
              "    .dataframe thead th {\n",
              "        text-align: right;\n",
              "    }\n",
              "</style>\n",
              "<table border=\"1\" class=\"dataframe\">\n",
              "  <thead>\n",
              "    <tr style=\"text-align: right;\">\n",
              "      <th></th>\n",
              "      <th>ID</th>\n",
              "      <th>sessions</th>\n",
              "      <th>drives</th>\n",
              "      <th>total_sessions</th>\n",
              "      <th>n_days_after_onboarding</th>\n",
              "      <th>total_navigations_fav1</th>\n",
              "      <th>total_navigations_fav2</th>\n",
              "      <th>driven_km_drives</th>\n",
              "      <th>duration_minutes_drives</th>\n",
              "      <th>activity_days</th>\n",
              "      <th>driving_days</th>\n",
              "    </tr>\n",
              "  </thead>\n",
              "  <tbody>\n",
              "    <tr>\n",
              "      <th>count</th>\n",
              "      <td>14999.000000</td>\n",
              "      <td>14999.000000</td>\n",
              "      <td>14999.000000</td>\n",
              "      <td>14999.000000</td>\n",
              "      <td>14999.000000</td>\n",
              "      <td>14999.000000</td>\n",
              "      <td>14999.000000</td>\n",
              "      <td>14999.000000</td>\n",
              "      <td>14999.000000</td>\n",
              "      <td>14999.000000</td>\n",
              "      <td>14999.000000</td>\n",
              "    </tr>\n",
              "    <tr>\n",
              "      <th>mean</th>\n",
              "      <td>7499.000000</td>\n",
              "      <td>80.633776</td>\n",
              "      <td>67.281152</td>\n",
              "      <td>189.964447</td>\n",
              "      <td>1749.837789</td>\n",
              "      <td>121.605974</td>\n",
              "      <td>29.672512</td>\n",
              "      <td>4039.340921</td>\n",
              "      <td>1860.976012</td>\n",
              "      <td>15.537102</td>\n",
              "      <td>12.179879</td>\n",
              "    </tr>\n",
              "    <tr>\n",
              "      <th>std</th>\n",
              "      <td>4329.982679</td>\n",
              "      <td>80.699065</td>\n",
              "      <td>65.913872</td>\n",
              "      <td>136.405128</td>\n",
              "      <td>1008.513876</td>\n",
              "      <td>148.121544</td>\n",
              "      <td>45.394651</td>\n",
              "      <td>2502.149334</td>\n",
              "      <td>1446.702288</td>\n",
              "      <td>9.004655</td>\n",
              "      <td>7.824036</td>\n",
              "    </tr>\n",
              "    <tr>\n",
              "      <th>min</th>\n",
              "      <td>0.000000</td>\n",
              "      <td>0.000000</td>\n",
              "      <td>0.000000</td>\n",
              "      <td>0.220211</td>\n",
              "      <td>4.000000</td>\n",
              "      <td>0.000000</td>\n",
              "      <td>0.000000</td>\n",
              "      <td>60.441250</td>\n",
              "      <td>18.282082</td>\n",
              "      <td>0.000000</td>\n",
              "      <td>0.000000</td>\n",
              "    </tr>\n",
              "    <tr>\n",
              "      <th>25%</th>\n",
              "      <td>3749.500000</td>\n",
              "      <td>23.000000</td>\n",
              "      <td>20.000000</td>\n",
              "      <td>90.661156</td>\n",
              "      <td>878.000000</td>\n",
              "      <td>9.000000</td>\n",
              "      <td>0.000000</td>\n",
              "      <td>2212.600607</td>\n",
              "      <td>835.996260</td>\n",
              "      <td>8.000000</td>\n",
              "      <td>5.000000</td>\n",
              "    </tr>\n",
              "    <tr>\n",
              "      <th>50%</th>\n",
              "      <td>7499.000000</td>\n",
              "      <td>56.000000</td>\n",
              "      <td>48.000000</td>\n",
              "      <td>159.568115</td>\n",
              "      <td>1741.000000</td>\n",
              "      <td>71.000000</td>\n",
              "      <td>9.000000</td>\n",
              "      <td>3493.858085</td>\n",
              "      <td>1478.249859</td>\n",
              "      <td>16.000000</td>\n",
              "      <td>12.000000</td>\n",
              "    </tr>\n",
              "    <tr>\n",
              "      <th>75%</th>\n",
              "      <td>11248.500000</td>\n",
              "      <td>112.000000</td>\n",
              "      <td>93.000000</td>\n",
              "      <td>254.192341</td>\n",
              "      <td>2623.500000</td>\n",
              "      <td>178.000000</td>\n",
              "      <td>43.000000</td>\n",
              "      <td>5289.861262</td>\n",
              "      <td>2464.362632</td>\n",
              "      <td>23.000000</td>\n",
              "      <td>19.000000</td>\n",
              "    </tr>\n",
              "    <tr>\n",
              "      <th>max</th>\n",
              "      <td>14998.000000</td>\n",
              "      <td>743.000000</td>\n",
              "      <td>596.000000</td>\n",
              "      <td>1216.154633</td>\n",
              "      <td>3500.000000</td>\n",
              "      <td>1236.000000</td>\n",
              "      <td>415.000000</td>\n",
              "      <td>21183.401890</td>\n",
              "      <td>15851.727160</td>\n",
              "      <td>31.000000</td>\n",
              "      <td>30.000000</td>\n",
              "    </tr>\n",
              "  </tbody>\n",
              "</table>\n",
              "</div>"
            ],
            "text/plain": [
              "                 ID      sessions        drives  total_sessions  \\\n",
              "count  14999.000000  14999.000000  14999.000000    14999.000000   \n",
              "mean    7499.000000     80.633776     67.281152      189.964447   \n",
              "std     4329.982679     80.699065     65.913872      136.405128   \n",
              "min        0.000000      0.000000      0.000000        0.220211   \n",
              "25%     3749.500000     23.000000     20.000000       90.661156   \n",
              "50%     7499.000000     56.000000     48.000000      159.568115   \n",
              "75%    11248.500000    112.000000     93.000000      254.192341   \n",
              "max    14998.000000    743.000000    596.000000     1216.154633   \n",
              "\n",
              "       n_days_after_onboarding  total_navigations_fav1  \\\n",
              "count             14999.000000            14999.000000   \n",
              "mean               1749.837789              121.605974   \n",
              "std                1008.513876              148.121544   \n",
              "min                   4.000000                0.000000   \n",
              "25%                 878.000000                9.000000   \n",
              "50%                1741.000000               71.000000   \n",
              "75%                2623.500000              178.000000   \n",
              "max                3500.000000             1236.000000   \n",
              "\n",
              "       total_navigations_fav2  driven_km_drives  duration_minutes_drives  \\\n",
              "count            14999.000000      14999.000000             14999.000000   \n",
              "mean                29.672512       4039.340921              1860.976012   \n",
              "std                 45.394651       2502.149334              1446.702288   \n",
              "min                  0.000000         60.441250                18.282082   \n",
              "25%                  0.000000       2212.600607               835.996260   \n",
              "50%                  9.000000       3493.858085              1478.249859   \n",
              "75%                 43.000000       5289.861262              2464.362632   \n",
              "max                415.000000      21183.401890             15851.727160   \n",
              "\n",
              "       activity_days  driving_days  \n",
              "count   14999.000000  14999.000000  \n",
              "mean       15.537102     12.179879  \n",
              "std         9.004655      7.824036  \n",
              "min         0.000000      0.000000  \n",
              "25%         8.000000      5.000000  \n",
              "50%        16.000000     12.000000  \n",
              "75%        23.000000     19.000000  \n",
              "max        31.000000     30.000000  "
            ]
          },
          "execution_count": 6,
          "metadata": {},
          "output_type": "execute_result"
        }
      ],
      "source": [
        "df.describe()"
      ]
    },
    {
      "cell_type": "markdown",
      "metadata": {
        "id": "psmn0VD0UWBk"
      },
      "source": [
        "And summary information using the `info()` method."
      ]
    },
    {
      "cell_type": "code",
      "execution_count": null,
      "metadata": {
        "id": "Thlb8oiyUPwe",
        "outputId": "fc8f418e-9556-45f5-b8c0-1ddc27c6de77"
      },
      "outputs": [
        {
          "name": "stdout",
          "output_type": "stream",
          "text": [
            "<class 'pandas.core.frame.DataFrame'>\n",
            "RangeIndex: 14999 entries, 0 to 14998\n",
            "Data columns (total 13 columns):\n",
            " #   Column                   Non-Null Count  Dtype  \n",
            "---  ------                   --------------  -----  \n",
            " 0   ID                       14999 non-null  int64  \n",
            " 1   label                    14299 non-null  object \n",
            " 2   sessions                 14999 non-null  int64  \n",
            " 3   drives                   14999 non-null  int64  \n",
            " 4   total_sessions           14999 non-null  float64\n",
            " 5   n_days_after_onboarding  14999 non-null  int64  \n",
            " 6   total_navigations_fav1   14999 non-null  int64  \n",
            " 7   total_navigations_fav2   14999 non-null  int64  \n",
            " 8   driven_km_drives         14999 non-null  float64\n",
            " 9   duration_minutes_drives  14999 non-null  float64\n",
            " 10  activity_days            14999 non-null  int64  \n",
            " 11  driving_days             14999 non-null  int64  \n",
            " 12  device                   14999 non-null  object \n",
            "dtypes: float64(3), int64(8), object(2)\n",
            "memory usage: 1.5+ MB\n"
          ]
        }
      ],
      "source": [
        "df.info()"
      ]
    },
    {
      "cell_type": "markdown",
      "metadata": {
        "id": "f0sHpfkhx8GM"
      },
      "source": [
        "<img src=\"images/Construct.png\" width=\"100\" height=\"100\" align=left>\n",
        "\n",
        "## **PACE: Construct**\n",
        "\n",
        "Consider the questions in your PACE Strategy Document to reflect on the Construct stage."
      ]
    },
    {
      "cell_type": "markdown",
      "metadata": {
        "id": "zXjMMPoARVPm"
      },
      "source": [
        "Consider the following questions as you prepare to deal with outliers:\n",
        "\n",
        "1.   What are some ways to identify outliers?\n",
        "2.   How do you make the decision to keep or exclude outliers from any future models?"
      ]
    },
    {
      "cell_type": "markdown",
      "metadata": {
        "id": "AHln5I2ERjAn"
      },
      "source": [
        "1. Using functions to understand the range of data values like mean() and median() as well as using boxplots which help in understanding the distribution of data and pinpoint where outliers are.\n",
        "2. It all depends on the goal and purpose of the model and it should be decided on a case by case basis. As a general guideline, there are 3 ways to handle outliers:\n",
        "    - Delete them: if the outliers are clear mistakes such as typos or other errors, and the data will be used for\n",
        "    machine learning or modeling then the best option would be\n",
        "    to delete them. This is the least used option.\n",
        "    - Reassign them: if the dataset is small and will be used for modeling or machine learning then it's best to\n",
        "    derive new values and replace them.\n",
        "    - Leave them: for a dataset used simply for EDA then it's best to leave them."
      ]
    },
    {
      "cell_type": "markdown",
      "metadata": {
        "id": "BYWkZ4i3wgv4"
      },
      "source": [
        "### **Task 3a. Visualizations**\n",
        "\n",
        "Select data visualization types that will help you understand and explain the data.\n",
        "\n",
        "Now that you know which data columns you’ll use, it is time to decide which data visualization makes the most sense for EDA of the Waze dataset.\n",
        "\n",
        "**Question:** What type of data visualization(s) will be most helpful?\n",
        "\n",
        "* Line graph\n",
        "* Bar chart\n",
        "* Box plot\n",
        "* Histogram\n",
        "* Heat map\n",
        "* Scatter plot\n",
        "* A geographic map\n",
        "\n"
      ]
    },
    {
      "cell_type": "markdown",
      "metadata": {
        "id": "rYYgT9kMQiNF"
      },
      "source": [
        "- Box plots will be useful in determining outliers and where the bulk of the data points resides\n",
        "- Histograms are useful in understanding the distribution of values\n",
        "- Scatter plots help in visualizing the relationships betwen variables\n",
        "- Bar charts are useful for communicating levels and quantities"
      ]
    },
    {
      "cell_type": "markdown",
      "metadata": {
        "id": "TuWr3WWPQsi0"
      },
      "source": [
        "Begin by examining the spread and distribution of important variables using box plots and histograms."
      ]
    },
    {
      "cell_type": "markdown",
      "metadata": {
        "id": "5-vBw2wpSn0g"
      },
      "source": [
        "#### **`sessions`**\n",
        "\n",
        "_The number of occurrence of a user opening the app during the month_"
      ]
    },
    {
      "cell_type": "code",
      "execution_count": null,
      "metadata": {
        "id": "9K6Alb7uc9my",
        "outputId": "c9ae407d-d651-4af5-fa94-b672f6c7a50e"
      },
      "outputs": [
        {
          "data": {
            "image/png": "[encoded data removed]",
            "text/plain": [
              "<Figure size 720x216 with 1 Axes>"
            ]
          },
          "metadata": {
            "needs_background": "light"
          },
          "output_type": "display_data"
        }
      ],
      "source": [
        "# Box plot\n",
        "plt.figure(figsize=(10, 3))\n",
        "sns.boxplot(x=df['sessions'], fliersize=8)\n",
        "plt.title('sessions box plot');"
      ]
    },
    {
      "cell_type": "code",
      "execution_count": null,
      "metadata": {
        "id": "1YC9xCrrcvw-",
        "outputId": "8ac2269b-a2cf-4f83-f5a2-7b393ab8e6ff"
      },
      "outputs": [
        {
          "data": {
            "image/png": "[encoded data removed]",
            "text/plain": [
              "<Figure size 1080x360 with 1 Axes>"
            ]
          },
          "metadata": {
            "needs_background": "light"
          },
          "output_type": "display_data"
        }
      ],
      "source": [
        "# Histogram\n",
        "plt.figure(figsize=(15, 5))\n",
        "sns.histplot(x=df['sessions'])\n",
        "median_value = df['sessions'].median()\n",
        "plt.axvline(median_value, color='red', linestyle='dashed')\n",
        "plt.text(100, 1200, f'median = {median_value}', color='red')\n",
        "mean_value = df['sessions'].mean()\n",
        "plt.axvline(mean_value, color='purple', linestyle='dashed')\n",
        "plt.text(100, 1125, f'mean = {mean_value:.2f}', color='purple')\n",
        "plt.title('sessions histogram');"
      ]
    },
    {
      "cell_type": "markdown",
      "metadata": {
        "id": "PKnZDIgDS2gV"
      },
      "source": [
        "The `sessions` variable is a right-skewed distribution with half of the observations having 56 or fewer sessions. However, as indicated by the boxplot, some users have more than 700."
      ]
    },
    {
      "cell_type": "code",
      "execution_count": null,
      "metadata": {
        "id": "7QBi5pO_IHnc"
      },
      "outputs": [],
      "source": [
        "# Due to the number of histrograms and boxplots I'll need to create,\n",
        "# I decided to automate this process which will help speed up my workflow and make it a lot easier.\n",
        "\n",
        "def create_boxplot(dataframe, columns, figsize=(10, 3), **kwargs):\n",
        "    '''Creates boxplots for specified columns in the target dataframe'''\n",
        "\n",
        "    for column in columns:\n",
        "        if column in dataframe.columns:\n",
        "            plt.figure(figsize=figsize)\n",
        "            sns.boxplot(x=dataframe[column], fliersize=8, **kwargs)\n",
        "            plt.title(f'Box Plot of {column}')\n",
        "            plt.show();\n",
        "        else:\n",
        "            print(f'Column {column} not found in the Dataframe.')\n",
        "\n",
        "def create_histplot(dataframe, columns, figsize=(15, 5), plot_median=False, plot_mean=False, **kwargs):\n",
        "    '''Creates histograms for specified columns in the target dataframe'''\n",
        "\n",
        "    for column in columns:\n",
        "        if column in dataframe.columns:\n",
        "            plt.figure(figsize=figsize)\n",
        "            sns.histplot(x=dataframe[column], **kwargs)\n",
        "            plt.title(f'Histogram of {column}')\n",
        "\n",
        "            # Plot median value on the graph\n",
        "            if plot_median:\n",
        "                median_value = dataframe[column].median()\n",
        "                plt.axvline(median_value, color='red', linestyle='dashed')\n",
        "                plt.text(median_value - (plt.xlim()[1]-plt.xlim()[0])*0.01,  # Subtracting for left offset\n",
        "                         plt.gca().get_ylim()[1]*0.9,\n",
        "                         f'Median: {median_value:.2f}',\n",
        "                         color='red', ha='right',\n",
        "                         fontweight='bold', fontsize=11\n",
        "                        )\n",
        "\n",
        "            # Plot mean value on the graph\n",
        "            if plot_mean:\n",
        "                mean_value = dataframe[column].mean()\n",
        "                plt.axvline(mean_value, color='purple', linestyle='dashed')\n",
        "                plt.text(mean_value + (plt.xlim()[1]-plt.xlim()[0])*0.01,  # Adding for right offset\n",
        "                         plt.gca().get_ylim()[1]*0.8,\n",
        "                         f'Mean: {mean_value:.2f}',\n",
        "                         color='purple', ha='left',\n",
        "                         fontweight='bold', fontsize=11\n",
        "                        )\n",
        "\n",
        "        else:\n",
        "            print(f'Column {column} not found in the Dataframe.')"
      ]
    },
    {
      "cell_type": "markdown",
      "metadata": {
        "id": "VSBCTrrjdpnn"
      },
      "source": [
        "#### **`drives`**\n",
        "\n",
        "_An occurrence of driving at least 1 km during the month_"
      ]
    },
    {
      "cell_type": "code",
      "execution_count": null,
      "metadata": {
        "id": "NtpxgGQpQ7g9",
        "outputId": "745ef9c3-6d5d-42a5-b201-4c25bf074033"
      },
      "outputs": [
        {
          "data": {
            "image/png": "[encoded data removed]",
            "text/plain": [
              "<Figure size 1080x360 with 1 Axes>"
            ]
          },
          "metadata": {
            "needs_background": "light"
          },
          "output_type": "display_data"
        }
      ],
      "source": [
        "# Histogram\n",
        "create_histplot(df, ['drives'], plot_mean=True, plot_median=True)"
      ]
    },
    {
      "cell_type": "markdown",
      "metadata": {
        "id": "SVhzvyNCedL8"
      },
      "source": [
        "The `drives` information follows a distribution similar to the `sessions` variable. It is right-skewed, approximately log-normal, with a median of 48. However, some drivers had over 400 drives in the last month."
      ]
    },
    {
      "cell_type": "markdown",
      "metadata": {
        "id": "M-RvjOHhehOI"
      },
      "source": [
        "#### **`total_sessions`**\n",
        "\n",
        "_A model estimate of the total number of sessions since a user has onboarded_"
      ]
    },
    {
      "cell_type": "code",
      "execution_count": null,
      "metadata": {
        "id": "ZCC9MHhOQ7Sc",
        "outputId": "b4c15eb8-9e20-445b-e083-316937e0b300"
      },
      "outputs": [
        {
          "data": {
            "image/png": "[encoded data removed]",
            "text/plain": [
              "<Figure size 720x216 with 1 Axes>"
            ]
          },
          "metadata": {
            "needs_background": "light"
          },
          "output_type": "display_data"
        }
      ],
      "source": [
        "# Box plot\n",
        "create_boxplot(df, ['total_sessions'])"
      ]
    },
    {
      "cell_type": "code",
      "execution_count": null,
      "metadata": {
        "id": "p5-UmoBzdrTW",
        "outputId": "b1fb5a20-b30d-4beb-d5d9-1eea2dc4e1e8"
      },
      "outputs": [
        {
          "data": {
            "image/png": "[encoded data removed]",
            "text/plain": [
              "<Figure size 1080x360 with 1 Axes>"
            ]
          },
          "metadata": {
            "needs_background": "light"
          },
          "output_type": "display_data"
        }
      ],
      "source": [
        "# Histogram\n",
        "create_histplot(df, ['total_sessions'], plot_median=True, plot_mean=True)"
      ]
    },
    {
      "cell_type": "markdown",
      "metadata": {
        "id": "3i77iZf_etQd"
      },
      "source": [
        "The `total_sessions` is a right-skewed distribution. The median total number of sessions is 159.6. This is interesting information because, if the median number of sessions in the last month was 48 and the median total sessions was ~160, then it seems that a large proportion of a user's total drives might have taken place in the last month. This is something you can examine more closely later."
      ]
    },
    {
      "cell_type": "markdown",
      "metadata": {
        "id": "0sfXzD_eexBm"
      },
      "source": [
        "#### **`n_days_after_onboarding`**\n",
        "\n",
        "_The number of days since a user signed up for the app_"
      ]
    },
    {
      "cell_type": "code",
      "execution_count": null,
      "metadata": {
        "id": "PGfs6rpEdq-R",
        "outputId": "b0a582a6-f7b8-4638-a5e9-d29266ed22a7"
      },
      "outputs": [
        {
          "data": {
            "image/png": "[encoded data removed]",
            "text/plain": [
              "<Figure size 720x216 with 1 Axes>"
            ]
          },
          "metadata": {
            "needs_background": "light"
          },
          "output_type": "display_data"
        }
      ],
      "source": [
        "# Box plot\n",
        "create_boxplot(dataframe = df, columns = ['n_days_after_onboarding'])"
      ]
    },
    {
      "cell_type": "code",
      "execution_count": null,
      "metadata": {
        "id": "oqzA9IxRdqr1",
        "outputId": "4e9aeefd-cd80-42e1-f1dc-8bfc736ed1ba"
      },
      "outputs": [
        {
          "data": {
            "image/png": "[encoded data removed]",
            "text/plain": [
              "<Figure size 1080x360 with 1 Axes>"
            ]
          },
          "metadata": {
            "needs_background": "light"
          },
          "output_type": "display_data"
        }
      ],
      "source": [
        "# Histogram\n",
        "create_histplot(dataframe = df,\n",
        "                columns = ['n_days_after_onboarding'],\n",
        "                plot_median=True,\n",
        "                plot_mean=True\n",
        "               )"
      ]
    },
    {
      "cell_type": "markdown",
      "metadata": {
        "id": "wFNDAX4_e6aT"
      },
      "source": [
        "The total user tenure (i.e., number of days since\n",
        "onboarding) is a uniform distribution with values ranging from near-zero to \\~3,500 (\\~9.5 years)."
      ]
    },
    {
      "cell_type": "markdown",
      "metadata": {
        "id": "x1QO1Id8e7Oj"
      },
      "source": [
        "#### **`driven_km_drives`**\n",
        "\n",
        "_Total kilometers driven during the month_"
      ]
    },
    {
      "cell_type": "code",
      "execution_count": null,
      "metadata": {
        "id": "JytUB830dv61",
        "outputId": "375126f2-2b8d-4e1a-aec9-5c814625ef83"
      },
      "outputs": [
        {
          "data": {
            "image/png": "[encoded data removed]",
            "text/plain": [
              "<Figure size 720x216 with 1 Axes>"
            ]
          },
          "metadata": {
            "needs_background": "light"
          },
          "output_type": "display_data"
        }
      ],
      "source": [
        "# Box plot\n",
        "create_boxplot(df, ['driven_km_drives'])"
      ]
    },
    {
      "cell_type": "code",
      "execution_count": null,
      "metadata": {
        "id": "X3tD7KmhfBz8",
        "outputId": "4088d897-62dd-47a1-b11b-d8287e2b54a1"
      },
      "outputs": [
        {
          "data": {
            "image/png": "[encoded data removed]",
            "text/plain": [
              "<Figure size 1080x360 with 1 Axes>"
            ]
          },
          "metadata": {
            "needs_background": "light"
          },
          "output_type": "display_data"
        }
      ],
      "source": [
        "# Histogram\n",
        "create_histplot(df, ['driven_km_drives'], plot_median=True, plot_mean=True)"
      ]
    },
    {
      "cell_type": "markdown",
      "metadata": {
        "id": "qmj8rhs1fFsD"
      },
      "source": [
        "The number of drives driven in the last month per user is a right-skewed distribution with half the users driving under 3,495 kilometers. As you discovered in the analysis from the previous course, the users in this dataset drive _a lot_. The longest distance driven in the month was over half the circumferene of the earth."
      ]
    },
    {
      "cell_type": "markdown",
      "metadata": {
        "id": "UUAqCCtTfGbJ"
      },
      "source": [
        "#### **`duration_minutes_drives`**\n",
        "\n",
        "_Total duration driven in minutes during the month_"
      ]
    },
    {
      "cell_type": "code",
      "execution_count": null,
      "metadata": {
        "id": "ElNBoyu9fG8z",
        "outputId": "37ff2be2-223f-40a2-9bd8-e8cc266374ec"
      },
      "outputs": [
        {
          "data": {
            "image/png": "[encoded data removed]",
            "text/plain": [
              "<Figure size 720x216 with 1 Axes>"
            ]
          },
          "metadata": {
            "needs_background": "light"
          },
          "output_type": "display_data"
        }
      ],
      "source": [
        "# Box plot\n",
        "create_boxplot(df, ['duration_minutes_drives'])"
      ]
    },
    {
      "cell_type": "code",
      "execution_count": null,
      "metadata": {
        "id": "7z4ajJJFfHoN",
        "outputId": "88b815ae-6338-46f3-e462-c880a451f97f"
      },
      "outputs": [
        {
          "data": {
            "image/png": "[encoded data removed]",
            "text/plain": [
              "<Figure size 1080x360 with 1 Axes>"
            ]
          },
          "metadata": {
            "needs_background": "light"
          },
          "output_type": "display_data"
        }
      ],
      "source": [
        "# Histogram\n",
        "create_histplot(df, ['duration_minutes_drives'], plot_median=True, plot_mean=True)"
      ]
    },
    {
      "cell_type": "markdown",
      "metadata": {
        "id": "lXRWnXA5fcmn"
      },
      "source": [
        "The `duration_minutes_drives` variable has a heavily skewed right tail. Half of the users drove less than \\~1,478 minutes (\\~25 hours), but some users clocked over 250 hours over the month."
      ]
    },
    {
      "cell_type": "markdown",
      "metadata": {
        "id": "sJ-5zhujfcXb"
      },
      "source": [
        "#### **`activity_days`**\n",
        "\n",
        "_Number of days the user opens the app during the month_"
      ]
    },
    {
      "cell_type": "code",
      "execution_count": null,
      "metadata": {
        "id": "rpy9NzemfkDz",
        "outputId": "4de7aa5f-09cc-42d0-d484-0f234e5bdb9d"
      },
      "outputs": [
        {
          "data": {
            "image/png": "[encoded data removed]",
            "text/plain": [
              "<Figure size 720x216 with 1 Axes>"
            ]
          },
          "metadata": {
            "needs_background": "light"
          },
          "output_type": "display_data"
        }
      ],
      "source": [
        "# Box plot\n",
        "create_boxplot(df, ['activity_days'])"
      ]
    },
    {
      "cell_type": "code",
      "execution_count": null,
      "metadata": {
        "id": "JTdGJbmffqNK",
        "outputId": "c497a1c7-5d09-4917-aec8-0383f70227ae"
      },
      "outputs": [
        {
          "data": {
            "image/png": "[encoded data removed]",
            "text/plain": [
              "<Figure size 1080x360 with 1 Axes>"
            ]
          },
          "metadata": {
            "needs_background": "light"
          },
          "output_type": "display_data"
        }
      ],
      "source": [
        "# Histogram\n",
        "create_histplot(df, ['activity_days'], plot_mean=True, plot_median=True)"
      ]
    },
    {
      "cell_type": "markdown",
      "metadata": {
        "id": "eRkkqv1xfrPN"
      },
      "source": [
        "Within the last month, users opened the app a median of 16 times. The box plot reveals a centered distribution. The histogram shows a nearly uniform distribution of ~500 people opening the app on each count of days. However, there are ~250 people who didn't open the app at all and ~250 people who opened the app every day of the month.\n",
        "\n",
        "This distribution is noteworthy because it does not mirror the `sessions` distribution, which you might think would be closely correlated with `activity_days`."
      ]
    },
    {
      "cell_type": "markdown",
      "metadata": {
        "id": "fbbqVbBFfrBP"
      },
      "source": [
        "#### **`driving_days`**\n",
        "\n",
        "_Number of days the user drives (at least 1 km) during the month_"
      ]
    },
    {
      "cell_type": "code",
      "execution_count": null,
      "metadata": {
        "id": "hhn-402gf3ff",
        "outputId": "614f5d8e-b4b0-4d5f-8c0a-be7ed99ab654"
      },
      "outputs": [
        {
          "data": {
            "image/png": "[encoded data removed]",
            "text/plain": [
              "<Figure size 720x216 with 1 Axes>"
            ]
          },
          "metadata": {
            "needs_background": "light"
          },
          "output_type": "display_data"
        }
      ],
      "source": [
        "# Box plot\n",
        "create_boxplot(df, ['driving_days'])"
      ]
    },
    {
      "cell_type": "code",
      "execution_count": null,
      "metadata": {
        "id": "Yi9bkUS2f37N",
        "outputId": "5aca8731-2f56-4564-83cf-8ed623cae5d4"
      },
      "outputs": [
        {
          "data": {
            "image/png": "[encoded data removed]",
            "text/plain": [
              "<Figure size 1080x360 with 1 Axes>"
            ]
          },
          "metadata": {
            "needs_background": "light"
          },
          "output_type": "display_data"
        }
      ],
      "source": [
        "# Histogram\n",
        "create_histplot(df, ['driving_days'], plot_median=True, plot_mean=True)"
      ]
    },
    {
      "cell_type": "markdown",
      "metadata": {
        "id": "I2p_HuzRf4Xo"
      },
      "source": [
        "The number of days users drove each month is almost uniform, and it largely correlates with the number of days they opened the app that month, except the `driving_days` distribution tails off on the right.\n",
        "\n",
        "However, there were almost twice as many users (\\~1,000 vs. \\~550) who did not drive at all during the month. This might seem counterintuitive when considered together with the information from `activity_days`. That variable had \\~500 users opening the app on each of most of the day counts, but there were only \\~250 users who did not open the app at all during the month and ~250 users who opened the app every day. Flag this for further investigation later."
      ]
    },
    {
      "cell_type": "markdown",
      "metadata": {
        "id": "-TmcckFcgDLK"
      },
      "source": [
        "#### **`device`**\n",
        "\n",
        "_The type of device a user starts a session with_\n",
        "\n",
        "This is a categorical variable, so you do not plot a box plot for it. A good plot for a binary categorical variable is a pie chart."
      ]
    },
    {
      "cell_type": "code",
      "execution_count": null,
      "metadata": {
        "id": "evNrxWWQgDuN",
        "outputId": "800f8f2e-8591-4abf-868f-a2c04f33e491"
      },
      "outputs": [
        {
          "data": {
            "image/png": "[encoded data removed]",
            "text/plain": [
              "<Figure size 576x576 with 1 Axes>"
            ]
          },
          "metadata": {},
          "output_type": "display_data"
        }
      ],
      "source": [
        "# Pie chart\n",
        "device_counts = df['device'].value_counts()\n",
        "\n",
        "labels = [f'{device}: {count}' for device, count in device_counts.items()]\n",
        "\n",
        "plt.figure(figsize=(8, 8))\n",
        "device_counts.plot(kind='pie',\n",
        "                   autopct='%1.1f%%',\n",
        "                   labels=[f'{device}: {count}' for device, count in device_counts.items()],\n",
        "                   startangle=90)\n",
        "plt.title('Distribution of Users by Device')\n",
        "plt.ylabel('')  # Hide the y-label for aesthetics\n",
        "plt.show()"
      ]
    },
    {
      "cell_type": "markdown",
      "metadata": {
        "id": "m7NuKItJgEh2"
      },
      "source": [
        "There are nearly twice as many iPhone users as Android users represented in this data."
      ]
    },
    {
      "cell_type": "markdown",
      "metadata": {
        "id": "VJH5j71RgViQ"
      },
      "source": [
        "#### **`label`**\n",
        "\n",
        "_Binary target variable (“retained” vs “churned”) for if a user has churned anytime during the course of the month_\n",
        "\n",
        "This is also a categorical variable, and as such would not be plotted as a box plot. Plot a pie chart instead."
      ]
    },
    {
      "cell_type": "code",
      "execution_count": null,
      "metadata": {
        "id": "MQ1nVQIBgWOv",
        "outputId": "e6ccbfef-817e-4360-90c7-654f2c6cec5c"
      },
      "outputs": [
        {
          "data": {
            "image/png": "[encoded data removed]",
            "text/plain": [
              "<Figure size 576x576 with 1 Axes>"
            ]
          },
          "metadata": {},
          "output_type": "display_data"
        }
      ],
      "source": [
        "# Pie chart\n",
        "\n",
        "plt.figure(figsize=(8,8))\n",
        "df['label'].value_counts().plot(kind='pie',\n",
        "                                autopct='%1.1f%%',\n",
        "                                labels=[f'{label}: {cnt}' for label, cnt in df['label'].value_counts().items()],\n",
        "                                startangle=35)\n",
        "plt.ylabel('')\n",
        "plt.title('Distribution of users by label')\n",
        "plt.show()"
      ]
    },
    {
      "cell_type": "markdown",
      "metadata": {
        "id": "cmM8NrSYghlg"
      },
      "source": [
        "Less than 18% of the users churned."
      ]
    },
    {
      "cell_type": "markdown",
      "metadata": {
        "id": "cRsY_TYPgik5"
      },
      "source": [
        "#### **`driving_days` vs. `activity_days`**\n",
        "\n",
        "Because both `driving_days` and `activity_days` represent counts of days over a month and they're also closely related, you can plot them together on a single histogram. This will help to better understand how they relate to each other without having to scroll back and forth comparing histograms in two different places.\n",
        "\n",
        "Plot a histogram that, for each day, has a bar representing the counts of `driving_days` and `activity_days`."
      ]
    },
    {
      "cell_type": "code",
      "execution_count": null,
      "metadata": {
        "id": "Ly1sNysEgjFc",
        "outputId": "96a1472f-6d27-4c5d-85cf-b4a8cf42fc06"
      },
      "outputs": [
        {
          "data": {
            "image/png": "[encoded data removed]",
            "text/plain": [
              "<Figure size 1080x360 with 1 Axes>"
            ]
          },
          "metadata": {
            "needs_background": "light"
          },
          "output_type": "display_data"
        }
      ],
      "source": [
        "# Histogram\n",
        "plt.figure(figsize=(15,5))\n",
        "label=['driving days', 'activity days']\n",
        "plt.hist(x=[df['driving_days'], df['activity_days']],\n",
        "         bins=range(0,33),\n",
        "         label=label)\n",
        "plt.xlabel('days')\n",
        "plt.ylabel('count')\n",
        "plt.legend()\n",
        "plt.title('driving_days vs. activity_days');"
      ]
    },
    {
      "cell_type": "markdown",
      "metadata": {
        "id": "8kQS1OzIgzhF"
      },
      "source": [
        "As observed previously, this might seem counterintuitive. After all, why are there _fewer_ people who didn't use the app at all during the month and _more_ people who didn't drive at all during the month?\n",
        "\n",
        "On the other hand, it could just be illustrative of the fact that, while these variables are related to each other, they're not the same. People probably just open the app more than they use the app to drive&mdash;perhaps to check drive times or route information, to update settings, or even just by mistake.\n",
        "\n",
        "Nonetheless, it might be worthwile to contact the data team at Waze to get more information about this, especially because it seems that the number of days in the month is not the same between variables.\n",
        "\n",
        "Confirm the maximum number of days for each variable&mdash;`driving_days` and `activity_days`."
      ]
    },
    {
      "cell_type": "code",
      "execution_count": null,
      "metadata": {
        "id": "ZY266xXxg-rO",
        "outputId": "5a609e2b-418d-4dce-d015-bc577fcf92dd"
      },
      "outputs": [
        {
          "name": "stdout",
          "output_type": "stream",
          "text": [
            "30\n",
            "31\n"
          ]
        }
      ],
      "source": [
        "print(df['driving_days'].max())\n",
        "print(df['activity_days'].max())"
      ]
    },
    {
      "cell_type": "markdown",
      "metadata": {
        "id": "oBEq9YwChEGx"
      },
      "source": [
        "It's true. Although it's possible that not a single user drove all 31 days of the month, it's highly unlikely, considering there are 15,000 people represented in the dataset.\n",
        "\n",
        "One other way to check the validity of these variables is to plot a simple scatter plot with the x-axis representing one variable and the y-axis representing the other."
      ]
    },
    {
      "cell_type": "code",
      "execution_count": null,
      "metadata": {
        "id": "I4VMyxguhFBV",
        "outputId": "7de0ef83-5360-4d7b-b4e4-18f46556817c"
      },
      "outputs": [
        {
          "data": {
            "image/png": "[encoded data removed]",
            "text/plain": [
              "<Figure size 432x288 with 1 Axes>"
            ]
          },
          "metadata": {
            "needs_background": "light"
          },
          "output_type": "display_data"
        }
      ],
      "source": [
        "# Scatter plot\n",
        "sns.scatterplot(data=df, x='driving_days', y='activity_days')\n",
        "plt.title('driving_days vs. activity_days')\n",
        "plt.plot([0,31], [0,31], color='red', linestyle='--');"
      ]
    },
    {
      "cell_type": "markdown",
      "metadata": {
        "id": "DWO3ljhFhG-e"
      },
      "source": [
        "Notice that there is a theoretical limit. If you use the app to drive, then by definition it must count as a day-use as well. In other words, you cannot have more drive-days than activity-days. None of the samples in this data violate this rule, which is good."
      ]
    },
    {
      "cell_type": "markdown",
      "metadata": {
        "id": "bcZkCH5WhVfE"
      },
      "source": [
        "#### **Retention by device**\n",
        "\n",
        "Plot a histogram that has four bars&mdash;one for each device-label combination&mdash;to show how many iPhone users were retained/churned and how many Android users were retained/churned."
      ]
    },
    {
      "cell_type": "code",
      "execution_count": null,
      "metadata": {
        "id": "9zHOdUURIHnn",
        "outputId": "e7aeab14-7a7d-41cd-8011-6f44a747add6"
      },
      "outputs": [
        {
          "data": {
            "image/png": "[encoded data removed]",
            "text/plain": [
              "<Figure size 432x288 with 1 Axes>"
            ]
          },
          "metadata": {
            "needs_background": "light"
          },
          "output_type": "display_data"
        }
      ],
      "source": [
        "# Histogram\n",
        "sns.histplot(data=df,\n",
        "             x='device',\n",
        "             hue='label',\n",
        "             multiple='dodge',\n",
        "             shrink=0.9\n",
        "             )\n",
        "plt.title('Retention by device histogram');"
      ]
    },
    {
      "cell_type": "markdown",
      "metadata": {
        "id": "sVOvIbG-hZg-"
      },
      "source": [
        "The proportion of churned users to retained users is consistent between device types."
      ]
    },
    {
      "cell_type": "markdown",
      "metadata": {
        "id": "TMYRLh8EhhuK"
      },
      "source": [
        "#### **Retention by kilometers driven per driving day**\n",
        "\n",
        "In the previous course, you discovered that the median distance driven last month for users who churned was 8.33 km, versus 3.36 km for people who did not churn. Examine this further.\n",
        "\n",
        "1. Create a new column in `df` called `km_per_driving_day`, which represents the mean distance driven per driving day for each user.\n",
        "\n",
        "2. Call the `describe()` method on the new column."
      ]
    },
    {
      "cell_type": "code",
      "execution_count": null,
      "metadata": {
        "id": "6IONTyaHhipo",
        "outputId": "faf8220a-980f-4aaa-bd90-11fc52798ed0"
      },
      "outputs": [
        {
          "data": {
            "text/plain": [
              "count    1.499900e+04\n",
              "mean              inf\n",
              "std               NaN\n",
              "min      3.022063e+00\n",
              "25%      1.672804e+02\n",
              "50%      3.231459e+02\n",
              "75%      7.579257e+02\n",
              "max               inf\n",
              "Name: km_per_driving_day, dtype: float64"
            ]
          },
          "execution_count": 30,
          "metadata": {},
          "output_type": "execute_result"
        }
      ],
      "source": [
        "# 1. Create `km_per_driving_day` column\n",
        "df['km_per_driving_day'] = df['driven_km_drives']/df['driving_days']\n",
        "\n",
        "# 2. Call `describe()` on the new column\n",
        "df['km_per_driving_day'].describe()"
      ]
    },
    {
      "cell_type": "markdown",
      "metadata": {
        "id": "ECyy1wKbIHno"
      },
      "source": [
        "What do you notice? The mean value is infinity, the standard deviation is NaN, and the max value is infinity. Why do you think this is?\n",
        "\n",
        "This is the result of there being values of zero in the `driving_days` column. Pandas imputes a value of infinity in the corresponding rows of the new column because division by zero is undefined.\n",
        "\n",
        "1. Convert these values from infinity to zero. You can use `np.inf` to refer to a value of infinity.\n",
        "\n",
        "2. Call `describe()` on the `km_per_driving_day` column to verify that it worked."
      ]
    },
    {
      "cell_type": "code",
      "execution_count": null,
      "metadata": {
        "id": "_ELJoXOdIHno",
        "outputId": "af9be96d-0301-406f-9792-d65aac6d3d6b"
      },
      "outputs": [
        {
          "data": {
            "text/plain": [
              "count    14999.000000\n",
              "mean       578.963113\n",
              "std       1030.094384\n",
              "min          0.000000\n",
              "25%        136.238895\n",
              "50%        272.889272\n",
              "75%        558.686918\n",
              "max      15420.234110\n",
              "Name: km_per_driving_day, dtype: float64"
            ]
          },
          "execution_count": 31,
          "metadata": {},
          "output_type": "execute_result"
        }
      ],
      "source": [
        "# 1. Convert infinite values to zero\n",
        "df.loc[df['km_per_driving_day']==np.inf, 'km_per_driving_day'] = 0\n",
        "\n",
        "# 2. Confirm that it worked\n",
        "df['km_per_driving_day'].describe()"
      ]
    },
    {
      "cell_type": "markdown",
      "metadata": {
        "id": "DVCP1F9thspa"
      },
      "source": [
        "The maximum value is 15,420 kilometers _per drive day_. This is physically impossible. Driving 100 km/hour for 12 hours is 1,200 km. It's unlikely many people averaged more than this each day they drove, so, for now, disregard rows where the distance in this column is greater than 1,200 km.\n",
        "\n",
        "Plot a histogram of the new `km_per_driving_day` column, disregarding those users with values greater than 1,200 km. Each bar should be the same length and have two colors, one color representing the percent of the users in that bar that churned and the other representing the percent that were retained. This can be done by setting the `multiple` parameter of seaborn's [`histplot()`](https://seaborn.pydata.org/generated/seaborn.histplot.html) function to `fill`."
      ]
    },
    {
      "cell_type": "code",
      "execution_count": null,
      "metadata": {
        "id": "8ntKu1bAhxhA",
        "outputId": "1fdf11da-40ff-42e8-da01-2f5035267257"
      },
      "outputs": [
        {
          "data": {
            "image/png": "[encoded data removed]",
            "text/plain": [
              "<Figure size 864x360 with 1 Axes>"
            ]
          },
          "metadata": {
            "needs_background": "light"
          },
          "output_type": "display_data"
        }
      ],
      "source": [
        "# Histogram\n",
        "plt.figure(figsize=(12,5))\n",
        "sns.histplot(data=df,\n",
        "             x='km_per_driving_day',\n",
        "             bins=range(0,1201,20),\n",
        "             hue='label',\n",
        "             multiple='fill')\n",
        "plt.ylabel('%', rotation=0)\n",
        "plt.title('Churn rate by mean km per driving day');"
      ]
    },
    {
      "cell_type": "markdown",
      "metadata": {
        "id": "cD8icOhNh9zD"
      },
      "source": [
        "The churn rate tends to increase as the mean daily distance driven increases, confirming what was found in the previous course. It would be worth investigating further the reasons for long-distance users to discontinue using the app."
      ]
    },
    {
      "cell_type": "markdown",
      "metadata": {
        "id": "bKK1y7xTh-xY"
      },
      "source": [
        "#### **Churn rate per number of driving days**\n",
        "\n",
        "Create another histogram just like the previous one, only this time it should represent the churn rate for each number of driving days."
      ]
    },
    {
      "cell_type": "code",
      "execution_count": null,
      "metadata": {
        "id": "GPc4nj-7iDPB",
        "outputId": "84f0edf3-b02f-4c90-b512-01981157f11c"
      },
      "outputs": [
        {
          "data": {
            "image/png": "[encoded data removed]",
            "text/plain": [
              "<Figure size 864x360 with 1 Axes>"
            ]
          },
          "metadata": {
            "needs_background": "light"
          },
          "output_type": "display_data"
        }
      ],
      "source": [
        "# Histogram\n",
        "plt.figure(figsize=(12,5))\n",
        "sns.histplot(data=df,\n",
        "             x='driving_days',\n",
        "             bins=range(1,32),\n",
        "             hue='label',\n",
        "             multiple='fill',\n",
        "             discrete=True)\n",
        "plt.ylabel('%', rotation=0)\n",
        "plt.title('Churn rate per driving day');"
      ]
    },
    {
      "cell_type": "markdown",
      "metadata": {
        "id": "RUD5Bf6yiDoa"
      },
      "source": [
        "The churn rate is highest for people who didn't use Waze much during the last month. The more times they used the app, the less likely they were to churn. While 40% of the users who didn't use the app at all last month churned, nobody who used the app 30 days churned.\n",
        "\n",
        "This isn't surprising. If people who used the app a lot churned, it would likely indicate dissatisfaction. When people who don't use the app churn, it might be the result of dissatisfaction in the past, or it might be indicative of a lesser need for a navigational app. Maybe they moved to a city with good public transportation and don't need to drive anymore."
      ]
    },
    {
      "cell_type": "markdown",
      "metadata": {
        "id": "75ncCHO7iEFi"
      },
      "source": [
        "#### **Proportion of sessions that occurred in the last month**\n",
        "\n",
        "Create a new column `percent_sessions_in_last_month` that represents the percentage of each user's total sessions that were logged in their last month of use."
      ]
    },
    {
      "cell_type": "code",
      "execution_count": null,
      "metadata": {
        "id": "NyXwJMJTiSdK"
      },
      "outputs": [],
      "source": [
        "df['percent_sessions_in_last_month'] = df['sessions']/df['total_sessions']"
      ]
    },
    {
      "cell_type": "markdown",
      "metadata": {
        "id": "w30I7A3UiWQD"
      },
      "source": [
        "What is the median value of the new column?"
      ]
    },
    {
      "cell_type": "code",
      "execution_count": null,
      "metadata": {
        "id": "3wa8IZ7UiS5l",
        "outputId": "1a28dc9e-db7b-4f25-a3bb-a49a69a9e76b"
      },
      "outputs": [
        {
          "data": {
            "text/plain": [
              "0.42309702992763176"
            ]
          },
          "execution_count": 47,
          "metadata": {},
          "output_type": "execute_result"
        }
      ],
      "source": [
        "df['percent_sessions_in_last_month'].median()"
      ]
    },
    {
      "cell_type": "markdown",
      "metadata": {
        "id": "8EKHSAnXiaIY"
      },
      "source": [
        "Now, create a histogram depicting the distribution of values in this new column."
      ]
    },
    {
      "cell_type": "code",
      "execution_count": null,
      "metadata": {
        "id": "9NtRmPHpieC3",
        "outputId": "8899f189-a9fb-41a0-ee1d-7f7fabe185ac"
      },
      "outputs": [
        {
          "data": {
            "image/png": "[encoded data removed]",
            "text/plain": [
              "<Figure size 1080x360 with 1 Axes>"
            ]
          },
          "metadata": {
            "needs_background": "light"
          },
          "output_type": "display_data"
        }
      ],
      "source": [
        "# Histogram\n",
        "create_histplot(df,\n",
        "                ['percent_sessions_in_last_month'],\n",
        "                hue=df['label'],\n",
        "                multiple='layer',\n",
        "                plot_median=True,\n",
        "                plot_mean=True\n",
        "               )"
      ]
    },
    {
      "cell_type": "markdown",
      "metadata": {
        "id": "_oSkxrx2iehb"
      },
      "source": [
        "Check the median value of the `n_days_after_onboarding` variable."
      ]
    },
    {
      "cell_type": "code",
      "execution_count": null,
      "metadata": {
        "id": "pHJADu8Mi0u2",
        "outputId": "68ced438-4716-459f-b5fb-6a149703edca"
      },
      "outputs": [
        {
          "data": {
            "text/plain": [
              "1741.0"
            ]
          },
          "execution_count": 68,
          "metadata": {},
          "output_type": "execute_result"
        }
      ],
      "source": [
        "df['n_days_after_onboarding'].median()"
      ]
    },
    {
      "cell_type": "markdown",
      "metadata": {
        "id": "4IFsNT-9izvT"
      },
      "source": [
        "Half of the people in the dataset had 40% or more of their sessions in just the last month, yet the overall median time since onboarding is almost five years.\n",
        "\n",
        "Make a histogram of `n_days_after_onboarding` for just the people who had 40% or more of their total sessions in the last month."
      ]
    },
    {
      "cell_type": "code",
      "execution_count": null,
      "metadata": {
        "id": "AsycVhNdi-Va",
        "outputId": "33f51fb4-4207-4bf6-a891-6409bbf9e510"
      },
      "outputs": [
        {
          "data": {
            "image/png": "[encoded data removed]",
            "text/plain": [
              "<Figure size 1080x360 with 1 Axes>"
            ]
          },
          "metadata": {
            "needs_background": "light"
          },
          "output_type": "display_data"
        }
      ],
      "source": [
        "# Histogram\n",
        "data = df.loc[df['percent_sessions_in_last_month']>=0.4]\n",
        "create_histplot(data, ['n_days_after_onboarding'])\n",
        "plt.title('Num. days after onboarding for users with >=40% sessions in last month');"
      ]
    },
    {
      "cell_type": "markdown",
      "metadata": {
        "id": "flcUGkjUjAqW"
      },
      "source": [
        "The number of days since onboarding for users with 40% or more of their total sessions occurring in just the last month is a uniform distribution. This is very strange. It's worth asking Waze why so many long-time users suddenly used the app so much in the last month."
      ]
    },
    {
      "cell_type": "markdown",
      "metadata": {
        "id": "O0zL7Nd0jMYS"
      },
      "source": [
        "### **Task 3b. Handling outliers**\n",
        "\n",
        "The box plots from the previous section indicated that many of these variables have outliers. These outliers do not seem to be data entry errors; they are present because of the right-skewed distributions.\n",
        "\n",
        "Depending on what you'll be doing with this data, it may be useful to impute outlying data with more reasonable values. One way of performing this imputation is to set a threshold based on a percentile of the distribution.\n",
        "\n",
        "To practice this technique, write a function that calculates the 95th percentile of a given column, then imputes values > the 95th percentile with the value at the 95th percentile.  such as the 95th percentile of the distribution.\n",
        "\n"
      ]
    },
    {
      "cell_type": "code",
      "execution_count": null,
      "metadata": {
        "id": "4Ki9T-m7jsGy"
      },
      "outputs": [],
      "source": [
        "def percentile_cap (dataframe, columns, percentile):\n",
        "    # Calculate threshold\n",
        "    for column in columns:\n",
        "        threshold = df[column].quantile(percentile)\n",
        "        # Impute threshold for values > than threshold\n",
        "        df.loc[df[column] > threshold, column] = threshold\n",
        "\n",
        "        print(f'{column:>25} | percentile: {percentile} | threshold: {threshold:.2f}')"
      ]
    },
    {
      "cell_type": "markdown",
      "metadata": {
        "id": "nsdi-4dSkmMF"
      },
      "source": [
        "Next, apply that function to the following columns:\n",
        "* `sessions`\n",
        "* `drives`\n",
        "* `total_sessions`\n",
        "* `driven_km_drives`\n",
        "* `duration_minutes_drives`"
      ]
    },
    {
      "cell_type": "code",
      "execution_count": null,
      "metadata": {
        "id": "VQX-09vHIHnq",
        "outputId": "0f030929-3946-4cbf-aa95-0a3290a05e37"
      },
      "outputs": [
        {
          "name": "stdout",
          "output_type": "stream",
          "text": [
            "                 sessions | percentile: 0.95 | threshold: 243.00\n",
            "                   drives | percentile: 0.95 | threshold: 201.00\n",
            "           total_sessions | percentile: 0.95 | threshold: 454.34\n",
            "         driven_km_drives | percentile: 0.95 | threshold: 8889.78\n",
            "  duration_minutes_drives | percentile: 0.95 | threshold: 4668.81\n"
          ]
        }
      ],
      "source": [
        "percentile_cap (df,\n",
        "                ['sessions',\n",
        "                 'drives',\n",
        "                 'total_sessions',\n",
        "                 'driven_km_drives',\n",
        "                 'duration_minutes_drives'],\n",
        "                0.95)"
      ]
    },
    {
      "cell_type": "markdown",
      "metadata": {
        "id": "_Az4Ma-xj3K4"
      },
      "source": [
        "Call `describe()` to see if your change worked."
      ]
    },
    {
      "cell_type": "code",
      "execution_count": null,
      "metadata": {
        "id": "IXQkG9RekP85",
        "outputId": "e589d8fb-61d0-49f9-db6a-c45e8588ace9"
      },
      "outputs": [
        {
          "data": {
            "text/html": [
              "<div>\n",
              "<style scoped>\n",
              "    .dataframe tbody tr th:only-of-type {\n",
              "        vertical-align: middle;\n",
              "    }\n",
              "\n",
              "    .dataframe tbody tr th {\n",
              "        vertical-align: top;\n",
              "    }\n",
              "\n",
              "    .dataframe thead th {\n",
              "        text-align: right;\n",
              "    }\n",
              "</style>\n",
              "<table border=\"1\" class=\"dataframe\">\n",
              "  <thead>\n",
              "    <tr style=\"text-align: right;\">\n",
              "      <th></th>\n",
              "      <th>ID</th>\n",
              "      <th>sessions</th>\n",
              "      <th>drives</th>\n",
              "      <th>total_sessions</th>\n",
              "      <th>n_days_after_onboarding</th>\n",
              "      <th>total_navigations_fav1</th>\n",
              "      <th>total_navigations_fav2</th>\n",
              "      <th>driven_km_drives</th>\n",
              "      <th>duration_minutes_drives</th>\n",
              "      <th>activity_days</th>\n",
              "      <th>driving_days</th>\n",
              "      <th>km_per_driving_day</th>\n",
              "      <th>percent_sessions_in_last_month</th>\n",
              "    </tr>\n",
              "  </thead>\n",
              "  <tbody>\n",
              "    <tr>\n",
              "      <th>count</th>\n",
              "      <td>14999.000000</td>\n",
              "      <td>14999.000000</td>\n",
              "      <td>14999.000000</td>\n",
              "      <td>14999.000000</td>\n",
              "      <td>14999.000000</td>\n",
              "      <td>14999.000000</td>\n",
              "      <td>14999.000000</td>\n",
              "      <td>14999.000000</td>\n",
              "      <td>14999.000000</td>\n",
              "      <td>14999.000000</td>\n",
              "      <td>14999.000000</td>\n",
              "      <td>14999.000000</td>\n",
              "      <td>14999.000000</td>\n",
              "    </tr>\n",
              "    <tr>\n",
              "      <th>mean</th>\n",
              "      <td>7499.000000</td>\n",
              "      <td>76.568705</td>\n",
              "      <td>64.058204</td>\n",
              "      <td>184.030226</td>\n",
              "      <td>1749.837789</td>\n",
              "      <td>121.605974</td>\n",
              "      <td>29.672512</td>\n",
              "      <td>3939.631843</td>\n",
              "      <td>1789.643113</td>\n",
              "      <td>15.537102</td>\n",
              "      <td>12.179879</td>\n",
              "      <td>578.963113</td>\n",
              "      <td>0.449255</td>\n",
              "    </tr>\n",
              "    <tr>\n",
              "      <th>std</th>\n",
              "      <td>4329.982679</td>\n",
              "      <td>67.297958</td>\n",
              "      <td>55.306924</td>\n",
              "      <td>118.597969</td>\n",
              "      <td>1008.513876</td>\n",
              "      <td>148.121544</td>\n",
              "      <td>45.394651</td>\n",
              "      <td>2216.039453</td>\n",
              "      <td>1222.695010</td>\n",
              "      <td>9.004655</td>\n",
              "      <td>7.824036</td>\n",
              "      <td>1030.094384</td>\n",
              "      <td>0.286919</td>\n",
              "    </tr>\n",
              "    <tr>\n",
              "      <th>min</th>\n",
              "      <td>0.000000</td>\n",
              "      <td>0.000000</td>\n",
              "      <td>0.000000</td>\n",
              "      <td>0.220211</td>\n",
              "      <td>4.000000</td>\n",
              "      <td>0.000000</td>\n",
              "      <td>0.000000</td>\n",
              "      <td>60.441250</td>\n",
              "      <td>18.282082</td>\n",
              "      <td>0.000000</td>\n",
              "      <td>0.000000</td>\n",
              "      <td>0.000000</td>\n",
              "      <td>0.000000</td>\n",
              "    </tr>\n",
              "    <tr>\n",
              "      <th>25%</th>\n",
              "      <td>3749.500000</td>\n",
              "      <td>23.000000</td>\n",
              "      <td>20.000000</td>\n",
              "      <td>90.661156</td>\n",
              "      <td>878.000000</td>\n",
              "      <td>9.000000</td>\n",
              "      <td>0.000000</td>\n",
              "      <td>2212.600607</td>\n",
              "      <td>835.996260</td>\n",
              "      <td>8.000000</td>\n",
              "      <td>5.000000</td>\n",
              "      <td>136.238895</td>\n",
              "      <td>0.196221</td>\n",
              "    </tr>\n",
              "    <tr>\n",
              "      <th>50%</th>\n",
              "      <td>7499.000000</td>\n",
              "      <td>56.000000</td>\n",
              "      <td>48.000000</td>\n",
              "      <td>159.568115</td>\n",
              "      <td>1741.000000</td>\n",
              "      <td>71.000000</td>\n",
              "      <td>9.000000</td>\n",
              "      <td>3493.858085</td>\n",
              "      <td>1478.249859</td>\n",
              "      <td>16.000000</td>\n",
              "      <td>12.000000</td>\n",
              "      <td>272.889272</td>\n",
              "      <td>0.423097</td>\n",
              "    </tr>\n",
              "    <tr>\n",
              "      <th>75%</th>\n",
              "      <td>11248.500000</td>\n",
              "      <td>112.000000</td>\n",
              "      <td>93.000000</td>\n",
              "      <td>254.192341</td>\n",
              "      <td>2623.500000</td>\n",
              "      <td>178.000000</td>\n",
              "      <td>43.000000</td>\n",
              "      <td>5289.861262</td>\n",
              "      <td>2464.362632</td>\n",
              "      <td>23.000000</td>\n",
              "      <td>19.000000</td>\n",
              "      <td>558.686918</td>\n",
              "      <td>0.687216</td>\n",
              "    </tr>\n",
              "    <tr>\n",
              "      <th>max</th>\n",
              "      <td>14998.000000</td>\n",
              "      <td>243.000000</td>\n",
              "      <td>201.000000</td>\n",
              "      <td>454.341324</td>\n",
              "      <td>3500.000000</td>\n",
              "      <td>1236.000000</td>\n",
              "      <td>415.000000</td>\n",
              "      <td>8889.775819</td>\n",
              "      <td>4668.813096</td>\n",
              "      <td>31.000000</td>\n",
              "      <td>30.000000</td>\n",
              "      <td>15420.234110</td>\n",
              "      <td>1.530637</td>\n",
              "    </tr>\n",
              "  </tbody>\n",
              "</table>\n",
              "</div>"
            ],
            "text/plain": [
              "                 ID      sessions        drives  total_sessions  \\\n",
              "count  14999.000000  14999.000000  14999.000000    14999.000000   \n",
              "mean    7499.000000     76.568705     64.058204      184.030226   \n",
              "std     4329.982679     67.297958     55.306924      118.597969   \n",
              "min        0.000000      0.000000      0.000000        0.220211   \n",
              "25%     3749.500000     23.000000     20.000000       90.661156   \n",
              "50%     7499.000000     56.000000     48.000000      159.568115   \n",
              "75%    11248.500000    112.000000     93.000000      254.192341   \n",
              "max    14998.000000    243.000000    201.000000      454.341324   \n",
              "\n",
              "       n_days_after_onboarding  total_navigations_fav1  \\\n",
              "count             14999.000000            14999.000000   \n",
              "mean               1749.837789              121.605974   \n",
              "std                1008.513876              148.121544   \n",
              "min                   4.000000                0.000000   \n",
              "25%                 878.000000                9.000000   \n",
              "50%                1741.000000               71.000000   \n",
              "75%                2623.500000              178.000000   \n",
              "max                3500.000000             1236.000000   \n",
              "\n",
              "       total_navigations_fav2  driven_km_drives  duration_minutes_drives  \\\n",
              "count            14999.000000      14999.000000             14999.000000   \n",
              "mean                29.672512       3939.631843              1789.643113   \n",
              "std                 45.394651       2216.039453              1222.695010   \n",
              "min                  0.000000         60.441250                18.282082   \n",
              "25%                  0.000000       2212.600607               835.996260   \n",
              "50%                  9.000000       3493.858085              1478.249859   \n",
              "75%                 43.000000       5289.861262              2464.362632   \n",
              "max                415.000000       8889.775819              4668.813096   \n",
              "\n",
              "       activity_days  driving_days  km_per_driving_day  \\\n",
              "count   14999.000000  14999.000000        14999.000000   \n",
              "mean       15.537102     12.179879          578.963113   \n",
              "std         9.004655      7.824036         1030.094384   \n",
              "min         0.000000      0.000000            0.000000   \n",
              "25%         8.000000      5.000000          136.238895   \n",
              "50%        16.000000     12.000000          272.889272   \n",
              "75%        23.000000     19.000000          558.686918   \n",
              "max        31.000000     30.000000        15420.234110   \n",
              "\n",
              "       percent_sessions_in_last_month  \n",
              "count                    14999.000000  \n",
              "mean                         0.449255  \n",
              "std                          0.286919  \n",
              "min                          0.000000  \n",
              "25%                          0.196221  \n",
              "50%                          0.423097  \n",
              "75%                          0.687216  \n",
              "max                          1.530637  "
            ]
          },
          "execution_count": 125,
          "metadata": {},
          "output_type": "execute_result"
        }
      ],
      "source": [
        "df.describe()"
      ]
    },
    {
      "cell_type": "markdown",
      "metadata": {
        "id": "DHwqofOJkQcl"
      },
      "source": [
        "#### **Conclusion**\n",
        "\n",
        "Analysis revealed that the overall churn rate is \\~17%, and that this rate is consistent between iPhone users and Android users.\n",
        "\n",
        "Perhaps you feel that the more deeply you explore the data, the more questions arise. This is not uncommon! In this case, it's worth asking the Waze data team why so many users used the app so much in just the last month.\n",
        "\n",
        "Also, EDA has revealed that users who drive very long distances on their driving days are _more_ likely to churn, but users who drive more often are _less_ likely to churn. The reason for this discrepancy is an opportunity for further investigation, and it would be something else to ask the Waze data team about."
      ]
    },
    {
      "cell_type": "markdown",
      "metadata": {
        "id": "NsvBtco1x8GN"
      },
      "source": [
        "<img src=\"images/Execute.png\" width=\"100\" height=\"100\" align=left>\n",
        "\n",
        "## **PACE: Execute**\n",
        "\n",
        "Consider the questions in your PACE Strategy Document to reflect on the Execute stage."
      ]
    },
    {
      "cell_type": "markdown",
      "metadata": {
        "id": "csHAfM-RSO7l"
      },
      "source": [
        "### **Task 4a. Results and evaluation**\n",
        "\n",
        "Having built visualizations in Python, what have you learned about the dataset? What other questions have your visualizations uncovered that you should pursue?\n",
        "\n",
        "**Pro tip:** Put yourself in your client's perspective. What would they want to know?\n",
        "\n",
        "Use the following code fields to pursue any additional EDA based on the visualizations you've already plotted. Also use the space to make sure your visualizations are clean, easily understandable, and accessible.\n",
        "\n",
        "**Ask yourself:** Did you consider color, contrast, emphasis, and labeling?\n",
        "\n"
      ]
    },
    {
      "cell_type": "markdown",
      "metadata": {
        "id": "pOp0vmf1zOHO"
      },
      "source": [
        "I have learned ....\n",
        "- There is missing data in the user churn label, so further data processing might be needed before more analysis is done.\n",
        "- There are a significant number of outliers in the `drives` data, suggesting that transforming this variable could help in normalizing its variation.\n",
        "- The number of drives and sessions are highly correlated, which might provide unwanted redundant information if both are incorporated in a model.\n",
        "- On average, retained users have a fewer amount of drives than churned users.\n",
        "\n",
        "My other questions are ....\n",
        "- Why is there missing data in the user churn?\n",
        "- Who are the users with a high number of drives?\n",
        "- Why do retained users have a fewer drives than churned users?\n",
        "- What is the user demographic for retained users and churned users?\n",
        "\n",
        "My client would likely want to know ...\n",
        "- What key variables are there associated with user churn?\n",
        "- Are there any policies we can implement to reduce user churn?\n",
        "- What can we do to reduce user churn? Is there a plan of action?"
      ]
    },
    {
      "cell_type": "markdown",
      "metadata": {
        "id": "8DPt8f6Pa2hg"
      },
      "source": [
        "Use the following two code blocks (add more blocks if you like) to do additional EDA you feel is important based on the given scenario."
      ]
    },
    {
      "cell_type": "code",
      "execution_count": null,
      "metadata": {
        "id": "puYiPmvGdTJH"
      },
      "outputs": [],
      "source": [
        "### YOUR CODE HERE ###\n"
      ]
    },
    {
      "cell_type": "code",
      "execution_count": null,
      "metadata": {
        "id": "iEv7pHw-dTRP"
      },
      "outputs": [],
      "source": [
        "### YOUR CODE HERE ###\n"
      ]
    },
    {
      "cell_type": "markdown",
      "metadata": {
        "id": "U4HeITeOwXfo"
      },
      "source": [
        "### **Task 4b. Conclusion**\n",
        "\n",
        "Now that you've explored and visualized your data, the next step is to share your findings with Harriet Hadzic, Waze's Director of Data Analysis. Consider the following questions as you prepare to write your executive summary. Think about key points you may want to share with the team, and what information is most relevant to the user churn project.\n",
        "\n",
        "**Questions:**\n",
        "\n",
        "1. What types of distributions did you notice in the variables? What did this tell you about the data?\n",
        "> Almost all variables displayed a distribution pattern that was predominantly right-skewed or uniform. In the case of right-skewed distributions, the majority of users had lower values for these variables. Conversely, in uniform distributions, it was observed that users had an equal probability of exhibiting values across the entire range of the variable.\n",
        "\n",
        "2. Was there anything that led you to believe the data was erroneous or problematic in any way?\n",
        "> The majority of the data appeared to be accurate and without significant issues, with no clear evidence of any variable being entirely incorrect. Nevertheless, certain variables displayed unusually high or potentially implausible outlier values, notably in `driven_km_drives`. Additionally, there may be concerns with some of the monthly variables like `activity_days` and `driving_days`. The discrepancy, where one shows a maximum value of 31 and the other 30, suggests a possibility that the data for these variables may not have been consistently collected within the same month.\n",
        "\n",
        "3. Did your investigation give rise to further questions that you would like to explore or ask the Waze team about?\n",
        "> I would like to request confirmation from the Waze data team regarding whether the monthly variables were gathered within the same calendar month. This inquiry stems from observing that some variables have maximum values of 30 days, while others extend to 31 days.\n",
        "Additionally, I'm curious about the noticeable increase in app usage among long-term users specifically in the last month. Is there an identifiable factor or change that occurred recently that could explain this surge in activity?\n",
        "\n",
        "4. What percentage of users churned and what percentage were retained?\n",
        "> Less than 18% of users churned, and 82% were retained.\n",
        "\n",
        "5. What factors correlated with user churn? How?\n",
        "> There's a positive relationship between distance driven per driving day and user churn. This implies that users who cover longer distances on each driving day have a higher tendency to churn.\n",
        "Conversely, the number of driving days shows a negative correlation with churn. This suggests that users who drive on more days in the last month are generally less inclined to churn.\n",
        "\n",
        "6. Did newer uses have greater representation in this dataset than users with longer tenure? How do you know?\n",
        "> The data encompasses users with a wide range of tenures, from brand new ones to those with approximately 10 years of experience, all of whom are fairly equally represented. This observation is confirmed by the histogram of `n_days_after_onboarding`, which shows an even distribution across this variable."
      ]
    },
    {
      "cell_type": "markdown",
      "metadata": {
        "id": "Hwj0CXEEIHnq"
      },
      "source": [
        "**Congratulations!** You've completed this lab. However, you may not notice a green check mark next to this item on Coursera's platform. Please continue your progress regardless of the check mark. Just click on the \"save\" icon at the top of this notebook to ensure your work has been logged."
      ]
    }
  ],
  "metadata": {
    "colab": {
      "provenance": [],
      "toc_visible": true
    },
    "kernelspec": {
      "display_name": "Python 3",
      "language": "python",
      "name": "python3"
    },
    "language_info": {
      "codemirror_mode": {
        "name": "ipython",
        "version": 3
      },
      "file_extension": ".py",
      "mimetype": "text/x-python",
      "name": "python",
      "nbconvert_exporter": "python",
      "pygments_lexer": "ipython3",
      "version": "3.7.6"
    }
  },
  "nbformat": 4,
  "nbformat_minor": 0
}