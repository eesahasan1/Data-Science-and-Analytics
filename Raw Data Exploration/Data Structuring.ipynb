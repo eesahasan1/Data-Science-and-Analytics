{
  "cells": [
    {
      "cell_type": "markdown",
      "id": "1WD1hC5MTRMS",
      "metadata": {
        "id": "1WD1hC5MTRMS"
      },
      "source": [
        "# Activity: Structuring data"
      ]
    },
    {
      "cell_type": "markdown",
      "id": "ee31943b-274e-4c28-bce6-155cb6f4c334",
      "metadata": {
        "id": "ee31943b-274e-4c28-bce6-155cb6f4c334"
      },
      "source": [
        "## Introduction\n",
        "\n",
        "In this activity, I'll be practicing data structuring which is a crucial exploratory data analysis (EDA) step. During EDA, especially when dealing with date and time data, \"datetime\" transformations are essential for a deeper grasp of the data. As a data professional, I will often come across the need for datetime transformations as I figure out how to mold the data to address issues I'm tackling. This activity is an opportunity for me to hone and showcase these skills and prepare for future EDAs, where I'll need to determine the optimal way to structure data.\n",
        "\n",
        "My task is to dive into a dataset about unicorn companies provided by Kaggle (reference at the end), discover data characteristics, structure the data to extract meaningful insights, and employ visualizations for analysis. My goal is to pinpoint significant trends or patterns within the dataset, which will not only enhance my EDA expertise but also expand my understanding of the functions critical for data structuring."
      ]
    },
    {
      "cell_type": "markdown",
      "id": "4bb9630e-b940-4835-a389-d39def1fa848",
      "metadata": {
        "id": "4bb9630e-b940-4835-a389-d39def1fa848"
      },
      "source": [
        "## Step 1: Imports"
      ]
    },
    {
      "cell_type": "markdown",
      "id": "bc180686-4ae2-47ea-a292-3588ac60a820",
      "metadata": {
        "id": "bc180686-4ae2-47ea-a292-3588ac60a820"
      },
      "source": [
        "### Import relevant libraries and modules\n",
        "\n",
        "Import the relevant Python libraries and modules. In this activity, I will use `pandas`, `numpy`, `seaborn`, and `matplotlib.pyplot`."
      ]
    },
    {
      "cell_type": "code",
      "execution_count": 6,
      "id": "8e7f1f2c-bbcc-4f3c-b927-b090ee8334c4",
      "metadata": {
        "id": "8e7f1f2c-bbcc-4f3c-b927-b090ee8334c4"
      },
      "outputs": [],
      "source": [
        "# Import the relevant Python libraries and modules needed in this lab.\n",
        "\n",
        "import pandas as pd\n",
        "import numpy as np\n",
        "import seaborn as sns\n",
        "from matplotlib import pyplot as plt"
      ]
    },
    {
      "cell_type": "markdown",
      "id": "7d29c6bd-f194-46bb-b794-56dc20130473",
      "metadata": {
        "id": "7d29c6bd-f194-46bb-b794-56dc20130473"
      },
      "source": [
        "### Load the dataset into a DataFrame\n",
        "\n",
        "The dataset used is in the form of a csv file named `Unicorn_Companies.csv` and contains a subset of data on unicorn companies."
      ]
    },
    {
      "cell_type": "code",
      "execution_count": 7,
      "id": "3bd40d44-080f-4e49-b0c2-160dedc3c4df",
      "metadata": {
        "id": "3bd40d44-080f-4e49-b0c2-160dedc3c4df"
      },
      "outputs": [],
      "source": [
        "# RUN THIS CELL TO IMPORT THE DATA.\n",
        "\n",
        "companies = pd.read_csv(\"data/Unicorn_Companies.csv\")"
      ]
    },
    {
      "cell_type": "markdown",
      "id": "95bf39c9-d05c-4324-a40b-bc692607b61b",
      "metadata": {
        "id": "95bf39c9-d05c-4324-a40b-bc692607b61b"
      },
      "source": [
        "## Step 2: Data exploration\n"
      ]
    },
    {
      "cell_type": "markdown",
      "id": "pEeiG2M76OLH",
      "metadata": {
        "id": "pEeiG2M76OLH"
      },
      "source": [
        "### Display the first 10 rows of the data\n",
        "\n",
        "In this section, I will discover what the dataset entails and answer questions to guide the exploration and analysis of the data. This is an important step in EDA.\n",
        "\n",
        "To begin, I will display the first 10 rows of the data to get an understanding of how the dataset is structured."
      ]
    },
    {
      "cell_type": "code",
      "execution_count": 8,
      "id": "ad5210a5-7a64-4991-b004-de818cfaf506",
      "metadata": {
        "colab": {
          "base_uri": "https://localhost:8080/",
          "height": 554
        },
        "id": "ad5210a5-7a64-4991-b004-de818cfaf506",
        "outputId": "d5e543ed-5191-48ee-e9a7-3d24cf798fd6"
      },
      "outputs": [
        {
          "data": {
            "text/html": [
              "<div>\n",
              "<style scoped>\n",
              "    .dataframe tbody tr th:only-of-type {\n",
              "        vertical-align: middle;\n",
              "    }\n",
              "\n",
              "    .dataframe tbody tr th {\n",
              "        vertical-align: top;\n",
              "    }\n",
              "\n",
              "    .dataframe thead th {\n",
              "        text-align: right;\n",
              "    }\n",
              "</style>\n",
              "<table border=\"1\" class=\"dataframe\">\n",
              "  <thead>\n",
              "    <tr style=\"text-align: right;\">\n",
              "      <th></th>\n",
              "      <th>Company</th>\n",
              "      <th>Valuation</th>\n",
              "      <th>Date Joined</th>\n",
              "      <th>Industry</th>\n",
              "      <th>City</th>\n",
              "      <th>Country</th>\n",
              "      <th>Continent</th>\n",
              "      <th>Year Founded</th>\n",
              "      <th>Funding</th>\n",
              "      <th>Select Investors</th>\n",
              "    </tr>\n",
              "  </thead>\n",
              "  <tbody>\n",
              "    <tr>\n",
              "      <th>0</th>\n",
              "      <td>Bytedance</td>\n",
              "      <td>$180B</td>\n",
              "      <td>2017-04-07</td>\n",
              "      <td>Artificial intelligence</td>\n",
              "      <td>Beijing</td>\n",
              "      <td>China</td>\n",
              "      <td>Asia</td>\n",
              "      <td>2012</td>\n",
              "      <td>$8B</td>\n",
              "      <td>Sequoia Capital China, SIG Asia Investments, S...</td>\n",
              "    </tr>\n",
              "    <tr>\n",
              "      <th>1</th>\n",
              "      <td>SpaceX</td>\n",
              "      <td>$100B</td>\n",
              "      <td>2012-12-01</td>\n",
              "      <td>Other</td>\n",
              "      <td>Hawthorne</td>\n",
              "      <td>United States</td>\n",
              "      <td>North America</td>\n",
              "      <td>2002</td>\n",
              "      <td>$7B</td>\n",
              "      <td>Founders Fund, Draper Fisher Jurvetson, Rothen...</td>\n",
              "    </tr>\n",
              "    <tr>\n",
              "      <th>2</th>\n",
              "      <td>SHEIN</td>\n",
              "      <td>$100B</td>\n",
              "      <td>2018-07-03</td>\n",
              "      <td>E-commerce &amp; direct-to-consumer</td>\n",
              "      <td>Shenzhen</td>\n",
              "      <td>China</td>\n",
              "      <td>Asia</td>\n",
              "      <td>2008</td>\n",
              "      <td>$2B</td>\n",
              "      <td>Tiger Global Management, Sequoia Capital China...</td>\n",
              "    </tr>\n",
              "    <tr>\n",
              "      <th>3</th>\n",
              "      <td>Stripe</td>\n",
              "      <td>$95B</td>\n",
              "      <td>2014-01-23</td>\n",
              "      <td>Fintech</td>\n",
              "      <td>San Francisco</td>\n",
              "      <td>United States</td>\n",
              "      <td>North America</td>\n",
              "      <td>2010</td>\n",
              "      <td>$2B</td>\n",
              "      <td>Khosla Ventures, LowercaseCapital, capitalG</td>\n",
              "    </tr>\n",
              "    <tr>\n",
              "      <th>4</th>\n",
              "      <td>Klarna</td>\n",
              "      <td>$46B</td>\n",
              "      <td>2011-12-12</td>\n",
              "      <td>Fintech</td>\n",
              "      <td>Stockholm</td>\n",
              "      <td>Sweden</td>\n",
              "      <td>Europe</td>\n",
              "      <td>2005</td>\n",
              "      <td>$4B</td>\n",
              "      <td>Institutional Venture Partners, Sequoia Capita...</td>\n",
              "    </tr>\n",
              "    <tr>\n",
              "      <th>5</th>\n",
              "      <td>Canva</td>\n",
              "      <td>$40B</td>\n",
              "      <td>2018-01-08</td>\n",
              "      <td>Internet software &amp; services</td>\n",
              "      <td>Surry Hills</td>\n",
              "      <td>Australia</td>\n",
              "      <td>Oceania</td>\n",
              "      <td>2012</td>\n",
              "      <td>$572M</td>\n",
              "      <td>Sequoia Capital China, Blackbird Ventures, Mat...</td>\n",
              "    </tr>\n",
              "    <tr>\n",
              "      <th>6</th>\n",
              "      <td>Checkout.com</td>\n",
              "      <td>$40B</td>\n",
              "      <td>2019-05-02</td>\n",
              "      <td>Fintech</td>\n",
              "      <td>London</td>\n",
              "      <td>United Kingdom</td>\n",
              "      <td>Europe</td>\n",
              "      <td>2012</td>\n",
              "      <td>$2B</td>\n",
              "      <td>Tiger Global Management, Insight Partners, DST...</td>\n",
              "    </tr>\n",
              "    <tr>\n",
              "      <th>7</th>\n",
              "      <td>Instacart</td>\n",
              "      <td>$39B</td>\n",
              "      <td>2014-12-30</td>\n",
              "      <td>Supply chain, logistics, &amp; delivery</td>\n",
              "      <td>San Francisco</td>\n",
              "      <td>United States</td>\n",
              "      <td>North America</td>\n",
              "      <td>2012</td>\n",
              "      <td>$3B</td>\n",
              "      <td>Khosla Ventures, Kleiner Perkins Caufield &amp; By...</td>\n",
              "    </tr>\n",
              "    <tr>\n",
              "      <th>8</th>\n",
              "      <td>JUUL Labs</td>\n",
              "      <td>$38B</td>\n",
              "      <td>2017-12-20</td>\n",
              "      <td>Consumer &amp; retail</td>\n",
              "      <td>San Francisco</td>\n",
              "      <td>United States</td>\n",
              "      <td>North America</td>\n",
              "      <td>2015</td>\n",
              "      <td>$14B</td>\n",
              "      <td>Tiger Global Management</td>\n",
              "    </tr>\n",
              "    <tr>\n",
              "      <th>9</th>\n",
              "      <td>Databricks</td>\n",
              "      <td>$38B</td>\n",
              "      <td>2019-02-05</td>\n",
              "      <td>Data management &amp; analytics</td>\n",
              "      <td>San Francisco</td>\n",
              "      <td>United States</td>\n",
              "      <td>North America</td>\n",
              "      <td>2013</td>\n",
              "      <td>$3B</td>\n",
              "      <td>Andreessen Horowitz, New Enterprise Associates...</td>\n",
              "    </tr>\n",
              "  </tbody>\n",
              "</table>\n",
              "</div>"
            ],
            "text/plain": [
              "        Company Valuation Date Joined                             Industry  \\\n",
              "0     Bytedance     $180B  2017-04-07              Artificial intelligence   \n",
              "1        SpaceX     $100B  2012-12-01                                Other   \n",
              "2         SHEIN     $100B  2018-07-03      E-commerce & direct-to-consumer   \n",
              "3        Stripe      $95B  2014-01-23                              Fintech   \n",
              "4        Klarna      $46B  2011-12-12                              Fintech   \n",
              "5         Canva      $40B  2018-01-08         Internet software & services   \n",
              "6  Checkout.com      $40B  2019-05-02                              Fintech   \n",
              "7     Instacart      $39B  2014-12-30  Supply chain, logistics, & delivery   \n",
              "8     JUUL Labs      $38B  2017-12-20                    Consumer & retail   \n",
              "9    Databricks      $38B  2019-02-05          Data management & analytics   \n",
              "\n",
              "            City         Country      Continent  Year Founded Funding  \\\n",
              "0        Beijing           China           Asia          2012     $8B   \n",
              "1      Hawthorne   United States  North America          2002     $7B   \n",
              "2       Shenzhen           China           Asia          2008     $2B   \n",
              "3  San Francisco   United States  North America          2010     $2B   \n",
              "4      Stockholm          Sweden         Europe          2005     $4B   \n",
              "5    Surry Hills       Australia        Oceania          2012   $572M   \n",
              "6         London  United Kingdom         Europe          2012     $2B   \n",
              "7  San Francisco   United States  North America          2012     $3B   \n",
              "8  San Francisco   United States  North America          2015    $14B   \n",
              "9  San Francisco   United States  North America          2013     $3B   \n",
              "\n",
              "                                    Select Investors  \n",
              "0  Sequoia Capital China, SIG Asia Investments, S...  \n",
              "1  Founders Fund, Draper Fisher Jurvetson, Rothen...  \n",
              "2  Tiger Global Management, Sequoia Capital China...  \n",
              "3        Khosla Ventures, LowercaseCapital, capitalG  \n",
              "4  Institutional Venture Partners, Sequoia Capita...  \n",
              "5  Sequoia Capital China, Blackbird Ventures, Mat...  \n",
              "6  Tiger Global Management, Insight Partners, DST...  \n",
              "7  Khosla Ventures, Kleiner Perkins Caufield & By...  \n",
              "8                            Tiger Global Management  \n",
              "9  Andreessen Horowitz, New Enterprise Associates...  "
            ]
          },
          "execution_count": 8,
          "metadata": {},
          "output_type": "execute_result"
        }
      ],
      "source": [
        "# Display the first 10 rows of the data.\n",
        "\n",
        "companies.head(10)"
      ]
    },
    {
      "cell_type": "markdown",
      "id": "e31095a6-5526-42d3-b1c0-b77c1f8b3852",
      "metadata": {
        "id": "e31095a6-5526-42d3-b1c0-b77c1f8b3852"
      },
      "source": [
        "### Identify the number of rows and columns\n",
        "\n",
        "Identify the number of rows and columns in the dataset. This will help in achieving a sense of how much data I'm working with."
      ]
    },
    {
      "cell_type": "code",
      "execution_count": 9,
      "id": "df3c71a1-2519-4c50-86c2-63902a534d27",
      "metadata": {
        "colab": {
          "base_uri": "https://localhost:8080/"
        },
        "id": "df3c71a1-2519-4c50-86c2-63902a534d27",
        "outputId": "91101919-e421-4124-e5b5-de9d55f2049a"
      },
      "outputs": [
        {
          "data": {
            "text/plain": [
              "(1074, 10)"
            ]
          },
          "execution_count": 9,
          "metadata": {},
          "output_type": "execute_result"
        }
      ],
      "source": [
        "# Identify the number of rows and columns in the dataset.\n",
        "\n",
        "companies.shape"
      ]
    },
    {
      "cell_type": "markdown",
      "id": "4c2998a8-f864-43eb-a2d5-64845ebc805c",
      "metadata": {
        "id": "4c2998a8-f864-43eb-a2d5-64845ebc805c"
      },
      "source": [
        "**Question:** How many rows and columns are in the dataset? How many unicorn companies are there? How many aspects are shown for each company?\n"
      ]
    },
    {
      "cell_type": "markdown",
      "id": "I814R8oVz0f8",
      "metadata": {
        "id": "I814R8oVz0f8"
      },
      "source": [
        "- 1074 rows and 10 columns\n",
        "- According to this dataset, there are 1074 unicorn companies\n",
        "- 10 aspects for each company"
      ]
    },
    {
      "cell_type": "markdown",
      "id": "H_ot-KEQ_YAH",
      "metadata": {
        "id": "H_ot-KEQ_YAH"
      },
      "source": [
        "### Check for duplicates in the data"
      ]
    },
    {
      "cell_type": "code",
      "execution_count": 10,
      "id": "3eT0fgc__MY9",
      "metadata": {
        "colab": {
          "base_uri": "https://localhost:8080/"
        },
        "id": "3eT0fgc__MY9",
        "outputId": "0db0b512-61e0-4595-9ced-6e317cf97e35"
      },
      "outputs": [
        {
          "data": {
            "text/plain": [
              "(1074, 10)"
            ]
          },
          "execution_count": 10,
          "metadata": {},
          "output_type": "execute_result"
        }
      ],
      "source": [
        "# Check for duplicates.\n",
        "\n",
        "companies.drop_duplicates().shape"
      ]
    },
    {
      "cell_type": "markdown",
      "id": "-6S3zT-l_ydL",
      "metadata": {
        "id": "-6S3zT-l_ydL"
      },
      "source": [
        "- Based on the preceding output, I can confidently say that there are no duplicates in the dataset.\n"
      ]
    },
    {
      "cell_type": "markdown",
      "id": "fgD6IfeBsNW8",
      "metadata": {
        "id": "fgD6IfeBsNW8"
      },
      "source": [
        "### Display the data types of the columns\n",
        "\n",
        "Knowing the data types of the columns is helpful because it indicates what types of analysis and aggregation can be done, how a column can be transformed to suit specific tasks, and so on."
      ]
    },
    {
      "cell_type": "code",
      "execution_count": 11,
      "id": "PjO2hGK2r8vN",
      "metadata": {
        "colab": {
          "base_uri": "https://localhost:8080/"
        },
        "id": "PjO2hGK2r8vN",
        "outputId": "812a1d05-b956-43d1-a285-a3e911b54f91"
      },
      "outputs": [
        {
          "data": {
            "text/plain": [
              "Company             object\n",
              "Valuation           object\n",
              "Date Joined         object\n",
              "Industry            object\n",
              "City                object\n",
              "Country             object\n",
              "Continent           object\n",
              "Year Founded         int64\n",
              "Funding             object\n",
              "Select Investors    object\n",
              "dtype: object"
            ]
          },
          "execution_count": 11,
          "metadata": {},
          "output_type": "execute_result"
        }
      ],
      "source": [
        "# Display the data types of the columns.\n",
        "\n",
        "companies.dtypes"
      ]
    },
    {
      "cell_type": "markdown",
      "id": "bd6573bc-2adb-410e-a85c-d6d5886d51bf",
      "metadata": {
        "id": "bd6573bc-2adb-410e-a85c-d6d5886d51bf"
      },
      "source": [
        "- All the columns in the dataset are object datatypes except for the `Year Founded` column.\n",
        "- `Object` data types typically indicate that they contain text string data. The exception is `Year Founded`, which is an integer (int64), suggesting it contains numerical values.\n",
        "\n"
      ]
    },
    {
      "cell_type": "markdown",
      "id": "1ZqTQXEN9WbW",
      "metadata": {
        "id": "1ZqTQXEN9WbW"
      },
      "source": [
        "### Sort the data\n",
        "\n",
        "In this section, I will continue the exploratory data analysis process by structuring the data. This is an important step in EDA, as it allows you to glean valuable and interesting insights about the data afterwards.\n",
        "\n",
        "To begin, I will sort the data so that I can get insights about when the companies were founded."
      ]
    },
    {
      "cell_type": "code",
      "execution_count": 12,
      "id": "sjWPuI-xKDat",
      "metadata": {
        "colab": {
          "base_uri": "https://localhost:8080/",
          "height": 554
        },
        "id": "sjWPuI-xKDat",
        "outputId": "acfe1c0a-b6a0-41c1-8a39-224bbb0672a2"
      },
      "outputs": [
        {
          "data": {
            "text/html": [
              "<div>\n",
              "<style scoped>\n",
              "    .dataframe tbody tr th:only-of-type {\n",
              "        vertical-align: middle;\n",
              "    }\n",
              "\n",
              "    .dataframe tbody tr th {\n",
              "        vertical-align: top;\n",
              "    }\n",
              "\n",
              "    .dataframe thead th {\n",
              "        text-align: right;\n",
              "    }\n",
              "</style>\n",
              "<table border=\"1\" class=\"dataframe\">\n",
              "  <thead>\n",
              "    <tr style=\"text-align: right;\">\n",
              "      <th></th>\n",
              "      <th>Company</th>\n",
              "      <th>Valuation</th>\n",
              "      <th>Date Joined</th>\n",
              "      <th>Industry</th>\n",
              "      <th>City</th>\n",
              "      <th>Country</th>\n",
              "      <th>Continent</th>\n",
              "      <th>Year Founded</th>\n",
              "      <th>Funding</th>\n",
              "      <th>Select Investors</th>\n",
              "    </tr>\n",
              "  </thead>\n",
              "  <tbody>\n",
              "    <tr>\n",
              "      <th>782</th>\n",
              "      <td>Phantom</td>\n",
              "      <td>$1B</td>\n",
              "      <td>2022-01-31</td>\n",
              "      <td>Fintech</td>\n",
              "      <td>San Francisco</td>\n",
              "      <td>United States</td>\n",
              "      <td>North America</td>\n",
              "      <td>2021</td>\n",
              "      <td>$118M</td>\n",
              "      <td>Paradigm, Andreessen Horowitz, Jump Capital</td>\n",
              "    </tr>\n",
              "    <tr>\n",
              "      <th>714</th>\n",
              "      <td>Yidian Zixun</td>\n",
              "      <td>$1B</td>\n",
              "      <td>2017-10-17</td>\n",
              "      <td>Mobile &amp; telecommunications</td>\n",
              "      <td>Beijing</td>\n",
              "      <td>China</td>\n",
              "      <td>Asia</td>\n",
              "      <td>2021</td>\n",
              "      <td>$151M</td>\n",
              "      <td>Phoenix New Media, Tianjin Haihe Industry Fund</td>\n",
              "    </tr>\n",
              "    <tr>\n",
              "      <th>822</th>\n",
              "      <td>GlobalBees</td>\n",
              "      <td>$1B</td>\n",
              "      <td>2021-12-28</td>\n",
              "      <td>E-commerce &amp; direct-to-consumer</td>\n",
              "      <td>New Delhi</td>\n",
              "      <td>India</td>\n",
              "      <td>Asia</td>\n",
              "      <td>2021</td>\n",
              "      <td>$185M</td>\n",
              "      <td>Chiratae Ventures, SoftBank Group, Trifecta Ca...</td>\n",
              "    </tr>\n",
              "    <tr>\n",
              "      <th>554</th>\n",
              "      <td>ClickHouse</td>\n",
              "      <td>$2B</td>\n",
              "      <td>2021-10-28</td>\n",
              "      <td>Data management &amp; analytics</td>\n",
              "      <td>Portola Valley</td>\n",
              "      <td>United States</td>\n",
              "      <td>North America</td>\n",
              "      <td>2021</td>\n",
              "      <td>$300M</td>\n",
              "      <td>Lightspeed Venture Partners, Almaz Capital Par...</td>\n",
              "    </tr>\n",
              "    <tr>\n",
              "      <th>952</th>\n",
              "      <td>LayerZero Labs</td>\n",
              "      <td>$1B</td>\n",
              "      <td>2022-03-30</td>\n",
              "      <td>Internet software &amp; services</td>\n",
              "      <td>New York</td>\n",
              "      <td>United States</td>\n",
              "      <td>North America</td>\n",
              "      <td>2021</td>\n",
              "      <td>$143M</td>\n",
              "      <td>Andreessen Horowitz, FTX Ventures, Tiger Globa...</td>\n",
              "    </tr>\n",
              "    <tr>\n",
              "      <th>314</th>\n",
              "      <td>Flink Food</td>\n",
              "      <td>$3B</td>\n",
              "      <td>2021-12-01</td>\n",
              "      <td>E-commerce &amp; direct-to-consumer</td>\n",
              "      <td>Berlin</td>\n",
              "      <td>Germany</td>\n",
              "      <td>Europe</td>\n",
              "      <td>2021</td>\n",
              "      <td>$1B</td>\n",
              "      <td>Mubadala Capital, Bond, Prosus Ventures</td>\n",
              "    </tr>\n",
              "    <tr>\n",
              "      <th>864</th>\n",
              "      <td>Aptos</td>\n",
              "      <td>$1B</td>\n",
              "      <td>2022-03-15</td>\n",
              "      <td>Internet software &amp; services</td>\n",
              "      <td>Palo Alto</td>\n",
              "      <td>United States</td>\n",
              "      <td>North America</td>\n",
              "      <td>2021</td>\n",
              "      <td>$200M</td>\n",
              "      <td>Andreessen Horowitz, Coinbase Ventures, Tiger ...</td>\n",
              "    </tr>\n",
              "    <tr>\n",
              "      <th>238</th>\n",
              "      <td>Yuga Labs</td>\n",
              "      <td>$4B</td>\n",
              "      <td>2022-03-22</td>\n",
              "      <td>Fintech</td>\n",
              "      <td>Miami</td>\n",
              "      <td>United States</td>\n",
              "      <td>North America</td>\n",
              "      <td>2021</td>\n",
              "      <td>$450M</td>\n",
              "      <td>Andreessen Horowitz, Thrive Capital, Sound Ven...</td>\n",
              "    </tr>\n",
              "    <tr>\n",
              "      <th>775</th>\n",
              "      <td>Jokr</td>\n",
              "      <td>$1B</td>\n",
              "      <td>2021-12-02</td>\n",
              "      <td>E-commerce &amp; direct-to-consumer</td>\n",
              "      <td>New York</td>\n",
              "      <td>United States</td>\n",
              "      <td>North America</td>\n",
              "      <td>2021</td>\n",
              "      <td>$430M</td>\n",
              "      <td>GGV Capital, Tiger Global Management, Greycroft</td>\n",
              "    </tr>\n",
              "    <tr>\n",
              "      <th>967</th>\n",
              "      <td>Mensa Brands</td>\n",
              "      <td>$1B</td>\n",
              "      <td>2021-11-16</td>\n",
              "      <td>Other</td>\n",
              "      <td>Bengaluru</td>\n",
              "      <td>India</td>\n",
              "      <td>Asia</td>\n",
              "      <td>2021</td>\n",
              "      <td>$218M</td>\n",
              "      <td>Accel, Falcon Edge Capital, Norwest Venture Pa...</td>\n",
              "    </tr>\n",
              "  </tbody>\n",
              "</table>\n",
              "</div>"
            ],
            "text/plain": [
              "            Company Valuation Date Joined                         Industry  \\\n",
              "782         Phantom       $1B  2022-01-31                          Fintech   \n",
              "714    Yidian Zixun       $1B  2017-10-17      Mobile & telecommunications   \n",
              "822      GlobalBees       $1B  2021-12-28  E-commerce & direct-to-consumer   \n",
              "554      ClickHouse       $2B  2021-10-28      Data management & analytics   \n",
              "952  LayerZero Labs       $1B  2022-03-30     Internet software & services   \n",
              "314      Flink Food       $3B  2021-12-01  E-commerce & direct-to-consumer   \n",
              "864           Aptos       $1B  2022-03-15     Internet software & services   \n",
              "238       Yuga Labs       $4B  2022-03-22                          Fintech   \n",
              "775            Jokr       $1B  2021-12-02  E-commerce & direct-to-consumer   \n",
              "967    Mensa Brands       $1B  2021-11-16                            Other   \n",
              "\n",
              "               City        Country      Continent  Year Founded Funding  \\\n",
              "782   San Francisco  United States  North America          2021   $118M   \n",
              "714         Beijing          China           Asia          2021   $151M   \n",
              "822       New Delhi          India           Asia          2021   $185M   \n",
              "554  Portola Valley  United States  North America          2021   $300M   \n",
              "952        New York  United States  North America          2021   $143M   \n",
              "314          Berlin        Germany         Europe          2021     $1B   \n",
              "864       Palo Alto  United States  North America          2021   $200M   \n",
              "238           Miami  United States  North America          2021   $450M   \n",
              "775        New York  United States  North America          2021   $430M   \n",
              "967       Bengaluru          India           Asia          2021   $218M   \n",
              "\n",
              "                                      Select Investors  \n",
              "782        Paradigm, Andreessen Horowitz, Jump Capital  \n",
              "714     Phoenix New Media, Tianjin Haihe Industry Fund  \n",
              "822  Chiratae Ventures, SoftBank Group, Trifecta Ca...  \n",
              "554  Lightspeed Venture Partners, Almaz Capital Par...  \n",
              "952  Andreessen Horowitz, FTX Ventures, Tiger Globa...  \n",
              "314            Mubadala Capital, Bond, Prosus Ventures  \n",
              "864  Andreessen Horowitz, Coinbase Ventures, Tiger ...  \n",
              "238  Andreessen Horowitz, Thrive Capital, Sound Ven...  \n",
              "775    GGV Capital, Tiger Global Management, Greycroft  \n",
              "967  Accel, Falcon Edge Capital, Norwest Venture Pa...  "
            ]
          },
          "execution_count": 12,
          "metadata": {},
          "output_type": "execute_result"
        }
      ],
      "source": [
        "# Sort `companies` and display the first 10 rows of the resulting DataFrame.\n",
        "\n",
        "companies.sort_values('Year Founded', ascending=False).head(10)\n"
      ]
    },
    {
      "cell_type": "markdown",
      "id": "quCKIWjC_PZr",
      "metadata": {
        "id": "quCKIWjC_PZr"
      },
      "source": [
        "**Question:** What did I observe after the sorting?\n"
      ]
    },
    {
      "cell_type": "markdown",
      "id": "xyvJZK9Bz4M0",
      "metadata": {
        "id": "xyvJZK9Bz4M0"
      },
      "source": [
        "- The companies that were founded joined the unicorn list very early, indicating fast and rapid growth.\n",
        "- These 10 companies were founded in different parts of the world and belong to different industries.\n",
        "- Many of these 10 companies were founded in the United States and belong to \"Fintech,\" \"E-commerce & direct-to-consumer,\" and \"Internet software & services\" industries."
      ]
    },
    {
      "cell_type": "markdown",
      "id": "95ICE9dXHWZY",
      "metadata": {
        "id": "95ICE9dXHWZY"
      },
      "source": [
        "### Determine the number of companies founded each year\n",
        "\n",
        "How many companies in this dataset were founded each year?"
      ]
    },
    {
      "cell_type": "code",
      "execution_count": 13,
      "id": "_ZzafpsJ_VQ_",
      "metadata": {
        "colab": {
          "base_uri": "https://localhost:8080/"
        },
        "id": "_ZzafpsJ_VQ_",
        "outputId": "79482003-27ef-4aca-c4ba-127acb6db3be"
      },
      "outputs": [
        {
          "data": {
            "text/plain": [
              "2015    155\n",
              "2016    110\n",
              "2014    109\n",
              "2012     95\n",
              "2013     87\n",
              "2011     82\n",
              "2017     74\n",
              "2018     61\n",
              "2019     45\n",
              "2010     40\n",
              "2009     34\n",
              "2008     27\n",
              "2020     25\n",
              "2007     24\n",
              "2006     15\n",
              "2005     14\n",
              "2000     11\n",
              "2021     11\n",
              "2001      9\n",
              "1999      8\n",
              "2004      8\n",
              "2003      8\n",
              "1998      5\n",
              "2002      4\n",
              "1994      2\n",
              "1995      2\n",
              "1992      1\n",
              "1993      1\n",
              "1990      1\n",
              "1984      1\n",
              "1996      1\n",
              "1979      1\n",
              "1991      1\n",
              "1919      1\n",
              "1997      1\n",
              "Name: Year Founded, dtype: int64"
            ]
          },
          "execution_count": 13,
          "metadata": {},
          "output_type": "execute_result"
        }
      ],
      "source": [
        "# Display each unique year that occurs in the dataset\n",
        "# along with the number of companies that were founded in each unique year.\n",
        "\n",
        "companies['Year Founded'].value_counts().sort_values(ascending=False)"
      ]
    },
    {
      "cell_type": "markdown",
      "id": "i8luOA1Oz6DJ",
      "metadata": {
        "id": "i8luOA1Oz6DJ"
      },
      "source": [
        "- `2015` has the highest count. This indicates that `2015` is the year when the largest number of companies in this dataset were founded."
      ]
    },
    {
      "cell_type": "markdown",
      "id": "ABOOuoJRjsOh",
      "metadata": {
        "id": "ABOOuoJRjsOh"
      },
      "source": [
        "Plot a histogram of the `Year Founded` feature."
      ]
    },
    {
      "cell_type": "code",
      "execution_count": 14,
      "id": "z9GOScn7jsOh",
      "metadata": {
        "colab": {
          "base_uri": "https://localhost:8080/",
          "height": 563
        },
        "id": "z9GOScn7jsOh",
        "outputId": "c489aed8-ec46-4703-8dc6-fe1bb434d191"
      },
      "outputs": [
        {
          "data": {
            "text/plain": [
              "Text(0.5, 1.0, 'Year Founded Histogram')"
            ]
          },
          "execution_count": 14,
          "metadata": {},
          "output_type": "execute_result"
        },
        {
          "data": {
            "image/png": "[encoded data removed]",
            "text/plain": [
              "<Figure size 1500x600 with 1 Axes>"
            ]
          },
          "metadata": {},
          "output_type": "display_data"
        }
      ],
      "source": [
        "plt.figure(figsize=(15,6))\n",
        "plt.hist(companies['Year Founded'], bins=100)\n",
        "plt.title ('Year Founded Histogram')"
      ]
    },
    {
      "cell_type": "code",
      "execution_count": 15,
      "id": "AlocjxPUjsOh",
      "metadata": {
        "colab": {
          "base_uri": "https://localhost:8080/",
          "height": 582
        },
        "id": "AlocjxPUjsOh",
        "outputId": "99da9a9c-e1f0-4765-c7ee-2ecb359c8a84"
      },
      "outputs": [
        {
          "data": {
            "text/plain": [
              "Text(0.5, 1.0, 'Year Founded Histogram')"
            ]
          },
          "execution_count": 15,
          "metadata": {},
          "output_type": "execute_result"
        },
        {
          "data": {
            "image/png": "[encoded data removed]",
            "text/plain": [
              "<Figure size 1500x600 with 1 Axes>"
            ]
          },
          "metadata": {},
          "output_type": "display_data"
        }
      ],
      "source": [
        "plt.figure(figsize=(15,6))\n",
        "sns.histplot(data=companies, x='Year Founded')\n",
        "plt.title('Year Founded Histogram')"
      ]
    },
    {
      "cell_type": "markdown",
      "id": "94b53c7f-54d8-4d1a-ae07-7c28c2ab8f5b",
      "metadata": {
        "id": "94b53c7f-54d8-4d1a-ae07-7c28c2ab8f5b",
        "tags": []
      },
      "source": [
        "### Convert the `Date Joined` column to datetime\n",
        "\n",
        "Converting the `Date Joined` column to datetime. This will split each value into year, month, and date components, allowing me to gain insights about when a company gained unicorn status with respect to each component."
      ]
    },
    {
      "cell_type": "code",
      "execution_count": 16,
      "id": "afe607c8-9dd7-47c3-9fc8-88772f015e2b",
      "metadata": {
        "colab": {
          "base_uri": "https://localhost:8080/"
        },
        "id": "afe607c8-9dd7-47c3-9fc8-88772f015e2b",
        "outputId": "4ec63633-8323-4882-b83e-1db09e72161b"
      },
      "outputs": [
        {
          "data": {
            "text/plain": [
              "Company                     object\n",
              "Valuation                   object\n",
              "Date Joined         datetime64[ns]\n",
              "Industry                    object\n",
              "City                        object\n",
              "Country                     object\n",
              "Continent                   object\n",
              "Year Founded                 int64\n",
              "Funding                     object\n",
              "Select Investors            object\n",
              "dtype: object"
            ]
          },
          "execution_count": 16,
          "metadata": {},
          "output_type": "execute_result"
        }
      ],
      "source": [
        "# Convert the `Date Joined` column to datetime.\n",
        "# Update the column with the converted values.\n",
        "\n",
        "companies['Date Joined'] = pd.to_datetime(companies['Date Joined'])\n",
        "\n",
        "\n",
        "# Display the data types of the columns in `companies`\n",
        "# to confirm that the update actually took place.\n",
        "\n",
        "companies.dtypes\n"
      ]
    },
    {
      "cell_type": "markdown",
      "id": "ae351a97-926e-40af-91e2-4bd12a5bf888",
      "metadata": {
        "id": "ae351a97-926e-40af-91e2-4bd12a5bf888",
        "tags": []
      },
      "source": [
        "### Create a `Month Joined` column\n",
        "\n",
        "Obtain the names of the months when companies gained unicorn status, and use the result to create a `Month Joined` column."
      ]
    },
    {
      "cell_type": "code",
      "execution_count": 17,
      "id": "PFBo2wdQU6U1",
      "metadata": {
        "colab": {
          "base_uri": "https://localhost:8080/",
          "height": 554
        },
        "id": "PFBo2wdQU6U1",
        "outputId": "7990d8cc-db72-440e-83e1-a1fee684902e"
      },
      "outputs": [
        {
          "data": {
            "text/html": [
              "<div>\n",
              "<style scoped>\n",
              "    .dataframe tbody tr th:only-of-type {\n",
              "        vertical-align: middle;\n",
              "    }\n",
              "\n",
              "    .dataframe tbody tr th {\n",
              "        vertical-align: top;\n",
              "    }\n",
              "\n",
              "    .dataframe thead th {\n",
              "        text-align: right;\n",
              "    }\n",
              "</style>\n",
              "<table border=\"1\" class=\"dataframe\">\n",
              "  <thead>\n",
              "    <tr style=\"text-align: right;\">\n",
              "      <th></th>\n",
              "      <th>Company</th>\n",
              "      <th>Valuation</th>\n",
              "      <th>Date Joined</th>\n",
              "      <th>Industry</th>\n",
              "      <th>City</th>\n",
              "      <th>Country</th>\n",
              "      <th>Continent</th>\n",
              "      <th>Year Founded</th>\n",
              "      <th>Funding</th>\n",
              "      <th>Select Investors</th>\n",
              "      <th>Month Joined</th>\n",
              "    </tr>\n",
              "  </thead>\n",
              "  <tbody>\n",
              "    <tr>\n",
              "      <th>0</th>\n",
              "      <td>Bytedance</td>\n",
              "      <td>$180B</td>\n",
              "      <td>2017-04-07</td>\n",
              "      <td>Artificial intelligence</td>\n",
              "      <td>Beijing</td>\n",
              "      <td>China</td>\n",
              "      <td>Asia</td>\n",
              "      <td>2012</td>\n",
              "      <td>$8B</td>\n",
              "      <td>Sequoia Capital China, SIG Asia Investments, S...</td>\n",
              "      <td>April</td>\n",
              "    </tr>\n",
              "    <tr>\n",
              "      <th>1</th>\n",
              "      <td>SpaceX</td>\n",
              "      <td>$100B</td>\n",
              "      <td>2012-12-01</td>\n",
              "      <td>Other</td>\n",
              "      <td>Hawthorne</td>\n",
              "      <td>United States</td>\n",
              "      <td>North America</td>\n",
              "      <td>2002</td>\n",
              "      <td>$7B</td>\n",
              "      <td>Founders Fund, Draper Fisher Jurvetson, Rothen...</td>\n",
              "      <td>December</td>\n",
              "    </tr>\n",
              "    <tr>\n",
              "      <th>2</th>\n",
              "      <td>SHEIN</td>\n",
              "      <td>$100B</td>\n",
              "      <td>2018-07-03</td>\n",
              "      <td>E-commerce &amp; direct-to-consumer</td>\n",
              "      <td>Shenzhen</td>\n",
              "      <td>China</td>\n",
              "      <td>Asia</td>\n",
              "      <td>2008</td>\n",
              "      <td>$2B</td>\n",
              "      <td>Tiger Global Management, Sequoia Capital China...</td>\n",
              "      <td>July</td>\n",
              "    </tr>\n",
              "    <tr>\n",
              "      <th>3</th>\n",
              "      <td>Stripe</td>\n",
              "      <td>$95B</td>\n",
              "      <td>2014-01-23</td>\n",
              "      <td>Fintech</td>\n",
              "      <td>San Francisco</td>\n",
              "      <td>United States</td>\n",
              "      <td>North America</td>\n",
              "      <td>2010</td>\n",
              "      <td>$2B</td>\n",
              "      <td>Khosla Ventures, LowercaseCapital, capitalG</td>\n",
              "      <td>January</td>\n",
              "    </tr>\n",
              "    <tr>\n",
              "      <th>4</th>\n",
              "      <td>Klarna</td>\n",
              "      <td>$46B</td>\n",
              "      <td>2011-12-12</td>\n",
              "      <td>Fintech</td>\n",
              "      <td>Stockholm</td>\n",
              "      <td>Sweden</td>\n",
              "      <td>Europe</td>\n",
              "      <td>2005</td>\n",
              "      <td>$4B</td>\n",
              "      <td>Institutional Venture Partners, Sequoia Capita...</td>\n",
              "      <td>December</td>\n",
              "    </tr>\n",
              "    <tr>\n",
              "      <th>5</th>\n",
              "      <td>Canva</td>\n",
              "      <td>$40B</td>\n",
              "      <td>2018-01-08</td>\n",
              "      <td>Internet software &amp; services</td>\n",
              "      <td>Surry Hills</td>\n",
              "      <td>Australia</td>\n",
              "      <td>Oceania</td>\n",
              "      <td>2012</td>\n",
              "      <td>$572M</td>\n",
              "      <td>Sequoia Capital China, Blackbird Ventures, Mat...</td>\n",
              "      <td>January</td>\n",
              "    </tr>\n",
              "    <tr>\n",
              "      <th>6</th>\n",
              "      <td>Checkout.com</td>\n",
              "      <td>$40B</td>\n",
              "      <td>2019-05-02</td>\n",
              "      <td>Fintech</td>\n",
              "      <td>London</td>\n",
              "      <td>United Kingdom</td>\n",
              "      <td>Europe</td>\n",
              "      <td>2012</td>\n",
              "      <td>$2B</td>\n",
              "      <td>Tiger Global Management, Insight Partners, DST...</td>\n",
              "      <td>May</td>\n",
              "    </tr>\n",
              "    <tr>\n",
              "      <th>7</th>\n",
              "      <td>Instacart</td>\n",
              "      <td>$39B</td>\n",
              "      <td>2014-12-30</td>\n",
              "      <td>Supply chain, logistics, &amp; delivery</td>\n",
              "      <td>San Francisco</td>\n",
              "      <td>United States</td>\n",
              "      <td>North America</td>\n",
              "      <td>2012</td>\n",
              "      <td>$3B</td>\n",
              "      <td>Khosla Ventures, Kleiner Perkins Caufield &amp; By...</td>\n",
              "      <td>December</td>\n",
              "    </tr>\n",
              "    <tr>\n",
              "      <th>8</th>\n",
              "      <td>JUUL Labs</td>\n",
              "      <td>$38B</td>\n",
              "      <td>2017-12-20</td>\n",
              "      <td>Consumer &amp; retail</td>\n",
              "      <td>San Francisco</td>\n",
              "      <td>United States</td>\n",
              "      <td>North America</td>\n",
              "      <td>2015</td>\n",
              "      <td>$14B</td>\n",
              "      <td>Tiger Global Management</td>\n",
              "      <td>December</td>\n",
              "    </tr>\n",
              "    <tr>\n",
              "      <th>9</th>\n",
              "      <td>Databricks</td>\n",
              "      <td>$38B</td>\n",
              "      <td>2019-02-05</td>\n",
              "      <td>Data management &amp; analytics</td>\n",
              "      <td>San Francisco</td>\n",
              "      <td>United States</td>\n",
              "      <td>North America</td>\n",
              "      <td>2013</td>\n",
              "      <td>$3B</td>\n",
              "      <td>Andreessen Horowitz, New Enterprise Associates...</td>\n",
              "      <td>February</td>\n",
              "    </tr>\n",
              "  </tbody>\n",
              "</table>\n",
              "</div>"
            ],
            "text/plain": [
              "        Company Valuation Date Joined                             Industry  \\\n",
              "0     Bytedance     $180B  2017-04-07              Artificial intelligence   \n",
              "1        SpaceX     $100B  2012-12-01                                Other   \n",
              "2         SHEIN     $100B  2018-07-03      E-commerce & direct-to-consumer   \n",
              "3        Stripe      $95B  2014-01-23                              Fintech   \n",
              "4        Klarna      $46B  2011-12-12                              Fintech   \n",
              "5         Canva      $40B  2018-01-08         Internet software & services   \n",
              "6  Checkout.com      $40B  2019-05-02                              Fintech   \n",
              "7     Instacart      $39B  2014-12-30  Supply chain, logistics, & delivery   \n",
              "8     JUUL Labs      $38B  2017-12-20                    Consumer & retail   \n",
              "9    Databricks      $38B  2019-02-05          Data management & analytics   \n",
              "\n",
              "            City         Country      Continent  Year Founded Funding  \\\n",
              "0        Beijing           China           Asia          2012     $8B   \n",
              "1      Hawthorne   United States  North America          2002     $7B   \n",
              "2       Shenzhen           China           Asia          2008     $2B   \n",
              "3  San Francisco   United States  North America          2010     $2B   \n",
              "4      Stockholm          Sweden         Europe          2005     $4B   \n",
              "5    Surry Hills       Australia        Oceania          2012   $572M   \n",
              "6         London  United Kingdom         Europe          2012     $2B   \n",
              "7  San Francisco   United States  North America          2012     $3B   \n",
              "8  San Francisco   United States  North America          2015    $14B   \n",
              "9  San Francisco   United States  North America          2013     $3B   \n",
              "\n",
              "                                    Select Investors Month Joined  \n",
              "0  Sequoia Capital China, SIG Asia Investments, S...        April  \n",
              "1  Founders Fund, Draper Fisher Jurvetson, Rothen...     December  \n",
              "2  Tiger Global Management, Sequoia Capital China...         July  \n",
              "3        Khosla Ventures, LowercaseCapital, capitalG      January  \n",
              "4  Institutional Venture Partners, Sequoia Capita...     December  \n",
              "5  Sequoia Capital China, Blackbird Ventures, Mat...      January  \n",
              "6  Tiger Global Management, Insight Partners, DST...          May  \n",
              "7  Khosla Ventures, Kleiner Perkins Caufield & By...     December  \n",
              "8                            Tiger Global Management     December  \n",
              "9  Andreessen Horowitz, New Enterprise Associates...     February  "
            ]
          },
          "execution_count": 17,
          "metadata": {},
          "output_type": "execute_result"
        }
      ],
      "source": [
        "# Obtain the names of the months when companies gained unicorn status.\n",
        "# Use the result to create a `Month Joined` column.\n",
        "\n",
        "companies['Month Joined'] = companies['Date Joined'].dt.month_name()\n",
        "\n",
        "\n",
        "# Display the first few rows of `companies`\n",
        "# to confirm that the new column did get added.\n",
        "\n",
        "companies.head(10)\n"
      ]
    },
    {
      "cell_type": "markdown",
      "id": "6xTyzHiM8_Yf",
      "metadata": {
        "id": "6xTyzHiM8_Yf",
        "tags": []
      },
      "source": [
        "### Create a `Years To Join` column\n",
        "\n",
        "Determine how many years it took for companies to reach unicorn status, and use the result to create a `Years To Join` column. Adding this to the dataset can help answer questions someone may have about this aspect of the companies."
      ]
    },
    {
      "cell_type": "code",
      "execution_count": 18,
      "id": "9zK8Q7-v-Bx1",
      "metadata": {
        "colab": {
          "base_uri": "https://localhost:8080/",
          "height": 310
        },
        "id": "9zK8Q7-v-Bx1",
        "outputId": "ee00acb7-844d-411e-abc7-20ff590b243d"
      },
      "outputs": [
        {
          "data": {
            "text/html": [
              "<div>\n",
              "<style scoped>\n",
              "    .dataframe tbody tr th:only-of-type {\n",
              "        vertical-align: middle;\n",
              "    }\n",
              "\n",
              "    .dataframe tbody tr th {\n",
              "        vertical-align: top;\n",
              "    }\n",
              "\n",
              "    .dataframe thead th {\n",
              "        text-align: right;\n",
              "    }\n",
              "</style>\n",
              "<table border=\"1\" class=\"dataframe\">\n",
              "  <thead>\n",
              "    <tr style=\"text-align: right;\">\n",
              "      <th></th>\n",
              "      <th>Company</th>\n",
              "      <th>Valuation</th>\n",
              "      <th>Date Joined</th>\n",
              "      <th>Industry</th>\n",
              "      <th>City</th>\n",
              "      <th>Country</th>\n",
              "      <th>Continent</th>\n",
              "      <th>Year Founded</th>\n",
              "      <th>Funding</th>\n",
              "      <th>Select Investors</th>\n",
              "      <th>Month Joined</th>\n",
              "      <th>Years to Join</th>\n",
              "    </tr>\n",
              "  </thead>\n",
              "  <tbody>\n",
              "    <tr>\n",
              "      <th>0</th>\n",
              "      <td>Bytedance</td>\n",
              "      <td>$180B</td>\n",
              "      <td>2017-04-07</td>\n",
              "      <td>Artificial intelligence</td>\n",
              "      <td>Beijing</td>\n",
              "      <td>China</td>\n",
              "      <td>Asia</td>\n",
              "      <td>2012</td>\n",
              "      <td>$8B</td>\n",
              "      <td>Sequoia Capital China, SIG Asia Investments, S...</td>\n",
              "      <td>April</td>\n",
              "      <td>5</td>\n",
              "    </tr>\n",
              "    <tr>\n",
              "      <th>1</th>\n",
              "      <td>SpaceX</td>\n",
              "      <td>$100B</td>\n",
              "      <td>2012-12-01</td>\n",
              "      <td>Other</td>\n",
              "      <td>Hawthorne</td>\n",
              "      <td>United States</td>\n",
              "      <td>North America</td>\n",
              "      <td>2002</td>\n",
              "      <td>$7B</td>\n",
              "      <td>Founders Fund, Draper Fisher Jurvetson, Rothen...</td>\n",
              "      <td>December</td>\n",
              "      <td>10</td>\n",
              "    </tr>\n",
              "    <tr>\n",
              "      <th>2</th>\n",
              "      <td>SHEIN</td>\n",
              "      <td>$100B</td>\n",
              "      <td>2018-07-03</td>\n",
              "      <td>E-commerce &amp; direct-to-consumer</td>\n",
              "      <td>Shenzhen</td>\n",
              "      <td>China</td>\n",
              "      <td>Asia</td>\n",
              "      <td>2008</td>\n",
              "      <td>$2B</td>\n",
              "      <td>Tiger Global Management, Sequoia Capital China...</td>\n",
              "      <td>July</td>\n",
              "      <td>10</td>\n",
              "    </tr>\n",
              "    <tr>\n",
              "      <th>3</th>\n",
              "      <td>Stripe</td>\n",
              "      <td>$95B</td>\n",
              "      <td>2014-01-23</td>\n",
              "      <td>Fintech</td>\n",
              "      <td>San Francisco</td>\n",
              "      <td>United States</td>\n",
              "      <td>North America</td>\n",
              "      <td>2010</td>\n",
              "      <td>$2B</td>\n",
              "      <td>Khosla Ventures, LowercaseCapital, capitalG</td>\n",
              "      <td>January</td>\n",
              "      <td>4</td>\n",
              "    </tr>\n",
              "    <tr>\n",
              "      <th>4</th>\n",
              "      <td>Klarna</td>\n",
              "      <td>$46B</td>\n",
              "      <td>2011-12-12</td>\n",
              "      <td>Fintech</td>\n",
              "      <td>Stockholm</td>\n",
              "      <td>Sweden</td>\n",
              "      <td>Europe</td>\n",
              "      <td>2005</td>\n",
              "      <td>$4B</td>\n",
              "      <td>Institutional Venture Partners, Sequoia Capita...</td>\n",
              "      <td>December</td>\n",
              "      <td>6</td>\n",
              "    </tr>\n",
              "  </tbody>\n",
              "</table>\n",
              "</div>"
            ],
            "text/plain": [
              "     Company Valuation Date Joined                         Industry  \\\n",
              "0  Bytedance     $180B  2017-04-07          Artificial intelligence   \n",
              "1     SpaceX     $100B  2012-12-01                            Other   \n",
              "2      SHEIN     $100B  2018-07-03  E-commerce & direct-to-consumer   \n",
              "3     Stripe      $95B  2014-01-23                          Fintech   \n",
              "4     Klarna      $46B  2011-12-12                          Fintech   \n",
              "\n",
              "            City        Country      Continent  Year Founded Funding  \\\n",
              "0        Beijing          China           Asia          2012     $8B   \n",
              "1      Hawthorne  United States  North America          2002     $7B   \n",
              "2       Shenzhen          China           Asia          2008     $2B   \n",
              "3  San Francisco  United States  North America          2010     $2B   \n",
              "4      Stockholm         Sweden         Europe          2005     $4B   \n",
              "\n",
              "                                    Select Investors Month Joined  \\\n",
              "0  Sequoia Capital China, SIG Asia Investments, S...        April   \n",
              "1  Founders Fund, Draper Fisher Jurvetson, Rothen...     December   \n",
              "2  Tiger Global Management, Sequoia Capital China...         July   \n",
              "3        Khosla Ventures, LowercaseCapital, capitalG      January   \n",
              "4  Institutional Venture Partners, Sequoia Capita...     December   \n",
              "\n",
              "   Years to Join  \n",
              "0              5  \n",
              "1             10  \n",
              "2             10  \n",
              "3              4  \n",
              "4              6  "
            ]
          },
          "execution_count": 18,
          "metadata": {},
          "output_type": "execute_result"
        }
      ],
      "source": [
        "# Determine how many years it took for companies to reach unicorn status.\n",
        "# Use the result to create a `Years To Join` column.\n",
        "\n",
        "companies['Years to Join'] = companies['Date Joined'].dt.year - companies['Year Founded']\n",
        "\n",
        "\n",
        "# Display the first few rows of `companies`\n",
        "# to confirm that the new column did get added.\n",
        "\n",
        "companies.head()\n"
      ]
    },
    {
      "cell_type": "code",
      "execution_count": 19,
      "id": "NxR5KKs6jsOi",
      "metadata": {
        "colab": {
          "base_uri": "https://localhost:8080/",
          "height": 542
        },
        "id": "NxR5KKs6jsOi",
        "outputId": "fe358ab3-753d-4c9d-83c9-480307a9d43e"
      },
      "outputs": [
        {
          "data": {
            "image/png": "[encoded data removed]",
            "text/plain": [
              "<Figure size 1500x600 with 1 Axes>"
            ]
          },
          "metadata": {},
          "output_type": "display_data"
        }
      ],
      "source": [
        "plt.figure(figsize=(15, 6))\n",
        "sns.histplot(data=companies['Years to Join'])\n",
        "plt.show()"
      ]
    },
    {
      "cell_type": "markdown",
      "id": "98YFM1o4-VQ_",
      "metadata": {
        "id": "98YFM1o4-VQ_"
      },
      "source": [
        "**Question:** Which year would likely give more insights on with respect to when companies attained unicorn status, and why?\n"
      ]
    },
    {
      "cell_type": "markdown",
      "id": "hRT_vGZhz-Ij",
      "metadata": {
        "id": "hRT_vGZhz-Ij"
      },
      "source": [
        "- The year 2021, as that is the most recent year for which there is data available. Trends that took place in 2021 might be similar to trends that will take place in 2022."
      ]
    },
    {
      "cell_type": "markdown",
      "id": "nx-WbHfLCdTd",
      "metadata": {
        "id": "nx-WbHfLCdTd"
      },
      "source": [
        "### Gain more insight on a specific year\n",
        "\n",
        "To gain more insight on the year 2021, I will filter the dataset by 2021 and save the resulting subset into a new variable."
      ]
    },
    {
      "cell_type": "code",
      "execution_count": 20,
      "id": "5FnSS5fBEUY-",
      "metadata": {
        "colab": {
          "base_uri": "https://localhost:8080/",
          "height": 328
        },
        "id": "5FnSS5fBEUY-",
        "outputId": "ea611875-a4cc-4b9c-97a9-3f621e1f8828"
      },
      "outputs": [
        {
          "data": {
            "text/html": [
              "<div>\n",
              "<style scoped>\n",
              "    .dataframe tbody tr th:only-of-type {\n",
              "        vertical-align: middle;\n",
              "    }\n",
              "\n",
              "    .dataframe tbody tr th {\n",
              "        vertical-align: top;\n",
              "    }\n",
              "\n",
              "    .dataframe thead th {\n",
              "        text-align: right;\n",
              "    }\n",
              "</style>\n",
              "<table border=\"1\" class=\"dataframe\">\n",
              "  <thead>\n",
              "    <tr style=\"text-align: right;\">\n",
              "      <th></th>\n",
              "      <th>Company</th>\n",
              "      <th>Valuation</th>\n",
              "      <th>Date Joined</th>\n",
              "      <th>Industry</th>\n",
              "      <th>City</th>\n",
              "      <th>Country</th>\n",
              "      <th>Continent</th>\n",
              "      <th>Year Founded</th>\n",
              "      <th>Funding</th>\n",
              "      <th>Select Investors</th>\n",
              "      <th>Month Joined</th>\n",
              "      <th>Years to Join</th>\n",
              "    </tr>\n",
              "  </thead>\n",
              "  <tbody>\n",
              "    <tr>\n",
              "      <th>12</th>\n",
              "      <td>FTX</td>\n",
              "      <td>$32B</td>\n",
              "      <td>2021-07-20</td>\n",
              "      <td>Fintech</td>\n",
              "      <td>NaN</td>\n",
              "      <td>Bahamas</td>\n",
              "      <td>North America</td>\n",
              "      <td>2018</td>\n",
              "      <td>$2B</td>\n",
              "      <td>Sequoia Capital, Thoma Bravo, Softbank</td>\n",
              "      <td>July</td>\n",
              "      <td>3</td>\n",
              "    </tr>\n",
              "    <tr>\n",
              "      <th>16</th>\n",
              "      <td>J&amp;T Express</td>\n",
              "      <td>$20B</td>\n",
              "      <td>2021-04-07</td>\n",
              "      <td>Supply chain, logistics, &amp; delivery</td>\n",
              "      <td>Jakarta</td>\n",
              "      <td>Indonesia</td>\n",
              "      <td>Asia</td>\n",
              "      <td>2015</td>\n",
              "      <td>$5B</td>\n",
              "      <td>Hillhouse Capital Management, Boyu Capital, Se...</td>\n",
              "      <td>April</td>\n",
              "      <td>6</td>\n",
              "    </tr>\n",
              "    <tr>\n",
              "      <th>24</th>\n",
              "      <td>Blockchain.com</td>\n",
              "      <td>$14B</td>\n",
              "      <td>2021-02-17</td>\n",
              "      <td>Fintech</td>\n",
              "      <td>London</td>\n",
              "      <td>United Kingdom</td>\n",
              "      <td>Europe</td>\n",
              "      <td>2011</td>\n",
              "      <td>$490M</td>\n",
              "      <td>Lightspeed Venture Partners, Google Ventures, ...</td>\n",
              "      <td>February</td>\n",
              "      <td>10</td>\n",
              "    </tr>\n",
              "    <tr>\n",
              "      <th>27</th>\n",
              "      <td>OpenSea</td>\n",
              "      <td>$13B</td>\n",
              "      <td>2021-07-20</td>\n",
              "      <td>E-commerce &amp; direct-to-consumer</td>\n",
              "      <td>New York</td>\n",
              "      <td>United States</td>\n",
              "      <td>North America</td>\n",
              "      <td>2017</td>\n",
              "      <td>$427M</td>\n",
              "      <td>Andreessen Horowitz, Thirty Five Ventures, Sou...</td>\n",
              "      <td>July</td>\n",
              "      <td>4</td>\n",
              "    </tr>\n",
              "    <tr>\n",
              "      <th>34</th>\n",
              "      <td>Getir</td>\n",
              "      <td>$12B</td>\n",
              "      <td>2021-03-26</td>\n",
              "      <td>E-commerce &amp; direct-to-consumer</td>\n",
              "      <td>Istanbul</td>\n",
              "      <td>Turkey</td>\n",
              "      <td>Europe</td>\n",
              "      <td>2015</td>\n",
              "      <td>$2B</td>\n",
              "      <td>Tiger Global Management, Sequoia Capital, Revo...</td>\n",
              "      <td>March</td>\n",
              "      <td>6</td>\n",
              "    </tr>\n",
              "  </tbody>\n",
              "</table>\n",
              "</div>"
            ],
            "text/plain": [
              "           Company Valuation Date Joined                             Industry  \\\n",
              "12             FTX      $32B  2021-07-20                              Fintech   \n",
              "16     J&T Express      $20B  2021-04-07  Supply chain, logistics, & delivery   \n",
              "24  Blockchain.com      $14B  2021-02-17                              Fintech   \n",
              "27         OpenSea      $13B  2021-07-20      E-commerce & direct-to-consumer   \n",
              "34           Getir      $12B  2021-03-26      E-commerce & direct-to-consumer   \n",
              "\n",
              "        City         Country      Continent  Year Founded Funding  \\\n",
              "12       NaN         Bahamas  North America          2018     $2B   \n",
              "16   Jakarta       Indonesia           Asia          2015     $5B   \n",
              "24    London  United Kingdom         Europe          2011   $490M   \n",
              "27  New York   United States  North America          2017   $427M   \n",
              "34  Istanbul          Turkey         Europe          2015     $2B   \n",
              "\n",
              "                                     Select Investors Month Joined  \\\n",
              "12             Sequoia Capital, Thoma Bravo, Softbank         July   \n",
              "16  Hillhouse Capital Management, Boyu Capital, Se...        April   \n",
              "24  Lightspeed Venture Partners, Google Ventures, ...     February   \n",
              "27  Andreessen Horowitz, Thirty Five Ventures, Sou...         July   \n",
              "34  Tiger Global Management, Sequoia Capital, Revo...        March   \n",
              "\n",
              "    Years to Join  \n",
              "12              3  \n",
              "16              6  \n",
              "24             10  \n",
              "27              4  \n",
              "34              6  "
            ]
          },
          "execution_count": 20,
          "metadata": {},
          "output_type": "execute_result"
        }
      ],
      "source": [
        "# Filter the dataset by 2021 (in terms of when companies reached unicorn status).\n",
        "# Save the resulting subset in a new variable.\n",
        "\n",
        "companies_2021 = companies[companies['Date Joined'].dt.year == 2021]\n",
        "\n",
        "\n",
        "# Display the first few rows of the subset to confirm that it was created.\n",
        "\n",
        "companies_2021.head()"
      ]
    },
    {
      "cell_type": "markdown",
      "id": "xMeC4PjILkAP",
      "metadata": {
        "id": "xMeC4PjILkAP"
      },
      "source": [
        "### Observe trends over time\n",
        "\n",
        "Implement the structuring approach identified to observe trends over time in the companies that became unicorns for the year of interest."
      ]
    },
    {
      "cell_type": "code",
      "execution_count": 21,
      "id": "RTPw3cRqPUI3",
      "metadata": {
        "id": "RTPw3cRqPUI3"
      },
      "outputs": [],
      "source": [
        "# Step 1. Take the subset defined for 2021.\n",
        "#         Insert a column that contains the time interval that each data point belongs to, as needed.\n",
        "# Step 2. Group by the time interval.\n",
        "#         Aggregate by counting companies that joined per interval of that year.\n",
        "#         Save the resulting DataFrame in a new variable.\n",
        "\n",
        "companies_2021.insert(3, 'Week Joined', companies_2021['Date Joined'].dt.strftime('%Y-W%V'), False)\n",
        "\n",
        "companies_by_week_2021 = companies_2021.groupby('Week Joined')['Company'].count().reset_index().rename(columns={'Company':'Company Count'})"
      ]
    },
    {
      "cell_type": "code",
      "execution_count": 22,
      "id": "tkFdOu_UjsOi",
      "metadata": {
        "colab": {
          "base_uri": "https://localhost:8080/",
          "height": 206
        },
        "id": "tkFdOu_UjsOi",
        "outputId": "c467b32e-c874-40a9-f5e3-d0381a44b6e0"
      },
      "outputs": [
        {
          "data": {
            "text/html": [
              "<div>\n",
              "<style scoped>\n",
              "    .dataframe tbody tr th:only-of-type {\n",
              "        vertical-align: middle;\n",
              "    }\n",
              "\n",
              "    .dataframe tbody tr th {\n",
              "        vertical-align: top;\n",
              "    }\n",
              "\n",
              "    .dataframe thead th {\n",
              "        text-align: right;\n",
              "    }\n",
              "</style>\n",
              "<table border=\"1\" class=\"dataframe\">\n",
              "  <thead>\n",
              "    <tr style=\"text-align: right;\">\n",
              "      <th></th>\n",
              "      <th>Week Joined</th>\n",
              "      <th>Company Count</th>\n",
              "    </tr>\n",
              "  </thead>\n",
              "  <tbody>\n",
              "    <tr>\n",
              "      <th>0</th>\n",
              "      <td>2021-W01</td>\n",
              "      <td>12</td>\n",
              "    </tr>\n",
              "    <tr>\n",
              "      <th>1</th>\n",
              "      <td>2021-W02</td>\n",
              "      <td>9</td>\n",
              "    </tr>\n",
              "    <tr>\n",
              "      <th>2</th>\n",
              "      <td>2021-W03</td>\n",
              "      <td>5</td>\n",
              "    </tr>\n",
              "    <tr>\n",
              "      <th>3</th>\n",
              "      <td>2021-W04</td>\n",
              "      <td>8</td>\n",
              "    </tr>\n",
              "    <tr>\n",
              "      <th>4</th>\n",
              "      <td>2021-W05</td>\n",
              "      <td>4</td>\n",
              "    </tr>\n",
              "  </tbody>\n",
              "</table>\n",
              "</div>"
            ],
            "text/plain": [
              "  Week Joined  Company Count\n",
              "0    2021-W01             12\n",
              "1    2021-W02              9\n",
              "2    2021-W03              5\n",
              "3    2021-W04              8\n",
              "4    2021-W05              4"
            ]
          },
          "execution_count": 22,
          "metadata": {},
          "output_type": "execute_result"
        }
      ],
      "source": [
        "# Display the first few rows of the new DataFrame to confirm that it was created\n",
        "companies_by_week_2021.head()"
      ]
    },
    {
      "cell_type": "markdown",
      "id": "5vGITCLaA7lC",
      "metadata": {
        "id": "5vGITCLaA7lC"
      },
      "source": [
        "### Compare trends over time\n",
        "\n",
        "Next, I will implement the structuring approach once again in order to compare trends over time in the average valuation of companies that became unicorns in 2021 and in 2020."
      ]
    },
    {
      "cell_type": "code",
      "execution_count": 23,
      "id": "pQ3sXSbaA7lD",
      "metadata": {
        "colab": {
          "base_uri": "https://localhost:8080/",
          "height": 206
        },
        "id": "pQ3sXSbaA7lD",
        "outputId": "0e08ae66-9449-433c-9f10-5e50c24b1b71"
      },
      "outputs": [
        {
          "data": {
            "text/html": [
              "<div>\n",
              "<style scoped>\n",
              "    .dataframe tbody tr th:only-of-type {\n",
              "        vertical-align: middle;\n",
              "    }\n",
              "\n",
              "    .dataframe tbody tr th {\n",
              "        vertical-align: top;\n",
              "    }\n",
              "\n",
              "    .dataframe thead th {\n",
              "        text-align: right;\n",
              "    }\n",
              "</style>\n",
              "<table border=\"1\" class=\"dataframe\">\n",
              "  <thead>\n",
              "    <tr style=\"text-align: right;\">\n",
              "      <th></th>\n",
              "      <th>Quarter Joined</th>\n",
              "      <th>AVG Valuation</th>\n",
              "    </tr>\n",
              "  </thead>\n",
              "  <tbody>\n",
              "    <tr>\n",
              "      <th>0</th>\n",
              "      <td>2020-Q1</td>\n",
              "      <td>3.444444</td>\n",
              "    </tr>\n",
              "    <tr>\n",
              "      <th>1</th>\n",
              "      <td>2020-Q2</td>\n",
              "      <td>3.777778</td>\n",
              "    </tr>\n",
              "    <tr>\n",
              "      <th>2</th>\n",
              "      <td>2020-Q3</td>\n",
              "      <td>3.896552</td>\n",
              "    </tr>\n",
              "    <tr>\n",
              "      <th>3</th>\n",
              "      <td>2020-Q4</td>\n",
              "      <td>3.697674</td>\n",
              "    </tr>\n",
              "    <tr>\n",
              "      <th>4</th>\n",
              "      <td>2021-Q1</td>\n",
              "      <td>2.750000</td>\n",
              "    </tr>\n",
              "  </tbody>\n",
              "</table>\n",
              "</div>"
            ],
            "text/plain": [
              "  Quarter Joined  AVG Valuation\n",
              "0        2020-Q1       3.444444\n",
              "1        2020-Q2       3.777778\n",
              "2        2020-Q3       3.896552\n",
              "3        2020-Q4       3.697674\n",
              "4        2021-Q1       2.750000"
            ]
          },
          "execution_count": 23,
          "metadata": {},
          "output_type": "execute_result"
        }
      ],
      "source": [
        "# Step 1. Filter by the additional year to create a subset that consists of companies that joined in that year.\n",
        "# Step 2. Concatenate that new subset with the subset defined previously.\n",
        "# Step 3. As needed, add a column that contains the time interval that each data point belongs to,\n",
        "#         in the concatenated DataFrame.\n",
        "# Step 4. Transform the `Valuation` column as needed.\n",
        "# Step 5. Group by the time interval.\n",
        "#         Aggregate by computing average valuation of companies that joined per interval of the corresponding year.\n",
        "#         Save the resulting DataFrame in a new variable.\n",
        "\n",
        "# Step 1\n",
        "companies_2020 = companies[companies['Date Joined'].dt.year == 2020]\n",
        "# Step 2\n",
        "companies_2020_2021 = pd.concat([companies_2020, companies_2021.drop(columns='Week Joined')])\n",
        "# Step 3\n",
        "companies_2020_2021['Quarter Joined'] = companies_2020_2021['Date Joined'].dt.to_period('Q').dt.strftime('%Y-Q%q')\n",
        "# Step 4\n",
        "companies_2020_2021['Valuation'] = companies_2020_2021['Valuation'].str.strip('$B').astype(float)\n",
        "# Step 5\n",
        "companies_by_quarter_2020_2021 = companies_2020_2021.groupby(by='Quarter Joined')['Valuation'].mean().reset_index().rename(columns={'Valuation': 'AVG Valuation'})\n",
        "\n",
        "companies_by_quarter_2020_2021.head()\n"
      ]
    },
    {
      "cell_type": "markdown",
      "id": "w_HtFyHrXVAc",
      "metadata": {
        "id": "w_HtFyHrXVAc"
      },
      "source": [
        "## Step 3: Time-to-unicorn visualization\n",
        "\n",
        "### Visualize the time it took companies to become unicorns\n",
        "\n",
        "Using the `companies` dataset, I will create a box plot to visualize the distribution of how long it took companies to become unicorns, with respect to the month they joined."
      ]
    },
    {
      "cell_type": "code",
      "execution_count": 24,
      "id": "4GT0qtPUIlzD",
      "metadata": {
        "colab": {
          "base_uri": "https://localhost:8080/"
        },
        "id": "4GT0qtPUIlzD",
        "outputId": "e9770803-dac1-4e2f-a1ef-57109eff614a"
      },
      "outputs": [
        {
          "data": {
            "text/plain": [
              "['January',\n",
              " 'February',\n",
              " 'March',\n",
              " 'April',\n",
              " 'May',\n",
              " 'June',\n",
              " 'July',\n",
              " 'August',\n",
              " 'September',\n",
              " 'October',\n",
              " 'November',\n",
              " 'December']"
            ]
          },
          "execution_count": 24,
          "metadata": {},
          "output_type": "execute_result"
        }
      ],
      "source": [
        "# Define a list that contains months in chronological order.\n",
        "\n",
        "months_in_order = ['January', 'February', 'March', 'April', 'May', 'June', 'July', 'August', 'September', 'October', 'November', 'December']\n",
        "\n",
        "months_in_order\n"
      ]
    },
    {
      "cell_type": "code",
      "execution_count": 25,
      "id": "7V-NPXUCIhCT",
      "metadata": {
        "colab": {
          "base_uri": "https://localhost:8080/",
          "height": 614
        },
        "id": "7V-NPXUCIhCT",
        "outputId": "239d32b5-023e-432c-ad35-a2605a2d30d6"
      },
      "outputs": [
        {
          "data": {
            "image/png": "[encoded data removed]",
            "text/plain": [
              "<Figure size 1500x600 with 1 Axes>"
            ]
          },
          "metadata": {},
          "output_type": "display_data"
        }
      ],
      "source": [
        "# Create a box plot to visualize the distribution of how long it took companies to become unicorns, with respect to the month they joined.\n",
        "# Plot the data from the `companies` DataFrame.\n",
        "\n",
        "plt.figure(figsize=(15, 6))\n",
        "\n",
        "sns.boxplot(data=companies,\n",
        "            x='Month Joined',\n",
        "            y='Years to Join',\n",
        "            order=months_in_order,\n",
        "            showfliers=False\n",
        ")\n",
        "\n",
        "# Set the title of the plot.\n",
        "\n",
        "plt.title('Distribution of Time Taken to Become Unicorn')\n",
        "\n",
        "# Rotate labels on the x-axis as a way to avoid overlap in the positions of the text.\n",
        "\n",
        "plt.xticks(rotation=45, horizontalalignment='right')\n",
        "\n",
        "# Display the plot.\n",
        "\n",
        "plt.show()\n",
        "\n"
      ]
    },
    {
      "cell_type": "markdown",
      "id": "hJhdI_Y7LK8e",
      "metadata": {
        "id": "hJhdI_Y7LK8e"
      },
      "source": [
        "**Question:** In the preceding box plot, what did I observe about the median value for `Years To Join` for each month?\n"
      ]
    },
    {
      "cell_type": "markdown",
      "id": "rLUHSsZl0Cmt",
      "metadata": {
        "id": "rLUHSsZl0Cmt"
      },
      "source": [
        "- The months of September and October show a noticeable decrease in the median number of years to achieve a valuation of $1 billion, implying a quicker ascent to unicorn valuation during the early autumn months. Despite the apparent uniform distribution of companies throughout the year, the differences in median values across the months may not offer a fully accurate basis for comparison, as other factors could influence these timelines."
      ]
    },
    {
      "cell_type": "markdown",
      "id": "gq9Syq-Cq1zb",
      "metadata": {
        "id": "gq9Syq-Cq1zb"
      },
      "source": [
        "## Step 4: Results and evaluation\n"
      ]
    },
    {
      "cell_type": "markdown",
      "id": "10beff64-16e0-464d-93f0-03ab61f7069b",
      "metadata": {
        "id": "10beff64-16e0-464d-93f0-03ab61f7069b",
        "tags": []
      },
      "source": [
        "### Visualize the time it took companies to reach unicorn status\n",
        "\n",
        "In this section, I will evaluate the result of structuring the data, making observations, and gaining further insights about the data.\n",
        "\n",
        "Using the `companies` dataset, I will create a bar plot to visualize the average number of years it took companies to reach unicorn status with respect to when they were founded."
      ]
    },
    {
      "cell_type": "code",
      "execution_count": 26,
      "id": "1153ca76-f1e3-4fea-a2db-a5de23614abd",
      "metadata": {
        "colab": {
          "base_uri": "https://localhost:8080/",
          "height": 585
        },
        "id": "1153ca76-f1e3-4fea-a2db-a5de23614abd",
        "outputId": "b562bc02-6099-43a1-8c71-4d5482942889"
      },
      "outputs": [
        {
          "data": {
            "image/png": "[encoded data removed]",
            "text/plain": [
              "<Figure size 1500x600 with 1 Axes>"
            ]
          },
          "metadata": {},
          "output_type": "display_data"
        }
      ],
      "source": [
        "# Set the size of the plot.\n",
        "\n",
        "plt.figure(figsize=(15, 6))\n",
        "\n",
        "\n",
        "# Create bar plot to visualize the average number of years it took companies to reach unicorn status\n",
        "# with respect to when they were founded.\n",
        "# Plot data from the `companies` DataFrame.\n",
        "\n",
        "sns.barplot(x=companies['Year Founded'], y=companies['Years to Join'], errorbar=('ci', False))\n",
        "\n",
        "# Set title\n",
        "\n",
        "plt.title('Bar plot of years to join with respect to year founded')\n",
        "\n",
        "# Set x-axis label\n",
        "\n",
        "plt.xlabel('Year Founded')\n",
        "\n",
        "# Set y-axis label\n",
        "\n",
        "plt.ylabel('Years Taken')\n",
        "\n",
        "# Rotate the labels on the x-axis as a way to avoid overlap in the positions of the text.\n",
        "\n",
        "plt.xticks(rotation=45, horizontalalignment='right')\n",
        "\n",
        "# Display the plot.\n",
        "\n",
        "plt.show()\n"
      ]
    },
    {
      "cell_type": "markdown",
      "id": "xDwKa-UDOmaX",
      "metadata": {
        "id": "xDwKa-UDOmaX"
      },
      "source": [
        "**Question:** What trends are there in the data?\n"
      ]
    },
    {
      "cell_type": "markdown",
      "id": "EapccSkH0Don",
      "metadata": {
        "id": "EapccSkH0Don"
      },
      "source": [
        "- There appears to be a trend where companies that were founded later took less time to reach unicorn status, on average. However, this could be a bias that is common in time data. Companies founded in later years have been around for less time, meaning less time to collect data on such companies compared to companies founded earlier."
      ]
    },
    {
      "cell_type": "markdown",
      "id": "M9iBEnnStJPJ",
      "metadata": {
        "id": "M9iBEnnStJPJ"
      },
      "source": [
        "### Visualize the number of companies that joined per interval\n",
        "\n",
        "Using the subset of companies joined in the year of interest grouped by the time interval, I will create a bar plot to visualize the number of companies that joined per interval for that year."
      ]
    },
    {
      "cell_type": "code",
      "execution_count": 27,
      "id": "BTdJdubxplHc",
      "metadata": {
        "colab": {
          "base_uri": "https://localhost:8080/",
          "height": 520
        },
        "id": "BTdJdubxplHc",
        "outputId": "c6305af9-836c-40e8-e9aa-3e999dd1e60d"
      },
      "outputs": [
        {
          "data": {
            "image/png": "[encoded data removed]",
            "text/plain": [
              "<Figure size 1500x500 with 1 Axes>"
            ]
          },
          "metadata": {},
          "output_type": "display_data"
        }
      ],
      "source": [
        "# Set the size of the plot.\n",
        "\n",
        "plt.figure(figsize=(15, 5))\n",
        "\n",
        "# Create bar plot to visualize number of companies that joined per interval for the year of interest.\n",
        "\n",
        "sns.barplot(x=companies_by_week_2021['Week Joined'], y=companies_by_week_2021['Company Count'])\n",
        "# plt.bar(x=companies_by_week_2021['Week Joined'], height=companies_by_week_2021['Company Count'])\n",
        "\n",
        "# Set the x-axis label.\n",
        "\n",
        "plt.xlabel('Week Joined')\n",
        "\n",
        "# Set the y-axis label.\n",
        "\n",
        "plt.ylabel('Num of Companies')\n",
        "\n",
        "\n",
        "# Set the title.\n",
        "\n",
        "plt.title('Num of companies joining unicorn list per week in 2021')\n",
        "\n",
        "# Rotate labels on the x-axis as a way to avoid overlap in the positions of the text.\n",
        "\n",
        "plt.xticks(rotation=45, horizontalalignment='right', fontsize=8)\n",
        "\n",
        "# Display the plot.\n",
        "\n",
        "plt.show()\n"
      ]
    },
    {
      "cell_type": "markdown",
      "id": "NEsKdFw8sdMJ",
      "metadata": {
        "id": "NEsKdFw8sdMJ"
      },
      "source": [
        "**Question:** Any observations from the bar plot?\n",
        "  "
      ]
    },
    {
      "cell_type": "markdown",
      "id": "bLmFY7jR0Ewi",
      "metadata": {
        "id": "bLmFY7jR0Ewi"
      },
      "source": [
        "- Throughout 2021, the quantity of businesses attaining unicorn status varied, showing a clear pattern of alternating decreases and increases over time.\n",
        "- Week 37, which falls in the latter half of September, saw the peak of company valuations hitting the $1 billion mark.\n",
        "- The subsequent highest instances of companies achieving unicorn status occurred in Week 12, towards the end of March, and Week 28, around mid-July."
      ]
    },
    {
      "cell_type": "markdown",
      "id": "izcgBCbZhC4w",
      "metadata": {
        "id": "izcgBCbZhC4w"
      },
      "source": [
        "### Visualize the average valuation over the quarters\n",
        "\n",
        "Using the subset of companies that joined in the years of interest, I will create a grouped bar plot to visualize the average valuation over the quarters, with two bars for each time interval. There will be two bars for each time interval. This will allow comparison between quarterly values for the two years."
      ]
    },
    {
      "cell_type": "code",
      "execution_count": 28,
      "id": "IC1cFf2ci6Q6",
      "metadata": {
        "colab": {
          "base_uri": "https://localhost:8080/",
          "height": 564
        },
        "id": "IC1cFf2ci6Q6",
        "outputId": "e1a14416-b7ed-48de-ebbc-5822e31f6b0b"
      },
      "outputs": [
        {
          "data": {
            "image/png": "[encoded data removed]",
            "text/plain": [
              "<Figure size 1000x600 with 1 Axes>"
            ]
          },
          "metadata": {},
          "output_type": "display_data"
        }
      ],
      "source": [
        "# Using slicing, extract the year component and the time interval,\n",
        "# and save them by adding two new columns into the subset.\n",
        "\n",
        "companies_by_quarter_2020_2021['Year Joined'] = companies_by_quarter_2020_2021['Quarter Joined'].str[:4]\n",
        "companies_by_quarter_2020_2021['Quarter Number'] = companies_by_quarter_2020_2021['Quarter Joined'].str[-2:]\n",
        "\n",
        "# Set the size of the plot.\n",
        "\n",
        "plt.figure(figsize=(10,6))\n",
        "\n",
        "# Create a grouped bar plot.\n",
        "\n",
        "sns.barplot(x=companies_by_quarter_2020_2021['Quarter Number'],\n",
        "            y=companies_by_quarter_2020_2021['AVG Valuation'],\n",
        "            hue=companies_by_quarter_2020_2021['Year Joined'])\n",
        "\n",
        "# Set the x-axis label.\n",
        "\n",
        "plt.xlabel('Quarter Number')\n",
        "\n",
        "# Set the y-axis label.\n",
        "\n",
        "plt.ylabel('Avg valuation in billions')\n",
        "\n",
        "# Set the title.\n",
        "\n",
        "plt.title('Avg valuation of unicorn companies per quarter in 2020 vs 2021')\n",
        "\n",
        "# Display the plot.\n",
        "\n",
        "plt.show()\n"
      ]
    },
    {
      "cell_type": "markdown",
      "id": "-JSttrHR4v77",
      "metadata": {
        "id": "-JSttrHR4v77"
      },
      "source": [
        "**Question:** What did I observe from the preceding grouped bar plot?\n",
        "\n",
        "  "
      ]
    },
    {
      "cell_type": "markdown",
      "id": "tJjbpUeD0GMH",
      "metadata": {
        "id": "tJjbpUeD0GMH"
      },
      "source": [
        "- Across all quarters, firms that attained unicorn status in 2020 had greater mean valuations compared to those in 2021.\n",
        "- The third quarter of 2020 saw the peak mean valuation for firms achieving unicorn status, with a pattern of growth from the first to the second quarter and then to the third.\n",
        "- For the year 2021, the first quarter observed the peak in mean valuations for firms becoming unicorns, followed by a decreasing trend throughout the subsequent quarters."
      ]
    },
    {
      "cell_type": "markdown",
      "id": "CmStN_ox4wSs",
      "metadata": {
        "id": "CmStN_ox4wSs"
      },
      "source": [
        "**Question:** Is there any potential bias in the data that could hinder the analysis?\n"
      ]
    },
    {
      "cell_type": "markdown",
      "id": "Utbk8TTF0Gji",
      "metadata": {
        "id": "Utbk8TTF0Gji"
      },
      "source": [
        "- If the data collection process favored certain cities and countries over others, the analysis would likely reflect the perspectives of the regions represented in the dataset rather than offering a global view.\n",
        "- If the dataset didn't include specific industries, the analysis would inherently lean towards the sectors it includes.\n",
        "- In the event of missing data such as time gaps, it could potentially skew the observed trends.\n",
        "- The issue of temporal data bias arises because there's been less opportunity to gather data on companies founded in recent years compared to those established earlier."
      ]
    },
    {
      "cell_type": "markdown",
      "id": "9qPL2qMpIF6g",
      "metadata": {
        "id": "9qPL2qMpIF6g"
      },
      "source": [
        "**Question:** Are there any unanswered questions I have about the data?\n"
      ]
    },
    {
      "cell_type": "markdown",
      "id": "ZQ4jXw1s0H_5",
      "metadata": {
        "id": "ZQ4jXw1s0H_5"
      },
      "source": [
        "- How many rounds of funding did each company require and when did this funding take place?\n",
        "- Have any of these unicorn companies acquired other companies along the way? If so, which companies acquired other companies, which companies did they acquire, and when did the acquisitions take place?"
      ]
    },
    {
      "cell_type": "markdown",
      "id": "c77e7f0f-d2b9-4464-8a7c-9575d1e1ef9f",
      "metadata": {
        "id": "c77e7f0f-d2b9-4464-8a7c-9575d1e1ef9f"
      },
      "source": [
        "## Considerations"
      ]
    },
    {
      "cell_type": "markdown",
      "id": "bgpSxNeqL_gK",
      "metadata": {
        "id": "bgpSxNeqL_gK"
      },
      "source": [
        "**What are some key takeaways I learned from this lab?**"
      ]
    },
    {
      "cell_type": "markdown",
      "id": "nh_Uk361MCUM",
      "metadata": {
        "id": "nh_Uk361MCUM"
      },
      "source": [
        "- The pandas library offers powerful data manipulation tools to refine and structure datasets.\n",
        "- By converting date strings to datetime objects, I can dissect the data into more detailed components such as month or year.\n",
        "- Tailoring the dataset's structure helps in identifying trends and focusing on specific data segments of interest.\n",
        "- Using matplotlib.pyplot and seaborn enables the creation of insightful visualizations post data structuring."
      ]
    },
    {
      "cell_type": "markdown",
      "id": "7KjAJnO4MDTS",
      "metadata": {
        "id": "7KjAJnO4MDTS"
      },
      "source": [
        "**What findings would I share with others?**"
      ]
    },
    {
      "cell_type": "markdown",
      "id": "q4bQAfHzMECg",
      "metadata": {
        "id": "q4bQAfHzMECg"
      },
      "source": [
        "- The dataset encompasses 1074 unicorn companies.\n",
        "- The year 2015 saw the highest emergence of unicorn companies.\n",
        "- A notable number of unicorns founded in 2021 are from the USA, particularly in Fintech, E-commerce, and Internet services sectors.\n",
        "- September and October typically see unicorns achieving their status more quickly, as indicated by a box plot's median values.\n",
        "- Bar plot analysis indicates that unicorns that entered in 2020 had the highest average valuations in Q3, while those in 2021 peaked in Q1."
      ]
    },
    {
      "cell_type": "markdown",
      "id": "r5pMz4ZHMEgL",
      "metadata": {
        "id": "r5pMz4ZHMEgL"
      },
      "source": [
        "**What recommendations would I share with stakeholders based on these findings?**"
      ]
    },
    {
      "cell_type": "markdown",
      "id": "2XrpKf0XMGWD",
      "metadata": {
        "id": "2XrpKf0XMGWD"
      },
      "source": [
        "- Data suggests that companies becoming unicorns in September and October do so more rapidly and could be prime investment targets.\n",
        "- Considering the 2021-founded unicorns, those in the Fintech, E-commerce, and Internet service sectors, mainly from the USA, could be potential investment hotspots.\n",
        "- The timing of investments might be optimized by focusing on companies joining in the first and third quarters, based on recent valuation peaks."
      ]
    },
    {
      "cell_type": "markdown",
      "id": "R9sAADZgr-YI",
      "metadata": {
        "id": "R9sAADZgr-YI"
      },
      "source": [
        "**References**\n",
        "\n",
        "Bhat, M.A. (2022, March).[*Unicorn Companies*](https://www.kaggle.com/datasets/mysarahmadbhat/unicorn-companies).\n",
        "\n"
      ]
    }
  ],
  "metadata": {
    "colab": {
      "include_colab_link": true,
      "provenance": [],
      "toc_visible": true
    },
    "kernelspec": {
      "display_name": "Python 3",
      "language": "python",
      "name": "python3"
    },
    "language_info": {
      "codemirror_mode": {
        "name": "ipython",
        "version": 3
      },
      "file_extension": ".py",
      "mimetype": "text/x-python",
      "name": "python",
      "nbconvert_exporter": "python",
      "pygments_lexer": "ipython3",
      "version": "3.11.4"
    },
    "toc-autonumbering": false,
    "toc-showtags": false
  },
  "nbformat": 4,
  "nbformat_minor": 5
}
