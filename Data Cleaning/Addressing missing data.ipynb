{
  "cells": [
    {
      "cell_type": "markdown",
      "id": "1WD1hC5MTRMS",
      "metadata": {
        "id": "1WD1hC5MTRMS"
      },
      "source": [
        "# Activity: Address missing data"
      ]
    },
    {
      "cell_type": "markdown",
      "id": "ee31943b-274e-4c28-bce6-155cb6f4c334",
      "metadata": {
        "id": "ee31943b-274e-4c28-bce6-155cb6f4c334"
      },
      "source": [
        "## Introduction\n",
        "\n",
        "The datasets that data professionals use to solve problems typically contain missing values, which must be dealt with in order to achieve clean, useful data. This is particularly crucial in exploratory data analysis (EDA). In this activity, I will learn and showcase how to address missing data.\n",
        "\n",
        "I am a financial data consultant, and an investor has tasked my team with identifying new business opportunities. To help them decide which future companies to invest in, I will provide a list of current businesses valued at more than $1 billion. These are sometimes referred to as \"unicorns.\" My client will use this information to learn about profitable businesses in general.\n",
        "\n",
        "The investor has requested to provide them with the following data:\n",
        "- Companies in the `hardware` industry based in either `Beijing`, `San Francisco`, or `London`\n",
        "- Companies in the `artificial intelligence` industry based in `London`\n",
        "-  A list of the top 20 countries sorted by sum of company valuations in each country, excluding `United States`, `China`, `India`, and `United Kingdom`\n",
        "- A global valuation map of all countries with companies that joined the list after 2020\n",
        "- A global valuation map of all countries except `United States`, `China`, `India`, and `United Kingdom` (a separate map for Europe is also required)\n",
        "\n",
        "The dataset includes a list of businesses and data points, such as the year they were founded; their industry; and their city, country, and continent."
      ]
    },
    {
      "cell_type": "markdown",
      "id": "4bb9630e-b940-4835-a389-d39def1fa848",
      "metadata": {
        "id": "4bb9630e-b940-4835-a389-d39def1fa848"
      },
      "source": [
        "## **Step 1: Imports**"
      ]
    },
    {
      "cell_type": "markdown",
      "id": "aefe3c18",
      "metadata": {
        "id": "aefe3c18"
      },
      "source": [
        "### Import libraries"
      ]
    },
    {
      "cell_type": "markdown",
      "id": "bc180686-4ae2-47ea-a292-3588ac60a820",
      "metadata": {
        "id": "bc180686-4ae2-47ea-a292-3588ac60a820"
      },
      "source": [
        "Import the following relevant Python libraries that will be used for this project:\n",
        "* `numpy`\n",
        "* `pandas`\n",
        "* `matplotlib.pyplot`\n",
        "* `plotly.express`\n",
        "* `seaborn`\n",
        "\n"
      ]
    },
    {
      "cell_type": "code",
      "execution_count": 1,
      "id": "8e7f1f2c-bbcc-4f3c-b927-b090ee8334c4",
      "metadata": {
        "id": "8e7f1f2c-bbcc-4f3c-b927-b090ee8334c4"
      },
      "outputs": [],
      "source": [
        "# Import libraries and modules.\n",
        "import pandas as pd\n",
        "from matplotlib import pyplot as plt\n",
        "import plotly.express as px\n",
        "import seaborn as sns"
      ]
    },
    {
      "cell_type": "markdown",
      "id": "1ecba4b6",
      "metadata": {
        "id": "1ecba4b6"
      },
      "source": [
        "### Load the dataset\n"
      ]
    },
    {
      "cell_type": "code",
      "execution_count": 2,
      "id": "3bd40d44-080f-4e49-b0c2-160dedc3c4df",
      "metadata": {
        "id": "3bd40d44-080f-4e49-b0c2-160dedc3c4df"
      },
      "outputs": [],
      "source": [
        "# RUN THIS CELL TO IMPORT THE DATA.\n",
        "\n",
        "df_companies = pd.read_csv(\"Data/Unicorn_Companies.csv\")"
      ]
    },
    {
      "cell_type": "markdown",
      "id": "95bf39c9-d05c-4324-a40b-bc692607b61b",
      "metadata": {
        "id": "95bf39c9-d05c-4324-a40b-bc692607b61b"
      },
      "source": [
        "## **Step 2: Data exploration**"
      ]
    },
    {
      "cell_type": "markdown",
      "id": "fe813508",
      "metadata": {
        "id": "fe813508"
      },
      "source": [
        "### Display top rows"
      ]
    },
    {
      "cell_type": "markdown",
      "id": "26561614-8e9b-4840-8dbf-b50131ae5314",
      "metadata": {
        "id": "26561614-8e9b-4840-8dbf-b50131ae5314",
        "tags": []
      },
      "source": [
        "Display the first 10 rows of the data to understand how the dataset is structured."
      ]
    },
    {
      "cell_type": "code",
      "execution_count": 3,
      "id": "ad5210a5-7a64-4991-b004-de818cfaf506",
      "metadata": {
        "id": "ad5210a5-7a64-4991-b004-de818cfaf506",
        "outputId": "681695fd-dd2e-4036-9b4e-9d8ad875b901"
      },
      "outputs": [
        {
          "data": {
            "text/html": [
              "<div>\n",
              "<style scoped>\n",
              "    .dataframe tbody tr th:only-of-type {\n",
              "        vertical-align: middle;\n",
              "    }\n",
              "\n",
              "    .dataframe tbody tr th {\n",
              "        vertical-align: top;\n",
              "    }\n",
              "\n",
              "    .dataframe thead th {\n",
              "        text-align: right;\n",
              "    }\n",
              "</style>\n",
              "<table border=\"1\" class=\"dataframe\">\n",
              "  <thead>\n",
              "    <tr style=\"text-align: right;\">\n",
              "      <th></th>\n",
              "      <th>Company</th>\n",
              "      <th>Valuation</th>\n",
              "      <th>Date Joined</th>\n",
              "      <th>Industry</th>\n",
              "      <th>City</th>\n",
              "      <th>Country</th>\n",
              "      <th>Continent</th>\n",
              "      <th>Year Founded</th>\n",
              "      <th>Funding</th>\n",
              "      <th>Select Investors</th>\n",
              "    </tr>\n",
              "  </thead>\n",
              "  <tbody>\n",
              "    <tr>\n",
              "      <th>0</th>\n",
              "      <td>Bytedance</td>\n",
              "      <td>$180B</td>\n",
              "      <td>2017-04-07</td>\n",
              "      <td>Artificial intelligence</td>\n",
              "      <td>Beijing</td>\n",
              "      <td>China</td>\n",
              "      <td>Asia</td>\n",
              "      <td>2012</td>\n",
              "      <td>$8B</td>\n",
              "      <td>Sequoia Capital China, SIG Asia Investments, S...</td>\n",
              "    </tr>\n",
              "    <tr>\n",
              "      <th>1</th>\n",
              "      <td>SpaceX</td>\n",
              "      <td>$100B</td>\n",
              "      <td>2012-12-01</td>\n",
              "      <td>Other</td>\n",
              "      <td>Hawthorne</td>\n",
              "      <td>United States</td>\n",
              "      <td>North America</td>\n",
              "      <td>2002</td>\n",
              "      <td>$7B</td>\n",
              "      <td>Founders Fund, Draper Fisher Jurvetson, Rothen...</td>\n",
              "    </tr>\n",
              "    <tr>\n",
              "      <th>2</th>\n",
              "      <td>SHEIN</td>\n",
              "      <td>$100B</td>\n",
              "      <td>2018-07-03</td>\n",
              "      <td>E-commerce &amp; direct-to-consumer</td>\n",
              "      <td>Shenzhen</td>\n",
              "      <td>China</td>\n",
              "      <td>Asia</td>\n",
              "      <td>2008</td>\n",
              "      <td>$2B</td>\n",
              "      <td>Tiger Global Management, Sequoia Capital China...</td>\n",
              "    </tr>\n",
              "    <tr>\n",
              "      <th>3</th>\n",
              "      <td>Stripe</td>\n",
              "      <td>$95B</td>\n",
              "      <td>2014-01-23</td>\n",
              "      <td>Fintech</td>\n",
              "      <td>San Francisco</td>\n",
              "      <td>United States</td>\n",
              "      <td>North America</td>\n",
              "      <td>2010</td>\n",
              "      <td>$2B</td>\n",
              "      <td>Khosla Ventures, LowercaseCapital, capitalG</td>\n",
              "    </tr>\n",
              "    <tr>\n",
              "      <th>4</th>\n",
              "      <td>Klarna</td>\n",
              "      <td>$46B</td>\n",
              "      <td>2011-12-12</td>\n",
              "      <td>Fintech</td>\n",
              "      <td>Stockholm</td>\n",
              "      <td>Sweden</td>\n",
              "      <td>Europe</td>\n",
              "      <td>2005</td>\n",
              "      <td>$4B</td>\n",
              "      <td>Institutional Venture Partners, Sequoia Capita...</td>\n",
              "    </tr>\n",
              "  </tbody>\n",
              "</table>\n",
              "</div>"
            ],
            "text/plain": [
              "     Company Valuation Date Joined                         Industry  \\\n",
              "0  Bytedance     $180B  2017-04-07          Artificial intelligence   \n",
              "1     SpaceX     $100B  2012-12-01                            Other   \n",
              "2      SHEIN     $100B  2018-07-03  E-commerce & direct-to-consumer   \n",
              "3     Stripe      $95B  2014-01-23                          Fintech   \n",
              "4     Klarna      $46B  2011-12-12                          Fintech   \n",
              "\n",
              "            City        Country      Continent  Year Founded Funding  \\\n",
              "0        Beijing          China           Asia          2012     $8B   \n",
              "1      Hawthorne  United States  North America          2002     $7B   \n",
              "2       Shenzhen          China           Asia          2008     $2B   \n",
              "3  San Francisco  United States  North America          2010     $2B   \n",
              "4      Stockholm         Sweden         Europe          2005     $4B   \n",
              "\n",
              "                                    Select Investors  \n",
              "0  Sequoia Capital China, SIG Asia Investments, S...  \n",
              "1  Founders Fund, Draper Fisher Jurvetson, Rothen...  \n",
              "2  Tiger Global Management, Sequoia Capital China...  \n",
              "3        Khosla Ventures, LowercaseCapital, capitalG  \n",
              "4  Institutional Venture Partners, Sequoia Capita...  "
            ]
          },
          "execution_count": 3,
          "metadata": {},
          "output_type": "execute_result"
        }
      ],
      "source": [
        "# Display the first 10 rows of the data.\n",
        "\n",
        "df_companies.head()"
      ]
    },
    {
      "cell_type": "markdown",
      "id": "55766062",
      "metadata": {
        "id": "55766062"
      },
      "source": [
        "### Statistical properties of the dataset"
      ]
    },
    {
      "cell_type": "markdown",
      "id": "6d423621-c14b-4987-a76d-feee76046144",
      "metadata": {
        "id": "6d423621-c14b-4987-a76d-feee76046144"
      },
      "source": [
        "Use methods and attributes of the dataframe to get information and descriptive statistics for the data, including its range, data types, mean values, and shape.\n"
      ]
    },
    {
      "cell_type": "code",
      "execution_count": 4,
      "id": "66809360",
      "metadata": {
        "id": "66809360",
        "outputId": "1b005f84-6bed-444c-869f-7d62e0aff817"
      },
      "outputs": [
        {
          "data": {
            "text/plain": [
              "(1074, 10)"
            ]
          },
          "execution_count": 4,
          "metadata": {},
          "output_type": "execute_result"
        }
      ],
      "source": [
        "# Get the shape of the dataset.\n",
        "\n",
        "df_companies.shape"
      ]
    },
    {
      "cell_type": "markdown",
      "id": "FS9XVrkhSkl1",
      "metadata": {
        "id": "FS9XVrkhSkl1"
      },
      "source": [
        "- There are 1074 rows of data, and 10 columns"
      ]
    },
    {
      "cell_type": "code",
      "execution_count": 5,
      "id": "9d85fc26",
      "metadata": {
        "id": "9d85fc26",
        "outputId": "53136651-776c-433d-f1c2-575eb5288539"
      },
      "outputs": [
        {
          "name": "stdout",
          "output_type": "stream",
          "text": [
            "<class 'pandas.core.frame.DataFrame'>\n",
            "RangeIndex: 1074 entries, 0 to 1073\n",
            "Data columns (total 10 columns):\n",
            " #   Column            Non-Null Count  Dtype \n",
            "---  ------            --------------  ----- \n",
            " 0   Company           1074 non-null   object\n",
            " 1   Valuation         1074 non-null   object\n",
            " 2   Date Joined       1074 non-null   object\n",
            " 3   Industry          1074 non-null   object\n",
            " 4   City              1058 non-null   object\n",
            " 5   Country           1074 non-null   object\n",
            " 6   Continent         1074 non-null   object\n",
            " 7   Year Founded      1074 non-null   int64 \n",
            " 8   Funding           1074 non-null   object\n",
            " 9   Select Investors  1073 non-null   object\n",
            "dtypes: int64(1), object(9)\n",
            "memory usage: 84.0+ KB\n"
          ]
        }
      ],
      "source": [
        "# Get the data types and number of non-null values in the dataset.\n",
        "\n",
        "df_companies.info()"
      ]
    },
    {
      "cell_type": "markdown",
      "id": "m2CDG1n_IXt9",
      "metadata": {
        "id": "m2CDG1n_IXt9"
      },
      "source": [
        "**Question: What are the data types of various columns?**\n"
      ]
    },
    {
      "cell_type": "markdown",
      "id": "su74q1ZjSoO7",
      "metadata": {
        "id": "su74q1ZjSoO7"
      },
      "source": [
        "- All are object data types except for `Year Founded`"
      ]
    },
    {
      "cell_type": "markdown",
      "id": "jlp9whhwIXt9",
      "metadata": {
        "id": "jlp9whhwIXt9"
      },
      "source": [
        "**Question: How many columns contain null values?**"
      ]
    },
    {
      "cell_type": "markdown",
      "id": "QHKFOOKwSqil",
      "metadata": {
        "id": "QHKFOOKwSqil"
      },
      "source": [
        "- Two columns contain null values which are the city column and select investors column"
      ]
    },
    {
      "cell_type": "code",
      "execution_count": 6,
      "id": "sfR-1rlkIXt-",
      "metadata": {
        "id": "sfR-1rlkIXt-",
        "outputId": "3f179b95-4503-48b4-f54f-a1883229e87f"
      },
      "outputs": [
        {
          "data": {
            "text/html": [
              "<div>\n",
              "<style scoped>\n",
              "    .dataframe tbody tr th:only-of-type {\n",
              "        vertical-align: middle;\n",
              "    }\n",
              "\n",
              "    .dataframe tbody tr th {\n",
              "        vertical-align: top;\n",
              "    }\n",
              "\n",
              "    .dataframe thead th {\n",
              "        text-align: right;\n",
              "    }\n",
              "</style>\n",
              "<table border=\"1\" class=\"dataframe\">\n",
              "  <thead>\n",
              "    <tr style=\"text-align: right;\">\n",
              "      <th></th>\n",
              "      <th>Year Founded</th>\n",
              "    </tr>\n",
              "  </thead>\n",
              "  <tbody>\n",
              "    <tr>\n",
              "      <th>count</th>\n",
              "      <td>1074.000000</td>\n",
              "    </tr>\n",
              "    <tr>\n",
              "      <th>mean</th>\n",
              "      <td>2012.895717</td>\n",
              "    </tr>\n",
              "    <tr>\n",
              "      <th>std</th>\n",
              "      <td>5.698573</td>\n",
              "    </tr>\n",
              "    <tr>\n",
              "      <th>min</th>\n",
              "      <td>1919.000000</td>\n",
              "    </tr>\n",
              "    <tr>\n",
              "      <th>25%</th>\n",
              "      <td>2011.000000</td>\n",
              "    </tr>\n",
              "    <tr>\n",
              "      <th>50%</th>\n",
              "      <td>2014.000000</td>\n",
              "    </tr>\n",
              "    <tr>\n",
              "      <th>75%</th>\n",
              "      <td>2016.000000</td>\n",
              "    </tr>\n",
              "    <tr>\n",
              "      <th>max</th>\n",
              "      <td>2021.000000</td>\n",
              "    </tr>\n",
              "  </tbody>\n",
              "</table>\n",
              "</div>"
            ],
            "text/plain": [
              "       Year Founded\n",
              "count   1074.000000\n",
              "mean    2012.895717\n",
              "std        5.698573\n",
              "min     1919.000000\n",
              "25%     2011.000000\n",
              "50%     2014.000000\n",
              "75%     2016.000000\n",
              "max     2021.000000"
            ]
          },
          "execution_count": 6,
          "metadata": {},
          "output_type": "execute_result"
        }
      ],
      "source": [
        "# Get descriptive statistics such as mean, standard deviation, and range of the numerical columns in the dataset.\n",
        "\n",
        "df_companies.describe()"
      ]
    },
    {
      "cell_type": "markdown",
      "id": "23f7e167",
      "metadata": {
        "id": "23f7e167"
      },
      "source": [
        "**Question: In what year was the oldest company founded?**"
      ]
    },
    {
      "cell_type": "markdown",
      "id": "wBrQSH8VSt0T",
      "metadata": {
        "id": "wBrQSH8VSt0T"
      },
      "source": [
        "- The oldest company was founded in the year 1919"
      ]
    },
    {
      "cell_type": "markdown",
      "id": "a885babf",
      "metadata": {
        "id": "a885babf"
      },
      "source": [
        "### Data Preprocessing"
      ]
    },
    {
      "cell_type": "markdown",
      "id": "f46cb991",
      "metadata": {
        "id": "f46cb991"
      },
      "source": [
        "In order to answer the investor's questions, some data preprocessing steps are required. The first step is to add a new column to the dataframe containing just the year each company became a unicorn company. This new column will be called `Year Joined`."
      ]
    },
    {
      "cell_type": "code",
      "execution_count": 7,
      "id": "15bfeecc",
      "metadata": {
        "id": "15bfeecc",
        "outputId": "d9504e48-c625-4448-bda2-6887ccf819ac"
      },
      "outputs": [
        {
          "data": {
            "text/html": [
              "<div>\n",
              "<style scoped>\n",
              "    .dataframe tbody tr th:only-of-type {\n",
              "        vertical-align: middle;\n",
              "    }\n",
              "\n",
              "    .dataframe tbody tr th {\n",
              "        vertical-align: top;\n",
              "    }\n",
              "\n",
              "    .dataframe thead th {\n",
              "        text-align: right;\n",
              "    }\n",
              "</style>\n",
              "<table border=\"1\" class=\"dataframe\">\n",
              "  <thead>\n",
              "    <tr style=\"text-align: right;\">\n",
              "      <th></th>\n",
              "      <th>Company</th>\n",
              "      <th>Valuation</th>\n",
              "      <th>Date Joined</th>\n",
              "      <th>Industry</th>\n",
              "      <th>City</th>\n",
              "      <th>Country</th>\n",
              "      <th>Continent</th>\n",
              "      <th>Year Founded</th>\n",
              "      <th>Funding</th>\n",
              "      <th>Select Investors</th>\n",
              "      <th>Year Joined</th>\n",
              "    </tr>\n",
              "  </thead>\n",
              "  <tbody>\n",
              "    <tr>\n",
              "      <th>0</th>\n",
              "      <td>Bytedance</td>\n",
              "      <td>$180B</td>\n",
              "      <td>2017-04-07</td>\n",
              "      <td>Artificial intelligence</td>\n",
              "      <td>Beijing</td>\n",
              "      <td>China</td>\n",
              "      <td>Asia</td>\n",
              "      <td>2012</td>\n",
              "      <td>$8B</td>\n",
              "      <td>Sequoia Capital China, SIG Asia Investments, S...</td>\n",
              "      <td>2017</td>\n",
              "    </tr>\n",
              "    <tr>\n",
              "      <th>1</th>\n",
              "      <td>SpaceX</td>\n",
              "      <td>$100B</td>\n",
              "      <td>2012-12-01</td>\n",
              "      <td>Other</td>\n",
              "      <td>Hawthorne</td>\n",
              "      <td>United States</td>\n",
              "      <td>North America</td>\n",
              "      <td>2002</td>\n",
              "      <td>$7B</td>\n",
              "      <td>Founders Fund, Draper Fisher Jurvetson, Rothen...</td>\n",
              "      <td>2012</td>\n",
              "    </tr>\n",
              "    <tr>\n",
              "      <th>2</th>\n",
              "      <td>SHEIN</td>\n",
              "      <td>$100B</td>\n",
              "      <td>2018-07-03</td>\n",
              "      <td>E-commerce &amp; direct-to-consumer</td>\n",
              "      <td>Shenzhen</td>\n",
              "      <td>China</td>\n",
              "      <td>Asia</td>\n",
              "      <td>2008</td>\n",
              "      <td>$2B</td>\n",
              "      <td>Tiger Global Management, Sequoia Capital China...</td>\n",
              "      <td>2018</td>\n",
              "    </tr>\n",
              "    <tr>\n",
              "      <th>3</th>\n",
              "      <td>Stripe</td>\n",
              "      <td>$95B</td>\n",
              "      <td>2014-01-23</td>\n",
              "      <td>Fintech</td>\n",
              "      <td>San Francisco</td>\n",
              "      <td>United States</td>\n",
              "      <td>North America</td>\n",
              "      <td>2010</td>\n",
              "      <td>$2B</td>\n",
              "      <td>Khosla Ventures, LowercaseCapital, capitalG</td>\n",
              "      <td>2014</td>\n",
              "    </tr>\n",
              "    <tr>\n",
              "      <th>4</th>\n",
              "      <td>Klarna</td>\n",
              "      <td>$46B</td>\n",
              "      <td>2011-12-12</td>\n",
              "      <td>Fintech</td>\n",
              "      <td>Stockholm</td>\n",
              "      <td>Sweden</td>\n",
              "      <td>Europe</td>\n",
              "      <td>2005</td>\n",
              "      <td>$4B</td>\n",
              "      <td>Institutional Venture Partners, Sequoia Capita...</td>\n",
              "      <td>2011</td>\n",
              "    </tr>\n",
              "    <tr>\n",
              "      <th>...</th>\n",
              "      <td>...</td>\n",
              "      <td>...</td>\n",
              "      <td>...</td>\n",
              "      <td>...</td>\n",
              "      <td>...</td>\n",
              "      <td>...</td>\n",
              "      <td>...</td>\n",
              "      <td>...</td>\n",
              "      <td>...</td>\n",
              "      <td>...</td>\n",
              "      <td>...</td>\n",
              "    </tr>\n",
              "    <tr>\n",
              "      <th>1069</th>\n",
              "      <td>Zhaogang</td>\n",
              "      <td>$1B</td>\n",
              "      <td>2017-06-29</td>\n",
              "      <td>E-commerce &amp; direct-to-consumer</td>\n",
              "      <td>Shanghai</td>\n",
              "      <td>China</td>\n",
              "      <td>Asia</td>\n",
              "      <td>2012</td>\n",
              "      <td>$379M</td>\n",
              "      <td>K2 Ventures, Matrix Partners China, IDG Capital</td>\n",
              "      <td>2017</td>\n",
              "    </tr>\n",
              "    <tr>\n",
              "      <th>1070</th>\n",
              "      <td>Zhuan Zhuan</td>\n",
              "      <td>$1B</td>\n",
              "      <td>2017-04-18</td>\n",
              "      <td>E-commerce &amp; direct-to-consumer</td>\n",
              "      <td>Beijing</td>\n",
              "      <td>China</td>\n",
              "      <td>Asia</td>\n",
              "      <td>2015</td>\n",
              "      <td>$990M</td>\n",
              "      <td>58.com, Tencent Holdings</td>\n",
              "      <td>2017</td>\n",
              "    </tr>\n",
              "    <tr>\n",
              "      <th>1071</th>\n",
              "      <td>Zihaiguo</td>\n",
              "      <td>$1B</td>\n",
              "      <td>2021-05-06</td>\n",
              "      <td>Consumer &amp; retail</td>\n",
              "      <td>Chongqing</td>\n",
              "      <td>China</td>\n",
              "      <td>Asia</td>\n",
              "      <td>2018</td>\n",
              "      <td>$80M</td>\n",
              "      <td>Xingwang Investment Management, China Capital ...</td>\n",
              "      <td>2021</td>\n",
              "    </tr>\n",
              "    <tr>\n",
              "      <th>1072</th>\n",
              "      <td>Zopa</td>\n",
              "      <td>$1B</td>\n",
              "      <td>2021-10-19</td>\n",
              "      <td>Fintech</td>\n",
              "      <td>London</td>\n",
              "      <td>United Kingdom</td>\n",
              "      <td>Europe</td>\n",
              "      <td>2005</td>\n",
              "      <td>$792M</td>\n",
              "      <td>IAG Capital Partners, Augmentum Fintech, North...</td>\n",
              "      <td>2021</td>\n",
              "    </tr>\n",
              "    <tr>\n",
              "      <th>1073</th>\n",
              "      <td>Zwift</td>\n",
              "      <td>$1B</td>\n",
              "      <td>2020-09-16</td>\n",
              "      <td>E-commerce &amp; direct-to-consumer</td>\n",
              "      <td>Long Beach</td>\n",
              "      <td>United States</td>\n",
              "      <td>North America</td>\n",
              "      <td>2014</td>\n",
              "      <td>$620M</td>\n",
              "      <td>Novator Partners, True, Causeway Media Partners</td>\n",
              "      <td>2020</td>\n",
              "    </tr>\n",
              "  </tbody>\n",
              "</table>\n",
              "<p>1074 rows × 11 columns</p>\n",
              "</div>"
            ],
            "text/plain": [
              "          Company Valuation Date Joined                         Industry  \\\n",
              "0       Bytedance     $180B  2017-04-07          Artificial intelligence   \n",
              "1          SpaceX     $100B  2012-12-01                            Other   \n",
              "2           SHEIN     $100B  2018-07-03  E-commerce & direct-to-consumer   \n",
              "3          Stripe      $95B  2014-01-23                          Fintech   \n",
              "4          Klarna      $46B  2011-12-12                          Fintech   \n",
              "...           ...       ...         ...                              ...   \n",
              "1069     Zhaogang       $1B  2017-06-29  E-commerce & direct-to-consumer   \n",
              "1070  Zhuan Zhuan       $1B  2017-04-18  E-commerce & direct-to-consumer   \n",
              "1071     Zihaiguo       $1B  2021-05-06                Consumer & retail   \n",
              "1072         Zopa       $1B  2021-10-19                          Fintech   \n",
              "1073        Zwift       $1B  2020-09-16  E-commerce & direct-to-consumer   \n",
              "\n",
              "               City         Country      Continent  Year Founded Funding  \\\n",
              "0           Beijing           China           Asia          2012     $8B   \n",
              "1         Hawthorne   United States  North America          2002     $7B   \n",
              "2          Shenzhen           China           Asia          2008     $2B   \n",
              "3     San Francisco   United States  North America          2010     $2B   \n",
              "4         Stockholm          Sweden         Europe          2005     $4B   \n",
              "...             ...             ...            ...           ...     ...   \n",
              "1069       Shanghai           China           Asia          2012   $379M   \n",
              "1070        Beijing           China           Asia          2015   $990M   \n",
              "1071      Chongqing           China           Asia          2018    $80M   \n",
              "1072         London  United Kingdom         Europe          2005   $792M   \n",
              "1073     Long Beach   United States  North America          2014   $620M   \n",
              "\n",
              "                                       Select Investors  Year Joined  \n",
              "0     Sequoia Capital China, SIG Asia Investments, S...         2017  \n",
              "1     Founders Fund, Draper Fisher Jurvetson, Rothen...         2012  \n",
              "2     Tiger Global Management, Sequoia Capital China...         2018  \n",
              "3           Khosla Ventures, LowercaseCapital, capitalG         2014  \n",
              "4     Institutional Venture Partners, Sequoia Capita...         2011  \n",
              "...                                                 ...          ...  \n",
              "1069    K2 Ventures, Matrix Partners China, IDG Capital         2017  \n",
              "1070                           58.com, Tencent Holdings         2017  \n",
              "1071  Xingwang Investment Management, China Capital ...         2021  \n",
              "1072  IAG Capital Partners, Augmentum Fintech, North...         2021  \n",
              "1073    Novator Partners, True, Causeway Media Partners         2020  \n",
              "\n",
              "[1074 rows x 11 columns]"
            ]
          },
          "execution_count": 7,
          "metadata": {},
          "output_type": "execute_result"
        }
      ],
      "source": [
        "# Create a new column \"Year Joined\" from \"Date Joined\".\n",
        "df_companies['Year Joined'] = pd.to_datetime(df_companies['Date Joined']).dt.year\n",
        "\n",
        "df_companies"
      ]
    },
    {
      "cell_type": "markdown",
      "id": "5949c474",
      "metadata": {
        "id": "5949c474"
      },
      "source": [
        "For each country, calculate the sum of all valuations of companies from that country. However, in order to do this, the data will need to be prepared. Currently, the data in the `Valuation` column is a string that starts with a `$` and ends with a `B`. Because this column is not in a numeric datatype, pandas cannot perform mathematical operations on its values. The data in this column needs to be converted to a numeric datatype.\n",
        "\n",
        "In this step, define a function called `str_to_num()` that accepts as an argument:\n",
        "\n",
        "* `x`: a string in the format of the values contained in the `Valuation` column\n",
        "\n",
        "And returns:\n",
        "\n",
        "* `x`: an `int` of the number represented by the input string\n",
        "\n",
        "To do this, I'll use the string [`strip()`](https://docs.python.org/3/library/stdtypes.html#str.strip) method for strings. Its argument is a string that contains all the characters needed to be removed from the beginning and end of a given string&mdash;in any order."
      ]
    },
    {
      "cell_type": "code",
      "execution_count": 8,
      "id": "1856c3c8-dd7e-4b0f-8e30-06e8ed6b9885",
      "metadata": {
        "id": "1856c3c8-dd7e-4b0f-8e30-06e8ed6b9885",
        "outputId": "98bb8333-8832-4924-92b2-6200e476675a"
      },
      "outputs": [
        {
          "data": {
            "text/plain": [
              "5"
            ]
          },
          "execution_count": 8,
          "metadata": {},
          "output_type": "execute_result"
        }
      ],
      "source": [
        "# Define the `str_to_num()` function\n",
        "\n",
        "def str_to_num (x):\n",
        "    x = x.strip('$B')\n",
        "    x = int(x)\n",
        "\n",
        "    return x\n",
        "\n",
        "str_to_num('$5B')"
      ]
    },
    {
      "cell_type": "markdown",
      "id": "Lllx9-9RXw0U",
      "metadata": {
        "id": "Lllx9-9RXw0U"
      },
      "source": [
        "Now, the function will be used to create a new column called `valuation_num` that represents the `Valuation` column as an integer value. To do this, I'll use the series method [`apply()`](https://pandas.pydata.org/docs/reference/api/pandas.Series.apply.html) to apply the `str_to_num()` function to the `Valuation` column.\n",
        "\n",
        "`apply()` is a method that can be used on a `DataFrame` or `Series` object. The method accepts a function as an argument and applies that function to each value in the series."
      ]
    },
    {
      "cell_type": "code",
      "execution_count": 9,
      "id": "yW0B13FdXw0U",
      "metadata": {
        "id": "yW0B13FdXw0U",
        "outputId": "f6f0aa4c-fdbf-43f3-ba29-00723d652fe0"
      },
      "outputs": [
        {
          "data": {
            "text/html": [
              "<div>\n",
              "<style scoped>\n",
              "    .dataframe tbody tr th:only-of-type {\n",
              "        vertical-align: middle;\n",
              "    }\n",
              "\n",
              "    .dataframe tbody tr th {\n",
              "        vertical-align: top;\n",
              "    }\n",
              "\n",
              "    .dataframe thead th {\n",
              "        text-align: right;\n",
              "    }\n",
              "</style>\n",
              "<table border=\"1\" class=\"dataframe\">\n",
              "  <thead>\n",
              "    <tr style=\"text-align: right;\">\n",
              "      <th></th>\n",
              "      <th>Company</th>\n",
              "      <th>Valuation</th>\n",
              "      <th>Date Joined</th>\n",
              "      <th>Industry</th>\n",
              "      <th>City</th>\n",
              "      <th>Country</th>\n",
              "      <th>Continent</th>\n",
              "      <th>Year Founded</th>\n",
              "      <th>Funding</th>\n",
              "      <th>Select Investors</th>\n",
              "      <th>Year Joined</th>\n",
              "      <th>Valuation_num</th>\n",
              "    </tr>\n",
              "  </thead>\n",
              "  <tbody>\n",
              "    <tr>\n",
              "      <th>0</th>\n",
              "      <td>Bytedance</td>\n",
              "      <td>$180B</td>\n",
              "      <td>2017-04-07</td>\n",
              "      <td>Artificial intelligence</td>\n",
              "      <td>Beijing</td>\n",
              "      <td>China</td>\n",
              "      <td>Asia</td>\n",
              "      <td>2012</td>\n",
              "      <td>$8B</td>\n",
              "      <td>Sequoia Capital China, SIG Asia Investments, S...</td>\n",
              "      <td>2017</td>\n",
              "      <td>180</td>\n",
              "    </tr>\n",
              "    <tr>\n",
              "      <th>1</th>\n",
              "      <td>SpaceX</td>\n",
              "      <td>$100B</td>\n",
              "      <td>2012-12-01</td>\n",
              "      <td>Other</td>\n",
              "      <td>Hawthorne</td>\n",
              "      <td>United States</td>\n",
              "      <td>North America</td>\n",
              "      <td>2002</td>\n",
              "      <td>$7B</td>\n",
              "      <td>Founders Fund, Draper Fisher Jurvetson, Rothen...</td>\n",
              "      <td>2012</td>\n",
              "      <td>100</td>\n",
              "    </tr>\n",
              "    <tr>\n",
              "      <th>2</th>\n",
              "      <td>SHEIN</td>\n",
              "      <td>$100B</td>\n",
              "      <td>2018-07-03</td>\n",
              "      <td>E-commerce &amp; direct-to-consumer</td>\n",
              "      <td>Shenzhen</td>\n",
              "      <td>China</td>\n",
              "      <td>Asia</td>\n",
              "      <td>2008</td>\n",
              "      <td>$2B</td>\n",
              "      <td>Tiger Global Management, Sequoia Capital China...</td>\n",
              "      <td>2018</td>\n",
              "      <td>100</td>\n",
              "    </tr>\n",
              "    <tr>\n",
              "      <th>3</th>\n",
              "      <td>Stripe</td>\n",
              "      <td>$95B</td>\n",
              "      <td>2014-01-23</td>\n",
              "      <td>Fintech</td>\n",
              "      <td>San Francisco</td>\n",
              "      <td>United States</td>\n",
              "      <td>North America</td>\n",
              "      <td>2010</td>\n",
              "      <td>$2B</td>\n",
              "      <td>Khosla Ventures, LowercaseCapital, capitalG</td>\n",
              "      <td>2014</td>\n",
              "      <td>95</td>\n",
              "    </tr>\n",
              "    <tr>\n",
              "      <th>4</th>\n",
              "      <td>Klarna</td>\n",
              "      <td>$46B</td>\n",
              "      <td>2011-12-12</td>\n",
              "      <td>Fintech</td>\n",
              "      <td>Stockholm</td>\n",
              "      <td>Sweden</td>\n",
              "      <td>Europe</td>\n",
              "      <td>2005</td>\n",
              "      <td>$4B</td>\n",
              "      <td>Institutional Venture Partners, Sequoia Capita...</td>\n",
              "      <td>2011</td>\n",
              "      <td>46</td>\n",
              "    </tr>\n",
              "    <tr>\n",
              "      <th>...</th>\n",
              "      <td>...</td>\n",
              "      <td>...</td>\n",
              "      <td>...</td>\n",
              "      <td>...</td>\n",
              "      <td>...</td>\n",
              "      <td>...</td>\n",
              "      <td>...</td>\n",
              "      <td>...</td>\n",
              "      <td>...</td>\n",
              "      <td>...</td>\n",
              "      <td>...</td>\n",
              "      <td>...</td>\n",
              "    </tr>\n",
              "    <tr>\n",
              "      <th>1069</th>\n",
              "      <td>Zhaogang</td>\n",
              "      <td>$1B</td>\n",
              "      <td>2017-06-29</td>\n",
              "      <td>E-commerce &amp; direct-to-consumer</td>\n",
              "      <td>Shanghai</td>\n",
              "      <td>China</td>\n",
              "      <td>Asia</td>\n",
              "      <td>2012</td>\n",
              "      <td>$379M</td>\n",
              "      <td>K2 Ventures, Matrix Partners China, IDG Capital</td>\n",
              "      <td>2017</td>\n",
              "      <td>1</td>\n",
              "    </tr>\n",
              "    <tr>\n",
              "      <th>1070</th>\n",
              "      <td>Zhuan Zhuan</td>\n",
              "      <td>$1B</td>\n",
              "      <td>2017-04-18</td>\n",
              "      <td>E-commerce &amp; direct-to-consumer</td>\n",
              "      <td>Beijing</td>\n",
              "      <td>China</td>\n",
              "      <td>Asia</td>\n",
              "      <td>2015</td>\n",
              "      <td>$990M</td>\n",
              "      <td>58.com, Tencent Holdings</td>\n",
              "      <td>2017</td>\n",
              "      <td>1</td>\n",
              "    </tr>\n",
              "    <tr>\n",
              "      <th>1071</th>\n",
              "      <td>Zihaiguo</td>\n",
              "      <td>$1B</td>\n",
              "      <td>2021-05-06</td>\n",
              "      <td>Consumer &amp; retail</td>\n",
              "      <td>Chongqing</td>\n",
              "      <td>China</td>\n",
              "      <td>Asia</td>\n",
              "      <td>2018</td>\n",
              "      <td>$80M</td>\n",
              "      <td>Xingwang Investment Management, China Capital ...</td>\n",
              "      <td>2021</td>\n",
              "      <td>1</td>\n",
              "    </tr>\n",
              "    <tr>\n",
              "      <th>1072</th>\n",
              "      <td>Zopa</td>\n",
              "      <td>$1B</td>\n",
              "      <td>2021-10-19</td>\n",
              "      <td>Fintech</td>\n",
              "      <td>London</td>\n",
              "      <td>United Kingdom</td>\n",
              "      <td>Europe</td>\n",
              "      <td>2005</td>\n",
              "      <td>$792M</td>\n",
              "      <td>IAG Capital Partners, Augmentum Fintech, North...</td>\n",
              "      <td>2021</td>\n",
              "      <td>1</td>\n",
              "    </tr>\n",
              "    <tr>\n",
              "      <th>1073</th>\n",
              "      <td>Zwift</td>\n",
              "      <td>$1B</td>\n",
              "      <td>2020-09-16</td>\n",
              "      <td>E-commerce &amp; direct-to-consumer</td>\n",
              "      <td>Long Beach</td>\n",
              "      <td>United States</td>\n",
              "      <td>North America</td>\n",
              "      <td>2014</td>\n",
              "      <td>$620M</td>\n",
              "      <td>Novator Partners, True, Causeway Media Partners</td>\n",
              "      <td>2020</td>\n",
              "      <td>1</td>\n",
              "    </tr>\n",
              "  </tbody>\n",
              "</table>\n",
              "<p>1074 rows × 12 columns</p>\n",
              "</div>"
            ],
            "text/plain": [
              "          Company Valuation Date Joined                         Industry  \\\n",
              "0       Bytedance     $180B  2017-04-07          Artificial intelligence   \n",
              "1          SpaceX     $100B  2012-12-01                            Other   \n",
              "2           SHEIN     $100B  2018-07-03  E-commerce & direct-to-consumer   \n",
              "3          Stripe      $95B  2014-01-23                          Fintech   \n",
              "4          Klarna      $46B  2011-12-12                          Fintech   \n",
              "...           ...       ...         ...                              ...   \n",
              "1069     Zhaogang       $1B  2017-06-29  E-commerce & direct-to-consumer   \n",
              "1070  Zhuan Zhuan       $1B  2017-04-18  E-commerce & direct-to-consumer   \n",
              "1071     Zihaiguo       $1B  2021-05-06                Consumer & retail   \n",
              "1072         Zopa       $1B  2021-10-19                          Fintech   \n",
              "1073        Zwift       $1B  2020-09-16  E-commerce & direct-to-consumer   \n",
              "\n",
              "               City         Country      Continent  Year Founded Funding  \\\n",
              "0           Beijing           China           Asia          2012     $8B   \n",
              "1         Hawthorne   United States  North America          2002     $7B   \n",
              "2          Shenzhen           China           Asia          2008     $2B   \n",
              "3     San Francisco   United States  North America          2010     $2B   \n",
              "4         Stockholm          Sweden         Europe          2005     $4B   \n",
              "...             ...             ...            ...           ...     ...   \n",
              "1069       Shanghai           China           Asia          2012   $379M   \n",
              "1070        Beijing           China           Asia          2015   $990M   \n",
              "1071      Chongqing           China           Asia          2018    $80M   \n",
              "1072         London  United Kingdom         Europe          2005   $792M   \n",
              "1073     Long Beach   United States  North America          2014   $620M   \n",
              "\n",
              "                                       Select Investors  Year Joined  \\\n",
              "0     Sequoia Capital China, SIG Asia Investments, S...         2017   \n",
              "1     Founders Fund, Draper Fisher Jurvetson, Rothen...         2012   \n",
              "2     Tiger Global Management, Sequoia Capital China...         2018   \n",
              "3           Khosla Ventures, LowercaseCapital, capitalG         2014   \n",
              "4     Institutional Venture Partners, Sequoia Capita...         2011   \n",
              "...                                                 ...          ...   \n",
              "1069    K2 Ventures, Matrix Partners China, IDG Capital         2017   \n",
              "1070                           58.com, Tencent Holdings         2017   \n",
              "1071  Xingwang Investment Management, China Capital ...         2021   \n",
              "1072  IAG Capital Partners, Augmentum Fintech, North...         2021   \n",
              "1073    Novator Partners, True, Causeway Media Partners         2020   \n",
              "\n",
              "      Valuation_num  \n",
              "0               180  \n",
              "1               100  \n",
              "2               100  \n",
              "3                95  \n",
              "4                46  \n",
              "...             ...  \n",
              "1069              1  \n",
              "1070              1  \n",
              "1071              1  \n",
              "1072              1  \n",
              "1073              1  \n",
              "\n",
              "[1074 rows x 12 columns]"
            ]
          },
          "execution_count": 9,
          "metadata": {},
          "output_type": "execute_result"
        }
      ],
      "source": [
        "# Apply the `str_to_num()` function to the `Valuation` column\n",
        "# and assign the result back to a new column called `valuation_num`\n",
        "\n",
        "df_companies['Valuation_num'] = df_companies['Valuation'].apply(str_to_num)\n",
        "\n",
        "df_companies"
      ]
    },
    {
      "cell_type": "markdown",
      "id": "b27ef252",
      "metadata": {
        "id": "b27ef252"
      },
      "source": [
        "### Find missing values"
      ]
    },
    {
      "cell_type": "code",
      "execution_count": 10,
      "id": "939ded7d",
      "metadata": {
        "id": "939ded7d",
        "outputId": "e8762373-0805-4733-f37f-dbeb54f71817"
      },
      "outputs": [
        {
          "data": {
            "text/plain": [
              "Company              0\n",
              "Valuation            0\n",
              "Date Joined          0\n",
              "Industry             0\n",
              "City                16\n",
              "Country              0\n",
              "Continent            0\n",
              "Year Founded         0\n",
              "Funding              0\n",
              "Select Investors     1\n",
              "Year Joined          0\n",
              "Valuation_num        0\n",
              "dtype: int64"
            ]
          },
          "execution_count": 10,
          "metadata": {},
          "output_type": "execute_result"
        }
      ],
      "source": [
        "# Find the number of missing values in each column in this dataset.\n",
        "\n",
        "df_companies.isna().sum()"
      ]
    },
    {
      "cell_type": "markdown",
      "id": "9bad4e67",
      "metadata": {
        "id": "9bad4e67"
      },
      "source": [
        "- The unicorn companies dataset is fairly clean, with a few missing values.\n",
        "- A single missing value in `Selected Investors` column and 16 missing values in `City` column"
      ]
    },
    {
      "cell_type": "markdown",
      "id": "84a779e9",
      "metadata": {
        "id": "84a779e9"
      },
      "source": [
        "Before dealing with missing values, it's important to understand the nature of the missing value that is being filled. To do this, I'll need to perform the following three steps:\n",
        "\n",
        "1. Apply the `isna()` method to the `df_companies` dataframe as you did in the last step. Remember, this results in a dataframe of the same shape as `df_companies` where each value is `True` if its contents are `NaN` and a `False` if its contents are not `NaN`. Assign the results to a variable called `mask`."
      ]
    },
    {
      "cell_type": "code",
      "execution_count": 11,
      "id": "UfBnYO7GXw0V",
      "metadata": {
        "id": "UfBnYO7GXw0V",
        "outputId": "e99d7200-a4a7-4281-bc65-e23d1ee49171"
      },
      "outputs": [
        {
          "data": {
            "text/html": [
              "<div>\n",
              "<style scoped>\n",
              "    .dataframe tbody tr th:only-of-type {\n",
              "        vertical-align: middle;\n",
              "    }\n",
              "\n",
              "    .dataframe tbody tr th {\n",
              "        vertical-align: top;\n",
              "    }\n",
              "\n",
              "    .dataframe thead th {\n",
              "        text-align: right;\n",
              "    }\n",
              "</style>\n",
              "<table border=\"1\" class=\"dataframe\">\n",
              "  <thead>\n",
              "    <tr style=\"text-align: right;\">\n",
              "      <th></th>\n",
              "      <th>Company</th>\n",
              "      <th>Valuation</th>\n",
              "      <th>Date Joined</th>\n",
              "      <th>Industry</th>\n",
              "      <th>City</th>\n",
              "      <th>Country</th>\n",
              "      <th>Continent</th>\n",
              "      <th>Year Founded</th>\n",
              "      <th>Funding</th>\n",
              "      <th>Select Investors</th>\n",
              "      <th>Year Joined</th>\n",
              "      <th>Valuation_num</th>\n",
              "    </tr>\n",
              "  </thead>\n",
              "  <tbody>\n",
              "    <tr>\n",
              "      <th>1069</th>\n",
              "      <td>False</td>\n",
              "      <td>False</td>\n",
              "      <td>False</td>\n",
              "      <td>False</td>\n",
              "      <td>False</td>\n",
              "      <td>False</td>\n",
              "      <td>False</td>\n",
              "      <td>False</td>\n",
              "      <td>False</td>\n",
              "      <td>False</td>\n",
              "      <td>False</td>\n",
              "      <td>False</td>\n",
              "    </tr>\n",
              "    <tr>\n",
              "      <th>1070</th>\n",
              "      <td>False</td>\n",
              "      <td>False</td>\n",
              "      <td>False</td>\n",
              "      <td>False</td>\n",
              "      <td>False</td>\n",
              "      <td>False</td>\n",
              "      <td>False</td>\n",
              "      <td>False</td>\n",
              "      <td>False</td>\n",
              "      <td>False</td>\n",
              "      <td>False</td>\n",
              "      <td>False</td>\n",
              "    </tr>\n",
              "    <tr>\n",
              "      <th>1071</th>\n",
              "      <td>False</td>\n",
              "      <td>False</td>\n",
              "      <td>False</td>\n",
              "      <td>False</td>\n",
              "      <td>False</td>\n",
              "      <td>False</td>\n",
              "      <td>False</td>\n",
              "      <td>False</td>\n",
              "      <td>False</td>\n",
              "      <td>False</td>\n",
              "      <td>False</td>\n",
              "      <td>False</td>\n",
              "    </tr>\n",
              "    <tr>\n",
              "      <th>1072</th>\n",
              "      <td>False</td>\n",
              "      <td>False</td>\n",
              "      <td>False</td>\n",
              "      <td>False</td>\n",
              "      <td>False</td>\n",
              "      <td>False</td>\n",
              "      <td>False</td>\n",
              "      <td>False</td>\n",
              "      <td>False</td>\n",
              "      <td>False</td>\n",
              "      <td>False</td>\n",
              "      <td>False</td>\n",
              "    </tr>\n",
              "    <tr>\n",
              "      <th>1073</th>\n",
              "      <td>False</td>\n",
              "      <td>False</td>\n",
              "      <td>False</td>\n",
              "      <td>False</td>\n",
              "      <td>False</td>\n",
              "      <td>False</td>\n",
              "      <td>False</td>\n",
              "      <td>False</td>\n",
              "      <td>False</td>\n",
              "      <td>False</td>\n",
              "      <td>False</td>\n",
              "      <td>False</td>\n",
              "    </tr>\n",
              "  </tbody>\n",
              "</table>\n",
              "</div>"
            ],
            "text/plain": [
              "      Company  Valuation  Date Joined  Industry   City  Country  Continent  \\\n",
              "1069    False      False        False     False  False    False      False   \n",
              "1070    False      False        False     False  False    False      False   \n",
              "1071    False      False        False     False  False    False      False   \n",
              "1072    False      False        False     False  False    False      False   \n",
              "1073    False      False        False     False  False    False      False   \n",
              "\n",
              "      Year Founded  Funding  Select Investors  Year Joined  Valuation_num  \n",
              "1069         False    False             False        False          False  \n",
              "1070         False    False             False        False          False  \n",
              "1071         False    False             False        False          False  \n",
              "1072         False    False             False        False          False  \n",
              "1073         False    False             False        False          False  "
            ]
          },
          "execution_count": 11,
          "metadata": {},
          "output_type": "execute_result"
        }
      ],
      "source": [
        "# 1. Apply the `isna()` method to the `df_companies` dataframe and assign back to `mask`\n",
        "\n",
        "mask = df_companies.isna()\n",
        "\n",
        "mask.tail()"
      ]
    },
    {
      "cell_type": "markdown",
      "id": "mjHqgaXSXw0V",
      "metadata": {
        "id": "mjHqgaXSXw0V"
      },
      "source": [
        "Now, need to go from this dataframe of Boolean values to a dataframe of just the rows of `df_companies` that contain at least one `NaN` value. This means that I need a way to find the indices of the rows of the Boolean dataframe that contain at least one `True` value, then extract those indices from `df_companies`.\n",
        "\n",
        "Using the [`any()`](https://pandas.pydata.org/docs/reference/api/pandas.DataFrame.any.html) method for `DataFrame` objects, this is possible. This method returns a Boolean `Series` indicating whether any value is `True` over a specified axis.\n",
        "\n",
        "Note that `0`, `False`, and `NaN` are considered `False` and anything else is considered `True`.\n",
        "\n",
        "2. Apply the `any()` method to the Boolean dataframe to make a Boolean series where each element in the series represents `True` if a row of the dataframe contains any `True` values and `False` if any row in the dataframe contains any `False` values. Assign the results back to `mask`."
      ]
    },
    {
      "cell_type": "code",
      "execution_count": 12,
      "id": "ZLxXebo7Xw0V",
      "metadata": {
        "id": "ZLxXebo7Xw0V",
        "outputId": "44fc3ab8-d78b-4a78-f74e-df3c86b2091a"
      },
      "outputs": [
        {
          "data": {
            "text/plain": [
              "0    False\n",
              "1    False\n",
              "2    False\n",
              "3    False\n",
              "4    False\n",
              "dtype: bool"
            ]
          },
          "execution_count": 12,
          "metadata": {},
          "output_type": "execute_result"
        }
      ],
      "source": [
        "# 2. Apply the `any()` method to `mask` and assign the results back to `mask`\n",
        "\n",
        "mask = mask.any(axis=1)\n",
        "mask.head()"
      ]
    },
    {
      "cell_type": "markdown",
      "id": "Xl2gfMSkXw0W",
      "metadata": {
        "id": "Xl2gfMSkXw0W"
      },
      "source": [
        "3. Because `mask` is now a series of Boolean values, it can be used as a Boolean mask."
      ]
    },
    {
      "cell_type": "code",
      "execution_count": 13,
      "id": "liBLDQ2fXw0W",
      "metadata": {
        "id": "liBLDQ2fXw0W",
        "outputId": "28369354-ab3e-4679-84da-52092520028c"
      },
      "outputs": [
        {
          "data": {
            "text/html": [
              "<div>\n",
              "<style scoped>\n",
              "    .dataframe tbody tr th:only-of-type {\n",
              "        vertical-align: middle;\n",
              "    }\n",
              "\n",
              "    .dataframe tbody tr th {\n",
              "        vertical-align: top;\n",
              "    }\n",
              "\n",
              "    .dataframe thead th {\n",
              "        text-align: right;\n",
              "    }\n",
              "</style>\n",
              "<table border=\"1\" class=\"dataframe\">\n",
              "  <thead>\n",
              "    <tr style=\"text-align: right;\">\n",
              "      <th></th>\n",
              "      <th>Company</th>\n",
              "      <th>Valuation</th>\n",
              "      <th>Date Joined</th>\n",
              "      <th>Industry</th>\n",
              "      <th>City</th>\n",
              "      <th>Country</th>\n",
              "      <th>Continent</th>\n",
              "      <th>Year Founded</th>\n",
              "      <th>Funding</th>\n",
              "      <th>Select Investors</th>\n",
              "      <th>Year Joined</th>\n",
              "      <th>Valuation_num</th>\n",
              "    </tr>\n",
              "  </thead>\n",
              "  <tbody>\n",
              "    <tr>\n",
              "      <th>12</th>\n",
              "      <td>FTX</td>\n",
              "      <td>$32B</td>\n",
              "      <td>2021-07-20</td>\n",
              "      <td>Fintech</td>\n",
              "      <td>NaN</td>\n",
              "      <td>Bahamas</td>\n",
              "      <td>North America</td>\n",
              "      <td>2018</td>\n",
              "      <td>$2B</td>\n",
              "      <td>Sequoia Capital, Thoma Bravo, Softbank</td>\n",
              "      <td>2021</td>\n",
              "      <td>32</td>\n",
              "    </tr>\n",
              "    <tr>\n",
              "      <th>170</th>\n",
              "      <td>HyalRoute</td>\n",
              "      <td>$4B</td>\n",
              "      <td>2020-05-26</td>\n",
              "      <td>Mobile &amp; telecommunications</td>\n",
              "      <td>NaN</td>\n",
              "      <td>Singapore</td>\n",
              "      <td>Asia</td>\n",
              "      <td>2015</td>\n",
              "      <td>$263M</td>\n",
              "      <td>Kuang-Chi</td>\n",
              "      <td>2020</td>\n",
              "      <td>4</td>\n",
              "    </tr>\n",
              "    <tr>\n",
              "      <th>242</th>\n",
              "      <td>Moglix</td>\n",
              "      <td>$3B</td>\n",
              "      <td>2021-05-17</td>\n",
              "      <td>E-commerce &amp; direct-to-consumer</td>\n",
              "      <td>NaN</td>\n",
              "      <td>Singapore</td>\n",
              "      <td>Asia</td>\n",
              "      <td>2015</td>\n",
              "      <td>$471M</td>\n",
              "      <td>Jungle Ventures, Accel, Venture Highway</td>\n",
              "      <td>2021</td>\n",
              "      <td>3</td>\n",
              "    </tr>\n",
              "    <tr>\n",
              "      <th>251</th>\n",
              "      <td>Trax</td>\n",
              "      <td>$3B</td>\n",
              "      <td>2019-07-22</td>\n",
              "      <td>Artificial intelligence</td>\n",
              "      <td>NaN</td>\n",
              "      <td>Singapore</td>\n",
              "      <td>Asia</td>\n",
              "      <td>2010</td>\n",
              "      <td>$1B</td>\n",
              "      <td>Hopu Investment Management, Boyu Capital, DC T...</td>\n",
              "      <td>2019</td>\n",
              "      <td>3</td>\n",
              "    </tr>\n",
              "    <tr>\n",
              "      <th>325</th>\n",
              "      <td>Amber Group</td>\n",
              "      <td>$3B</td>\n",
              "      <td>2021-06-21</td>\n",
              "      <td>Fintech</td>\n",
              "      <td>NaN</td>\n",
              "      <td>Hong Kong</td>\n",
              "      <td>Asia</td>\n",
              "      <td>2015</td>\n",
              "      <td>$328M</td>\n",
              "      <td>Tiger Global Management, Tiger Brokers, DCM Ve...</td>\n",
              "      <td>2021</td>\n",
              "      <td>3</td>\n",
              "    </tr>\n",
              "    <tr>\n",
              "      <th>382</th>\n",
              "      <td>Ninja Van</td>\n",
              "      <td>$2B</td>\n",
              "      <td>2021-09-27</td>\n",
              "      <td>Supply chain, logistics, &amp; delivery</td>\n",
              "      <td>NaN</td>\n",
              "      <td>Singapore</td>\n",
              "      <td>Asia</td>\n",
              "      <td>2014</td>\n",
              "      <td>$975M</td>\n",
              "      <td>B Capital Group, Monk's Hill Ventures, Dynamic...</td>\n",
              "      <td>2021</td>\n",
              "      <td>2</td>\n",
              "    </tr>\n",
              "    <tr>\n",
              "      <th>541</th>\n",
              "      <td>Advance Intelligence Group</td>\n",
              "      <td>$2B</td>\n",
              "      <td>2021-09-23</td>\n",
              "      <td>Artificial intelligence</td>\n",
              "      <td>NaN</td>\n",
              "      <td>Singapore</td>\n",
              "      <td>Asia</td>\n",
              "      <td>2016</td>\n",
              "      <td>$536M</td>\n",
              "      <td>Vision Plus Capital, GSR Ventures, ZhenFund</td>\n",
              "      <td>2021</td>\n",
              "      <td>2</td>\n",
              "    </tr>\n",
              "    <tr>\n",
              "      <th>629</th>\n",
              "      <td>LinkSure Network</td>\n",
              "      <td>$1B</td>\n",
              "      <td>2015-01-01</td>\n",
              "      <td>Mobile &amp; telecommunications</td>\n",
              "      <td>Shanghai</td>\n",
              "      <td>China</td>\n",
              "      <td>Asia</td>\n",
              "      <td>2013</td>\n",
              "      <td>$52M</td>\n",
              "      <td>NaN</td>\n",
              "      <td>2015</td>\n",
              "      <td>1</td>\n",
              "    </tr>\n",
              "    <tr>\n",
              "      <th>811</th>\n",
              "      <td>Carousell</td>\n",
              "      <td>$1B</td>\n",
              "      <td>2021-09-15</td>\n",
              "      <td>E-commerce &amp; direct-to-consumer</td>\n",
              "      <td>NaN</td>\n",
              "      <td>Singapore</td>\n",
              "      <td>Asia</td>\n",
              "      <td>2012</td>\n",
              "      <td>$288M</td>\n",
              "      <td>500 Global, Rakuten Ventures, Golden Gate Vent...</td>\n",
              "      <td>2021</td>\n",
              "      <td>1</td>\n",
              "    </tr>\n",
              "    <tr>\n",
              "      <th>848</th>\n",
              "      <td>Matrixport</td>\n",
              "      <td>$1B</td>\n",
              "      <td>2021-06-01</td>\n",
              "      <td>Fintech</td>\n",
              "      <td>NaN</td>\n",
              "      <td>Singapore</td>\n",
              "      <td>Asia</td>\n",
              "      <td>2019</td>\n",
              "      <td>$100M</td>\n",
              "      <td>Dragonfly Captial, Qiming Venture Partners, DS...</td>\n",
              "      <td>2021</td>\n",
              "      <td>1</td>\n",
              "    </tr>\n",
              "    <tr>\n",
              "      <th>880</th>\n",
              "      <td>bolttech</td>\n",
              "      <td>$1B</td>\n",
              "      <td>2021-07-01</td>\n",
              "      <td>Fintech</td>\n",
              "      <td>NaN</td>\n",
              "      <td>Singapore</td>\n",
              "      <td>Asia</td>\n",
              "      <td>2018</td>\n",
              "      <td>$210M</td>\n",
              "      <td>Mundi Ventures, Doqling Capital Partners, Acti...</td>\n",
              "      <td>2021</td>\n",
              "      <td>1</td>\n",
              "    </tr>\n",
              "    <tr>\n",
              "      <th>889</th>\n",
              "      <td>Carro</td>\n",
              "      <td>$1B</td>\n",
              "      <td>2021-06-14</td>\n",
              "      <td>E-commerce &amp; direct-to-consumer</td>\n",
              "      <td>NaN</td>\n",
              "      <td>Singapore</td>\n",
              "      <td>Asia</td>\n",
              "      <td>2015</td>\n",
              "      <td>$595M</td>\n",
              "      <td>SingTel Innov8, Alpha JWC Ventures, Golden Gat...</td>\n",
              "      <td>2021</td>\n",
              "      <td>1</td>\n",
              "    </tr>\n",
              "    <tr>\n",
              "      <th>893</th>\n",
              "      <td>Cider</td>\n",
              "      <td>$1B</td>\n",
              "      <td>2021-09-02</td>\n",
              "      <td>E-commerce &amp; direct-to-consumer</td>\n",
              "      <td>NaN</td>\n",
              "      <td>Hong Kong</td>\n",
              "      <td>Asia</td>\n",
              "      <td>2020</td>\n",
              "      <td>$140M</td>\n",
              "      <td>Andreessen Horowitz, DST Global, IDG Capital</td>\n",
              "      <td>2021</td>\n",
              "      <td>1</td>\n",
              "    </tr>\n",
              "    <tr>\n",
              "      <th>980</th>\n",
              "      <td>NIUM</td>\n",
              "      <td>$1B</td>\n",
              "      <td>2021-07-13</td>\n",
              "      <td>Fintech</td>\n",
              "      <td>NaN</td>\n",
              "      <td>Singapore</td>\n",
              "      <td>Asia</td>\n",
              "      <td>2014</td>\n",
              "      <td>$285M</td>\n",
              "      <td>Vertex Ventures SE Asia, Global Founders Capit...</td>\n",
              "      <td>2021</td>\n",
              "      <td>1</td>\n",
              "    </tr>\n",
              "    <tr>\n",
              "      <th>986</th>\n",
              "      <td>ONE</td>\n",
              "      <td>$1B</td>\n",
              "      <td>2021-12-08</td>\n",
              "      <td>Internet software &amp; services</td>\n",
              "      <td>NaN</td>\n",
              "      <td>Singapore</td>\n",
              "      <td>Asia</td>\n",
              "      <td>2011</td>\n",
              "      <td>$515M</td>\n",
              "      <td>Temasek, Guggenheim Investments, Qatar Investm...</td>\n",
              "      <td>2021</td>\n",
              "      <td>1</td>\n",
              "    </tr>\n",
              "    <tr>\n",
              "      <th>994</th>\n",
              "      <td>PatSnap</td>\n",
              "      <td>$1B</td>\n",
              "      <td>2021-03-16</td>\n",
              "      <td>Internet software &amp; services</td>\n",
              "      <td>NaN</td>\n",
              "      <td>Singapore</td>\n",
              "      <td>Asia</td>\n",
              "      <td>2007</td>\n",
              "      <td>$352M</td>\n",
              "      <td>Sequoia Capital China, Shunwei Capital Partner...</td>\n",
              "      <td>2021</td>\n",
              "      <td>1</td>\n",
              "    </tr>\n",
              "    <tr>\n",
              "      <th>1061</th>\n",
              "      <td>WeLab</td>\n",
              "      <td>$1B</td>\n",
              "      <td>2017-11-08</td>\n",
              "      <td>Fintech</td>\n",
              "      <td>NaN</td>\n",
              "      <td>Hong Kong</td>\n",
              "      <td>Asia</td>\n",
              "      <td>2013</td>\n",
              "      <td>$871M</td>\n",
              "      <td>Sequoia Capital China, ING, Alibaba Entreprene...</td>\n",
              "      <td>2017</td>\n",
              "      <td>1</td>\n",
              "    </tr>\n",
              "  </tbody>\n",
              "</table>\n",
              "</div>"
            ],
            "text/plain": [
              "                         Company Valuation Date Joined  \\\n",
              "12                           FTX      $32B  2021-07-20   \n",
              "170                    HyalRoute       $4B  2020-05-26   \n",
              "242                       Moglix       $3B  2021-05-17   \n",
              "251                         Trax       $3B  2019-07-22   \n",
              "325                  Amber Group       $3B  2021-06-21   \n",
              "382                    Ninja Van       $2B  2021-09-27   \n",
              "541   Advance Intelligence Group       $2B  2021-09-23   \n",
              "629             LinkSure Network       $1B  2015-01-01   \n",
              "811                    Carousell       $1B  2021-09-15   \n",
              "848                   Matrixport       $1B  2021-06-01   \n",
              "880                     bolttech       $1B  2021-07-01   \n",
              "889                        Carro       $1B  2021-06-14   \n",
              "893                        Cider       $1B  2021-09-02   \n",
              "980                         NIUM       $1B  2021-07-13   \n",
              "986                          ONE       $1B  2021-12-08   \n",
              "994                      PatSnap       $1B  2021-03-16   \n",
              "1061                       WeLab       $1B  2017-11-08   \n",
              "\n",
              "                                 Industry      City    Country      Continent  \\\n",
              "12                                Fintech       NaN    Bahamas  North America   \n",
              "170           Mobile & telecommunications       NaN  Singapore           Asia   \n",
              "242       E-commerce & direct-to-consumer       NaN  Singapore           Asia   \n",
              "251               Artificial intelligence       NaN  Singapore           Asia   \n",
              "325                               Fintech       NaN  Hong Kong           Asia   \n",
              "382   Supply chain, logistics, & delivery       NaN  Singapore           Asia   \n",
              "541               Artificial intelligence       NaN  Singapore           Asia   \n",
              "629           Mobile & telecommunications  Shanghai      China           Asia   \n",
              "811       E-commerce & direct-to-consumer       NaN  Singapore           Asia   \n",
              "848                               Fintech       NaN  Singapore           Asia   \n",
              "880                               Fintech       NaN  Singapore           Asia   \n",
              "889       E-commerce & direct-to-consumer       NaN  Singapore           Asia   \n",
              "893       E-commerce & direct-to-consumer       NaN  Hong Kong           Asia   \n",
              "980                               Fintech       NaN  Singapore           Asia   \n",
              "986          Internet software & services       NaN  Singapore           Asia   \n",
              "994          Internet software & services       NaN  Singapore           Asia   \n",
              "1061                              Fintech       NaN  Hong Kong           Asia   \n",
              "\n",
              "      Year Founded Funding                                   Select Investors  \\\n",
              "12            2018     $2B             Sequoia Capital, Thoma Bravo, Softbank   \n",
              "170           2015   $263M                                          Kuang-Chi   \n",
              "242           2015   $471M            Jungle Ventures, Accel, Venture Highway   \n",
              "251           2010     $1B  Hopu Investment Management, Boyu Capital, DC T...   \n",
              "325           2015   $328M  Tiger Global Management, Tiger Brokers, DCM Ve...   \n",
              "382           2014   $975M  B Capital Group, Monk's Hill Ventures, Dynamic...   \n",
              "541           2016   $536M        Vision Plus Capital, GSR Ventures, ZhenFund   \n",
              "629           2013    $52M                                                NaN   \n",
              "811           2012   $288M  500 Global, Rakuten Ventures, Golden Gate Vent...   \n",
              "848           2019   $100M  Dragonfly Captial, Qiming Venture Partners, DS...   \n",
              "880           2018   $210M  Mundi Ventures, Doqling Capital Partners, Acti...   \n",
              "889           2015   $595M  SingTel Innov8, Alpha JWC Ventures, Golden Gat...   \n",
              "893           2020   $140M       Andreessen Horowitz, DST Global, IDG Capital   \n",
              "980           2014   $285M  Vertex Ventures SE Asia, Global Founders Capit...   \n",
              "986           2011   $515M  Temasek, Guggenheim Investments, Qatar Investm...   \n",
              "994           2007   $352M  Sequoia Capital China, Shunwei Capital Partner...   \n",
              "1061          2013   $871M  Sequoia Capital China, ING, Alibaba Entreprene...   \n",
              "\n",
              "      Year Joined  Valuation_num  \n",
              "12           2021             32  \n",
              "170          2020              4  \n",
              "242          2021              3  \n",
              "251          2019              3  \n",
              "325          2021              3  \n",
              "382          2021              2  \n",
              "541          2021              2  \n",
              "629          2015              1  \n",
              "811          2021              1  \n",
              "848          2021              1  \n",
              "880          2021              1  \n",
              "889          2021              1  \n",
              "893          2021              1  \n",
              "980          2021              1  \n",
              "986          2021              1  \n",
              "994          2021              1  \n",
              "1061         2017              1  "
            ]
          },
          "execution_count": 13,
          "metadata": {},
          "output_type": "execute_result"
        }
      ],
      "source": [
        "# 3. Apply `mask` as a Boolean mask to `df_companies` and assign results to `df_missing_rows`\n",
        "\n",
        "df_missing_rows = df_companies[mask]\n",
        "\n",
        "df_missing_rows"
      ]
    },
    {
      "cell_type": "markdown",
      "metadata": {},
      "source": [
        "- **Same output: df_companies[df_companies.isna().any(axis=1)]**"
      ]
    },
    {
      "cell_type": "code",
      "execution_count": 14,
      "id": "id8F_D-vXw0W",
      "metadata": {
        "id": "id8F_D-vXw0W",
        "outputId": "3d7c8299-bf0b-4130-be43-21e62fbadce1"
      },
      "outputs": [
        {
          "data": {
            "text/plain": [
              "Singapore    12\n",
              "Hong Kong     3\n",
              "Bahamas       1\n",
              "China         1\n",
              "Name: Country, dtype: int64"
            ]
          },
          "execution_count": 14,
          "metadata": {},
          "output_type": "execute_result"
        }
      ],
      "source": [
        "df_missing_rows['Country'].value_counts()"
      ]
    },
    {
      "cell_type": "markdown",
      "id": "d267da5d",
      "metadata": {
        "id": "d267da5d"
      },
      "source": [
        "**Question: Is there a specific country/region that shows up a lot in this missing values dataframe? Which one?**\n"
      ]
    },
    {
      "cell_type": "markdown",
      "id": "I6Wfa6A0TB1r",
      "metadata": {
        "id": "I6Wfa6A0TB1r"
      },
      "source": [
        "- 12 out of the 17 countries belong to Singapore\n",
        "- 3 belong to Hong Kong\n",
        "- Remaining 2 belong to Bahamas and China"
      ]
    },
    {
      "cell_type": "markdown",
      "id": "6i2aGF-YXw0W",
      "metadata": {
        "id": "6i2aGF-YXw0W"
      },
      "source": [
        "**Steps taken to find missing data:**\n"
      ]
    },
    {
      "cell_type": "markdown",
      "id": "XyzFuvMaXw0W",
      "metadata": {
        "id": "XyzFuvMaXw0W"
      },
      "source": [
        "- `DataFrame.isna()` will return a Boolean dataframe indicating every location that is `NaN` with `True`\n",
        "- `sum()` in conjunction with `isna()` to get the counts of `NaN` values in each column\n",
        "- `any()` in conjunction with `isna()` to create a Boolean mask, which can be applied to the original dataframe to obtain just the rows with at least one `NaN` value"
      ]
    },
    {
      "cell_type": "markdown",
      "id": "KurCJunYXw0W",
      "metadata": {
        "id": "KurCJunYXw0W"
      },
      "source": [
        "**Question: What observations can be made about the forms and context of missing data?**\n"
      ]
    },
    {
      "cell_type": "markdown",
      "id": "7L2Mv8ajXw0W",
      "metadata": {
        "id": "7L2Mv8ajXw0W"
      },
      "source": [
        "- When it comes to missing data, it's important not to assume right away that the data is actually missing, it's very context dependent. For example, the `City` column is all NaN except for one. Why could that be? Maybe the missing unicorn company doesn't have a central location. Some businesses are run fully digitally."
      ]
    },
    {
      "cell_type": "markdown",
      "id": "UAFAYbRHXw0W",
      "metadata": {
        "id": "UAFAYbRHXw0W"
      },
      "source": [
        "**Question: What other methods could you use to address missing data?**\n"
      ]
    },
    {
      "cell_type": "markdown",
      "id": "neEU6MiYXw0W",
      "metadata": {
        "id": "neEU6MiYXw0W"
      },
      "source": [
        "- Having an individual with domain knowledge observe the missing data\n",
        "- Contact these unicorn companies directly and inquire on any missing information\n",
        "- Examine the data source and find out who it came from to obtain more information"
      ]
    },
    {
      "cell_type": "markdown",
      "id": "34021f9c",
      "metadata": {
        "id": "34021f9c"
      },
      "source": [
        "## Step 3: Model building"
      ]
    },
    {
      "cell_type": "markdown",
      "id": "1b7ff426",
      "metadata": {
        "id": "1b7ff426"
      },
      "source": [
        "### Two ways to address missing values\n",
        "\n",
        "There are several ways to address missing values, which is critical in EDA. The two primary methods are removing them and imputing other values in their place. Choosing the proper method depends on the business problem and the value the solution will add or take away from the dataset.\n",
        "\n",
        "Here, I will try both."
      ]
    },
    {
      "cell_type": "markdown",
      "id": "7eeA7WhWXw0W",
      "metadata": {
        "id": "7eeA7WhWXw0W"
      },
      "source": [
        "To compare the effect of different actions, first store the original number of values in a variable. I'll create a variable called `count_total` that is an integer representing the total number of values in `df_companies`. For example, if the dataframe had 5 rows and 2 columns, then this number would be 10."
      ]
    },
    {
      "cell_type": "code",
      "execution_count": 15,
      "id": "cd63abb1",
      "metadata": {
        "id": "cd63abb1",
        "outputId": "17ca9f51-9b10-419c-feff-77b651526f98"
      },
      "outputs": [
        {
          "data": {
            "text/plain": [
              "12888"
            ]
          },
          "execution_count": 15,
          "metadata": {},
          "output_type": "execute_result"
        }
      ],
      "source": [
        "# Store the total number of values in a variable called `count_total`\n",
        "\n",
        "count_total = df_companies.size\n",
        "count_total"
      ]
    },
    {
      "cell_type": "markdown",
      "id": "SBtM8k0_Xw0X",
      "metadata": {
        "id": "SBtM8k0_Xw0X"
      },
      "source": [
        "Now, remove all rows containing missing values and store the total number of remaining values in a variable called `count_dropna_rows`."
      ]
    },
    {
      "cell_type": "code",
      "execution_count": 16,
      "id": "IOSf7xLCXw0X",
      "metadata": {
        "id": "IOSf7xLCXw0X",
        "outputId": "b0642d00-8ce0-4c73-b6a2-1f09f71f991f"
      },
      "outputs": [
        {
          "data": {
            "text/plain": [
              "12684"
            ]
          },
          "execution_count": 16,
          "metadata": {},
          "output_type": "execute_result"
        }
      ],
      "source": [
        "# Drop the rows containing missing values, determine number of remaining values\n",
        "\n",
        "count_dropna_rows = df_companies.dropna().size\n",
        "count_dropna_rows"
      ]
    },
    {
      "cell_type": "markdown",
      "id": "RoNawF9UXw0X",
      "metadata": {
        "id": "RoNawF9UXw0X"
      },
      "source": [
        "Now, remove all columns containing missing values and store the total number of cells in a variable called `count_dropna_columns`."
      ]
    },
    {
      "cell_type": "code",
      "execution_count": 17,
      "id": "d5-4_RtwXw0X",
      "metadata": {
        "id": "d5-4_RtwXw0X",
        "outputId": "6ac42abe-98a1-49ca-a8a8-477138984865"
      },
      "outputs": [
        {
          "data": {
            "text/plain": [
              "10740"
            ]
          },
          "execution_count": 17,
          "metadata": {},
          "output_type": "execute_result"
        }
      ],
      "source": [
        "# Drop the columns containing missing values, determine number of remaining values\n",
        "\n",
        "count_dropna_columns = df_companies.dropna(axis=1).size\n",
        "count_dropna_columns"
      ]
    },
    {
      "cell_type": "markdown",
      "id": "_WmlhwTsXw0X",
      "metadata": {
        "id": "_WmlhwTsXw0X"
      },
      "source": [
        "Next, print the percentage of values removed by each method and compare them."
      ]
    },
    {
      "cell_type": "code",
      "execution_count": 18,
      "id": "DHGu95ooXw0X",
      "metadata": {
        "id": "DHGu95ooXw0X",
        "outputId": "56c3ee6d-fbcc-4fa2-90bd-2b32ae329286"
      },
      "outputs": [
        {
          "name": "stdout",
          "output_type": "stream",
          "text": [
            "Percent of rows removed: 1.58\n",
            "Percent of columns removed: 16.67\n"
          ]
        }
      ],
      "source": [
        "# Print the percentage of values removed by dropping rows.\n",
        "\n",
        "row_perc = ((count_total-count_dropna_rows)/count_total) * 100\n",
        "print (f'Percent of rows removed: {row_perc:.2f}')\n",
        "\n",
        "# Print the percentage of values removed by dropping columns.\n",
        "\n",
        "col_perc = ((count_total-count_dropna_columns)/count_total) * 100\n",
        "print (f'Percent of columns removed: {col_perc:.2f}')"
      ]
    },
    {
      "cell_type": "markdown",
      "id": "bb93f8fb",
      "metadata": {
        "id": "bb93f8fb"
      },
      "source": [
        "**Question: Which method was most effective? Why?**\n"
      ]
    },
    {
      "cell_type": "markdown",
      "id": "U4qVEZgBTGp9",
      "metadata": {
        "id": "U4qVEZgBTGp9"
      },
      "source": [
        "- In this case, removing rows seems to be the most effective method. Reason being, the least amount of data is being removed and only the rows where there are missing values are being removed, rather than entire columns. Depending on the purpose of the analysis, removing columns may be the better approach."
      ]
    },
    {
      "cell_type": "markdown",
      "id": "mho08fTcTMSq",
      "metadata": {
        "id": "mho08fTcTMSq"
      },
      "source": [
        "Now, practice the second method: imputation. Perform the following steps:\n",
        "\n",
        "1. Use the [`fillna()`](https://pandas.pydata.org/docs/reference/api/pandas.DataFrame.fillna.html#pandas.DataFrame.fillna) dataframe method to fill each missing value with the next non-NaN value in its column. Assign the results to a new dataframe called `df_companies_backfill`.\n",
        "\n",
        "If there is a `NaN` value in the last row, it will not backfill because there is no subsequent value in the column to refer to.\n",
        "\n",
        "2. Show the rows that previously had missing values."
      ]
    },
    {
      "cell_type": "code",
      "execution_count": 19,
      "id": "LiWNkzQlXw0Y",
      "metadata": {
        "id": "LiWNkzQlXw0Y",
        "outputId": "1efb74c2-66b9-4207-b856-c5555d7531d1"
      },
      "outputs": [
        {
          "data": {
            "text/html": [
              "<div>\n",
              "<style scoped>\n",
              "    .dataframe tbody tr th:only-of-type {\n",
              "        vertical-align: middle;\n",
              "    }\n",
              "\n",
              "    .dataframe tbody tr th {\n",
              "        vertical-align: top;\n",
              "    }\n",
              "\n",
              "    .dataframe thead th {\n",
              "        text-align: right;\n",
              "    }\n",
              "</style>\n",
              "<table border=\"1\" class=\"dataframe\">\n",
              "  <thead>\n",
              "    <tr style=\"text-align: right;\">\n",
              "      <th></th>\n",
              "      <th>Company</th>\n",
              "      <th>Valuation</th>\n",
              "      <th>Date Joined</th>\n",
              "      <th>Industry</th>\n",
              "      <th>City</th>\n",
              "      <th>Country</th>\n",
              "      <th>Continent</th>\n",
              "      <th>Year Founded</th>\n",
              "      <th>Funding</th>\n",
              "      <th>Select Investors</th>\n",
              "      <th>Year Joined</th>\n",
              "      <th>Valuation_num</th>\n",
              "    </tr>\n",
              "  </thead>\n",
              "  <tbody>\n",
              "    <tr>\n",
              "      <th>12</th>\n",
              "      <td>FTX</td>\n",
              "      <td>$32B</td>\n",
              "      <td>2021-07-20</td>\n",
              "      <td>Fintech</td>\n",
              "      <td>Jacksonville</td>\n",
              "      <td>Bahamas</td>\n",
              "      <td>North America</td>\n",
              "      <td>2018</td>\n",
              "      <td>$2B</td>\n",
              "      <td>Sequoia Capital, Thoma Bravo, Softbank</td>\n",
              "      <td>2021</td>\n",
              "      <td>32</td>\n",
              "    </tr>\n",
              "    <tr>\n",
              "      <th>170</th>\n",
              "      <td>HyalRoute</td>\n",
              "      <td>$4B</td>\n",
              "      <td>2020-05-26</td>\n",
              "      <td>Mobile &amp; telecommunications</td>\n",
              "      <td>El Segundo</td>\n",
              "      <td>Singapore</td>\n",
              "      <td>Asia</td>\n",
              "      <td>2015</td>\n",
              "      <td>$263M</td>\n",
              "      <td>Kuang-Chi</td>\n",
              "      <td>2020</td>\n",
              "      <td>4</td>\n",
              "    </tr>\n",
              "    <tr>\n",
              "      <th>242</th>\n",
              "      <td>Moglix</td>\n",
              "      <td>$3B</td>\n",
              "      <td>2021-05-17</td>\n",
              "      <td>E-commerce &amp; direct-to-consumer</td>\n",
              "      <td>San Francisco</td>\n",
              "      <td>Singapore</td>\n",
              "      <td>Asia</td>\n",
              "      <td>2015</td>\n",
              "      <td>$471M</td>\n",
              "      <td>Jungle Ventures, Accel, Venture Highway</td>\n",
              "      <td>2021</td>\n",
              "      <td>3</td>\n",
              "    </tr>\n",
              "    <tr>\n",
              "      <th>251</th>\n",
              "      <td>Trax</td>\n",
              "      <td>$3B</td>\n",
              "      <td>2019-07-22</td>\n",
              "      <td>Artificial intelligence</td>\n",
              "      <td>Amsterdam</td>\n",
              "      <td>Singapore</td>\n",
              "      <td>Asia</td>\n",
              "      <td>2010</td>\n",
              "      <td>$1B</td>\n",
              "      <td>Hopu Investment Management, Boyu Capital, DC T...</td>\n",
              "      <td>2019</td>\n",
              "      <td>3</td>\n",
              "    </tr>\n",
              "    <tr>\n",
              "      <th>325</th>\n",
              "      <td>Amber Group</td>\n",
              "      <td>$3B</td>\n",
              "      <td>2021-06-21</td>\n",
              "      <td>Fintech</td>\n",
              "      <td>San Francisco</td>\n",
              "      <td>Hong Kong</td>\n",
              "      <td>Asia</td>\n",
              "      <td>2015</td>\n",
              "      <td>$328M</td>\n",
              "      <td>Tiger Global Management, Tiger Brokers, DCM Ve...</td>\n",
              "      <td>2021</td>\n",
              "      <td>3</td>\n",
              "    </tr>\n",
              "    <tr>\n",
              "      <th>382</th>\n",
              "      <td>Ninja Van</td>\n",
              "      <td>$2B</td>\n",
              "      <td>2021-09-27</td>\n",
              "      <td>Supply chain, logistics, &amp; delivery</td>\n",
              "      <td>San Francisco</td>\n",
              "      <td>Singapore</td>\n",
              "      <td>Asia</td>\n",
              "      <td>2014</td>\n",
              "      <td>$975M</td>\n",
              "      <td>B Capital Group, Monk's Hill Ventures, Dynamic...</td>\n",
              "      <td>2021</td>\n",
              "      <td>2</td>\n",
              "    </tr>\n",
              "    <tr>\n",
              "      <th>541</th>\n",
              "      <td>Advance Intelligence Group</td>\n",
              "      <td>$2B</td>\n",
              "      <td>2021-09-23</td>\n",
              "      <td>Artificial intelligence</td>\n",
              "      <td>Helsinki</td>\n",
              "      <td>Singapore</td>\n",
              "      <td>Asia</td>\n",
              "      <td>2016</td>\n",
              "      <td>$536M</td>\n",
              "      <td>Vision Plus Capital, GSR Ventures, ZhenFund</td>\n",
              "      <td>2021</td>\n",
              "      <td>2</td>\n",
              "    </tr>\n",
              "    <tr>\n",
              "      <th>629</th>\n",
              "      <td>LinkSure Network</td>\n",
              "      <td>$1B</td>\n",
              "      <td>2015-01-01</td>\n",
              "      <td>Mobile &amp; telecommunications</td>\n",
              "      <td>Shanghai</td>\n",
              "      <td>China</td>\n",
              "      <td>Asia</td>\n",
              "      <td>2013</td>\n",
              "      <td>$52M</td>\n",
              "      <td>Sequoia Capital India, The Times Group, GMO Ve...</td>\n",
              "      <td>2015</td>\n",
              "      <td>1</td>\n",
              "    </tr>\n",
              "    <tr>\n",
              "      <th>811</th>\n",
              "      <td>Carousell</td>\n",
              "      <td>$1B</td>\n",
              "      <td>2021-09-15</td>\n",
              "      <td>E-commerce &amp; direct-to-consumer</td>\n",
              "      <td>New York</td>\n",
              "      <td>Singapore</td>\n",
              "      <td>Asia</td>\n",
              "      <td>2012</td>\n",
              "      <td>$288M</td>\n",
              "      <td>500 Global, Rakuten Ventures, Golden Gate Vent...</td>\n",
              "      <td>2021</td>\n",
              "      <td>1</td>\n",
              "    </tr>\n",
              "    <tr>\n",
              "      <th>848</th>\n",
              "      <td>Matrixport</td>\n",
              "      <td>$1B</td>\n",
              "      <td>2021-06-01</td>\n",
              "      <td>Fintech</td>\n",
              "      <td>San Francisco</td>\n",
              "      <td>Singapore</td>\n",
              "      <td>Asia</td>\n",
              "      <td>2019</td>\n",
              "      <td>$100M</td>\n",
              "      <td>Dragonfly Captial, Qiming Venture Partners, DS...</td>\n",
              "      <td>2021</td>\n",
              "      <td>1</td>\n",
              "    </tr>\n",
              "    <tr>\n",
              "      <th>880</th>\n",
              "      <td>bolttech</td>\n",
              "      <td>$1B</td>\n",
              "      <td>2021-07-01</td>\n",
              "      <td>Fintech</td>\n",
              "      <td>Englewood</td>\n",
              "      <td>Singapore</td>\n",
              "      <td>Asia</td>\n",
              "      <td>2018</td>\n",
              "      <td>$210M</td>\n",
              "      <td>Mundi Ventures, Doqling Capital Partners, Acti...</td>\n",
              "      <td>2021</td>\n",
              "      <td>1</td>\n",
              "    </tr>\n",
              "    <tr>\n",
              "      <th>889</th>\n",
              "      <td>Carro</td>\n",
              "      <td>$1B</td>\n",
              "      <td>2021-06-14</td>\n",
              "      <td>E-commerce &amp; direct-to-consumer</td>\n",
              "      <td>Lincoln</td>\n",
              "      <td>Singapore</td>\n",
              "      <td>Asia</td>\n",
              "      <td>2015</td>\n",
              "      <td>$595M</td>\n",
              "      <td>SingTel Innov8, Alpha JWC Ventures, Golden Gat...</td>\n",
              "      <td>2021</td>\n",
              "      <td>1</td>\n",
              "    </tr>\n",
              "    <tr>\n",
              "      <th>893</th>\n",
              "      <td>Cider</td>\n",
              "      <td>$1B</td>\n",
              "      <td>2021-09-02</td>\n",
              "      <td>E-commerce &amp; direct-to-consumer</td>\n",
              "      <td>Mexico City</td>\n",
              "      <td>Hong Kong</td>\n",
              "      <td>Asia</td>\n",
              "      <td>2020</td>\n",
              "      <td>$140M</td>\n",
              "      <td>Andreessen Horowitz, DST Global, IDG Capital</td>\n",
              "      <td>2021</td>\n",
              "      <td>1</td>\n",
              "    </tr>\n",
              "    <tr>\n",
              "      <th>980</th>\n",
              "      <td>NIUM</td>\n",
              "      <td>$1B</td>\n",
              "      <td>2021-07-13</td>\n",
              "      <td>Fintech</td>\n",
              "      <td>Bengaluru</td>\n",
              "      <td>Singapore</td>\n",
              "      <td>Asia</td>\n",
              "      <td>2014</td>\n",
              "      <td>$285M</td>\n",
              "      <td>Vertex Ventures SE Asia, Global Founders Capit...</td>\n",
              "      <td>2021</td>\n",
              "      <td>1</td>\n",
              "    </tr>\n",
              "    <tr>\n",
              "      <th>986</th>\n",
              "      <td>ONE</td>\n",
              "      <td>$1B</td>\n",
              "      <td>2021-12-08</td>\n",
              "      <td>Internet software &amp; services</td>\n",
              "      <td>New York</td>\n",
              "      <td>Singapore</td>\n",
              "      <td>Asia</td>\n",
              "      <td>2011</td>\n",
              "      <td>$515M</td>\n",
              "      <td>Temasek, Guggenheim Investments, Qatar Investm...</td>\n",
              "      <td>2021</td>\n",
              "      <td>1</td>\n",
              "    </tr>\n",
              "    <tr>\n",
              "      <th>994</th>\n",
              "      <td>PatSnap</td>\n",
              "      <td>$1B</td>\n",
              "      <td>2021-03-16</td>\n",
              "      <td>Internet software &amp; services</td>\n",
              "      <td>London</td>\n",
              "      <td>Singapore</td>\n",
              "      <td>Asia</td>\n",
              "      <td>2007</td>\n",
              "      <td>$352M</td>\n",
              "      <td>Sequoia Capital China, Shunwei Capital Partner...</td>\n",
              "      <td>2021</td>\n",
              "      <td>1</td>\n",
              "    </tr>\n",
              "    <tr>\n",
              "      <th>1061</th>\n",
              "      <td>WeLab</td>\n",
              "      <td>$1B</td>\n",
              "      <td>2017-11-08</td>\n",
              "      <td>Fintech</td>\n",
              "      <td>Beijing</td>\n",
              "      <td>Hong Kong</td>\n",
              "      <td>Asia</td>\n",
              "      <td>2013</td>\n",
              "      <td>$871M</td>\n",
              "      <td>Sequoia Capital China, ING, Alibaba Entreprene...</td>\n",
              "      <td>2017</td>\n",
              "      <td>1</td>\n",
              "    </tr>\n",
              "  </tbody>\n",
              "</table>\n",
              "</div>"
            ],
            "text/plain": [
              "                         Company Valuation Date Joined  \\\n",
              "12                           FTX      $32B  2021-07-20   \n",
              "170                    HyalRoute       $4B  2020-05-26   \n",
              "242                       Moglix       $3B  2021-05-17   \n",
              "251                         Trax       $3B  2019-07-22   \n",
              "325                  Amber Group       $3B  2021-06-21   \n",
              "382                    Ninja Van       $2B  2021-09-27   \n",
              "541   Advance Intelligence Group       $2B  2021-09-23   \n",
              "629             LinkSure Network       $1B  2015-01-01   \n",
              "811                    Carousell       $1B  2021-09-15   \n",
              "848                   Matrixport       $1B  2021-06-01   \n",
              "880                     bolttech       $1B  2021-07-01   \n",
              "889                        Carro       $1B  2021-06-14   \n",
              "893                        Cider       $1B  2021-09-02   \n",
              "980                         NIUM       $1B  2021-07-13   \n",
              "986                          ONE       $1B  2021-12-08   \n",
              "994                      PatSnap       $1B  2021-03-16   \n",
              "1061                       WeLab       $1B  2017-11-08   \n",
              "\n",
              "                                 Industry           City    Country  \\\n",
              "12                                Fintech   Jacksonville    Bahamas   \n",
              "170           Mobile & telecommunications     El Segundo  Singapore   \n",
              "242       E-commerce & direct-to-consumer  San Francisco  Singapore   \n",
              "251               Artificial intelligence      Amsterdam  Singapore   \n",
              "325                               Fintech  San Francisco  Hong Kong   \n",
              "382   Supply chain, logistics, & delivery  San Francisco  Singapore   \n",
              "541               Artificial intelligence       Helsinki  Singapore   \n",
              "629           Mobile & telecommunications       Shanghai      China   \n",
              "811       E-commerce & direct-to-consumer       New York  Singapore   \n",
              "848                               Fintech  San Francisco  Singapore   \n",
              "880                               Fintech      Englewood  Singapore   \n",
              "889       E-commerce & direct-to-consumer        Lincoln  Singapore   \n",
              "893       E-commerce & direct-to-consumer    Mexico City  Hong Kong   \n",
              "980                               Fintech      Bengaluru  Singapore   \n",
              "986          Internet software & services       New York  Singapore   \n",
              "994          Internet software & services         London  Singapore   \n",
              "1061                              Fintech        Beijing  Hong Kong   \n",
              "\n",
              "          Continent  Year Founded Funding  \\\n",
              "12    North America          2018     $2B   \n",
              "170            Asia          2015   $263M   \n",
              "242            Asia          2015   $471M   \n",
              "251            Asia          2010     $1B   \n",
              "325            Asia          2015   $328M   \n",
              "382            Asia          2014   $975M   \n",
              "541            Asia          2016   $536M   \n",
              "629            Asia          2013    $52M   \n",
              "811            Asia          2012   $288M   \n",
              "848            Asia          2019   $100M   \n",
              "880            Asia          2018   $210M   \n",
              "889            Asia          2015   $595M   \n",
              "893            Asia          2020   $140M   \n",
              "980            Asia          2014   $285M   \n",
              "986            Asia          2011   $515M   \n",
              "994            Asia          2007   $352M   \n",
              "1061           Asia          2013   $871M   \n",
              "\n",
              "                                       Select Investors  Year Joined  \\\n",
              "12               Sequoia Capital, Thoma Bravo, Softbank         2021   \n",
              "170                                           Kuang-Chi         2020   \n",
              "242             Jungle Ventures, Accel, Venture Highway         2021   \n",
              "251   Hopu Investment Management, Boyu Capital, DC T...         2019   \n",
              "325   Tiger Global Management, Tiger Brokers, DCM Ve...         2021   \n",
              "382   B Capital Group, Monk's Hill Ventures, Dynamic...         2021   \n",
              "541         Vision Plus Capital, GSR Ventures, ZhenFund         2021   \n",
              "629   Sequoia Capital India, The Times Group, GMO Ve...         2015   \n",
              "811   500 Global, Rakuten Ventures, Golden Gate Vent...         2021   \n",
              "848   Dragonfly Captial, Qiming Venture Partners, DS...         2021   \n",
              "880   Mundi Ventures, Doqling Capital Partners, Acti...         2021   \n",
              "889   SingTel Innov8, Alpha JWC Ventures, Golden Gat...         2021   \n",
              "893        Andreessen Horowitz, DST Global, IDG Capital         2021   \n",
              "980   Vertex Ventures SE Asia, Global Founders Capit...         2021   \n",
              "986   Temasek, Guggenheim Investments, Qatar Investm...         2021   \n",
              "994   Sequoia Capital China, Shunwei Capital Partner...         2021   \n",
              "1061  Sequoia Capital China, ING, Alibaba Entreprene...         2017   \n",
              "\n",
              "      Valuation_num  \n",
              "12               32  \n",
              "170               4  \n",
              "242               3  \n",
              "251               3  \n",
              "325               3  \n",
              "382               2  \n",
              "541               2  \n",
              "629               1  \n",
              "811               1  \n",
              "848               1  \n",
              "880               1  \n",
              "889               1  \n",
              "893               1  \n",
              "980               1  \n",
              "986               1  \n",
              "994               1  \n",
              "1061              1  "
            ]
          },
          "execution_count": 19,
          "metadata": {},
          "output_type": "execute_result"
        }
      ],
      "source": [
        "# 1. Fill missing values using the 'fillna()' method, back-filling\n",
        "\n",
        "df_companies_backfill = df_companies.fillna(method='backfill')\n",
        "\n",
        "# 2. Show the rows that previously had missing values\n",
        "\n",
        "df_companies_backfill.iloc[df_missing_rows.index, :]"
      ]
    },
    {
      "cell_type": "markdown",
      "id": "1ecCgRyiXw0Y",
      "metadata": {
        "id": "1ecCgRyiXw0Y"
      },
      "source": [
        "**Question: Do the values that were used to fill in for the missing values make sense?**\n"
      ]
    },
    {
      "cell_type": "markdown",
      "id": "Xb9TRrQxXw0Y",
      "metadata": {
        "id": "Xb9TRrQxXw0Y"
      },
      "source": [
        "- No, the cities, countries, and continents don't correspond with one another."
      ]
    },
    {
      "cell_type": "markdown",
      "id": "-Ftb2ZCrXw0Y",
      "metadata": {
        "id": "-Ftb2ZCrXw0Y"
      },
      "source": [
        "Another option is to fill the values with a certain value, such as 'Unknown'. However, doing so doesn’t add any value to the dataset and could make finding the missing values difficult in the future. Reviewing the missing values in this dataset determines that it is fine to leave the values as they are. This also avoids adding bias to the dataset."
      ]
    },
    {
      "cell_type": "markdown",
      "id": "f09108ed",
      "metadata": {
        "id": "f09108ed"
      },
      "source": [
        "## Step 4: Results and evaluation"
      ]
    },
    {
      "cell_type": "markdown",
      "id": "2ff21c18",
      "metadata": {
        "id": "2ff21c18"
      },
      "source": [
        "Now that I've addressed the missing values, I'll provide the investors with their requested data points."
      ]
    },
    {
      "cell_type": "markdown",
      "id": "54438f3c",
      "metadata": {
        "id": "54438f3c"
      },
      "source": [
        "### Companies in the `Hardware` Industry\n",
        "\n",
        "The investor is interested in identifying unicorn companies in the `Hardware` industry in the following cities: `Beijing`, `San Francisco`, and `London`. They are also interested in companies in the `Artificial intelligence` industry in `London`.\n",
        "\n",
        "1. Create a mask to apply to the `df_companies` dataframe. The following logic is a pseudo-code representation of how this mask could be structured.\n",
        "\n",
        "2. Apply the mask to the `df_companies` dataframe and assign the result to a new variable called `df_invest`."
      ]
    },
    {
      "cell_type": "code",
      "execution_count": 20,
      "id": "HTcm42EMIXuG",
      "metadata": {
        "id": "HTcm42EMIXuG",
        "outputId": "e5026be1-5acb-4a82-9cbe-f5372f7986ed"
      },
      "outputs": [
        {
          "data": {
            "text/html": [
              "<div>\n",
              "<style scoped>\n",
              "    .dataframe tbody tr th:only-of-type {\n",
              "        vertical-align: middle;\n",
              "    }\n",
              "\n",
              "    .dataframe tbody tr th {\n",
              "        vertical-align: top;\n",
              "    }\n",
              "\n",
              "    .dataframe thead th {\n",
              "        text-align: right;\n",
              "    }\n",
              "</style>\n",
              "<table border=\"1\" class=\"dataframe\">\n",
              "  <thead>\n",
              "    <tr style=\"text-align: right;\">\n",
              "      <th></th>\n",
              "      <th>Company</th>\n",
              "      <th>Valuation</th>\n",
              "      <th>Date Joined</th>\n",
              "      <th>Industry</th>\n",
              "      <th>City</th>\n",
              "      <th>Country</th>\n",
              "      <th>Continent</th>\n",
              "      <th>Year Founded</th>\n",
              "      <th>Funding</th>\n",
              "      <th>Select Investors</th>\n",
              "      <th>Year Joined</th>\n",
              "      <th>Valuation_num</th>\n",
              "    </tr>\n",
              "  </thead>\n",
              "  <tbody>\n",
              "    <tr>\n",
              "      <th>36</th>\n",
              "      <td>Bitmain</td>\n",
              "      <td>$12B</td>\n",
              "      <td>2018-07-06</td>\n",
              "      <td>Hardware</td>\n",
              "      <td>Beijing</td>\n",
              "      <td>China</td>\n",
              "      <td>Asia</td>\n",
              "      <td>2015</td>\n",
              "      <td>$765M</td>\n",
              "      <td>Coatue Management, Sequoia Capital China, IDG ...</td>\n",
              "      <td>2018</td>\n",
              "      <td>12</td>\n",
              "    </tr>\n",
              "    <tr>\n",
              "      <th>43</th>\n",
              "      <td>Global Switch</td>\n",
              "      <td>$11B</td>\n",
              "      <td>2016-12-22</td>\n",
              "      <td>Hardware</td>\n",
              "      <td>London</td>\n",
              "      <td>United Kingdom</td>\n",
              "      <td>Europe</td>\n",
              "      <td>1998</td>\n",
              "      <td>$5B</td>\n",
              "      <td>Aviation Industry Corporation of China, Essenc...</td>\n",
              "      <td>2016</td>\n",
              "      <td>11</td>\n",
              "    </tr>\n",
              "    <tr>\n",
              "      <th>147</th>\n",
              "      <td>Chipone</td>\n",
              "      <td>$5B</td>\n",
              "      <td>2021-12-16</td>\n",
              "      <td>Hardware</td>\n",
              "      <td>Beijing</td>\n",
              "      <td>China</td>\n",
              "      <td>Asia</td>\n",
              "      <td>2008</td>\n",
              "      <td>$1B</td>\n",
              "      <td>China Grand Prosperity Investment, Silk Road H...</td>\n",
              "      <td>2021</td>\n",
              "      <td>5</td>\n",
              "    </tr>\n",
              "    <tr>\n",
              "      <th>873</th>\n",
              "      <td>BenevolentAI</td>\n",
              "      <td>$1B</td>\n",
              "      <td>2015-06-02</td>\n",
              "      <td>Artificial intelligence</td>\n",
              "      <td>London</td>\n",
              "      <td>United Kingdom</td>\n",
              "      <td>Europe</td>\n",
              "      <td>2013</td>\n",
              "      <td>$292M</td>\n",
              "      <td>Woodford Investment Management</td>\n",
              "      <td>2015</td>\n",
              "      <td>1</td>\n",
              "    </tr>\n",
              "    <tr>\n",
              "      <th>923</th>\n",
              "      <td>Geek+</td>\n",
              "      <td>$1B</td>\n",
              "      <td>2018-11-21</td>\n",
              "      <td>Hardware</td>\n",
              "      <td>Beijing</td>\n",
              "      <td>China</td>\n",
              "      <td>Asia</td>\n",
              "      <td>2015</td>\n",
              "      <td>$439M</td>\n",
              "      <td>Volcanics Ventures, Vertex Ventures China, War...</td>\n",
              "      <td>2018</td>\n",
              "      <td>1</td>\n",
              "    </tr>\n",
              "    <tr>\n",
              "      <th>1040</th>\n",
              "      <td>TERMINUS Technology</td>\n",
              "      <td>$1B</td>\n",
              "      <td>2018-10-25</td>\n",
              "      <td>Hardware</td>\n",
              "      <td>Beijing</td>\n",
              "      <td>China</td>\n",
              "      <td>Asia</td>\n",
              "      <td>2015</td>\n",
              "      <td>$623M</td>\n",
              "      <td>China Everbright Limited, IDG Capital, iFLYTEK</td>\n",
              "      <td>2018</td>\n",
              "      <td>1</td>\n",
              "    </tr>\n",
              "    <tr>\n",
              "      <th>1046</th>\n",
              "      <td>Tractable</td>\n",
              "      <td>$1B</td>\n",
              "      <td>2021-06-16</td>\n",
              "      <td>Artificial intelligence</td>\n",
              "      <td>London</td>\n",
              "      <td>United Kingdom</td>\n",
              "      <td>Europe</td>\n",
              "      <td>2014</td>\n",
              "      <td>$120M</td>\n",
              "      <td>Insight Partners, Ignition Partners, Georgian ...</td>\n",
              "      <td>2021</td>\n",
              "      <td>1</td>\n",
              "    </tr>\n",
              "  </tbody>\n",
              "</table>\n",
              "</div>"
            ],
            "text/plain": [
              "                  Company Valuation Date Joined                 Industry  \\\n",
              "36                Bitmain      $12B  2018-07-06                 Hardware   \n",
              "43          Global Switch      $11B  2016-12-22                 Hardware   \n",
              "147               Chipone       $5B  2021-12-16                 Hardware   \n",
              "873          BenevolentAI       $1B  2015-06-02  Artificial intelligence   \n",
              "923                 Geek+       $1B  2018-11-21                 Hardware   \n",
              "1040  TERMINUS Technology       $1B  2018-10-25                 Hardware   \n",
              "1046            Tractable       $1B  2021-06-16  Artificial intelligence   \n",
              "\n",
              "         City         Country Continent  Year Founded Funding  \\\n",
              "36    Beijing           China      Asia          2015   $765M   \n",
              "43     London  United Kingdom    Europe          1998     $5B   \n",
              "147   Beijing           China      Asia          2008     $1B   \n",
              "873    London  United Kingdom    Europe          2013   $292M   \n",
              "923   Beijing           China      Asia          2015   $439M   \n",
              "1040  Beijing           China      Asia          2015   $623M   \n",
              "1046   London  United Kingdom    Europe          2014   $120M   \n",
              "\n",
              "                                       Select Investors  Year Joined  \\\n",
              "36    Coatue Management, Sequoia Capital China, IDG ...         2018   \n",
              "43    Aviation Industry Corporation of China, Essenc...         2016   \n",
              "147   China Grand Prosperity Investment, Silk Road H...         2021   \n",
              "873                      Woodford Investment Management         2015   \n",
              "923   Volcanics Ventures, Vertex Ventures China, War...         2018   \n",
              "1040     China Everbright Limited, IDG Capital, iFLYTEK         2018   \n",
              "1046  Insight Partners, Ignition Partners, Georgian ...         2021   \n",
              "\n",
              "      Valuation_num  \n",
              "36               12  \n",
              "43               11  \n",
              "147               5  \n",
              "873               1  \n",
              "923               1  \n",
              "1040              1  \n",
              "1046              1  "
            ]
          },
          "execution_count": 20,
          "metadata": {},
          "output_type": "execute_result"
        }
      ],
      "source": [
        "# 1. Create a Boolean mask using conditional logic\n",
        "\n",
        "mask = (\n",
        "    (df_companies['Industry']=='Hardware') & (df_companies['City'].isin(['Beijing', 'San Franciso', 'London']))\n",
        ") | (\n",
        "    (df_companies['Industry']=='Artificial intelligence') & (df_companies['City']=='London')\n",
        ")\n",
        "# 2. Apply the mask to the `df_companies` dataframe and assign the results to `df_invest`\n",
        "\n",
        "df_invest = df_companies[mask]\n",
        "df_invest"
      ]
    },
    {
      "cell_type": "code",
      "execution_count": 21,
      "id": "BBYxBfZqXw0Z",
      "metadata": {
        "id": "BBYxBfZqXw0Z",
        "outputId": "8ad344a5-760c-4aec-dcf1-89f3e5ce570a"
      },
      "outputs": [
        {
          "data": {
            "text/plain": [
              "Hardware                   5\n",
              "Artificial intelligence    2\n",
              "Name: Industry, dtype: int64"
            ]
          },
          "execution_count": 21,
          "metadata": {},
          "output_type": "execute_result"
        }
      ],
      "source": [
        "df_invest['Industry'].value_counts()"
      ]
    },
    {
      "cell_type": "markdown",
      "id": "iIaB-J0SXw0Z",
      "metadata": {
        "id": "iIaB-J0SXw0Z"
      },
      "source": [
        "**Question: How many companies meet the criteria given by the investor?**\n"
      ]
    },
    {
      "cell_type": "markdown",
      "id": "P76XnZ-wXw0Z",
      "metadata": {
        "id": "P76XnZ-wXw0Z"
      },
      "source": [
        "- There are 5 hardware companies and 2 artificial intelligence companies"
      ]
    },
    {
      "cell_type": "markdown",
      "id": "5446b7aa",
      "metadata": {
        "id": "5446b7aa"
      },
      "source": [
        "### List of countries by sum of valuation"
      ]
    },
    {
      "cell_type": "markdown",
      "id": "5606ef21",
      "metadata": {
        "id": "5606ef21"
      },
      "source": [
        "For each country, sum the valuations of all companies in that country, then sort the results in descending order by summed valuation. Assign the results to a variable called `national_valuations`."
      ]
    },
    {
      "cell_type": "code",
      "execution_count": 22,
      "id": "097dfa19",
      "metadata": {
        "id": "097dfa19",
        "outputId": "abc53b37-b800-4866-ef79-537429a9d403"
      },
      "outputs": [
        {
          "data": {
            "text/html": [
              "<div>\n",
              "<style scoped>\n",
              "    .dataframe tbody tr th:only-of-type {\n",
              "        vertical-align: middle;\n",
              "    }\n",
              "\n",
              "    .dataframe tbody tr th {\n",
              "        vertical-align: top;\n",
              "    }\n",
              "\n",
              "    .dataframe thead th {\n",
              "        text-align: right;\n",
              "    }\n",
              "</style>\n",
              "<table border=\"1\" class=\"dataframe\">\n",
              "  <thead>\n",
              "    <tr style=\"text-align: right;\">\n",
              "      <th></th>\n",
              "      <th>Country</th>\n",
              "      <th>Valuation_num</th>\n",
              "    </tr>\n",
              "  </thead>\n",
              "  <tbody>\n",
              "    <tr>\n",
              "      <th>0</th>\n",
              "      <td>United States</td>\n",
              "      <td>1933</td>\n",
              "    </tr>\n",
              "    <tr>\n",
              "      <th>1</th>\n",
              "      <td>China</td>\n",
              "      <td>696</td>\n",
              "    </tr>\n",
              "    <tr>\n",
              "      <th>2</th>\n",
              "      <td>India</td>\n",
              "      <td>196</td>\n",
              "    </tr>\n",
              "    <tr>\n",
              "      <th>3</th>\n",
              "      <td>United Kingdom</td>\n",
              "      <td>195</td>\n",
              "    </tr>\n",
              "    <tr>\n",
              "      <th>4</th>\n",
              "      <td>Germany</td>\n",
              "      <td>72</td>\n",
              "    </tr>\n",
              "    <tr>\n",
              "      <th>5</th>\n",
              "      <td>Sweden</td>\n",
              "      <td>63</td>\n",
              "    </tr>\n",
              "    <tr>\n",
              "      <th>6</th>\n",
              "      <td>Australia</td>\n",
              "      <td>56</td>\n",
              "    </tr>\n",
              "    <tr>\n",
              "      <th>7</th>\n",
              "      <td>France</td>\n",
              "      <td>55</td>\n",
              "    </tr>\n",
              "    <tr>\n",
              "      <th>8</th>\n",
              "      <td>Canada</td>\n",
              "      <td>49</td>\n",
              "    </tr>\n",
              "    <tr>\n",
              "      <th>9</th>\n",
              "      <td>South Korea</td>\n",
              "      <td>41</td>\n",
              "    </tr>\n",
              "    <tr>\n",
              "      <th>10</th>\n",
              "      <td>Israel</td>\n",
              "      <td>39</td>\n",
              "    </tr>\n",
              "    <tr>\n",
              "      <th>11</th>\n",
              "      <td>Brazil</td>\n",
              "      <td>37</td>\n",
              "    </tr>\n",
              "    <tr>\n",
              "      <th>12</th>\n",
              "      <td>Bahamas</td>\n",
              "      <td>32</td>\n",
              "    </tr>\n",
              "    <tr>\n",
              "      <th>13</th>\n",
              "      <td>Indonesia</td>\n",
              "      <td>28</td>\n",
              "    </tr>\n",
              "    <tr>\n",
              "      <th>14</th>\n",
              "      <td>Singapore</td>\n",
              "      <td>21</td>\n",
              "    </tr>\n",
              "  </tbody>\n",
              "</table>\n",
              "</div>"
            ],
            "text/plain": [
              "           Country  Valuation_num\n",
              "0    United States           1933\n",
              "1            China            696\n",
              "2            India            196\n",
              "3   United Kingdom            195\n",
              "4          Germany             72\n",
              "5           Sweden             63\n",
              "6        Australia             56\n",
              "7           France             55\n",
              "8           Canada             49\n",
              "9      South Korea             41\n",
              "10          Israel             39\n",
              "11          Brazil             37\n",
              "12         Bahamas             32\n",
              "13       Indonesia             28\n",
              "14       Singapore             21"
            ]
          },
          "execution_count": 22,
          "metadata": {},
          "output_type": "execute_result"
        }
      ],
      "source": [
        "# Group the data by`Country/Region`\n",
        "\n",
        "national_valuations = (df_companies\n",
        "                       .groupby(['Country'])['Valuation_num']\n",
        "                       .sum()\n",
        "                       .sort_values(ascending=False)\n",
        "                       .reset_index()\n",
        "                      )\n",
        "# Print the top 15 values of the DataFrame.\n",
        "\n",
        "national_valuations.head(15)"
      ]
    },
    {
      "cell_type": "markdown",
      "id": "ePL-Wvprcjiz",
      "metadata": {
        "id": "ePL-Wvprcjiz"
      },
      "source": [
        "**Question: Which countries have the highest sum of valuation?**"
      ]
    },
    {
      "cell_type": "markdown",
      "id": "bwc5EGrPTk6U",
      "metadata": {
        "id": "bwc5EGrPTk6U"
      },
      "source": [
        "- The top 4 companies with the highest valuation are United States, China, India, and United Kingdom, respectively"
      ]
    },
    {
      "cell_type": "markdown",
      "id": "JM0yLhuXeXb4",
      "metadata": {
        "id": "JM0yLhuXeXb4"
      },
      "source": [
        "### Filter out top 4 outlying countries"
      ]
    },
    {
      "cell_type": "markdown",
      "id": "qnjzUpXVXw0Z",
      "metadata": {
        "id": "qnjzUpXVXw0Z"
      },
      "source": [
        "Use this grouped and summed data to plot a barplot. However, to meet the needs of the stakeholder, I must first remove the United States, China, India, and the United Kingdom. Remove these countries from `national_valuations` and reassign the results to a variable called `national_valuations_no_big4`."
      ]
    },
    {
      "cell_type": "code",
      "execution_count": 23,
      "id": "94223263",
      "metadata": {
        "id": "94223263",
        "outputId": "2551041b-9289-47d6-8392-bef65734b026"
      },
      "outputs": [
        {
          "data": {
            "text/html": [
              "<div>\n",
              "<style scoped>\n",
              "    .dataframe tbody tr th:only-of-type {\n",
              "        vertical-align: middle;\n",
              "    }\n",
              "\n",
              "    .dataframe tbody tr th {\n",
              "        vertical-align: top;\n",
              "    }\n",
              "\n",
              "    .dataframe thead th {\n",
              "        text-align: right;\n",
              "    }\n",
              "</style>\n",
              "<table border=\"1\" class=\"dataframe\">\n",
              "  <thead>\n",
              "    <tr style=\"text-align: right;\">\n",
              "      <th></th>\n",
              "      <th>Country</th>\n",
              "      <th>Valuation_num</th>\n",
              "    </tr>\n",
              "  </thead>\n",
              "  <tbody>\n",
              "    <tr>\n",
              "      <th>4</th>\n",
              "      <td>Germany</td>\n",
              "      <td>72</td>\n",
              "    </tr>\n",
              "    <tr>\n",
              "      <th>5</th>\n",
              "      <td>Sweden</td>\n",
              "      <td>63</td>\n",
              "    </tr>\n",
              "    <tr>\n",
              "      <th>6</th>\n",
              "      <td>Australia</td>\n",
              "      <td>56</td>\n",
              "    </tr>\n",
              "    <tr>\n",
              "      <th>7</th>\n",
              "      <td>France</td>\n",
              "      <td>55</td>\n",
              "    </tr>\n",
              "    <tr>\n",
              "      <th>8</th>\n",
              "      <td>Canada</td>\n",
              "      <td>49</td>\n",
              "    </tr>\n",
              "    <tr>\n",
              "      <th>9</th>\n",
              "      <td>South Korea</td>\n",
              "      <td>41</td>\n",
              "    </tr>\n",
              "    <tr>\n",
              "      <th>10</th>\n",
              "      <td>Israel</td>\n",
              "      <td>39</td>\n",
              "    </tr>\n",
              "    <tr>\n",
              "      <th>11</th>\n",
              "      <td>Brazil</td>\n",
              "      <td>37</td>\n",
              "    </tr>\n",
              "    <tr>\n",
              "      <th>12</th>\n",
              "      <td>Bahamas</td>\n",
              "      <td>32</td>\n",
              "    </tr>\n",
              "    <tr>\n",
              "      <th>13</th>\n",
              "      <td>Indonesia</td>\n",
              "      <td>28</td>\n",
              "    </tr>\n",
              "    <tr>\n",
              "      <th>14</th>\n",
              "      <td>Singapore</td>\n",
              "      <td>21</td>\n",
              "    </tr>\n",
              "    <tr>\n",
              "      <th>15</th>\n",
              "      <td>Netherlands</td>\n",
              "      <td>19</td>\n",
              "    </tr>\n",
              "    <tr>\n",
              "      <th>16</th>\n",
              "      <td>Hong Kong</td>\n",
              "      <td>18</td>\n",
              "    </tr>\n",
              "    <tr>\n",
              "      <th>17</th>\n",
              "      <td>Turkey</td>\n",
              "      <td>16</td>\n",
              "    </tr>\n",
              "    <tr>\n",
              "      <th>18</th>\n",
              "      <td>Mexico</td>\n",
              "      <td>16</td>\n",
              "    </tr>\n",
              "    <tr>\n",
              "      <th>19</th>\n",
              "      <td>Estonia</td>\n",
              "      <td>13</td>\n",
              "    </tr>\n",
              "    <tr>\n",
              "      <th>20</th>\n",
              "      <td>Finland</td>\n",
              "      <td>12</td>\n",
              "    </tr>\n",
              "    <tr>\n",
              "      <th>21</th>\n",
              "      <td>Ireland</td>\n",
              "      <td>9</td>\n",
              "    </tr>\n",
              "    <tr>\n",
              "      <th>22</th>\n",
              "      <td>Switzerland</td>\n",
              "      <td>8</td>\n",
              "    </tr>\n",
              "    <tr>\n",
              "      <th>23</th>\n",
              "      <td>Japan</td>\n",
              "      <td>8</td>\n",
              "    </tr>\n",
              "    <tr>\n",
              "      <th>24</th>\n",
              "      <td>Belgium</td>\n",
              "      <td>8</td>\n",
              "    </tr>\n",
              "    <tr>\n",
              "      <th>25</th>\n",
              "      <td>Denmark</td>\n",
              "      <td>7</td>\n",
              "    </tr>\n",
              "    <tr>\n",
              "      <th>26</th>\n",
              "      <td>Austria</td>\n",
              "      <td>7</td>\n",
              "    </tr>\n",
              "    <tr>\n",
              "      <th>27</th>\n",
              "      <td>Colombia</td>\n",
              "      <td>6</td>\n",
              "    </tr>\n",
              "    <tr>\n",
              "      <th>28</th>\n",
              "      <td>Norway</td>\n",
              "      <td>5</td>\n",
              "    </tr>\n",
              "    <tr>\n",
              "      <th>29</th>\n",
              "      <td>Vietnam</td>\n",
              "      <td>5</td>\n",
              "    </tr>\n",
              "    <tr>\n",
              "      <th>30</th>\n",
              "      <td>Lithuania</td>\n",
              "      <td>5</td>\n",
              "    </tr>\n",
              "    <tr>\n",
              "      <th>31</th>\n",
              "      <td>United Arab Emirates</td>\n",
              "      <td>5</td>\n",
              "    </tr>\n",
              "    <tr>\n",
              "      <th>32</th>\n",
              "      <td>Spain</td>\n",
              "      <td>4</td>\n",
              "    </tr>\n",
              "    <tr>\n",
              "      <th>33</th>\n",
              "      <td>Chile</td>\n",
              "      <td>3</td>\n",
              "    </tr>\n",
              "    <tr>\n",
              "      <th>34</th>\n",
              "      <td>Philippines</td>\n",
              "      <td>3</td>\n",
              "    </tr>\n",
              "    <tr>\n",
              "      <th>35</th>\n",
              "      <td>South Africa</td>\n",
              "      <td>3</td>\n",
              "    </tr>\n",
              "    <tr>\n",
              "      <th>36</th>\n",
              "      <td>Thailand</td>\n",
              "      <td>3</td>\n",
              "    </tr>\n",
              "    <tr>\n",
              "      <th>37</th>\n",
              "      <td>Argentina</td>\n",
              "      <td>2</td>\n",
              "    </tr>\n",
              "    <tr>\n",
              "      <th>38</th>\n",
              "      <td>Senegal</td>\n",
              "      <td>2</td>\n",
              "    </tr>\n",
              "    <tr>\n",
              "      <th>39</th>\n",
              "      <td>Nigeria</td>\n",
              "      <td>2</td>\n",
              "    </tr>\n",
              "    <tr>\n",
              "      <th>40</th>\n",
              "      <td>Malaysia</td>\n",
              "      <td>2</td>\n",
              "    </tr>\n",
              "    <tr>\n",
              "      <th>41</th>\n",
              "      <td>Luxembourg</td>\n",
              "      <td>2</td>\n",
              "    </tr>\n",
              "    <tr>\n",
              "      <th>42</th>\n",
              "      <td>Bermuda</td>\n",
              "      <td>2</td>\n",
              "    </tr>\n",
              "    <tr>\n",
              "      <th>43</th>\n",
              "      <td>Czech Republic</td>\n",
              "      <td>1</td>\n",
              "    </tr>\n",
              "    <tr>\n",
              "      <th>44</th>\n",
              "      <td>Croatia</td>\n",
              "      <td>1</td>\n",
              "    </tr>\n",
              "    <tr>\n",
              "      <th>45</th>\n",
              "      <td>Italy</td>\n",
              "      <td>1</td>\n",
              "    </tr>\n",
              "  </tbody>\n",
              "</table>\n",
              "</div>"
            ],
            "text/plain": [
              "                 Country  Valuation_num\n",
              "4                Germany             72\n",
              "5                 Sweden             63\n",
              "6              Australia             56\n",
              "7                 France             55\n",
              "8                 Canada             49\n",
              "9            South Korea             41\n",
              "10                Israel             39\n",
              "11                Brazil             37\n",
              "12               Bahamas             32\n",
              "13             Indonesia             28\n",
              "14             Singapore             21\n",
              "15           Netherlands             19\n",
              "16             Hong Kong             18\n",
              "17                Turkey             16\n",
              "18                Mexico             16\n",
              "19               Estonia             13\n",
              "20               Finland             12\n",
              "21               Ireland              9\n",
              "22           Switzerland              8\n",
              "23                 Japan              8\n",
              "24               Belgium              8\n",
              "25               Denmark              7\n",
              "26               Austria              7\n",
              "27              Colombia              6\n",
              "28                Norway              5\n",
              "29               Vietnam              5\n",
              "30             Lithuania              5\n",
              "31  United Arab Emirates              5\n",
              "32                 Spain              4\n",
              "33                 Chile              3\n",
              "34           Philippines              3\n",
              "35          South Africa              3\n",
              "36              Thailand              3\n",
              "37             Argentina              2\n",
              "38               Senegal              2\n",
              "39               Nigeria              2\n",
              "40              Malaysia              2\n",
              "41            Luxembourg              2\n",
              "42               Bermuda              2\n",
              "43        Czech Republic              1\n",
              "44               Croatia              1\n",
              "45                 Italy              1"
            ]
          },
          "execution_count": 23,
          "metadata": {},
          "output_type": "execute_result"
        }
      ],
      "source": [
        "# Remove outlying countries\n",
        "\n",
        "national_valuations_no_big4 = national_valuations[4:]\n",
        "\n",
        "national_valuations_no_big4"
      ]
    },
    {
      "cell_type": "markdown",
      "id": "bb8e3be2",
      "metadata": {
        "id": "bb8e3be2"
      },
      "source": [
        "Alternative approach\n",
        "\n",
        "It's also possible to use `isin()` to create a Boolean mask to filter out specific values of the `Country` column. In this case, this process is longer and more complicated than simply using the iloc[] statement. However, there will be situations where this is the most direct approach."
      ]
    },
    {
      "cell_type": "code",
      "execution_count": 24,
      "id": "a782354c",
      "metadata": {
        "id": "a782354c",
        "outputId": "7ba07d2a-a530-4ab2-80a3-caaf8651fb3e"
      },
      "outputs": [
        {
          "data": {
            "text/html": [
              "<div>\n",
              "<style scoped>\n",
              "    .dataframe tbody tr th:only-of-type {\n",
              "        vertical-align: middle;\n",
              "    }\n",
              "\n",
              "    .dataframe tbody tr th {\n",
              "        vertical-align: top;\n",
              "    }\n",
              "\n",
              "    .dataframe thead th {\n",
              "        text-align: right;\n",
              "    }\n",
              "</style>\n",
              "<table border=\"1\" class=\"dataframe\">\n",
              "  <thead>\n",
              "    <tr style=\"text-align: right;\">\n",
              "      <th></th>\n",
              "      <th>Country</th>\n",
              "      <th>Valuation_num</th>\n",
              "    </tr>\n",
              "  </thead>\n",
              "  <tbody>\n",
              "    <tr>\n",
              "      <th>4</th>\n",
              "      <td>Germany</td>\n",
              "      <td>72</td>\n",
              "    </tr>\n",
              "    <tr>\n",
              "      <th>5</th>\n",
              "      <td>Sweden</td>\n",
              "      <td>63</td>\n",
              "    </tr>\n",
              "    <tr>\n",
              "      <th>6</th>\n",
              "      <td>Australia</td>\n",
              "      <td>56</td>\n",
              "    </tr>\n",
              "    <tr>\n",
              "      <th>7</th>\n",
              "      <td>France</td>\n",
              "      <td>55</td>\n",
              "    </tr>\n",
              "    <tr>\n",
              "      <th>8</th>\n",
              "      <td>Canada</td>\n",
              "      <td>49</td>\n",
              "    </tr>\n",
              "    <tr>\n",
              "      <th>9</th>\n",
              "      <td>South Korea</td>\n",
              "      <td>41</td>\n",
              "    </tr>\n",
              "    <tr>\n",
              "      <th>10</th>\n",
              "      <td>Israel</td>\n",
              "      <td>39</td>\n",
              "    </tr>\n",
              "    <tr>\n",
              "      <th>11</th>\n",
              "      <td>Brazil</td>\n",
              "      <td>37</td>\n",
              "    </tr>\n",
              "    <tr>\n",
              "      <th>12</th>\n",
              "      <td>Bahamas</td>\n",
              "      <td>32</td>\n",
              "    </tr>\n",
              "    <tr>\n",
              "      <th>13</th>\n",
              "      <td>Indonesia</td>\n",
              "      <td>28</td>\n",
              "    </tr>\n",
              "    <tr>\n",
              "      <th>14</th>\n",
              "      <td>Singapore</td>\n",
              "      <td>21</td>\n",
              "    </tr>\n",
              "    <tr>\n",
              "      <th>15</th>\n",
              "      <td>Netherlands</td>\n",
              "      <td>19</td>\n",
              "    </tr>\n",
              "    <tr>\n",
              "      <th>16</th>\n",
              "      <td>Hong Kong</td>\n",
              "      <td>18</td>\n",
              "    </tr>\n",
              "    <tr>\n",
              "      <th>17</th>\n",
              "      <td>Turkey</td>\n",
              "      <td>16</td>\n",
              "    </tr>\n",
              "    <tr>\n",
              "      <th>18</th>\n",
              "      <td>Mexico</td>\n",
              "      <td>16</td>\n",
              "    </tr>\n",
              "    <tr>\n",
              "      <th>19</th>\n",
              "      <td>Estonia</td>\n",
              "      <td>13</td>\n",
              "    </tr>\n",
              "    <tr>\n",
              "      <th>20</th>\n",
              "      <td>Finland</td>\n",
              "      <td>12</td>\n",
              "    </tr>\n",
              "    <tr>\n",
              "      <th>21</th>\n",
              "      <td>Ireland</td>\n",
              "      <td>9</td>\n",
              "    </tr>\n",
              "    <tr>\n",
              "      <th>22</th>\n",
              "      <td>Switzerland</td>\n",
              "      <td>8</td>\n",
              "    </tr>\n",
              "    <tr>\n",
              "      <th>23</th>\n",
              "      <td>Japan</td>\n",
              "      <td>8</td>\n",
              "    </tr>\n",
              "    <tr>\n",
              "      <th>24</th>\n",
              "      <td>Belgium</td>\n",
              "      <td>8</td>\n",
              "    </tr>\n",
              "    <tr>\n",
              "      <th>25</th>\n",
              "      <td>Denmark</td>\n",
              "      <td>7</td>\n",
              "    </tr>\n",
              "    <tr>\n",
              "      <th>26</th>\n",
              "      <td>Austria</td>\n",
              "      <td>7</td>\n",
              "    </tr>\n",
              "    <tr>\n",
              "      <th>27</th>\n",
              "      <td>Colombia</td>\n",
              "      <td>6</td>\n",
              "    </tr>\n",
              "    <tr>\n",
              "      <th>28</th>\n",
              "      <td>Norway</td>\n",
              "      <td>5</td>\n",
              "    </tr>\n",
              "    <tr>\n",
              "      <th>29</th>\n",
              "      <td>Vietnam</td>\n",
              "      <td>5</td>\n",
              "    </tr>\n",
              "    <tr>\n",
              "      <th>30</th>\n",
              "      <td>Lithuania</td>\n",
              "      <td>5</td>\n",
              "    </tr>\n",
              "    <tr>\n",
              "      <th>31</th>\n",
              "      <td>United Arab Emirates</td>\n",
              "      <td>5</td>\n",
              "    </tr>\n",
              "    <tr>\n",
              "      <th>32</th>\n",
              "      <td>Spain</td>\n",
              "      <td>4</td>\n",
              "    </tr>\n",
              "    <tr>\n",
              "      <th>33</th>\n",
              "      <td>Chile</td>\n",
              "      <td>3</td>\n",
              "    </tr>\n",
              "    <tr>\n",
              "      <th>34</th>\n",
              "      <td>Philippines</td>\n",
              "      <td>3</td>\n",
              "    </tr>\n",
              "    <tr>\n",
              "      <th>35</th>\n",
              "      <td>South Africa</td>\n",
              "      <td>3</td>\n",
              "    </tr>\n",
              "    <tr>\n",
              "      <th>36</th>\n",
              "      <td>Thailand</td>\n",
              "      <td>3</td>\n",
              "    </tr>\n",
              "    <tr>\n",
              "      <th>37</th>\n",
              "      <td>Argentina</td>\n",
              "      <td>2</td>\n",
              "    </tr>\n",
              "    <tr>\n",
              "      <th>38</th>\n",
              "      <td>Senegal</td>\n",
              "      <td>2</td>\n",
              "    </tr>\n",
              "    <tr>\n",
              "      <th>39</th>\n",
              "      <td>Nigeria</td>\n",
              "      <td>2</td>\n",
              "    </tr>\n",
              "    <tr>\n",
              "      <th>40</th>\n",
              "      <td>Malaysia</td>\n",
              "      <td>2</td>\n",
              "    </tr>\n",
              "    <tr>\n",
              "      <th>41</th>\n",
              "      <td>Luxembourg</td>\n",
              "      <td>2</td>\n",
              "    </tr>\n",
              "    <tr>\n",
              "      <th>42</th>\n",
              "      <td>Bermuda</td>\n",
              "      <td>2</td>\n",
              "    </tr>\n",
              "    <tr>\n",
              "      <th>43</th>\n",
              "      <td>Czech Republic</td>\n",
              "      <td>1</td>\n",
              "    </tr>\n",
              "    <tr>\n",
              "      <th>44</th>\n",
              "      <td>Croatia</td>\n",
              "      <td>1</td>\n",
              "    </tr>\n",
              "    <tr>\n",
              "      <th>45</th>\n",
              "      <td>Italy</td>\n",
              "      <td>1</td>\n",
              "    </tr>\n",
              "  </tbody>\n",
              "</table>\n",
              "</div>"
            ],
            "text/plain": [
              "                 Country  Valuation_num\n",
              "4                Germany             72\n",
              "5                 Sweden             63\n",
              "6              Australia             56\n",
              "7                 France             55\n",
              "8                 Canada             49\n",
              "9            South Korea             41\n",
              "10                Israel             39\n",
              "11                Brazil             37\n",
              "12               Bahamas             32\n",
              "13             Indonesia             28\n",
              "14             Singapore             21\n",
              "15           Netherlands             19\n",
              "16             Hong Kong             18\n",
              "17                Turkey             16\n",
              "18                Mexico             16\n",
              "19               Estonia             13\n",
              "20               Finland             12\n",
              "21               Ireland              9\n",
              "22           Switzerland              8\n",
              "23                 Japan              8\n",
              "24               Belgium              8\n",
              "25               Denmark              7\n",
              "26               Austria              7\n",
              "27              Colombia              6\n",
              "28                Norway              5\n",
              "29               Vietnam              5\n",
              "30             Lithuania              5\n",
              "31  United Arab Emirates              5\n",
              "32                 Spain              4\n",
              "33                 Chile              3\n",
              "34           Philippines              3\n",
              "35          South Africa              3\n",
              "36              Thailand              3\n",
              "37             Argentina              2\n",
              "38               Senegal              2\n",
              "39               Nigeria              2\n",
              "40              Malaysia              2\n",
              "41            Luxembourg              2\n",
              "42               Bermuda              2\n",
              "43        Czech Republic              1\n",
              "44               Croatia              1\n",
              "45                 Italy              1"
            ]
          },
          "execution_count": 24,
          "metadata": {},
          "output_type": "execute_result"
        }
      ],
      "source": [
        "# (Optional) Use `isin()` to create a Boolean mask to accomplish the same task\n",
        "\n",
        "mask = ~national_valuations['Country'].isin(['United States', 'China', 'India', 'United Kingdom'])\n",
        "\n",
        "national_valuations[mask]"
      ]
    },
    {
      "cell_type": "markdown",
      "id": "zur4LrxXXw0a",
      "metadata": {
        "id": "zur4LrxXXw0a"
      },
      "source": [
        "### Create barplot for top 20 non-big-4 countries"
      ]
    },
    {
      "cell_type": "markdown",
      "id": "liYyduxDXw0a",
      "metadata": {
        "id": "liYyduxDXw0a"
      },
      "source": [
        "Now, the data is ready to reveal the top 20 non-big-4 countries with the highest total company valuations. I will use seaborn's [`barplot()`](https://seaborn.pydata.org/generated/seaborn.barplot.html) function to create a plot showing national valuation on one axis and country on the other."
      ]
    },
    {
      "cell_type": "code",
      "execution_count": 25,
      "id": "4cd359c4",
      "metadata": {
        "id": "4cd359c4",
        "outputId": "0bcb5c75-295e-4df1-b1c9-7be78fb54b71"
      },
      "outputs": [
        {
          "data": {
            "image/png": "[encoded data removed]",
            "text/plain": [
              "<Figure size 1500x600 with 1 Axes>"
            ]
          },
          "metadata": {},
          "output_type": "display_data"
        }
      ],
      "source": [
        "# Create a barplot to compare the top 20 countries with highest company valuations.\n",
        "\n",
        "plt.figure(figsize=(15,6))\n",
        "sns.barplot(data = national_valuations_no_big4.head(20),\n",
        "            x = 'Valuation_num',\n",
        "            y = 'Country'\n",
        "           )\n",
        "plt.ylabel('Country',fontsize=13)\n",
        "plt.xlabel('Valuation in billions', fontsize=13)\n",
        "\n",
        "# Show the plot.\n",
        "\n",
        "plt.show()"
      ]
    },
    {
      "cell_type": "markdown",
      "id": "aca44e9f",
      "metadata": {
        "id": "aca44e9f"
      },
      "source": [
        "### Plot maps"
      ]
    },
    {
      "cell_type": "markdown",
      "id": "6875df3e",
      "metadata": {
        "id": "6875df3e"
      },
      "source": [
        "The investor has also asked for a global valuation map of all countries except `United States`, `China`, `India`, and `United Kingdom` (a.k.a. \"big-four countries\").\n",
        "\n",
        "To do this, I'll need to a create a `scatter_geo()` plot that depicts the total valuations of each non-big-four country on a world map, where each valuation is shown as a circle on the map, and the size of the circle is proportional to that country's summed valuation."
      ]
    },
    {
      "cell_type": "code",
      "execution_count": 26,
      "id": "c5089cf7",
      "metadata": {
        "id": "c5089cf7",
        "outputId": "7ba688b4-cf73-4b60-b6fd-f1712d23bfd2"
      },
      "outputs": [
        {
          "data": {
            "application/vnd.plotly.v1+json": {
              "config": {
                "plotlyServerURL": "https://plot.ly"
              },
              "data": [
                {
                  "geo": "geo",
                  "hovertemplate": "Country=%{location}<br>Valuation_num=%{marker.size}<extra></extra>",
                  "legendgroup": "Germany",
                  "locationmode": "country names",
                  "locations": [
                    "Germany"
                  ],
                  "marker": {
                    "color": "#636efa",
                    "size": [
                      72
                    ],
                    "sizemode": "area",
                    "sizeref": 0.18,
                    "symbol": "circle"
                  },
                  "mode": "markers",
                  "name": "Germany",
                  "showlegend": true,
                  "type": "scattergeo"
                },
                {
                  "geo": "geo",
                  "hovertemplate": "Country=%{location}<br>Valuation_num=%{marker.size}<extra></extra>",
                  "legendgroup": "Sweden",
                  "locationmode": "country names",
                  "locations": [
                    "Sweden"
                  ],
                  "marker": {
                    "color": "#EF553B",
                    "size": [
                      63
                    ],
                    "sizemode": "area",
                    "sizeref": 0.18,
                    "symbol": "circle"
                  },
                  "mode": "markers",
                  "name": "Sweden",
                  "showlegend": true,
                  "type": "scattergeo"
                },
                {
                  "geo": "geo",
                  "hovertemplate": "Country=%{location}<br>Valuation_num=%{marker.size}<extra></extra>",
                  "legendgroup": "Australia",
                  "locationmode": "country names",
                  "locations": [
                    "Australia"
                  ],
                  "marker": {
                    "color": "#00cc96",
                    "size": [
                      56
                    ],
                    "sizemode": "area",
                    "sizeref": 0.18,
                    "symbol": "circle"
                  },
                  "mode": "markers",
                  "name": "Australia",
                  "showlegend": true,
                  "type": "scattergeo"
                },
                {
                  "geo": "geo",
                  "hovertemplate": "Country=%{location}<br>Valuation_num=%{marker.size}<extra></extra>",
                  "legendgroup": "France",
                  "locationmode": "country names",
                  "locations": [
                    "France"
                  ],
                  "marker": {
                    "color": "#ab63fa",
                    "size": [
                      55
                    ],
                    "sizemode": "area",
                    "sizeref": 0.18,
                    "symbol": "circle"
                  },
                  "mode": "markers",
                  "name": "France",
                  "showlegend": true,
                  "type": "scattergeo"
                },
                {
                  "geo": "geo",
                  "hovertemplate": "Country=%{location}<br>Valuation_num=%{marker.size}<extra></extra>",
                  "legendgroup": "Canada",
                  "locationmode": "country names",
                  "locations": [
                    "Canada"
                  ],
                  "marker": {
                    "color": "#FFA15A",
                    "size": [
                      49
                    ],
                    "sizemode": "area",
                    "sizeref": 0.18,
                    "symbol": "circle"
                  },
                  "mode": "markers",
                  "name": "Canada",
                  "showlegend": true,
                  "type": "scattergeo"
                },
                {
                  "geo": "geo",
                  "hovertemplate": "Country=%{location}<br>Valuation_num=%{marker.size}<extra></extra>",
                  "legendgroup": "South Korea",
                  "locationmode": "country names",
                  "locations": [
                    "South Korea"
                  ],
                  "marker": {
                    "color": "#19d3f3",
                    "size": [
                      41
                    ],
                    "sizemode": "area",
                    "sizeref": 0.18,
                    "symbol": "circle"
                  },
                  "mode": "markers",
                  "name": "South Korea",
                  "showlegend": true,
                  "type": "scattergeo"
                },
                {
                  "geo": "geo",
                  "hovertemplate": "Country=%{location}<br>Valuation_num=%{marker.size}<extra></extra>",
                  "legendgroup": "Israel",
                  "locationmode": "country names",
                  "locations": [
                    "Israel"
                  ],
                  "marker": {
                    "color": "#FF6692",
                    "size": [
                      39
                    ],
                    "sizemode": "area",
                    "sizeref": 0.18,
                    "symbol": "circle"
                  },
                  "mode": "markers",
                  "name": "Israel",
                  "showlegend": true,
                  "type": "scattergeo"
                },
                {
                  "geo": "geo",
                  "hovertemplate": "Country=%{location}<br>Valuation_num=%{marker.size}<extra></extra>",
                  "legendgroup": "Brazil",
                  "locationmode": "country names",
                  "locations": [
                    "Brazil"
                  ],
                  "marker": {
                    "color": "#B6E880",
                    "size": [
                      37
                    ],
                    "sizemode": "area",
                    "sizeref": 0.18,
                    "symbol": "circle"
                  },
                  "mode": "markers",
                  "name": "Brazil",
                  "showlegend": true,
                  "type": "scattergeo"
                },
                {
                  "geo": "geo",
                  "hovertemplate": "Country=%{location}<br>Valuation_num=%{marker.size}<extra></extra>",
                  "legendgroup": "Bahamas",
                  "locationmode": "country names",
                  "locations": [
                    "Bahamas"
                  ],
                  "marker": {
                    "color": "#FF97FF",
                    "size": [
                      32
                    ],
                    "sizemode": "area",
                    "sizeref": 0.18,
                    "symbol": "circle"
                  },
                  "mode": "markers",
                  "name": "Bahamas",
                  "showlegend": true,
                  "type": "scattergeo"
                },
                {
                  "geo": "geo",
                  "hovertemplate": "Country=%{location}<br>Valuation_num=%{marker.size}<extra></extra>",
                  "legendgroup": "Indonesia",
                  "locationmode": "country names",
                  "locations": [
                    "Indonesia"
                  ],
                  "marker": {
                    "color": "#FECB52",
                    "size": [
                      28
                    ],
                    "sizemode": "area",
                    "sizeref": 0.18,
                    "symbol": "circle"
                  },
                  "mode": "markers",
                  "name": "Indonesia",
                  "showlegend": true,
                  "type": "scattergeo"
                },
                {
                  "geo": "geo",
                  "hovertemplate": "Country=%{location}<br>Valuation_num=%{marker.size}<extra></extra>",
                  "legendgroup": "Singapore",
                  "locationmode": "country names",
                  "locations": [
                    "Singapore"
                  ],
                  "marker": {
                    "color": "#636efa",
                    "size": [
                      21
                    ],
                    "sizemode": "area",
                    "sizeref": 0.18,
                    "symbol": "circle"
                  },
                  "mode": "markers",
                  "name": "Singapore",
                  "showlegend": true,
                  "type": "scattergeo"
                },
                {
                  "geo": "geo",
                  "hovertemplate": "Country=%{location}<br>Valuation_num=%{marker.size}<extra></extra>",
                  "legendgroup": "Netherlands",
                  "locationmode": "country names",
                  "locations": [
                    "Netherlands"
                  ],
                  "marker": {
                    "color": "#EF553B",
                    "size": [
                      19
                    ],
                    "sizemode": "area",
                    "sizeref": 0.18,
                    "symbol": "circle"
                  },
                  "mode": "markers",
                  "name": "Netherlands",
                  "showlegend": true,
                  "type": "scattergeo"
                },
                {
                  "geo": "geo",
                  "hovertemplate": "Country=%{location}<br>Valuation_num=%{marker.size}<extra></extra>",
                  "legendgroup": "Hong Kong",
                  "locationmode": "country names",
                  "locations": [
                    "Hong Kong"
                  ],
                  "marker": {
                    "color": "#00cc96",
                    "size": [
                      18
                    ],
                    "sizemode": "area",
                    "sizeref": 0.18,
                    "symbol": "circle"
                  },
                  "mode": "markers",
                  "name": "Hong Kong",
                  "showlegend": true,
                  "type": "scattergeo"
                },
                {
                  "geo": "geo",
                  "hovertemplate": "Country=%{location}<br>Valuation_num=%{marker.size}<extra></extra>",
                  "legendgroup": "Turkey",
                  "locationmode": "country names",
                  "locations": [
                    "Turkey"
                  ],
                  "marker": {
                    "color": "#ab63fa",
                    "size": [
                      16
                    ],
                    "sizemode": "area",
                    "sizeref": 0.18,
                    "symbol": "circle"
                  },
                  "mode": "markers",
                  "name": "Turkey",
                  "showlegend": true,
                  "type": "scattergeo"
                },
                {
                  "geo": "geo",
                  "hovertemplate": "Country=%{location}<br>Valuation_num=%{marker.size}<extra></extra>",
                  "legendgroup": "Mexico",
                  "locationmode": "country names",
                  "locations": [
                    "Mexico"
                  ],
                  "marker": {
                    "color": "#FFA15A",
                    "size": [
                      16
                    ],
                    "sizemode": "area",
                    "sizeref": 0.18,
                    "symbol": "circle"
                  },
                  "mode": "markers",
                  "name": "Mexico",
                  "showlegend": true,
                  "type": "scattergeo"
                },
                {
                  "geo": "geo",
                  "hovertemplate": "Country=%{location}<br>Valuation_num=%{marker.size}<extra></extra>",
                  "legendgroup": "Estonia",
                  "locationmode": "country names",
                  "locations": [
                    "Estonia"
                  ],
                  "marker": {
                    "color": "#19d3f3",
                    "size": [
                      13
                    ],
                    "sizemode": "area",
                    "sizeref": 0.18,
                    "symbol": "circle"
                  },
                  "mode": "markers",
                  "name": "Estonia",
                  "showlegend": true,
                  "type": "scattergeo"
                },
                {
                  "geo": "geo",
                  "hovertemplate": "Country=%{location}<br>Valuation_num=%{marker.size}<extra></extra>",
                  "legendgroup": "Finland",
                  "locationmode": "country names",
                  "locations": [
                    "Finland"
                  ],
                  "marker": {
                    "color": "#FF6692",
                    "size": [
                      12
                    ],
                    "sizemode": "area",
                    "sizeref": 0.18,
                    "symbol": "circle"
                  },
                  "mode": "markers",
                  "name": "Finland",
                  "showlegend": true,
                  "type": "scattergeo"
                },
                {
                  "geo": "geo",
                  "hovertemplate": "Country=%{location}<br>Valuation_num=%{marker.size}<extra></extra>",
                  "legendgroup": "Ireland",
                  "locationmode": "country names",
                  "locations": [
                    "Ireland"
                  ],
                  "marker": {
                    "color": "#B6E880",
                    "size": [
                      9
                    ],
                    "sizemode": "area",
                    "sizeref": 0.18,
                    "symbol": "circle"
                  },
                  "mode": "markers",
                  "name": "Ireland",
                  "showlegend": true,
                  "type": "scattergeo"
                },
                {
                  "geo": "geo",
                  "hovertemplate": "Country=%{location}<br>Valuation_num=%{marker.size}<extra></extra>",
                  "legendgroup": "Switzerland",
                  "locationmode": "country names",
                  "locations": [
                    "Switzerland"
                  ],
                  "marker": {
                    "color": "#FF97FF",
                    "size": [
                      8
                    ],
                    "sizemode": "area",
                    "sizeref": 0.18,
                    "symbol": "circle"
                  },
                  "mode": "markers",
                  "name": "Switzerland",
                  "showlegend": true,
                  "type": "scattergeo"
                },
                {
                  "geo": "geo",
                  "hovertemplate": "Country=%{location}<br>Valuation_num=%{marker.size}<extra></extra>",
                  "legendgroup": "Japan",
                  "locationmode": "country names",
                  "locations": [
                    "Japan"
                  ],
                  "marker": {
                    "color": "#FECB52",
                    "size": [
                      8
                    ],
                    "sizemode": "area",
                    "sizeref": 0.18,
                    "symbol": "circle"
                  },
                  "mode": "markers",
                  "name": "Japan",
                  "showlegend": true,
                  "type": "scattergeo"
                },
                {
                  "geo": "geo",
                  "hovertemplate": "Country=%{location}<br>Valuation_num=%{marker.size}<extra></extra>",
                  "legendgroup": "Belgium",
                  "locationmode": "country names",
                  "locations": [
                    "Belgium"
                  ],
                  "marker": {
                    "color": "#636efa",
                    "size": [
                      8
                    ],
                    "sizemode": "area",
                    "sizeref": 0.18,
                    "symbol": "circle"
                  },
                  "mode": "markers",
                  "name": "Belgium",
                  "showlegend": true,
                  "type": "scattergeo"
                },
                {
                  "geo": "geo",
                  "hovertemplate": "Country=%{location}<br>Valuation_num=%{marker.size}<extra></extra>",
                  "legendgroup": "Denmark",
                  "locationmode": "country names",
                  "locations": [
                    "Denmark"
                  ],
                  "marker": {
                    "color": "#EF553B",
                    "size": [
                      7
                    ],
                    "sizemode": "area",
                    "sizeref": 0.18,
                    "symbol": "circle"
                  },
                  "mode": "markers",
                  "name": "Denmark",
                  "showlegend": true,
                  "type": "scattergeo"
                },
                {
                  "geo": "geo",
                  "hovertemplate": "Country=%{location}<br>Valuation_num=%{marker.size}<extra></extra>",
                  "legendgroup": "Austria",
                  "locationmode": "country names",
                  "locations": [
                    "Austria"
                  ],
                  "marker": {
                    "color": "#00cc96",
                    "size": [
                      7
                    ],
                    "sizemode": "area",
                    "sizeref": 0.18,
                    "symbol": "circle"
                  },
                  "mode": "markers",
                  "name": "Austria",
                  "showlegend": true,
                  "type": "scattergeo"
                },
                {
                  "geo": "geo",
                  "hovertemplate": "Country=%{location}<br>Valuation_num=%{marker.size}<extra></extra>",
                  "legendgroup": "Colombia",
                  "locationmode": "country names",
                  "locations": [
                    "Colombia"
                  ],
                  "marker": {
                    "color": "#ab63fa",
                    "size": [
                      6
                    ],
                    "sizemode": "area",
                    "sizeref": 0.18,
                    "symbol": "circle"
                  },
                  "mode": "markers",
                  "name": "Colombia",
                  "showlegend": true,
                  "type": "scattergeo"
                },
                {
                  "geo": "geo",
                  "hovertemplate": "Country=%{location}<br>Valuation_num=%{marker.size}<extra></extra>",
                  "legendgroup": "Norway",
                  "locationmode": "country names",
                  "locations": [
                    "Norway"
                  ],
                  "marker": {
                    "color": "#FFA15A",
                    "size": [
                      5
                    ],
                    "sizemode": "area",
                    "sizeref": 0.18,
                    "symbol": "circle"
                  },
                  "mode": "markers",
                  "name": "Norway",
                  "showlegend": true,
                  "type": "scattergeo"
                },
                {
                  "geo": "geo",
                  "hovertemplate": "Country=%{location}<br>Valuation_num=%{marker.size}<extra></extra>",
                  "legendgroup": "Vietnam",
                  "locationmode": "country names",
                  "locations": [
                    "Vietnam"
                  ],
                  "marker": {
                    "color": "#19d3f3",
                    "size": [
                      5
                    ],
                    "sizemode": "area",
                    "sizeref": 0.18,
                    "symbol": "circle"
                  },
                  "mode": "markers",
                  "name": "Vietnam",
                  "showlegend": true,
                  "type": "scattergeo"
                },
                {
                  "geo": "geo",
                  "hovertemplate": "Country=%{location}<br>Valuation_num=%{marker.size}<extra></extra>",
                  "legendgroup": "Lithuania",
                  "locationmode": "country names",
                  "locations": [
                    "Lithuania"
                  ],
                  "marker": {
                    "color": "#FF6692",
                    "size": [
                      5
                    ],
                    "sizemode": "area",
                    "sizeref": 0.18,
                    "symbol": "circle"
                  },
                  "mode": "markers",
                  "name": "Lithuania",
                  "showlegend": true,
                  "type": "scattergeo"
                },
                {
                  "geo": "geo",
                  "hovertemplate": "Country=%{location}<br>Valuation_num=%{marker.size}<extra></extra>",
                  "legendgroup": "United Arab Emirates",
                  "locationmode": "country names",
                  "locations": [
                    "United Arab Emirates"
                  ],
                  "marker": {
                    "color": "#B6E880",
                    "size": [
                      5
                    ],
                    "sizemode": "area",
                    "sizeref": 0.18,
                    "symbol": "circle"
                  },
                  "mode": "markers",
                  "name": "United Arab Emirates",
                  "showlegend": true,
                  "type": "scattergeo"
                },
                {
                  "geo": "geo",
                  "hovertemplate": "Country=%{location}<br>Valuation_num=%{marker.size}<extra></extra>",
                  "legendgroup": "Spain",
                  "locationmode": "country names",
                  "locations": [
                    "Spain"
                  ],
                  "marker": {
                    "color": "#FF97FF",
                    "size": [
                      4
                    ],
                    "sizemode": "area",
                    "sizeref": 0.18,
                    "symbol": "circle"
                  },
                  "mode": "markers",
                  "name": "Spain",
                  "showlegend": true,
                  "type": "scattergeo"
                },
                {
                  "geo": "geo",
                  "hovertemplate": "Country=%{location}<br>Valuation_num=%{marker.size}<extra></extra>",
                  "legendgroup": "Chile",
                  "locationmode": "country names",
                  "locations": [
                    "Chile"
                  ],
                  "marker": {
                    "color": "#FECB52",
                    "size": [
                      3
                    ],
                    "sizemode": "area",
                    "sizeref": 0.18,
                    "symbol": "circle"
                  },
                  "mode": "markers",
                  "name": "Chile",
                  "showlegend": true,
                  "type": "scattergeo"
                },
                {
                  "geo": "geo",
                  "hovertemplate": "Country=%{location}<br>Valuation_num=%{marker.size}<extra></extra>",
                  "legendgroup": "Philippines",
                  "locationmode": "country names",
                  "locations": [
                    "Philippines"
                  ],
                  "marker": {
                    "color": "#636efa",
                    "size": [
                      3
                    ],
                    "sizemode": "area",
                    "sizeref": 0.18,
                    "symbol": "circle"
                  },
                  "mode": "markers",
                  "name": "Philippines",
                  "showlegend": true,
                  "type": "scattergeo"
                },
                {
                  "geo": "geo",
                  "hovertemplate": "Country=%{location}<br>Valuation_num=%{marker.size}<extra></extra>",
                  "legendgroup": "South Africa",
                  "locationmode": "country names",
                  "locations": [
                    "South Africa"
                  ],
                  "marker": {
                    "color": "#EF553B",
                    "size": [
                      3
                    ],
                    "sizemode": "area",
                    "sizeref": 0.18,
                    "symbol": "circle"
                  },
                  "mode": "markers",
                  "name": "South Africa",
                  "showlegend": true,
                  "type": "scattergeo"
                },
                {
                  "geo": "geo",
                  "hovertemplate": "Country=%{location}<br>Valuation_num=%{marker.size}<extra></extra>",
                  "legendgroup": "Thailand",
                  "locationmode": "country names",
                  "locations": [
                    "Thailand"
                  ],
                  "marker": {
                    "color": "#00cc96",
                    "size": [
                      3
                    ],
                    "sizemode": "area",
                    "sizeref": 0.18,
                    "symbol": "circle"
                  },
                  "mode": "markers",
                  "name": "Thailand",
                  "showlegend": true,
                  "type": "scattergeo"
                },
                {
                  "geo": "geo",
                  "hovertemplate": "Country=%{location}<br>Valuation_num=%{marker.size}<extra></extra>",
                  "legendgroup": "Argentina",
                  "locationmode": "country names",
                  "locations": [
                    "Argentina"
                  ],
                  "marker": {
                    "color": "#ab63fa",
                    "size": [
                      2
                    ],
                    "sizemode": "area",
                    "sizeref": 0.18,
                    "symbol": "circle"
                  },
                  "mode": "markers",
                  "name": "Argentina",
                  "showlegend": true,
                  "type": "scattergeo"
                },
                {
                  "geo": "geo",
                  "hovertemplate": "Country=%{location}<br>Valuation_num=%{marker.size}<extra></extra>",
                  "legendgroup": "Senegal",
                  "locationmode": "country names",
                  "locations": [
                    "Senegal"
                  ],
                  "marker": {
                    "color": "#FFA15A",
                    "size": [
                      2
                    ],
                    "sizemode": "area",
                    "sizeref": 0.18,
                    "symbol": "circle"
                  },
                  "mode": "markers",
                  "name": "Senegal",
                  "showlegend": true,
                  "type": "scattergeo"
                },
                {
                  "geo": "geo",
                  "hovertemplate": "Country=%{location}<br>Valuation_num=%{marker.size}<extra></extra>",
                  "legendgroup": "Nigeria",
                  "locationmode": "country names",
                  "locations": [
                    "Nigeria"
                  ],
                  "marker": {
                    "color": "#19d3f3",
                    "size": [
                      2
                    ],
                    "sizemode": "area",
                    "sizeref": 0.18,
                    "symbol": "circle"
                  },
                  "mode": "markers",
                  "name": "Nigeria",
                  "showlegend": true,
                  "type": "scattergeo"
                },
                {
                  "geo": "geo",
                  "hovertemplate": "Country=%{location}<br>Valuation_num=%{marker.size}<extra></extra>",
                  "legendgroup": "Malaysia",
                  "locationmode": "country names",
                  "locations": [
                    "Malaysia"
                  ],
                  "marker": {
                    "color": "#FF6692",
                    "size": [
                      2
                    ],
                    "sizemode": "area",
                    "sizeref": 0.18,
                    "symbol": "circle"
                  },
                  "mode": "markers",
                  "name": "Malaysia",
                  "showlegend": true,
                  "type": "scattergeo"
                },
                {
                  "geo": "geo",
                  "hovertemplate": "Country=%{location}<br>Valuation_num=%{marker.size}<extra></extra>",
                  "legendgroup": "Luxembourg",
                  "locationmode": "country names",
                  "locations": [
                    "Luxembourg"
                  ],
                  "marker": {
                    "color": "#B6E880",
                    "size": [
                      2
                    ],
                    "sizemode": "area",
                    "sizeref": 0.18,
                    "symbol": "circle"
                  },
                  "mode": "markers",
                  "name": "Luxembourg",
                  "showlegend": true,
                  "type": "scattergeo"
                },
                {
                  "geo": "geo",
                  "hovertemplate": "Country=%{location}<br>Valuation_num=%{marker.size}<extra></extra>",
                  "legendgroup": "Bermuda",
                  "locationmode": "country names",
                  "locations": [
                    "Bermuda"
                  ],
                  "marker": {
                    "color": "#FF97FF",
                    "size": [
                      2
                    ],
                    "sizemode": "area",
                    "sizeref": 0.18,
                    "symbol": "circle"
                  },
                  "mode": "markers",
                  "name": "Bermuda",
                  "showlegend": true,
                  "type": "scattergeo"
                },
                {
                  "geo": "geo",
                  "hovertemplate": "Country=%{location}<br>Valuation_num=%{marker.size}<extra></extra>",
                  "legendgroup": "Czech Republic",
                  "locationmode": "country names",
                  "locations": [
                    "Czech Republic"
                  ],
                  "marker": {
                    "color": "#FECB52",
                    "size": [
                      1
                    ],
                    "sizemode": "area",
                    "sizeref": 0.18,
                    "symbol": "circle"
                  },
                  "mode": "markers",
                  "name": "Czech Republic",
                  "showlegend": true,
                  "type": "scattergeo"
                },
                {
                  "geo": "geo",
                  "hovertemplate": "Country=%{location}<br>Valuation_num=%{marker.size}<extra></extra>",
                  "legendgroup": "Croatia",
                  "locationmode": "country names",
                  "locations": [
                    "Croatia"
                  ],
                  "marker": {
                    "color": "#636efa",
                    "size": [
                      1
                    ],
                    "sizemode": "area",
                    "sizeref": 0.18,
                    "symbol": "circle"
                  },
                  "mode": "markers",
                  "name": "Croatia",
                  "showlegend": true,
                  "type": "scattergeo"
                },
                {
                  "geo": "geo",
                  "hovertemplate": "Country=%{location}<br>Valuation_num=%{marker.size}<extra></extra>",
                  "legendgroup": "Italy",
                  "locationmode": "country names",
                  "locations": [
                    "Italy"
                  ],
                  "marker": {
                    "color": "#EF553B",
                    "size": [
                      1
                    ],
                    "sizemode": "area",
                    "sizeref": 0.18,
                    "symbol": "circle"
                  },
                  "mode": "markers",
                  "name": "Italy",
                  "showlegend": true,
                  "type": "scattergeo"
                }
              ],
              "layout": {
                "geo": {
                  "center": {},
                  "domain": {
                    "x": [
                      0,
                      1
                    ],
                    "y": [
                      0,
                      1
                    ]
                  }
                },
                "legend": {
                  "itemsizing": "constant",
                  "title": {
                    "text": "Country"
                  },
                  "tracegroupgap": 0
                },
                "template": {
                  "data": {
                    "bar": [
                      {
                        "error_x": {
                          "color": "#2a3f5f"
                        },
                        "error_y": {
                          "color": "#2a3f5f"
                        },
                        "marker": {
                          "line": {
                            "color": "#E5ECF6",
                            "width": 0.5
                          },
                          "pattern": {
                            "fillmode": "overlay",
                            "size": 10,
                            "solidity": 0.2
                          }
                        },
                        "type": "bar"
                      }
                    ],
                    "barpolar": [
                      {
                        "marker": {
                          "line": {
                            "color": "#E5ECF6",
                            "width": 0.5
                          },
                          "pattern": {
                            "fillmode": "overlay",
                            "size": 10,
                            "solidity": 0.2
                          }
                        },
                        "type": "barpolar"
                      }
                    ],
                    "carpet": [
                      {
                        "aaxis": {
                          "endlinecolor": "#2a3f5f",
                          "gridcolor": "white",
                          "linecolor": "white",
                          "minorgridcolor": "white",
                          "startlinecolor": "#2a3f5f"
                        },
                        "baxis": {
                          "endlinecolor": "#2a3f5f",
                          "gridcolor": "white",
                          "linecolor": "white",
                          "minorgridcolor": "white",
                          "startlinecolor": "#2a3f5f"
                        },
                        "type": "carpet"
                      }
                    ],
                    "choropleth": [
                      {
                        "colorbar": {
                          "outlinewidth": 0,
                          "ticks": ""
                        },
                        "type": "choropleth"
                      }
                    ],
                    "contour": [
                      {
                        "colorbar": {
                          "outlinewidth": 0,
                          "ticks": ""
                        },
                        "colorscale": [
                          [
                            0,
                            "#0d0887"
                          ],
                          [
                            0.1111111111111111,
                            "#46039f"
                          ],
                          [
                            0.2222222222222222,
                            "#7201a8"
                          ],
                          [
                            0.3333333333333333,
                            "#9c179e"
                          ],
                          [
                            0.4444444444444444,
                            "#bd3786"
                          ],
                          [
                            0.5555555555555556,
                            "#d8576b"
                          ],
                          [
                            0.6666666666666666,
                            "#ed7953"
                          ],
                          [
                            0.7777777777777778,
                            "#fb9f3a"
                          ],
                          [
                            0.8888888888888888,
                            "#fdca26"
                          ],
                          [
                            1,
                            "#f0f921"
                          ]
                        ],
                        "type": "contour"
                      }
                    ],
                    "contourcarpet": [
                      {
                        "colorbar": {
                          "outlinewidth": 0,
                          "ticks": ""
                        },
                        "type": "contourcarpet"
                      }
                    ],
                    "heatmap": [
                      {
                        "colorbar": {
                          "outlinewidth": 0,
                          "ticks": ""
                        },
                        "colorscale": [
                          [
                            0,
                            "#0d0887"
                          ],
                          [
                            0.1111111111111111,
                            "#46039f"
                          ],
                          [
                            0.2222222222222222,
                            "#7201a8"
                          ],
                          [
                            0.3333333333333333,
                            "#9c179e"
                          ],
                          [
                            0.4444444444444444,
                            "#bd3786"
                          ],
                          [
                            0.5555555555555556,
                            "#d8576b"
                          ],
                          [
                            0.6666666666666666,
                            "#ed7953"
                          ],
                          [
                            0.7777777777777778,
                            "#fb9f3a"
                          ],
                          [
                            0.8888888888888888,
                            "#fdca26"
                          ],
                          [
                            1,
                            "#f0f921"
                          ]
                        ],
                        "type": "heatmap"
                      }
                    ],
                    "heatmapgl": [
                      {
                        "colorbar": {
                          "outlinewidth": 0,
                          "ticks": ""
                        },
                        "colorscale": [
                          [
                            0,
                            "#0d0887"
                          ],
                          [
                            0.1111111111111111,
                            "#46039f"
                          ],
                          [
                            0.2222222222222222,
                            "#7201a8"
                          ],
                          [
                            0.3333333333333333,
                            "#9c179e"
                          ],
                          [
                            0.4444444444444444,
                            "#bd3786"
                          ],
                          [
                            0.5555555555555556,
                            "#d8576b"
                          ],
                          [
                            0.6666666666666666,
                            "#ed7953"
                          ],
                          [
                            0.7777777777777778,
                            "#fb9f3a"
                          ],
                          [
                            0.8888888888888888,
                            "#fdca26"
                          ],
                          [
                            1,
                            "#f0f921"
                          ]
                        ],
                        "type": "heatmapgl"
                      }
                    ],
                    "histogram": [
                      {
                        "marker": {
                          "pattern": {
                            "fillmode": "overlay",
                            "size": 10,
                            "solidity": 0.2
                          }
                        },
                        "type": "histogram"
                      }
                    ],
                    "histogram2d": [
                      {
                        "colorbar": {
                          "outlinewidth": 0,
                          "ticks": ""
                        },
                        "colorscale": [
                          [
                            0,
                            "#0d0887"
                          ],
                          [
                            0.1111111111111111,
                            "#46039f"
                          ],
                          [
                            0.2222222222222222,
                            "#7201a8"
                          ],
                          [
                            0.3333333333333333,
                            "#9c179e"
                          ],
                          [
                            0.4444444444444444,
                            "#bd3786"
                          ],
                          [
                            0.5555555555555556,
                            "#d8576b"
                          ],
                          [
                            0.6666666666666666,
                            "#ed7953"
                          ],
                          [
                            0.7777777777777778,
                            "#fb9f3a"
                          ],
                          [
                            0.8888888888888888,
                            "#fdca26"
                          ],
                          [
                            1,
                            "#f0f921"
                          ]
                        ],
                        "type": "histogram2d"
                      }
                    ],
                    "histogram2dcontour": [
                      {
                        "colorbar": {
                          "outlinewidth": 0,
                          "ticks": ""
                        },
                        "colorscale": [
                          [
                            0,
                            "#0d0887"
                          ],
                          [
                            0.1111111111111111,
                            "#46039f"
                          ],
                          [
                            0.2222222222222222,
                            "#7201a8"
                          ],
                          [
                            0.3333333333333333,
                            "#9c179e"
                          ],
                          [
                            0.4444444444444444,
                            "#bd3786"
                          ],
                          [
                            0.5555555555555556,
                            "#d8576b"
                          ],
                          [
                            0.6666666666666666,
                            "#ed7953"
                          ],
                          [
                            0.7777777777777778,
                            "#fb9f3a"
                          ],
                          [
                            0.8888888888888888,
                            "#fdca26"
                          ],
                          [
                            1,
                            "#f0f921"
                          ]
                        ],
                        "type": "histogram2dcontour"
                      }
                    ],
                    "mesh3d": [
                      {
                        "colorbar": {
                          "outlinewidth": 0,
                          "ticks": ""
                        },
                        "type": "mesh3d"
                      }
                    ],
                    "parcoords": [
                      {
                        "line": {
                          "colorbar": {
                            "outlinewidth": 0,
                            "ticks": ""
                          }
                        },
                        "type": "parcoords"
                      }
                    ],
                    "pie": [
                      {
                        "automargin": true,
                        "type": "pie"
                      }
                    ],
                    "scatter": [
                      {
                        "fillpattern": {
                          "fillmode": "overlay",
                          "size": 10,
                          "solidity": 0.2
                        },
                        "type": "scatter"
                      }
                    ],
                    "scatter3d": [
                      {
                        "line": {
                          "colorbar": {
                            "outlinewidth": 0,
                            "ticks": ""
                          }
                        },
                        "marker": {
                          "colorbar": {
                            "outlinewidth": 0,
                            "ticks": ""
                          }
                        },
                        "type": "scatter3d"
                      }
                    ],
                    "scattercarpet": [
                      {
                        "marker": {
                          "colorbar": {
                            "outlinewidth": 0,
                            "ticks": ""
                          }
                        },
                        "type": "scattercarpet"
                      }
                    ],
                    "scattergeo": [
                      {
                        "marker": {
                          "colorbar": {
                            "outlinewidth": 0,
                            "ticks": ""
                          }
                        },
                        "type": "scattergeo"
                      }
                    ],
                    "scattergl": [
                      {
                        "marker": {
                          "colorbar": {
                            "outlinewidth": 0,
                            "ticks": ""
                          }
                        },
                        "type": "scattergl"
                      }
                    ],
                    "scattermapbox": [
                      {
                        "marker": {
                          "colorbar": {
                            "outlinewidth": 0,
                            "ticks": ""
                          }
                        },
                        "type": "scattermapbox"
                      }
                    ],
                    "scatterpolar": [
                      {
                        "marker": {
                          "colorbar": {
                            "outlinewidth": 0,
                            "ticks": ""
                          }
                        },
                        "type": "scatterpolar"
                      }
                    ],
                    "scatterpolargl": [
                      {
                        "marker": {
                          "colorbar": {
                            "outlinewidth": 0,
                            "ticks": ""
                          }
                        },
                        "type": "scatterpolargl"
                      }
                    ],
                    "scatterternary": [
                      {
                        "marker": {
                          "colorbar": {
                            "outlinewidth": 0,
                            "ticks": ""
                          }
                        },
                        "type": "scatterternary"
                      }
                    ],
                    "surface": [
                      {
                        "colorbar": {
                          "outlinewidth": 0,
                          "ticks": ""
                        },
                        "colorscale": [
                          [
                            0,
                            "#0d0887"
                          ],
                          [
                            0.1111111111111111,
                            "#46039f"
                          ],
                          [
                            0.2222222222222222,
                            "#7201a8"
                          ],
                          [
                            0.3333333333333333,
                            "#9c179e"
                          ],
                          [
                            0.4444444444444444,
                            "#bd3786"
                          ],
                          [
                            0.5555555555555556,
                            "#d8576b"
                          ],
                          [
                            0.6666666666666666,
                            "#ed7953"
                          ],
                          [
                            0.7777777777777778,
                            "#fb9f3a"
                          ],
                          [
                            0.8888888888888888,
                            "#fdca26"
                          ],
                          [
                            1,
                            "#f0f921"
                          ]
                        ],
                        "type": "surface"
                      }
                    ],
                    "table": [
                      {
                        "cells": {
                          "fill": {
                            "color": "#EBF0F8"
                          },
                          "line": {
                            "color": "white"
                          }
                        },
                        "header": {
                          "fill": {
                            "color": "#C8D4E3"
                          },
                          "line": {
                            "color": "white"
                          }
                        },
                        "type": "table"
                      }
                    ]
                  },
                  "layout": {
                    "annotationdefaults": {
                      "arrowcolor": "#2a3f5f",
                      "arrowhead": 0,
                      "arrowwidth": 1
                    },
                    "autotypenumbers": "strict",
                    "coloraxis": {
                      "colorbar": {
                        "outlinewidth": 0,
                        "ticks": ""
                      }
                    },
                    "colorscale": {
                      "diverging": [
                        [
                          0,
                          "#8e0152"
                        ],
                        [
                          0.1,
                          "#c51b7d"
                        ],
                        [
                          0.2,
                          "#de77ae"
                        ],
                        [
                          0.3,
                          "#f1b6da"
                        ],
                        [
                          0.4,
                          "#fde0ef"
                        ],
                        [
                          0.5,
                          "#f7f7f7"
                        ],
                        [
                          0.6,
                          "#e6f5d0"
                        ],
                        [
                          0.7,
                          "#b8e186"
                        ],
                        [
                          0.8,
                          "#7fbc41"
                        ],
                        [
                          0.9,
                          "#4d9221"
                        ],
                        [
                          1,
                          "#276419"
                        ]
                      ],
                      "sequential": [
                        [
                          0,
                          "#0d0887"
                        ],
                        [
                          0.1111111111111111,
                          "#46039f"
                        ],
                        [
                          0.2222222222222222,
                          "#7201a8"
                        ],
                        [
                          0.3333333333333333,
                          "#9c179e"
                        ],
                        [
                          0.4444444444444444,
                          "#bd3786"
                        ],
                        [
                          0.5555555555555556,
                          "#d8576b"
                        ],
                        [
                          0.6666666666666666,
                          "#ed7953"
                        ],
                        [
                          0.7777777777777778,
                          "#fb9f3a"
                        ],
                        [
                          0.8888888888888888,
                          "#fdca26"
                        ],
                        [
                          1,
                          "#f0f921"
                        ]
                      ],
                      "sequentialminus": [
                        [
                          0,
                          "#0d0887"
                        ],
                        [
                          0.1111111111111111,
                          "#46039f"
                        ],
                        [
                          0.2222222222222222,
                          "#7201a8"
                        ],
                        [
                          0.3333333333333333,
                          "#9c179e"
                        ],
                        [
                          0.4444444444444444,
                          "#bd3786"
                        ],
                        [
                          0.5555555555555556,
                          "#d8576b"
                        ],
                        [
                          0.6666666666666666,
                          "#ed7953"
                        ],
                        [
                          0.7777777777777778,
                          "#fb9f3a"
                        ],
                        [
                          0.8888888888888888,
                          "#fdca26"
                        ],
                        [
                          1,
                          "#f0f921"
                        ]
                      ]
                    },
                    "colorway": [
                      "#636efa",
                      "#EF553B",
                      "#00cc96",
                      "#ab63fa",
                      "#FFA15A",
                      "#19d3f3",
                      "#FF6692",
                      "#B6E880",
                      "#FF97FF",
                      "#FECB52"
                    ],
                    "font": {
                      "color": "#2a3f5f"
                    },
                    "geo": {
                      "bgcolor": "white",
                      "lakecolor": "white",
                      "landcolor": "#E5ECF6",
                      "showlakes": true,
                      "showland": true,
                      "subunitcolor": "white"
                    },
                    "hoverlabel": {
                      "align": "left"
                    },
                    "hovermode": "closest",
                    "mapbox": {
                      "style": "light"
                    },
                    "paper_bgcolor": "white",
                    "plot_bgcolor": "#E5ECF6",
                    "polar": {
                      "angularaxis": {
                        "gridcolor": "white",
                        "linecolor": "white",
                        "ticks": ""
                      },
                      "bgcolor": "#E5ECF6",
                      "radialaxis": {
                        "gridcolor": "white",
                        "linecolor": "white",
                        "ticks": ""
                      }
                    },
                    "scene": {
                      "xaxis": {
                        "backgroundcolor": "#E5ECF6",
                        "gridcolor": "white",
                        "gridwidth": 2,
                        "linecolor": "white",
                        "showbackground": true,
                        "ticks": "",
                        "zerolinecolor": "white"
                      },
                      "yaxis": {
                        "backgroundcolor": "#E5ECF6",
                        "gridcolor": "white",
                        "gridwidth": 2,
                        "linecolor": "white",
                        "showbackground": true,
                        "ticks": "",
                        "zerolinecolor": "white"
                      },
                      "zaxis": {
                        "backgroundcolor": "#E5ECF6",
                        "gridcolor": "white",
                        "gridwidth": 2,
                        "linecolor": "white",
                        "showbackground": true,
                        "ticks": "",
                        "zerolinecolor": "white"
                      }
                    },
                    "shapedefaults": {
                      "line": {
                        "color": "#2a3f5f"
                      }
                    },
                    "ternary": {
                      "aaxis": {
                        "gridcolor": "white",
                        "linecolor": "white",
                        "ticks": ""
                      },
                      "baxis": {
                        "gridcolor": "white",
                        "linecolor": "white",
                        "ticks": ""
                      },
                      "bgcolor": "#E5ECF6",
                      "caxis": {
                        "gridcolor": "white",
                        "linecolor": "white",
                        "ticks": ""
                      }
                    },
                    "title": {
                      "x": 0.05
                    },
                    "xaxis": {
                      "automargin": true,
                      "gridcolor": "white",
                      "linecolor": "white",
                      "ticks": "",
                      "title": {
                        "standoff": 15
                      },
                      "zerolinecolor": "white",
                      "zerolinewidth": 2
                    },
                    "yaxis": {
                      "automargin": true,
                      "gridcolor": "white",
                      "linecolor": "white",
                      "ticks": "",
                      "title": {
                        "standoff": 15
                      },
                      "zerolinecolor": "white",
                      "zerolinewidth": 2
                    }
                  }
                },
                "title": {
                  "text": "Valuation size by country"
                }
              }
            }
          },
          "metadata": {},
          "output_type": "display_data"
        }
      ],
      "source": [
        "# Plot the sum of valuations per country.\n",
        "\n",
        "scatter_plot = px.scatter_geo(national_valuations_no_big4,\n",
        "                              locations = 'Country',\n",
        "                              size = 'Valuation_num',\n",
        "                              locationmode = 'country names',\n",
        "                              color = 'Country',\n",
        "                              title = 'Valuation size by country'\n",
        "                             )\n",
        "\n",
        "scatter_plot.show()"
      ]
    },
    {
      "cell_type": "code",
      "execution_count": 27,
      "metadata": {},
      "outputs": [
        {
          "data": {
            "image/png": "[encoded data removed]",
            "text/plain": [
              "<IPython.core.display.Image object>"
            ]
          },
          "execution_count": 27,
          "metadata": {},
          "output_type": "execute_result"
        }
      ],
      "source": [
        "from IPython import display\n",
        "display.Image('/Users/gzuz/Documents/GitHub/Data-Science-and-Analytics-Repository/Data Cleaning/Data/Valuation by size scatter plot.png')\n"
      ]
    },
    {
      "cell_type": "markdown",
      "id": "evUGXkIdXw0a",
      "metadata": {
        "id": "evUGXkIdXw0a"
      },
      "source": [
        "**Question: How is the valuation sum per country visualized in the plot?**\n"
      ]
    },
    {
      "cell_type": "markdown",
      "id": "_eK8daIdXw0a",
      "metadata": {
        "id": "_eK8daIdXw0a"
      },
      "source": [
        "- The size of the circle indicates the valuation amount. The larger the circle the higher the valuation."
      ]
    },
    {
      "cell_type": "markdown",
      "id": "M74TAHhMXw0a",
      "metadata": {
        "id": "M74TAHhMXw0a"
      },
      "source": [
        "**Question: Does any region stand out as having a lot of activity?**\n"
      ]
    },
    {
      "cell_type": "markdown",
      "id": "JyjgqWjSXw0a",
      "metadata": {
        "id": "JyjgqWjSXw0a"
      },
      "source": [
        "- Many of the unicorn companies are concentrated in Europe."
      ]
    },
    {
      "cell_type": "markdown",
      "id": "c77e7f0f-d2b9-4464-8a7c-9575d1e1ef9f",
      "metadata": {
        "id": "c77e7f0f-d2b9-4464-8a7c-9575d1e1ef9f"
      },
      "source": [
        "## Conclusion\n",
        "\n",
        "**What are some key takeaways I learned during this project?**\n",
        "\n",
        "- It's important to treat missing data carefully depending on the situation and objective of the analysis.\n",
        "- In some cases, it's wiser to leave missing data as it is.\n",
        "- Addressing missing data can either involve filling them in, or removing them. However, it's important to leave out any bias and ensure that.\n",
        "- Not every method of filling data is appropriate, it's very situation dependent.\n",
        "- Addressing missing data is a very important part of the EDA process, specifically data-cleansing.\n",
        "\n",
        "**How would I present my findings to others?**\n",
        "\n",
        "- If I were to identify industry-specific companies in certain locations, I'd provide a shortlist of the company names along with their locations. \n",
        "- Regarding the top 20 countries by sum of valuations, I could refer to the plot I created earlier in the lab or share a compiled list. \n",
        "- If I need to focus on the top countries sorted by sum of company valuations, I'd present data excluding the United States, China, India, and the United Kingdom, as instructed.\n",
        "- For any inquiries relating to the valuation map, I would not only show the visuals but also offer a concise summary of the key data points."
      ]
    },
    {
      "cell_type": "markdown",
      "id": "R9sAADZgr-YI",
      "metadata": {
        "id": "R9sAADZgr-YI"
      },
      "source": [
        "**Reference**\n",
        "\n",
        "[Bhat, M.A. *Unicorn Companies*](https://www.kaggle.com/datasets/mysarahmadbhat/unicorn-companies)\n",
        "\n"
      ]
    }
  ],
  "metadata": {
    "colab": {
      "include_colab_link": true,
      "provenance": [],
      "toc_visible": true
    },
    "kernelspec": {
      "display_name": "Python 3",
      "language": "python",
      "name": "python3"
    },
    "language_info": {
      "codemirror_mode": {
        "name": "ipython",
        "version": 3
      },
      "file_extension": ".py",
      "mimetype": "text/x-python",
      "name": "python",
      "nbconvert_exporter": "python",
      "pygments_lexer": "ipython3",
      "version": "3.11.4"
    },
    "toc-autonumbering": false,
    "toc-showtags": false,
    "vscode": {
      "interpreter": {
        "hash": "58544ced29f0d0ccc90b78766d7e805897dc369e996e4fcba52aba46a973bc61"
      }
    }
  },
  "nbformat": 4,
  "nbformat_minor": 5
}
