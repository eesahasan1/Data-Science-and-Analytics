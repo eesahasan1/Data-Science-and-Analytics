{
  "cells": [
    {
      "cell_type": "markdown",
      "id": "1WD1hC5MTRMS",
      "metadata": {
        "id": "1WD1hC5MTRMS"
      },
      "source": [
        "# Activity: Validate and clean your data"
      ]
    },
    {
      "cell_type": "markdown",
      "id": "ee31943b-274e-4c28-bce6-155cb6f4c334",
      "metadata": {
        "id": "ee31943b-274e-4c28-bce6-155cb6f4c334"
      },
      "source": [
        "## Introduction\n",
        "\n",
        "In this activity, I will use input validation and label encoding to prepare a dataset for analysis. These are fundamental techniques used in all types of data analysis, from simple linear regression to complex neural networks."
      ]
    },
    {
      "cell_type": "markdown",
      "id": "4bb9630e-b940-4835-a389-d39def1fa848",
      "metadata": {
        "id": "4bb9630e-b940-4835-a389-d39def1fa848"
      },
      "source": [
        "## Step 1: Imports"
      ]
    },
    {
      "cell_type": "markdown",
      "id": "bc180686-4ae2-47ea-a292-3588ac60a820",
      "metadata": {
        "id": "bc180686-4ae2-47ea-a292-3588ac60a820"
      },
      "source": [
        "Import relevant Python libraries and packages: `numpy`, `pandas`, `seaborn`, and `pyplot` from `matplotlib`."
      ]
    },
    {
      "cell_type": "code",
      "execution_count": 9,
      "id": "8e7f1f2c-bbcc-4f3c-b927-b090ee8334c4",
      "metadata": {
        "id": "8e7f1f2c-bbcc-4f3c-b927-b090ee8334c4"
      },
      "outputs": [],
      "source": [
        "# Import libraries and packages.\n",
        "\n",
        "import numpy as np\n",
        "import pandas as pd\n",
        "import seaborn as sns\n",
        "import matplotlib.pyplot as plt"
      ]
    },
    {
      "cell_type": "markdown",
      "id": "7d29c6bd-f194-46bb-b794-56dc20130473",
      "metadata": {
        "id": "7d29c6bd-f194-46bb-b794-56dc20130473"
      },
      "source": [
        "### Load the dataset\n",
        "\n",
        "The data contains details about unicorn companies, such as when they were founded, when they achieved unicorn status, and their current valuation. The dataset `Modified_Unicorn_Companies.csv` is loaded as `companies`."
      ]
    },
    {
      "cell_type": "code",
      "execution_count": 10,
      "id": "Av8xmorPFlPV",
      "metadata": {
        "id": "Av8xmorPFlPV"
      },
      "outputs": [],
      "source": [
        "# Run this cell so pandas displays all columns\n",
        "pd.set_option('display.max_columns', None)"
      ]
    },
    {
      "cell_type": "code",
      "execution_count": 11,
      "id": "3bd40d44-080f-4e49-b0c2-160dedc3c4df",
      "metadata": {
        "id": "3bd40d44-080f-4e49-b0c2-160dedc3c4df",
        "outputId": "3c9b1d59-f4d1-4022-c183-1aca99dc9e20"
      },
      "outputs": [
        {
          "ename": "FileNotFoundError",
          "evalue": "[Errno 2] No such file or directory: 'Modified_Unicorn_Companies.csv'",
          "output_type": "error",
          "traceback": [
            "\u001b[0;31m---------------------------------------------------------------------------\u001b[0m",
            "\u001b[0;31mFileNotFoundError\u001b[0m                         Traceback (most recent call last)",
            "\u001b[1;32m/Users/gzuz/Repositories/GitHub/Data-Science-and-Analytics-Repository/Data Cleaning/Data cleansing and validation.ipynb Cell 8\u001b[0m line \u001b[0;36m2\n\u001b[1;32m      <a href='vscode-notebook-cell:/Users/gzuz/Repositories/GitHub/Data-Science-and-Analytics-Repository/Data%20Cleaning/Data%20cleansing%20and%20validation.ipynb#X11sZmlsZQ%3D%3D?line=0'>1</a>\u001b[0m \u001b[39m# RUN THIS CELL TO IMPORT YOUR DATA.\u001b[39;00m\n\u001b[0;32m----> <a href='vscode-notebook-cell:/Users/gzuz/Repositories/GitHub/Data-Science-and-Analytics-Repository/Data%20Cleaning/Data%20cleansing%20and%20validation.ipynb#X11sZmlsZQ%3D%3D?line=1'>2</a>\u001b[0m companies \u001b[39m=\u001b[39m pd\u001b[39m.\u001b[39mread_csv(\u001b[39m'\u001b[39m\u001b[39mModified_Unicorn_Companies.csv\u001b[39m\u001b[39m'\u001b[39m)\n\u001b[1;32m      <a href='vscode-notebook-cell:/Users/gzuz/Repositories/GitHub/Data-Science-and-Analytics-Repository/Data%20Cleaning/Data%20cleansing%20and%20validation.ipynb#X11sZmlsZQ%3D%3D?line=3'>4</a>\u001b[0m \u001b[39m# Display the first five rows.\u001b[39;00m\n\u001b[1;32m      <a href='vscode-notebook-cell:/Users/gzuz/Repositories/GitHub/Data-Science-and-Analytics-Repository/Data%20Cleaning/Data%20cleansing%20and%20validation.ipynb#X11sZmlsZQ%3D%3D?line=4'>5</a>\u001b[0m companies\u001b[39m.\u001b[39mhead()\n",
            "File \u001b[0;32m~/anaconda3/lib/python3.11/site-packages/pandas/util/_decorators.py:211\u001b[0m, in \u001b[0;36mdeprecate_kwarg.<locals>._deprecate_kwarg.<locals>.wrapper\u001b[0;34m(*args, **kwargs)\u001b[0m\n\u001b[1;32m    209\u001b[0m     \u001b[39melse\u001b[39;00m:\n\u001b[1;32m    210\u001b[0m         kwargs[new_arg_name] \u001b[39m=\u001b[39m new_arg_value\n\u001b[0;32m--> 211\u001b[0m \u001b[39mreturn\u001b[39;00m func(\u001b[39m*\u001b[39margs, \u001b[39m*\u001b[39m\u001b[39m*\u001b[39mkwargs)\n",
            "File \u001b[0;32m~/anaconda3/lib/python3.11/site-packages/pandas/util/_decorators.py:331\u001b[0m, in \u001b[0;36mdeprecate_nonkeyword_arguments.<locals>.decorate.<locals>.wrapper\u001b[0;34m(*args, **kwargs)\u001b[0m\n\u001b[1;32m    325\u001b[0m \u001b[39mif\u001b[39;00m \u001b[39mlen\u001b[39m(args) \u001b[39m>\u001b[39m num_allow_args:\n\u001b[1;32m    326\u001b[0m     warnings\u001b[39m.\u001b[39mwarn(\n\u001b[1;32m    327\u001b[0m         msg\u001b[39m.\u001b[39mformat(arguments\u001b[39m=\u001b[39m_format_argument_list(allow_args)),\n\u001b[1;32m    328\u001b[0m         \u001b[39mFutureWarning\u001b[39;00m,\n\u001b[1;32m    329\u001b[0m         stacklevel\u001b[39m=\u001b[39mfind_stack_level(),\n\u001b[1;32m    330\u001b[0m     )\n\u001b[0;32m--> 331\u001b[0m \u001b[39mreturn\u001b[39;00m func(\u001b[39m*\u001b[39margs, \u001b[39m*\u001b[39m\u001b[39m*\u001b[39mkwargs)\n",
            "File \u001b[0;32m~/anaconda3/lib/python3.11/site-packages/pandas/io/parsers/readers.py:950\u001b[0m, in \u001b[0;36mread_csv\u001b[0;34m(filepath_or_buffer, sep, delimiter, header, names, index_col, usecols, squeeze, prefix, mangle_dupe_cols, dtype, engine, converters, true_values, false_values, skipinitialspace, skiprows, skipfooter, nrows, na_values, keep_default_na, na_filter, verbose, skip_blank_lines, parse_dates, infer_datetime_format, keep_date_col, date_parser, dayfirst, cache_dates, iterator, chunksize, compression, thousands, decimal, lineterminator, quotechar, quoting, doublequote, escapechar, comment, encoding, encoding_errors, dialect, error_bad_lines, warn_bad_lines, on_bad_lines, delim_whitespace, low_memory, memory_map, float_precision, storage_options)\u001b[0m\n\u001b[1;32m    935\u001b[0m kwds_defaults \u001b[39m=\u001b[39m _refine_defaults_read(\n\u001b[1;32m    936\u001b[0m     dialect,\n\u001b[1;32m    937\u001b[0m     delimiter,\n\u001b[0;32m   (...)\u001b[0m\n\u001b[1;32m    946\u001b[0m     defaults\u001b[39m=\u001b[39m{\u001b[39m\"\u001b[39m\u001b[39mdelimiter\u001b[39m\u001b[39m\"\u001b[39m: \u001b[39m\"\u001b[39m\u001b[39m,\u001b[39m\u001b[39m\"\u001b[39m},\n\u001b[1;32m    947\u001b[0m )\n\u001b[1;32m    948\u001b[0m kwds\u001b[39m.\u001b[39mupdate(kwds_defaults)\n\u001b[0;32m--> 950\u001b[0m \u001b[39mreturn\u001b[39;00m _read(filepath_or_buffer, kwds)\n",
            "File \u001b[0;32m~/anaconda3/lib/python3.11/site-packages/pandas/io/parsers/readers.py:605\u001b[0m, in \u001b[0;36m_read\u001b[0;34m(filepath_or_buffer, kwds)\u001b[0m\n\u001b[1;32m    602\u001b[0m _validate_names(kwds\u001b[39m.\u001b[39mget(\u001b[39m\"\u001b[39m\u001b[39mnames\u001b[39m\u001b[39m\"\u001b[39m, \u001b[39mNone\u001b[39;00m))\n\u001b[1;32m    604\u001b[0m \u001b[39m# Create the parser.\u001b[39;00m\n\u001b[0;32m--> 605\u001b[0m parser \u001b[39m=\u001b[39m TextFileReader(filepath_or_buffer, \u001b[39m*\u001b[39m\u001b[39m*\u001b[39mkwds)\n\u001b[1;32m    607\u001b[0m \u001b[39mif\u001b[39;00m chunksize \u001b[39mor\u001b[39;00m iterator:\n\u001b[1;32m    608\u001b[0m     \u001b[39mreturn\u001b[39;00m parser\n",
            "File \u001b[0;32m~/anaconda3/lib/python3.11/site-packages/pandas/io/parsers/readers.py:1442\u001b[0m, in \u001b[0;36mTextFileReader.__init__\u001b[0;34m(self, f, engine, **kwds)\u001b[0m\n\u001b[1;32m   1439\u001b[0m     \u001b[39mself\u001b[39m\u001b[39m.\u001b[39moptions[\u001b[39m\"\u001b[39m\u001b[39mhas_index_names\u001b[39m\u001b[39m\"\u001b[39m] \u001b[39m=\u001b[39m kwds[\u001b[39m\"\u001b[39m\u001b[39mhas_index_names\u001b[39m\u001b[39m\"\u001b[39m]\n\u001b[1;32m   1441\u001b[0m \u001b[39mself\u001b[39m\u001b[39m.\u001b[39mhandles: IOHandles \u001b[39m|\u001b[39m \u001b[39mNone\u001b[39;00m \u001b[39m=\u001b[39m \u001b[39mNone\u001b[39;00m\n\u001b[0;32m-> 1442\u001b[0m \u001b[39mself\u001b[39m\u001b[39m.\u001b[39m_engine \u001b[39m=\u001b[39m \u001b[39mself\u001b[39m\u001b[39m.\u001b[39m_make_engine(f, \u001b[39mself\u001b[39m\u001b[39m.\u001b[39mengine)\n",
            "File \u001b[0;32m~/anaconda3/lib/python3.11/site-packages/pandas/io/parsers/readers.py:1735\u001b[0m, in \u001b[0;36mTextFileReader._make_engine\u001b[0;34m(self, f, engine)\u001b[0m\n\u001b[1;32m   1733\u001b[0m     \u001b[39mif\u001b[39;00m \u001b[39m\"\u001b[39m\u001b[39mb\u001b[39m\u001b[39m\"\u001b[39m \u001b[39mnot\u001b[39;00m \u001b[39min\u001b[39;00m mode:\n\u001b[1;32m   1734\u001b[0m         mode \u001b[39m+\u001b[39m\u001b[39m=\u001b[39m \u001b[39m\"\u001b[39m\u001b[39mb\u001b[39m\u001b[39m\"\u001b[39m\n\u001b[0;32m-> 1735\u001b[0m \u001b[39mself\u001b[39m\u001b[39m.\u001b[39mhandles \u001b[39m=\u001b[39m get_handle(\n\u001b[1;32m   1736\u001b[0m     f,\n\u001b[1;32m   1737\u001b[0m     mode,\n\u001b[1;32m   1738\u001b[0m     encoding\u001b[39m=\u001b[39m\u001b[39mself\u001b[39m\u001b[39m.\u001b[39moptions\u001b[39m.\u001b[39mget(\u001b[39m\"\u001b[39m\u001b[39mencoding\u001b[39m\u001b[39m\"\u001b[39m, \u001b[39mNone\u001b[39;00m),\n\u001b[1;32m   1739\u001b[0m     compression\u001b[39m=\u001b[39m\u001b[39mself\u001b[39m\u001b[39m.\u001b[39moptions\u001b[39m.\u001b[39mget(\u001b[39m\"\u001b[39m\u001b[39mcompression\u001b[39m\u001b[39m\"\u001b[39m, \u001b[39mNone\u001b[39;00m),\n\u001b[1;32m   1740\u001b[0m     memory_map\u001b[39m=\u001b[39m\u001b[39mself\u001b[39m\u001b[39m.\u001b[39moptions\u001b[39m.\u001b[39mget(\u001b[39m\"\u001b[39m\u001b[39mmemory_map\u001b[39m\u001b[39m\"\u001b[39m, \u001b[39mFalse\u001b[39;00m),\n\u001b[1;32m   1741\u001b[0m     is_text\u001b[39m=\u001b[39mis_text,\n\u001b[1;32m   1742\u001b[0m     errors\u001b[39m=\u001b[39m\u001b[39mself\u001b[39m\u001b[39m.\u001b[39moptions\u001b[39m.\u001b[39mget(\u001b[39m\"\u001b[39m\u001b[39mencoding_errors\u001b[39m\u001b[39m\"\u001b[39m, \u001b[39m\"\u001b[39m\u001b[39mstrict\u001b[39m\u001b[39m\"\u001b[39m),\n\u001b[1;32m   1743\u001b[0m     storage_options\u001b[39m=\u001b[39m\u001b[39mself\u001b[39m\u001b[39m.\u001b[39moptions\u001b[39m.\u001b[39mget(\u001b[39m\"\u001b[39m\u001b[39mstorage_options\u001b[39m\u001b[39m\"\u001b[39m, \u001b[39mNone\u001b[39;00m),\n\u001b[1;32m   1744\u001b[0m )\n\u001b[1;32m   1745\u001b[0m \u001b[39massert\u001b[39;00m \u001b[39mself\u001b[39m\u001b[39m.\u001b[39mhandles \u001b[39mis\u001b[39;00m \u001b[39mnot\u001b[39;00m \u001b[39mNone\u001b[39;00m\n\u001b[1;32m   1746\u001b[0m f \u001b[39m=\u001b[39m \u001b[39mself\u001b[39m\u001b[39m.\u001b[39mhandles\u001b[39m.\u001b[39mhandle\n",
            "File \u001b[0;32m~/anaconda3/lib/python3.11/site-packages/pandas/io/common.py:856\u001b[0m, in \u001b[0;36mget_handle\u001b[0;34m(path_or_buf, mode, encoding, compression, memory_map, is_text, errors, storage_options)\u001b[0m\n\u001b[1;32m    851\u001b[0m \u001b[39melif\u001b[39;00m \u001b[39misinstance\u001b[39m(handle, \u001b[39mstr\u001b[39m):\n\u001b[1;32m    852\u001b[0m     \u001b[39m# Check whether the filename is to be opened in binary mode.\u001b[39;00m\n\u001b[1;32m    853\u001b[0m     \u001b[39m# Binary mode does not support 'encoding' and 'newline'.\u001b[39;00m\n\u001b[1;32m    854\u001b[0m     \u001b[39mif\u001b[39;00m ioargs\u001b[39m.\u001b[39mencoding \u001b[39mand\u001b[39;00m \u001b[39m\"\u001b[39m\u001b[39mb\u001b[39m\u001b[39m\"\u001b[39m \u001b[39mnot\u001b[39;00m \u001b[39min\u001b[39;00m ioargs\u001b[39m.\u001b[39mmode:\n\u001b[1;32m    855\u001b[0m         \u001b[39m# Encoding\u001b[39;00m\n\u001b[0;32m--> 856\u001b[0m         handle \u001b[39m=\u001b[39m \u001b[39mopen\u001b[39m(\n\u001b[1;32m    857\u001b[0m             handle,\n\u001b[1;32m    858\u001b[0m             ioargs\u001b[39m.\u001b[39mmode,\n\u001b[1;32m    859\u001b[0m             encoding\u001b[39m=\u001b[39mioargs\u001b[39m.\u001b[39mencoding,\n\u001b[1;32m    860\u001b[0m             errors\u001b[39m=\u001b[39merrors,\n\u001b[1;32m    861\u001b[0m             newline\u001b[39m=\u001b[39m\u001b[39m\"\u001b[39m\u001b[39m\"\u001b[39m,\n\u001b[1;32m    862\u001b[0m         )\n\u001b[1;32m    863\u001b[0m     \u001b[39melse\u001b[39;00m:\n\u001b[1;32m    864\u001b[0m         \u001b[39m# Binary mode\u001b[39;00m\n\u001b[1;32m    865\u001b[0m         handle \u001b[39m=\u001b[39m \u001b[39mopen\u001b[39m(handle, ioargs\u001b[39m.\u001b[39mmode)\n",
            "\u001b[0;31mFileNotFoundError\u001b[0m: [Errno 2] No such file or directory: 'Modified_Unicorn_Companies.csv'"
          ]
        }
      ],
      "source": [
        "# RUN THIS CELL TO IMPORT YOUR DATA.\n",
        "companies = pd.read_csv('Modified_Unicorn_Companies.csv')\n",
        "\n",
        "# Display the first five rows.\n",
        "companies.head()"
      ]
    },
    {
      "cell_type": "markdown",
      "id": "95bf39c9-d05c-4324-a40b-bc692607b61b",
      "metadata": {
        "id": "95bf39c9-d05c-4324-a40b-bc692607b61b"
      },
      "source": [
        "## Step 2: Data cleaning\n"
      ]
    },
    {
      "cell_type": "markdown",
      "id": "ad17d09c-c829-4e88-9089-83060d1adf91",
      "metadata": {
        "id": "ad17d09c-c829-4e88-9089-83060d1adf91"
      },
      "source": [
        "Begin by displaying the data types of the columns in `companies`."
      ]
    },
    {
      "cell_type": "code",
      "execution_count": null,
      "id": "5340b9fd-a9e1-4943-b546-eece0049dc3b",
      "metadata": {
        "id": "5340b9fd-a9e1-4943-b546-eece0049dc3b",
        "outputId": "274f45cc-ea81-4b4d-af7b-9ea76c4c0261"
      },
      "outputs": [
        {
          "data": {
            "text/plain": [
              "Company             object\n",
              "Valuation            int64\n",
              "Date Joined         object\n",
              "Industry            object\n",
              "City                object\n",
              "Country/Region      object\n",
              "Continent           object\n",
              "Year Founded         int64\n",
              "Funding             object\n",
              "Select Investors    object\n",
              "dtype: object"
            ]
          },
          "execution_count": 4,
          "metadata": {},
          "output_type": "execute_result"
        }
      ],
      "source": [
        "# Display the data types of the columns.\n",
        "\n",
        "companies.dtypes"
      ]
    },
    {
      "cell_type": "markdown",
      "id": "0dbc048f-cd6d-4e52-93a9-21ec30ce055b",
      "metadata": {
        "id": "0dbc048f-cd6d-4e52-93a9-21ec30ce055b"
      },
      "source": [
        "### Modify the data types"
      ]
    },
    {
      "cell_type": "markdown",
      "id": "ad280560-d6db-4fcd-ba70-2c16389e12fd",
      "metadata": {
        "id": "ad280560-d6db-4fcd-ba70-2c16389e12fd"
      },
      "source": [
        "Notice that the data type of the `Date Joined` column is an `object`&mdash;in this case, a string. Convert this column to `datetime` to make it more usable."
      ]
    },
    {
      "cell_type": "code",
      "execution_count": null,
      "id": "1793ad8d-659a-4fc9-aa8a-570f063ca0d3",
      "metadata": {
        "id": "1793ad8d-659a-4fc9-aa8a-570f063ca0d3"
      },
      "outputs": [],
      "source": [
        "# Apply necessary datatype conversions.\n",
        "\n",
        "companies['Date Joined'] = pd.to_datetime(companies['Date Joined'])"
      ]
    },
    {
      "cell_type": "markdown",
      "id": "1ea7364c-a5be-4c3a-ae8d-24a0ac497973",
      "metadata": {
        "id": "1ea7364c-a5be-4c3a-ae8d-24a0ac497973"
      },
      "source": [
        "### Create a new column"
      ]
    },
    {
      "cell_type": "markdown",
      "id": "6ed05e76-0a66-4ea3-9796-39afb48eeb93",
      "metadata": {
        "id": "6ed05e76-0a66-4ea3-9796-39afb48eeb93"
      },
      "source": [
        "Add a column called `Years To Unicorn`, which is the number of years between when the company was founded and when it became a unicorn."
      ]
    },
    {
      "cell_type": "code",
      "execution_count": null,
      "id": "3d495d71-39af-4d3f-80fd-0d0a22b01532",
      "metadata": {
        "id": "3d495d71-39af-4d3f-80fd-0d0a22b01532"
      },
      "outputs": [],
      "source": [
        "# Create the column Years To Unicorn.\n",
        "\n",
        "companies['Years to unicorn'] = companies['Date Joined'].dt.year - companies['Year Founded']"
      ]
    },
    {
      "cell_type": "markdown",
      "id": "fb06c26b-70b7-4b05-9347-6675b8b329d3",
      "metadata": {
        "id": "fb06c26b-70b7-4b05-9347-6675b8b329d3"
      },
      "source": [
        "**QUESTION: Why might a client be interested in how quickly a company achieved unicorn status?**"
      ]
    },
    {
      "cell_type": "markdown",
      "id": "ac6a0172-611e-4a1c-9afd-a39b489cbdee",
      "metadata": {
        "id": "ac6a0172-611e-4a1c-9afd-a39b489cbdee"
      },
      "source": [
        "Knowing how quickly a company achieves unicorn status can reaveals alot about certain trends and commonalities present in the data. It can also give a lot of insight into different industries and how quickly they can grow."
      ]
    },
    {
      "cell_type": "markdown",
      "id": "9fc9ddf1-ece0-40fb-9281-0808c193f5da",
      "metadata": {
        "id": "9fc9ddf1-ece0-40fb-9281-0808c193f5da",
        "tags": []
      },
      "source": [
        "### Input validation\n",
        "\n",
        "The data in use has some issues with bad data, duplicate rows, and inconsistent `Industry` labels.\n",
        "\n",
        "Identify and correct each of these issues."
      ]
    },
    {
      "cell_type": "markdown",
      "id": "db0651e7-36ef-4c10-a3ba-97373167da64",
      "metadata": {
        "id": "db0651e7-36ef-4c10-a3ba-97373167da64",
        "tags": []
      },
      "source": [
        "#### Correcting bad data\n",
        "\n",
        "Get descriptive statistics for the `Years To Unicorn` column."
      ]
    },
    {
      "cell_type": "code",
      "execution_count": null,
      "id": "8b1b2ad0-a668-4290-9404-5a2541955c0d",
      "metadata": {
        "id": "8b1b2ad0-a668-4290-9404-5a2541955c0d",
        "outputId": "d062da2a-50ac-4f65-d745-c7d632d5a9e3"
      },
      "outputs": [
        {
          "data": {
            "text/html": [
              "<div>\n",
              "<style scoped>\n",
              "    .dataframe tbody tr th:only-of-type {\n",
              "        vertical-align: middle;\n",
              "    }\n",
              "\n",
              "    .dataframe tbody tr th {\n",
              "        vertical-align: top;\n",
              "    }\n",
              "\n",
              "    .dataframe thead th {\n",
              "        text-align: right;\n",
              "    }\n",
              "</style>\n",
              "<table border=\"1\" class=\"dataframe\">\n",
              "  <thead>\n",
              "    <tr style=\"text-align: right;\">\n",
              "      <th></th>\n",
              "      <th>Years to unicorn</th>\n",
              "    </tr>\n",
              "  </thead>\n",
              "  <tbody>\n",
              "    <tr>\n",
              "      <th>count</th>\n",
              "      <td>1074.000000</td>\n",
              "    </tr>\n",
              "    <tr>\n",
              "      <th>mean</th>\n",
              "      <td>7.013035</td>\n",
              "    </tr>\n",
              "    <tr>\n",
              "      <th>std</th>\n",
              "      <td>5.331842</td>\n",
              "    </tr>\n",
              "    <tr>\n",
              "      <th>min</th>\n",
              "      <td>-3.000000</td>\n",
              "    </tr>\n",
              "    <tr>\n",
              "      <th>25%</th>\n",
              "      <td>4.000000</td>\n",
              "    </tr>\n",
              "    <tr>\n",
              "      <th>50%</th>\n",
              "      <td>6.000000</td>\n",
              "    </tr>\n",
              "    <tr>\n",
              "      <th>75%</th>\n",
              "      <td>9.000000</td>\n",
              "    </tr>\n",
              "    <tr>\n",
              "      <th>max</th>\n",
              "      <td>98.000000</td>\n",
              "    </tr>\n",
              "  </tbody>\n",
              "</table>\n",
              "</div>"
            ],
            "text/plain": [
              "       Years to unicorn\n",
              "count       1074.000000\n",
              "mean           7.013035\n",
              "std            5.331842\n",
              "min           -3.000000\n",
              "25%            4.000000\n",
              "50%            6.000000\n",
              "75%            9.000000\n",
              "max           98.000000"
            ]
          },
          "execution_count": 7,
          "metadata": {},
          "output_type": "execute_result"
        }
      ],
      "source": [
        "# Identify and correct the issue with Years To Unicorn.\n",
        "\n",
        "companies[['Years to unicorn']].describe()"
      ]
    },
    {
      "cell_type": "markdown",
      "id": "8b325a5a-67d2-4f92-8159-a9f4c21b1779",
      "metadata": {
        "id": "8b325a5a-67d2-4f92-8159-a9f4c21b1779"
      },
      "source": [
        "Isolate all rows where the `Years To Unicorn` column contains a negative value."
      ]
    },
    {
      "cell_type": "code",
      "execution_count": 12,
      "id": "b02348fb-dde8-43e7-9368-4d771bf6e5a7",
      "metadata": {
        "id": "b02348fb-dde8-43e7-9368-4d771bf6e5a7",
        "outputId": "b90d3333-1a6f-432f-d2ae-944bfb2736f2"
      },
      "outputs": [
        {
          "ename": "NameError",
          "evalue": "name 'companies' is not defined",
          "output_type": "error",
          "traceback": [
            "\u001b[0;31m---------------------------------------------------------------------------\u001b[0m",
            "\u001b[0;31mNameError\u001b[0m                                 Traceback (most recent call last)",
            "\u001b[1;32m/Users/gzuz/Repositories/GitHub/Data-Science-and-Analytics-Repository/Data Cleaning/Data cleansing and validation.ipynb Cell 24\u001b[0m line \u001b[0;36m3\n\u001b[1;32m      <a href='vscode-notebook-cell:/Users/gzuz/Repositories/GitHub/Data-Science-and-Analytics-Repository/Data%20Cleaning/Data%20cleansing%20and%20validation.ipynb#X45sZmlsZQ%3D%3D?line=0'>1</a>\u001b[0m \u001b[39m# Isolate any rows where `Years To Unicorn` is negative\u001b[39;00m\n\u001b[0;32m----> <a href='vscode-notebook-cell:/Users/gzuz/Repositories/GitHub/Data-Science-and-Analytics-Repository/Data%20Cleaning/Data%20cleansing%20and%20validation.ipynb#X45sZmlsZQ%3D%3D?line=2'>3</a>\u001b[0m mask \u001b[39m=\u001b[39m companies[\u001b[39m'\u001b[39m\u001b[39mYears to unicorn\u001b[39m\u001b[39m'\u001b[39m] \u001b[39m<\u001b[39m \u001b[39m0\u001b[39m\n\u001b[1;32m      <a href='vscode-notebook-cell:/Users/gzuz/Repositories/GitHub/Data-Science-and-Analytics-Repository/Data%20Cleaning/Data%20cleansing%20and%20validation.ipynb#X45sZmlsZQ%3D%3D?line=4'>5</a>\u001b[0m companies[mask]\n",
            "\u001b[0;31mNameError\u001b[0m: name 'companies' is not defined"
          ]
        }
      ],
      "source": [
        "# Isolate any rows where `Years To Unicorn` is negative\n",
        "\n",
        "mask = companies['Years to unicorn'] < 0\n",
        "\n",
        "companies[mask]"
      ]
    },
    {
      "cell_type": "code",
      "execution_count": null,
      "id": "ypWJ6o14FlPZ",
      "metadata": {
        "id": "ypWJ6o14FlPZ",
        "outputId": "9b9ef73b-d5c4-49ab-a80d-c16341ad1450"
      },
      "outputs": [
        {
          "data": {
            "text/html": [
              "<div>\n",
              "<style scoped>\n",
              "    .dataframe tbody tr th:only-of-type {\n",
              "        vertical-align: middle;\n",
              "    }\n",
              "\n",
              "    .dataframe tbody tr th {\n",
              "        vertical-align: top;\n",
              "    }\n",
              "\n",
              "    .dataframe thead th {\n",
              "        text-align: right;\n",
              "    }\n",
              "</style>\n",
              "<table border=\"1\" class=\"dataframe\">\n",
              "  <thead>\n",
              "    <tr style=\"text-align: right;\">\n",
              "      <th></th>\n",
              "      <th>Company</th>\n",
              "      <th>Valuation</th>\n",
              "      <th>Date Joined</th>\n",
              "      <th>Industry</th>\n",
              "      <th>City</th>\n",
              "      <th>Country/Region</th>\n",
              "      <th>Continent</th>\n",
              "      <th>Year Founded</th>\n",
              "      <th>Funding</th>\n",
              "      <th>Select Investors</th>\n",
              "      <th>Years to unicorn</th>\n",
              "    </tr>\n",
              "  </thead>\n",
              "  <tbody>\n",
              "    <tr>\n",
              "      <th>527</th>\n",
              "      <td>InVision</td>\n",
              "      <td>2</td>\n",
              "      <td>2017-11-01</td>\n",
              "      <td>Internet software &amp; services</td>\n",
              "      <td>New York</td>\n",
              "      <td>United States</td>\n",
              "      <td>North America</td>\n",
              "      <td>2020</td>\n",
              "      <td>$349M</td>\n",
              "      <td>FirstMark Capital, Tiger Global Management, IC...</td>\n",
              "      <td>-3</td>\n",
              "    </tr>\n",
              "  </tbody>\n",
              "</table>\n",
              "</div>"
            ],
            "text/plain": [
              "      Company  Valuation Date Joined                      Industry      City  \\\n",
              "527  InVision          2  2017-11-01  Internet software & services  New York   \n",
              "\n",
              "    Country/Region      Continent  Year Founded Funding  \\\n",
              "527  United States  North America          2020   $349M   \n",
              "\n",
              "                                      Select Investors  Years to unicorn  \n",
              "527  FirstMark Capital, Tiger Global Management, IC...                -3  "
            ]
          },
          "execution_count": 9,
          "metadata": {},
          "output_type": "execute_result"
        }
      ],
      "source": [
        "companies[companies['Years to unicorn'] < 0]"
      ]
    },
    {
      "cell_type": "markdown",
      "id": "b-QWRbzSFlPZ",
      "metadata": {
        "id": "b-QWRbzSFlPZ"
      },
      "source": [
        "**Question: How many rows have negative values in the `Years To Unicorn` column, and what companies are they for?**\n"
      ]
    },
    {
      "cell_type": "markdown",
      "id": "cVDeUVhtFlPZ",
      "metadata": {
        "id": "cVDeUVhtFlPZ"
      },
      "source": [
        "Just one row and the company is called InVision"
      ]
    },
    {
      "cell_type": "markdown",
      "id": "739430f4-97ce-43d4-a982-3f75f3823702",
      "metadata": {
        "id": "739430f4-97ce-43d4-a982-3f75f3823702"
      },
      "source": [
        "An internet search reveals that InVision was founded in 2011. Replace the value at `Year Founded` with `2011` for InVision's row."
      ]
    },
    {
      "cell_type": "code",
      "execution_count": null,
      "id": "6b89463a-6426-4797-a62e-b7b26f0b2f3b",
      "metadata": {
        "id": "6b89463a-6426-4797-a62e-b7b26f0b2f3b",
        "outputId": "16bdcd2b-6de9-40ec-c521-8c18455fd24d"
      },
      "outputs": [
        {
          "data": {
            "text/html": [
              "<div>\n",
              "<style scoped>\n",
              "    .dataframe tbody tr th:only-of-type {\n",
              "        vertical-align: middle;\n",
              "    }\n",
              "\n",
              "    .dataframe tbody tr th {\n",
              "        vertical-align: top;\n",
              "    }\n",
              "\n",
              "    .dataframe thead th {\n",
              "        text-align: right;\n",
              "    }\n",
              "</style>\n",
              "<table border=\"1\" class=\"dataframe\">\n",
              "  <thead>\n",
              "    <tr style=\"text-align: right;\">\n",
              "      <th></th>\n",
              "      <th>Company</th>\n",
              "      <th>Valuation</th>\n",
              "      <th>Date Joined</th>\n",
              "      <th>Industry</th>\n",
              "      <th>City</th>\n",
              "      <th>Country/Region</th>\n",
              "      <th>Continent</th>\n",
              "      <th>Year Founded</th>\n",
              "      <th>Funding</th>\n",
              "      <th>Select Investors</th>\n",
              "      <th>Years to unicorn</th>\n",
              "    </tr>\n",
              "  </thead>\n",
              "  <tbody>\n",
              "    <tr>\n",
              "      <th>527</th>\n",
              "      <td>InVision</td>\n",
              "      <td>2</td>\n",
              "      <td>2017-11-01</td>\n",
              "      <td>Internet software &amp; services</td>\n",
              "      <td>New York</td>\n",
              "      <td>United States</td>\n",
              "      <td>North America</td>\n",
              "      <td>2011</td>\n",
              "      <td>$349M</td>\n",
              "      <td>FirstMark Capital, Tiger Global Management, IC...</td>\n",
              "      <td>-3</td>\n",
              "    </tr>\n",
              "  </tbody>\n",
              "</table>\n",
              "</div>"
            ],
            "text/plain": [
              "      Company  Valuation Date Joined                      Industry      City  \\\n",
              "527  InVision          2  2017-11-01  Internet software & services  New York   \n",
              "\n",
              "    Country/Region      Continent  Year Founded Funding  \\\n",
              "527  United States  North America          2011   $349M   \n",
              "\n",
              "                                      Select Investors  Years to unicorn  \n",
              "527  FirstMark Capital, Tiger Global Management, IC...                -3  "
            ]
          },
          "execution_count": 10,
          "metadata": {},
          "output_type": "execute_result"
        }
      ],
      "source": [
        "# Replace InVision's `Year Founded` value with 2011\n",
        "companies.loc[companies['Company'] == 'InVision', 'Year Founded'] = 2011\n",
        "\n",
        "# Verify the change was made properly\n",
        "\n",
        "companies[companies['Company'] == 'InVision']"
      ]
    },
    {
      "cell_type": "markdown",
      "id": "121e1b7c-845f-4cee-a973-aebd41411dd2",
      "metadata": {
        "id": "121e1b7c-845f-4cee-a973-aebd41411dd2"
      },
      "source": [
        "Now, recalculate all the values in the `Years To Unicorn` column to remove the negative value for InVision. Verify that there are no more negative values afterwards."
      ]
    },
    {
      "cell_type": "code",
      "execution_count": null,
      "id": "0850371d-4cf8-4f06-9e41-b3baa842d86c",
      "metadata": {
        "id": "0850371d-4cf8-4f06-9e41-b3baa842d86c",
        "outputId": "725ba926-b4b3-491b-f013-a38bfb810eb5"
      },
      "outputs": [
        {
          "data": {
            "text/plain": [
              "count    1074.000000\n",
              "mean        7.021415\n",
              "std         5.323155\n",
              "min         0.000000\n",
              "25%         4.000000\n",
              "50%         6.000000\n",
              "75%         9.000000\n",
              "max        98.000000\n",
              "Name: Years to unicorn, dtype: float64"
            ]
          },
          "execution_count": 11,
          "metadata": {},
          "output_type": "execute_result"
        }
      ],
      "source": [
        "# Recalculate all values in the `Years To Unicorn` column\n",
        "\n",
        "companies['Years to unicorn'] = companies['Date Joined'].dt.year - companies['Year Founded']\n",
        "# Verify that there are no more negative values in the column\n",
        "\n",
        "companies['Years to unicorn'].describe()"
      ]
    },
    {
      "cell_type": "markdown",
      "id": "0b6edaeb-6561-4201-b2d8-2c11ed8837c1",
      "metadata": {
        "id": "0b6edaeb-6561-4201-b2d8-2c11ed8837c1"
      },
      "source": [
        "#### Issues with `Industry` labels\n",
        "\n",
        "The company provided you with the following list of industry labels to identify in the data for `Industry`.\n",
        "\n",
        "**Note:** Any labels in the `Industry` column that are not in `industry_list` are misspellings."
      ]
    },
    {
      "cell_type": "code",
      "execution_count": null,
      "id": "99KKsKSYFlPf",
      "metadata": {
        "id": "99KKsKSYFlPf"
      },
      "outputs": [],
      "source": [
        "# List provided by the company of the expected industry labels in the data\n",
        "industry_list = ['Artificial intelligence', 'Other','E-commerce & direct-to-consumer', 'Fintech',\\\n",
        "       'Internet software & services','Supply chain, logistics, & delivery', 'Consumer & retail',\\\n",
        "       'Data management & analytics', 'Edtech', 'Health', 'Hardware','Auto & transportation', \\\n",
        "        'Travel', 'Cybersecurity','Mobile & telecommunications']"
      ]
    },
    {
      "cell_type": "markdown",
      "id": "Rx3UAHl8FlPf",
      "metadata": {
        "id": "Rx3UAHl8FlPf"
      },
      "source": [
        "First, check if there are values in the `Industry` column that are not in `industry_list`. If so, what are they?"
      ]
    },
    {
      "cell_type": "code",
      "execution_count": null,
      "id": "ibEIzNjyFlPf",
      "metadata": {
        "id": "ibEIzNjyFlPf",
        "outputId": "c8a7e451-34f7-4169-a805-74363513ed28"
      },
      "outputs": [
        {
          "data": {
            "text/plain": [
              "{'Artificial Intelligence', 'Data management and analytics', 'FinTech'}"
            ]
          },
          "execution_count": 13,
          "metadata": {},
          "output_type": "execute_result"
        }
      ],
      "source": [
        "# Check which values are in `Industry` but not in `industry_list`\n",
        "\n",
        "set(companies['Industry']) - set(industry_list)"
      ]
    },
    {
      "cell_type": "markdown",
      "id": "JQJQAGL4FlPg",
      "metadata": {
        "id": "JQJQAGL4FlPg"
      },
      "source": [
        "**Question: Which values currently exist in the `Industry` column that are not in `industry_list`?**\n"
      ]
    },
    {
      "cell_type": "markdown",
      "id": "hkD_nHl6FlPg",
      "metadata": {
        "id": "hkD_nHl6FlPg"
      },
      "source": [
        "All three values do not exist in the Indsutry dataframe due to mispellings"
      ]
    },
    {
      "cell_type": "markdown",
      "id": "8H5Ae7lCFlPg",
      "metadata": {
        "id": "8H5Ae7lCFlPg"
      },
      "source": [
        "Now, correct the bad entries in the `Industry` column by replacing them with an approved string from `industry_list`. To do this, I will use the [`replace()`](https://pandas.pydata.org/docs/reference/api/pandas.Series.replace.html) `Series` method on the `Industry` series. When passing a dictionary to the method, it will replace the data in the series where that data matches the dictionary's keys. The values that get imputed are the values of the dictionary. If a value is not specified in the dictionary, the series' original value is retained.\n",
        "</br></br>\n",
        "\n",
        "\n",
        "1. Create a dictionary called `replacement_dict` whose keys are the incorrect spellings in the `Industry` series and whose values are the correct spelling, as indicated in `industry_list`.\n",
        "\n",
        "2. Call the `replace()` method on the `Industry` series and pass to it `replacement_dict` as its argument. Reassign the result back to the `Industry` column.\n",
        "\n",
        "3. Verify that there are no longer any elements in `Industry` that are not in `industry_list`."
      ]
    },
    {
      "cell_type": "code",
      "execution_count": null,
      "id": "SA0dUfDsFlPg",
      "metadata": {
        "id": "SA0dUfDsFlPg",
        "outputId": "1ef2ee45-d836-4d38-8b8f-679451dbb19e"
      },
      "outputs": [
        {
          "ename": "NameError",
          "evalue": "name 'companies' is not defined",
          "output_type": "error",
          "traceback": [
            "\u001b[0;31m---------------------------------------------------------------------------\u001b[0m",
            "\u001b[0;31mNameError\u001b[0m                                 Traceback (most recent call last)",
            "\u001b[1;32m/Users/gzuz/Repositories/GitHub/Data-Science-and-Analytics-Repository/Data Cleaning/Data cleansing and validation.ipynb Cell 39\u001b[0m line \u001b[0;36m7\n\u001b[1;32m      <a href='vscode-notebook-cell:/Users/gzuz/Repositories/GitHub/Data-Science-and-Analytics-Repository/Data%20Cleaning/Data%20cleansing%20and%20validation.ipynb#Y104sZmlsZQ%3D%3D?line=3'>4</a>\u001b[0m replacement_dict\n\u001b[1;32m      <a href='vscode-notebook-cell:/Users/gzuz/Repositories/GitHub/Data-Science-and-Analytics-Repository/Data%20Cleaning/Data%20cleansing%20and%20validation.ipynb#Y104sZmlsZQ%3D%3D?line=4'>5</a>\u001b[0m \u001b[39m# 2. Replace the incorrect values in the `Industry` column\u001b[39;00m\n\u001b[0;32m----> <a href='vscode-notebook-cell:/Users/gzuz/Repositories/GitHub/Data-Science-and-Analytics-Repository/Data%20Cleaning/Data%20cleansing%20and%20validation.ipynb#Y104sZmlsZQ%3D%3D?line=6'>7</a>\u001b[0m companies[\u001b[39m'\u001b[39m\u001b[39mIndustry\u001b[39m\u001b[39m'\u001b[39m] \u001b[39m=\u001b[39m companies[\u001b[39m'\u001b[39m\u001b[39mIndustry\u001b[39m\u001b[39m'\u001b[39m]\u001b[39m.\u001b[39mreplace(replacement_dict)\n\u001b[1;32m      <a href='vscode-notebook-cell:/Users/gzuz/Repositories/GitHub/Data-Science-and-Analytics-Repository/Data%20Cleaning/Data%20cleansing%20and%20validation.ipynb#Y104sZmlsZQ%3D%3D?line=7'>8</a>\u001b[0m \u001b[39m# 3. Verify that there are no longer any elements in `Industry` that are not in `industry_list`\u001b[39;00m\n\u001b[1;32m     <a href='vscode-notebook-cell:/Users/gzuz/Repositories/GitHub/Data-Science-and-Analytics-Repository/Data%20Cleaning/Data%20cleansing%20and%20validation.ipynb#Y104sZmlsZQ%3D%3D?line=9'>10</a>\u001b[0m \u001b[39mset\u001b[39m(companies[\u001b[39m'\u001b[39m\u001b[39mIndustry\u001b[39m\u001b[39m'\u001b[39m]) \u001b[39m-\u001b[39m \u001b[39mset\u001b[39m(industry_list)\n",
            "\u001b[0;31mNameError\u001b[0m: name 'companies' is not defined"
          ]
        }
      ],
      "source": [
        "# 1. Create `replacement_dict`\n",
        "\n",
        "replacement_dict = {'Artificial Intelligence':'Artificial intelligence' , 'Data management and analytics':'Data management & analytics' , 'FinTech':'Fintech' }\n",
        "replacement_dict\n",
        "# 2. Replace the incorrect values in the `Industry` column\n",
        "\n",
        "companies['Industry'] = companies['Industry'].replace(replacement_dict)\n",
        "# 3. Verify that there are no longer any elements in `Industry` that are not in `industry_list`\n",
        "\n",
        "set(companies['Industry']) - set(industry_list)"
      ]
    },
    {
      "cell_type": "markdown",
      "id": "0BZ342SNFlPg",
      "metadata": {
        "id": "0BZ342SNFlPg"
      },
      "source": [
        "#### Handling duplicate rows\n",
        "\n",
        "The business mentioned that no company should appear in the data more than once.\n",
        "\n",
        "Verify that this is indeed the case, and if not, clean the data so each company appears only once.\n",
        "\n",
        "Begin by checking which, if any, companies are duplicated. Filter the data to return all occurrences of those duplicated companies."
      ]
    },
    {
      "cell_type": "code",
      "execution_count": null,
      "id": "RWA4byaiFlPg",
      "metadata": {
        "id": "RWA4byaiFlPg",
        "outputId": "a16a5a33-fde0-4316-af04-e880e93b4fd3"
      },
      "outputs": [
        {
          "data": {
            "text/html": [
              "<div>\n",
              "<style scoped>\n",
              "    .dataframe tbody tr th:only-of-type {\n",
              "        vertical-align: middle;\n",
              "    }\n",
              "\n",
              "    .dataframe tbody tr th {\n",
              "        vertical-align: top;\n",
              "    }\n",
              "\n",
              "    .dataframe thead th {\n",
              "        text-align: right;\n",
              "    }\n",
              "</style>\n",
              "<table border=\"1\" class=\"dataframe\">\n",
              "  <thead>\n",
              "    <tr style=\"text-align: right;\">\n",
              "      <th></th>\n",
              "      <th>Company</th>\n",
              "      <th>Valuation</th>\n",
              "      <th>Date Joined</th>\n",
              "      <th>Industry</th>\n",
              "      <th>City</th>\n",
              "      <th>Country/Region</th>\n",
              "      <th>Continent</th>\n",
              "      <th>Year Founded</th>\n",
              "      <th>Funding</th>\n",
              "      <th>Select Investors</th>\n",
              "      <th>Years to unicorn</th>\n",
              "    </tr>\n",
              "  </thead>\n",
              "  <tbody>\n",
              "    <tr>\n",
              "      <th>385</th>\n",
              "      <td>BrewDog</td>\n",
              "      <td>2</td>\n",
              "      <td>2017-04-10</td>\n",
              "      <td>Consumer &amp; retail</td>\n",
              "      <td>Aberdeen</td>\n",
              "      <td>United Kingdom</td>\n",
              "      <td>Europe</td>\n",
              "      <td>2007</td>\n",
              "      <td>$233M</td>\n",
              "      <td>TSG Consumer Partners, Crowdcube</td>\n",
              "      <td>10</td>\n",
              "    </tr>\n",
              "    <tr>\n",
              "      <th>386</th>\n",
              "      <td>BrewDog</td>\n",
              "      <td>2</td>\n",
              "      <td>2017-04-10</td>\n",
              "      <td>Consumer &amp; retail</td>\n",
              "      <td>Aberdeen</td>\n",
              "      <td>UnitedKingdom</td>\n",
              "      <td>Europe</td>\n",
              "      <td>2007</td>\n",
              "      <td>$233M</td>\n",
              "      <td>TSG Consumer Partners</td>\n",
              "      <td>10</td>\n",
              "    </tr>\n",
              "    <tr>\n",
              "      <th>510</th>\n",
              "      <td>ZocDoc</td>\n",
              "      <td>2</td>\n",
              "      <td>2015-08-20</td>\n",
              "      <td>Health</td>\n",
              "      <td>New York</td>\n",
              "      <td>United States</td>\n",
              "      <td>North America</td>\n",
              "      <td>2007</td>\n",
              "      <td>$374M</td>\n",
              "      <td>Founders Fund, Khosla Ventures, Goldman Sachs</td>\n",
              "      <td>8</td>\n",
              "    </tr>\n",
              "    <tr>\n",
              "      <th>511</th>\n",
              "      <td>ZocDoc</td>\n",
              "      <td>2</td>\n",
              "      <td>2015-08-20</td>\n",
              "      <td>Health</td>\n",
              "      <td>NaN</td>\n",
              "      <td>United States</td>\n",
              "      <td>North America</td>\n",
              "      <td>2007</td>\n",
              "      <td>$374M</td>\n",
              "      <td>Founders Fund</td>\n",
              "      <td>8</td>\n",
              "    </tr>\n",
              "    <tr>\n",
              "      <th>1031</th>\n",
              "      <td>SoundHound</td>\n",
              "      <td>1</td>\n",
              "      <td>2018-05-03</td>\n",
              "      <td>Artificial intelligence</td>\n",
              "      <td>Santa Clara</td>\n",
              "      <td>United States</td>\n",
              "      <td>North America</td>\n",
              "      <td>2005</td>\n",
              "      <td>$215M</td>\n",
              "      <td>Tencent Holdings, Walden Venture Capital, Glob...</td>\n",
              "      <td>13</td>\n",
              "    </tr>\n",
              "    <tr>\n",
              "      <th>1032</th>\n",
              "      <td>SoundHound</td>\n",
              "      <td>1</td>\n",
              "      <td>2018-05-03</td>\n",
              "      <td>Other</td>\n",
              "      <td>Santa Clara</td>\n",
              "      <td>United States</td>\n",
              "      <td>North America</td>\n",
              "      <td>2005</td>\n",
              "      <td>$215M</td>\n",
              "      <td>Tencent Holdings</td>\n",
              "      <td>13</td>\n",
              "    </tr>\n",
              "  </tbody>\n",
              "</table>\n",
              "</div>"
            ],
            "text/plain": [
              "         Company  Valuation Date Joined                 Industry         City  \\\n",
              "385      BrewDog          2  2017-04-10        Consumer & retail     Aberdeen   \n",
              "386      BrewDog          2  2017-04-10        Consumer & retail     Aberdeen   \n",
              "510       ZocDoc          2  2015-08-20                   Health     New York   \n",
              "511       ZocDoc          2  2015-08-20                   Health          NaN   \n",
              "1031  SoundHound          1  2018-05-03  Artificial intelligence  Santa Clara   \n",
              "1032  SoundHound          1  2018-05-03                    Other  Santa Clara   \n",
              "\n",
              "      Country/Region      Continent  Year Founded Funding  \\\n",
              "385   United Kingdom         Europe          2007   $233M   \n",
              "386    UnitedKingdom         Europe          2007   $233M   \n",
              "510    United States  North America          2007   $374M   \n",
              "511    United States  North America          2007   $374M   \n",
              "1031   United States  North America          2005   $215M   \n",
              "1032   United States  North America          2005   $215M   \n",
              "\n",
              "                                       Select Investors  Years to unicorn  \n",
              "385                    TSG Consumer Partners, Crowdcube                10  \n",
              "386                               TSG Consumer Partners                10  \n",
              "510       Founders Fund, Khosla Ventures, Goldman Sachs                 8  \n",
              "511                                       Founders Fund                 8  \n",
              "1031  Tencent Holdings, Walden Venture Capital, Glob...                13  \n",
              "1032                                   Tencent Holdings                13  "
            ]
          },
          "execution_count": 15,
          "metadata": {},
          "output_type": "execute_result"
        }
      ],
      "source": [
        "# Isolate rows of all companies that have duplicates\n",
        "\n",
        "companies[companies.duplicated(subset='Company', keep=False)]"
      ]
    },
    {
      "cell_type": "markdown",
      "id": "9RUrxZ06FlPh",
      "metadata": {
        "id": "9RUrxZ06FlPh"
      },
      "source": [
        "<details>\n",
        "  <summary><h4><strong>Hint 1</strong></h4></summary>\n",
        "\n",
        "Check for duplicated values specifically in the `Company` column, not entire rows that are duplicated.\n",
        "    \n",
        "</details>"
      ]
    },
    {
      "cell_type": "markdown",
      "id": "uKdH661tFlPh",
      "metadata": {
        "id": "uKdH661tFlPh"
      },
      "source": [
        "<details>\n",
        "  <summary><h4><strong>Hint 2</strong></h4></summary>\n",
        "\n",
        "The pandas [`duplicated()`](https://pandas.pydata.org/docs/reference/api/pandas.DataFrame.duplicated.html#pandas.DataFrame.duplicated) `DataFrame` method can indentify duplicated rows. Apply it to the `Company` column in `companies` to find which companies appear more than once.\n",
        "    \n",
        "</details>"
      ]
    },
    {
      "cell_type": "markdown",
      "id": "9JPwI7hgFlPh",
      "metadata": {
        "id": "9JPwI7hgFlPh"
      },
      "source": [
        "<details>\n",
        "  <summary><h4><strong>Hint 3</strong></h4></summary>\n",
        "\n",
        "* To specify that you want to check for duplicates only in the `Company` column, indicate this with the `subset` parameter.\n",
        "* To return _all_ occurrences of duplicates, set the `keep` parameter to `False`.\n",
        "    \n",
        "</details>"
      ]
    },
    {
      "cell_type": "markdown",
      "id": "Q8qxfFMIFlPh",
      "metadata": {
        "id": "Q8qxfFMIFlPh"
      },
      "source": [
        "**Question: Do these duplicated companies seem like legitimate data points, or are they problematic data?**\n"
      ]
    },
    {
      "cell_type": "markdown",
      "id": "KXbqVgXkFlPh",
      "metadata": {
        "id": "KXbqVgXkFlPh"
      },
      "source": [
        "These duplicates seem like problematic data because the company names are completely the same with minor variations in other columns"
      ]
    },
    {
      "cell_type": "markdown",
      "id": "nLWsVAvYFlPh",
      "metadata": {
        "id": "nLWsVAvYFlPh"
      },
      "source": [
        "Keep the first occurrence of each duplicate company and drop the subsequent rows that are copies."
      ]
    },
    {
      "cell_type": "code",
      "execution_count": null,
      "id": "Rell5vscFlPh",
      "metadata": {
        "id": "Rell5vscFlPh"
      },
      "outputs": [],
      "source": [
        "# Drop rows of duplicate companies after their first occurrence\n",
        "\n",
        "companies = companies.drop_duplicates(subset = 'Company', keep = 'first')"
      ]
    },
    {
      "cell_type": "markdown",
      "id": "PB3DLa0qFlPh",
      "metadata": {
        "id": "PB3DLa0qFlPh"
      },
      "source": [
        "<details>\n",
        "  <summary><h4><strong>Hint 1</strong></h4></summary>\n",
        "\n",
        "Use the [`drop_duplicates()`](https://pandas.pydata.org/docs/reference/api/pandas.DataFrame.drop_duplicates.html) `DataFrame` method.\n",
        "    \n",
        "</details>"
      ]
    },
    {
      "cell_type": "markdown",
      "id": "kG7wJYBqFlPh",
      "metadata": {
        "id": "kG7wJYBqFlPh"
      },
      "source": [
        "<details>\n",
        "  <summary><h4><strong>Hint 2</strong></h4></summary>\n",
        "\n",
        "Make sure to subset `Company` and reassign the results back to the `companies` dataframe for the changes to take effect.\n",
        "    \n",
        "</details>"
      ]
    },
    {
      "cell_type": "markdown",
      "id": "ilX6vrLzFlPh",
      "metadata": {
        "id": "ilX6vrLzFlPh"
      },
      "source": [
        "**Question: Why is it important to perform input validation?**\n"
      ]
    },
    {
      "cell_type": "markdown",
      "id": "ExC2FmIwFlPh",
      "metadata": {
        "id": "ExC2FmIwFlPh"
      },
      "source": [
        "Input validation is important because it helps in ensuring the data is complete, and free of errors."
      ]
    },
    {
      "cell_type": "markdown",
      "id": "1SRQnXGNFlPh",
      "metadata": {
        "id": "1SRQnXGNFlPh"
      },
      "source": [
        "**Question: What steps did you take to perform input validation for this dataset?**\n"
      ]
    },
    {
      "cell_type": "markdown",
      "id": "j502Npn-FlPh",
      "metadata": {
        "id": "j502Npn-FlPh"
      },
      "source": [
        "* Fixing incorrect values\n",
        "* Correcting inconsistencies in the data\n",
        "* Removing duplicate data"
      ]
    },
    {
      "cell_type": "markdown",
      "id": "w_HtFyHrXVAc",
      "metadata": {
        "id": "w_HtFyHrXVAc"
      },
      "source": [
        "### Convert numerical data to categorical data\n",
        "\n",
        "Sometimes, you'll want to simplify a numeric column by converting it to a categorical column. To do this, one common approach is to break the range of possible values into a defined number of equally sized bins and assign each bin a name. In the next step, you'll practice this process."
      ]
    },
    {
      "cell_type": "markdown",
      "id": "3c03f2b7-8262-4ea5-94dd-53ee5f219cc7",
      "metadata": {
        "id": "3c03f2b7-8262-4ea5-94dd-53ee5f219cc7"
      },
      "source": [
        "#### Create a `High Valuation` column\n",
        "\n",
        "The data in the `Valuation` column represents how much money (in billions, USD) each company is valued at. Use the `Valuation` column to create a new column called `High Valuation`. For each company, the value in this column should be `low` if the company is in the bottom 50% of company valuations and `high` if the company is in the top 50%."
      ]
    },
    {
      "cell_type": "code",
      "execution_count": null,
      "id": "646aaace-82a5-4b73-822a-27475822de4a",
      "metadata": {
        "id": "646aaace-82a5-4b73-822a-27475822de4a"
      },
      "outputs": [],
      "source": [
        "# Create new `High Valuation` column\n",
        "# Use qcut to divide Valuation into 'high' and 'low' Valuation groups\n",
        "\n",
        "companies['High Valuation'] = pd.qcut(companies['Valuation'], 2, labels = ['low', 'high'])"
      ]
    },
    {
      "cell_type": "markdown",
      "id": "3f610ee9-ef9d-4451-8667-edc8b4d803b9",
      "metadata": {
        "id": "3f610ee9-ef9d-4451-8667-edc8b4d803b9"
      },
      "source": [
        "<details>\n",
        "  <summary><h4><strong>Hint 1</strong></h4></summary>\n",
        "\n",
        "There are multiple ways to complete this task. Review what you've learned about organizing data into equal quantiles.\n",
        "    \n",
        "</details>"
      ]
    },
    {
      "cell_type": "markdown",
      "id": "97caea9d-0d55-45ba-be01-d90260610d95",
      "metadata": {
        "id": "97caea9d-0d55-45ba-be01-d90260610d95"
      },
      "source": [
        "<details>\n",
        "  <summary><h4><strong>Hint 2</strong></h4></summary>\n",
        "\n",
        "Consider using the pandas [`qcut()`](https://pandas.pydata.org/docs/reference/api/pandas.qcut.html) function.\n",
        "    \n",
        "</details>"
      ]
    },
    {
      "cell_type": "markdown",
      "id": "a606f612-aa34-46e3-b39f-c6f39b7e5dbd",
      "metadata": {
        "id": "a606f612-aa34-46e3-b39f-c6f39b7e5dbd"
      },
      "source": [
        "<details>\n",
        "  <summary><h4><strong>Hint 3</strong></h4></summary>\n",
        "\n",
        "Use `pandas` `qcut()` to divide the data into two equal-sized quantile buckets. Use the `labels` parameter to define the output labels. The values you give for `labels` will be the values that are inserted into the new column.\n",
        "    \n",
        "</details>"
      ]
    },
    {
      "cell_type": "markdown",
      "id": "6f5107f1-3694-4296-b857-b1e44ce2b09b",
      "metadata": {
        "id": "6f5107f1-3694-4296-b857-b1e44ce2b09b"
      },
      "source": [
        "### Convert categorical data to numerical data\n",
        "\n",
        "Three common methods for changing categorical data to numerical are:\n",
        "\n",
        "1. Label encoding: order matters (ordinal numeric labels)\n",
        "2. Label encoding: order doesn't matter (nominal numeric labels)\n",
        "3. Dummy encoding: order doesn't matter (creation of binary columns for each possible category contained in the variable)\n",
        "\n",
        "The decision on which method to use depends on the context and must be made on a case-to-case basis. However, a distinction is typically made between categorical variables with equal weight given to all possible categories vs. variables with a hierarchical structure of importance to their possible categories.  \n",
        "\n",
        "For example, a variable called `subject` might have possible values of `history`, `mathematics`, `literature`. In this case, each subject might be **nominal**&mdash;given the same level of importance. However, you might have another variable called `class`, whose possible values are `freshman`, `sophomore`, `junior`, `senior`. In this case, the class variable is **ordinal**&mdash;its values have an ordered, hierarchical structure of importance.\n",
        "\n",
        "Machine learning models typically need all data to be numeric, and they generally use ordinal label encoding (method 1) and dummy encoding (method 3).\n",
        "\n",
        "In the next steps, you'll convert the following variables: `Continent`, `Country/Region`, and `Industry`, each using a different approach."
      ]
    },
    {
      "cell_type": "markdown",
      "id": "-RxFpGYcFlPi",
      "metadata": {
        "id": "-RxFpGYcFlPi"
      },
      "source": [
        "### Convert `Continent` to numeric\n",
        "\n",
        "For the purposes of this exercise, suppose that the investment group has specified that they want to give more weight to continents with fewer unicorn companies because they believe this could indicate unrealized market potential."
      ]
    },
    {
      "cell_type": "markdown",
      "id": "jLWUjZ3GFlPi",
      "metadata": {
        "id": "jLWUjZ3GFlPi"
      },
      "source": [
        "**Question: Which type of variable would this make the `Continent` variable in terms of how it would be converted to a numeric data type?**\n"
      ]
    },
    {
      "cell_type": "markdown",
      "id": "FF8k5M5_FlPi",
      "metadata": {
        "id": "FF8k5M5_FlPi"
      },
      "source": [
        "It would be an ordinal variable since there is greater importance being placed on continents with less unicorn companies."
      ]
    },
    {
      "cell_type": "markdown",
      "id": "qfeOGwjgFlPi",
      "metadata": {
        "id": "qfeOGwjgFlPi"
      },
      "source": [
        "Rank the continents in descending order from the greatest number of unicorn companies to the least."
      ]
    },
    {
      "cell_type": "code",
      "execution_count": null,
      "id": "bbd72ed4-5cac-41f7-a816-3a4d28e34eb4",
      "metadata": {
        "id": "bbd72ed4-5cac-41f7-a816-3a4d28e34eb4",
        "outputId": "1572055e-883c-4365-bf47-832917b69ac0"
      },
      "outputs": [
        {
          "data": {
            "text/plain": [
              "North America    586\n",
              "Asia             310\n",
              "Europe           143\n",
              "South America     21\n",
              "Oceania            8\n",
              "Africa             3\n",
              "Name: Continent, dtype: int64"
            ]
          },
          "execution_count": 18,
          "metadata": {},
          "output_type": "execute_result"
        }
      ],
      "source": [
        "# Rank the continents by number of unicorn companies\n",
        "\n",
        "companies['Continent'].value_counts(ascending = False)"
      ]
    },
    {
      "cell_type": "markdown",
      "id": "34f1f513-2d9f-4da7-b884-6a6714b7652e",
      "metadata": {
        "id": "34f1f513-2d9f-4da7-b884-6a6714b7652e"
      },
      "source": [
        "<details>\n",
        "  <summary><h4><strong>Hint</strong></h4></summary>\n",
        "\n",
        "Use the `value_counts()` method on the `Continent` series.\n",
        "    \n",
        "</details>"
      ]
    },
    {
      "cell_type": "markdown",
      "id": "2c95b77d-7cda-46ba-975f-8632aaa6158d",
      "metadata": {
        "id": "2c95b77d-7cda-46ba-975f-8632aaa6158d",
        "tags": []
      },
      "source": [
        "Now, create a new column called `Continent Number` that represents the `Continent` column converted to numeric in the order of their number of unicorn companies, where North America is encoded as `1`, through Africa, encoded as `6`."
      ]
    },
    {
      "cell_type": "code",
      "execution_count": null,
      "id": "c3bd716a-7845-4c3c-988c-3b227c10e036",
      "metadata": {
        "id": "c3bd716a-7845-4c3c-988c-3b227c10e036",
        "outputId": "71eb9ba9-7d39-4373-c6c9-5add8271e7c0"
      },
      "outputs": [
        {
          "data": {
            "text/html": [
              "<div>\n",
              "<style scoped>\n",
              "    .dataframe tbody tr th:only-of-type {\n",
              "        vertical-align: middle;\n",
              "    }\n",
              "\n",
              "    .dataframe tbody tr th {\n",
              "        vertical-align: top;\n",
              "    }\n",
              "\n",
              "    .dataframe thead th {\n",
              "        text-align: right;\n",
              "    }\n",
              "</style>\n",
              "<table border=\"1\" class=\"dataframe\">\n",
              "  <thead>\n",
              "    <tr style=\"text-align: right;\">\n",
              "      <th></th>\n",
              "      <th>Company</th>\n",
              "      <th>Valuation</th>\n",
              "      <th>Date Joined</th>\n",
              "      <th>Industry</th>\n",
              "      <th>City</th>\n",
              "      <th>Country/Region</th>\n",
              "      <th>Continent</th>\n",
              "      <th>Year Founded</th>\n",
              "      <th>Funding</th>\n",
              "      <th>Select Investors</th>\n",
              "      <th>Years to unicorn</th>\n",
              "      <th>High Valuation</th>\n",
              "      <th>Continent Number</th>\n",
              "    </tr>\n",
              "  </thead>\n",
              "  <tbody>\n",
              "    <tr>\n",
              "      <th>0</th>\n",
              "      <td>Bytedance</td>\n",
              "      <td>180</td>\n",
              "      <td>2017-04-07</td>\n",
              "      <td>Artificial intelligence</td>\n",
              "      <td>Beijing</td>\n",
              "      <td>China</td>\n",
              "      <td>Asia</td>\n",
              "      <td>2012</td>\n",
              "      <td>$8B</td>\n",
              "      <td>Sequoia Capital China, SIG Asia Investments, S...</td>\n",
              "      <td>5</td>\n",
              "      <td>high</td>\n",
              "      <td>2</td>\n",
              "    </tr>\n",
              "    <tr>\n",
              "      <th>1</th>\n",
              "      <td>SpaceX</td>\n",
              "      <td>100</td>\n",
              "      <td>2012-12-01</td>\n",
              "      <td>Other</td>\n",
              "      <td>Hawthorne</td>\n",
              "      <td>United States</td>\n",
              "      <td>North America</td>\n",
              "      <td>2002</td>\n",
              "      <td>$7B</td>\n",
              "      <td>Founders Fund, Draper Fisher Jurvetson, Rothen...</td>\n",
              "      <td>10</td>\n",
              "      <td>high</td>\n",
              "      <td>1</td>\n",
              "    </tr>\n",
              "    <tr>\n",
              "      <th>2</th>\n",
              "      <td>SHEIN</td>\n",
              "      <td>100</td>\n",
              "      <td>2018-07-03</td>\n",
              "      <td>E-commerce &amp; direct-to-consumer</td>\n",
              "      <td>Shenzhen</td>\n",
              "      <td>China</td>\n",
              "      <td>Asia</td>\n",
              "      <td>2008</td>\n",
              "      <td>$2B</td>\n",
              "      <td>Tiger Global Management, Sequoia Capital China...</td>\n",
              "      <td>10</td>\n",
              "      <td>high</td>\n",
              "      <td>2</td>\n",
              "    </tr>\n",
              "    <tr>\n",
              "      <th>3</th>\n",
              "      <td>Stripe</td>\n",
              "      <td>95</td>\n",
              "      <td>2014-01-23</td>\n",
              "      <td>Fintech</td>\n",
              "      <td>San Francisco</td>\n",
              "      <td>United States</td>\n",
              "      <td>North America</td>\n",
              "      <td>2010</td>\n",
              "      <td>$2B</td>\n",
              "      <td>Khosla Ventures, LowercaseCapital, capitalG</td>\n",
              "      <td>4</td>\n",
              "      <td>high</td>\n",
              "      <td>1</td>\n",
              "    </tr>\n",
              "    <tr>\n",
              "      <th>4</th>\n",
              "      <td>Klarna</td>\n",
              "      <td>46</td>\n",
              "      <td>2011-12-12</td>\n",
              "      <td>Fintech</td>\n",
              "      <td>Stockholm</td>\n",
              "      <td>Sweden</td>\n",
              "      <td>Europe</td>\n",
              "      <td>2005</td>\n",
              "      <td>$4B</td>\n",
              "      <td>Institutional Venture Partners, Sequoia Capita...</td>\n",
              "      <td>6</td>\n",
              "      <td>high</td>\n",
              "      <td>3</td>\n",
              "    </tr>\n",
              "  </tbody>\n",
              "</table>\n",
              "</div>"
            ],
            "text/plain": [
              "     Company  Valuation Date Joined                         Industry  \\\n",
              "0  Bytedance        180  2017-04-07          Artificial intelligence   \n",
              "1     SpaceX        100  2012-12-01                            Other   \n",
              "2      SHEIN        100  2018-07-03  E-commerce & direct-to-consumer   \n",
              "3     Stripe         95  2014-01-23                          Fintech   \n",
              "4     Klarna         46  2011-12-12                          Fintech   \n",
              "\n",
              "            City Country/Region      Continent  Year Founded Funding  \\\n",
              "0        Beijing          China           Asia          2012     $8B   \n",
              "1      Hawthorne  United States  North America          2002     $7B   \n",
              "2       Shenzhen          China           Asia          2008     $2B   \n",
              "3  San Francisco  United States  North America          2010     $2B   \n",
              "4      Stockholm         Sweden         Europe          2005     $4B   \n",
              "\n",
              "                                    Select Investors  Years to unicorn  \\\n",
              "0  Sequoia Capital China, SIG Asia Investments, S...                 5   \n",
              "1  Founders Fund, Draper Fisher Jurvetson, Rothen...                10   \n",
              "2  Tiger Global Management, Sequoia Capital China...                10   \n",
              "3        Khosla Ventures, LowercaseCapital, capitalG                 4   \n",
              "4  Institutional Venture Partners, Sequoia Capita...                 6   \n",
              "\n",
              "  High Valuation  Continent Number  \n",
              "0           high                 2  \n",
              "1           high                 1  \n",
              "2           high                 2  \n",
              "3           high                 1  \n",
              "4           high                 3  "
            ]
          },
          "execution_count": 19,
          "metadata": {},
          "output_type": "execute_result"
        }
      ],
      "source": [
        "# Create numeric `Continent Number` column\n",
        "\n",
        "cont_dict = {'North America': 1,\n",
        "             'Asia': 2,\n",
        "             'Europe': 3,\n",
        "             'South America': 4,\n",
        "             'Oceania': 5,\n",
        "             'Africa': 6\n",
        "            }\n",
        "\n",
        "companies['Continent Number'] = companies['Continent'].replace(cont_dict)\n",
        "companies.head()"
      ]
    },
    {
      "cell_type": "markdown",
      "id": "ce4eb04d-d2d3-454c-a273-0815b1d1a95a",
      "metadata": {
        "id": "ce4eb04d-d2d3-454c-a273-0815b1d1a95a"
      },
      "source": [
        "<details>\n",
        "  <summary><h4><strong>Hint </strong></h4></summary>\n",
        "\n",
        "Create a mapping dictionary and use the `replace()` method on the `Category` column. Refer to the example provided above for more information about `replace()`.\n",
        "    \n",
        "</details>"
      ]
    },
    {
      "cell_type": "markdown",
      "id": "Tk2HfEHfFlPj",
      "metadata": {
        "id": "Tk2HfEHfFlPj"
      },
      "source": [
        "### Convert `Country/Region` to numeric\n",
        "\n",
        "Now, suppose that within a given continent, each company's `Country/Region` is given equal importance. For analytical purposes, you want to convert the values in this column to numeric without creating a large number of dummy columns. Use label encoding of this nominal categorical variable to create a new column called `Country/Region Numeric`, wherein each unique `Country/Region` is assigned its own number."
      ]
    },
    {
      "cell_type": "code",
      "execution_count": null,
      "id": "GygnYmVHFlPj",
      "metadata": {
        "id": "GygnYmVHFlPj",
        "outputId": "8662b5c3-dec6-47a8-9c76-61d56341c051"
      },
      "outputs": [
        {
          "data": {
            "text/html": [
              "<div>\n",
              "<style scoped>\n",
              "    .dataframe tbody tr th:only-of-type {\n",
              "        vertical-align: middle;\n",
              "    }\n",
              "\n",
              "    .dataframe tbody tr th {\n",
              "        vertical-align: top;\n",
              "    }\n",
              "\n",
              "    .dataframe thead th {\n",
              "        text-align: right;\n",
              "    }\n",
              "</style>\n",
              "<table border=\"1\" class=\"dataframe\">\n",
              "  <thead>\n",
              "    <tr style=\"text-align: right;\">\n",
              "      <th></th>\n",
              "      <th>Company</th>\n",
              "      <th>Valuation</th>\n",
              "      <th>Date Joined</th>\n",
              "      <th>Industry</th>\n",
              "      <th>City</th>\n",
              "      <th>Country/Region</th>\n",
              "      <th>Continent</th>\n",
              "      <th>Year Founded</th>\n",
              "      <th>Funding</th>\n",
              "      <th>Select Investors</th>\n",
              "      <th>Years to unicorn</th>\n",
              "      <th>High Valuation</th>\n",
              "      <th>Continent Number</th>\n",
              "      <th>Country/Region Numeric</th>\n",
              "    </tr>\n",
              "  </thead>\n",
              "  <tbody>\n",
              "    <tr>\n",
              "      <th>0</th>\n",
              "      <td>Bytedance</td>\n",
              "      <td>180</td>\n",
              "      <td>2017-04-07</td>\n",
              "      <td>Artificial intelligence</td>\n",
              "      <td>Beijing</td>\n",
              "      <td>China</td>\n",
              "      <td>Asia</td>\n",
              "      <td>2012</td>\n",
              "      <td>$8B</td>\n",
              "      <td>Sequoia Capital China, SIG Asia Investments, S...</td>\n",
              "      <td>5</td>\n",
              "      <td>high</td>\n",
              "      <td>2</td>\n",
              "      <td>9</td>\n",
              "    </tr>\n",
              "    <tr>\n",
              "      <th>1</th>\n",
              "      <td>SpaceX</td>\n",
              "      <td>100</td>\n",
              "      <td>2012-12-01</td>\n",
              "      <td>Other</td>\n",
              "      <td>Hawthorne</td>\n",
              "      <td>United States</td>\n",
              "      <td>North America</td>\n",
              "      <td>2002</td>\n",
              "      <td>$7B</td>\n",
              "      <td>Founders Fund, Draper Fisher Jurvetson, Rothen...</td>\n",
              "      <td>10</td>\n",
              "      <td>high</td>\n",
              "      <td>1</td>\n",
              "      <td>44</td>\n",
              "    </tr>\n",
              "    <tr>\n",
              "      <th>2</th>\n",
              "      <td>SHEIN</td>\n",
              "      <td>100</td>\n",
              "      <td>2018-07-03</td>\n",
              "      <td>E-commerce &amp; direct-to-consumer</td>\n",
              "      <td>Shenzhen</td>\n",
              "      <td>China</td>\n",
              "      <td>Asia</td>\n",
              "      <td>2008</td>\n",
              "      <td>$2B</td>\n",
              "      <td>Tiger Global Management, Sequoia Capital China...</td>\n",
              "      <td>10</td>\n",
              "      <td>high</td>\n",
              "      <td>2</td>\n",
              "      <td>9</td>\n",
              "    </tr>\n",
              "    <tr>\n",
              "      <th>3</th>\n",
              "      <td>Stripe</td>\n",
              "      <td>95</td>\n",
              "      <td>2014-01-23</td>\n",
              "      <td>Fintech</td>\n",
              "      <td>San Francisco</td>\n",
              "      <td>United States</td>\n",
              "      <td>North America</td>\n",
              "      <td>2010</td>\n",
              "      <td>$2B</td>\n",
              "      <td>Khosla Ventures, LowercaseCapital, capitalG</td>\n",
              "      <td>4</td>\n",
              "      <td>high</td>\n",
              "      <td>1</td>\n",
              "      <td>44</td>\n",
              "    </tr>\n",
              "    <tr>\n",
              "      <th>4</th>\n",
              "      <td>Klarna</td>\n",
              "      <td>46</td>\n",
              "      <td>2011-12-12</td>\n",
              "      <td>Fintech</td>\n",
              "      <td>Stockholm</td>\n",
              "      <td>Sweden</td>\n",
              "      <td>Europe</td>\n",
              "      <td>2005</td>\n",
              "      <td>$4B</td>\n",
              "      <td>Institutional Venture Partners, Sequoia Capita...</td>\n",
              "      <td>6</td>\n",
              "      <td>high</td>\n",
              "      <td>3</td>\n",
              "      <td>38</td>\n",
              "    </tr>\n",
              "  </tbody>\n",
              "</table>\n",
              "</div>"
            ],
            "text/plain": [
              "     Company  Valuation Date Joined                         Industry  \\\n",
              "0  Bytedance        180  2017-04-07          Artificial intelligence   \n",
              "1     SpaceX        100  2012-12-01                            Other   \n",
              "2      SHEIN        100  2018-07-03  E-commerce & direct-to-consumer   \n",
              "3     Stripe         95  2014-01-23                          Fintech   \n",
              "4     Klarna         46  2011-12-12                          Fintech   \n",
              "\n",
              "            City Country/Region      Continent  Year Founded Funding  \\\n",
              "0        Beijing          China           Asia          2012     $8B   \n",
              "1      Hawthorne  United States  North America          2002     $7B   \n",
              "2       Shenzhen          China           Asia          2008     $2B   \n",
              "3  San Francisco  United States  North America          2010     $2B   \n",
              "4      Stockholm         Sweden         Europe          2005     $4B   \n",
              "\n",
              "                                    Select Investors  Years to unicorn  \\\n",
              "0  Sequoia Capital China, SIG Asia Investments, S...                 5   \n",
              "1  Founders Fund, Draper Fisher Jurvetson, Rothen...                10   \n",
              "2  Tiger Global Management, Sequoia Capital China...                10   \n",
              "3        Khosla Ventures, LowercaseCapital, capitalG                 4   \n",
              "4  Institutional Venture Partners, Sequoia Capita...                 6   \n",
              "\n",
              "  High Valuation  Continent Number  Country/Region Numeric  \n",
              "0           high                 2                       9  \n",
              "1           high                 1                      44  \n",
              "2           high                 2                       9  \n",
              "3           high                 1                      44  \n",
              "4           high                 3                      38  "
            ]
          },
          "execution_count": 20,
          "metadata": {},
          "output_type": "execute_result"
        }
      ],
      "source": [
        "# Create `Country/Region Numeric` column\n",
        "# Create numeric categories for Country/Region\n",
        "\n",
        "companies['Country/Region Numeric'] = companies['Country/Region'].astype('category').cat.codes\n",
        "companies.head()"
      ]
    },
    {
      "cell_type": "markdown",
      "id": "RyfW4iyQFlPj",
      "metadata": {
        "id": "RyfW4iyQFlPj"
      },
      "source": [
        "<details>\n",
        "  <summary><h4><strong>Hint 1</strong></h4></summary>\n",
        "\n",
        "Review what you have learned about converting a variable with a string/object data type to a category.\n",
        "    \n",
        "</details>"
      ]
    },
    {
      "cell_type": "markdown",
      "id": "oU7hcFNHFlPj",
      "metadata": {
        "id": "oU7hcFNHFlPj"
      },
      "source": [
        "<details>\n",
        "  <summary><h4><strong>Hint 2</strong></h4></summary>\n",
        "\n",
        "To use label encoding, apply `.astype('category').cat.codes` to the `Country/Region` in `companies`.\n",
        "    \n",
        "</details>"
      ]
    },
    {
      "cell_type": "markdown",
      "id": "2eeff065-469f-4a43-bf2a-87920c4d7bc0",
      "metadata": {
        "id": "2eeff065-469f-4a43-bf2a-87920c4d7bc0"
      },
      "source": [
        "### Convert `Industry` to numeric\n",
        "\n",
        "Finally, create dummy variables for the values in the `Industry` column."
      ]
    },
    {
      "cell_type": "code",
      "execution_count": null,
      "id": "4bca4703-9f76-4b59-bc5e-df0097e44b4a",
      "metadata": {
        "id": "4bca4703-9f76-4b59-bc5e-df0097e44b4a"
      },
      "outputs": [],
      "source": [
        "# Convert `Industry` to numeric data\n",
        "# Create dummy variables with Industry values\n",
        "encoded_industry = pd.get_dummies(companies['Industry'])\n",
        "\n",
        "# Combine `companies` DataFrame with new dummy Industry columns\n",
        "\n",
        "companies_encoded = pd.concat([companies, encoded_industry], axis=1)"
      ]
    },
    {
      "cell_type": "markdown",
      "id": "V7rDy7adFlPj",
      "metadata": {
        "id": "V7rDy7adFlPj"
      },
      "source": [
        "Display the first few rows of `companies`"
      ]
    },
    {
      "cell_type": "code",
      "execution_count": null,
      "id": "UI9BmKMNFlPj",
      "metadata": {
        "id": "UI9BmKMNFlPj",
        "outputId": "6a8c792c-c99a-4d5b-9d91-6d4ba03d8095"
      },
      "outputs": [
        {
          "data": {
            "text/html": [
              "<div>\n",
              "<style scoped>\n",
              "    .dataframe tbody tr th:only-of-type {\n",
              "        vertical-align: middle;\n",
              "    }\n",
              "\n",
              "    .dataframe tbody tr th {\n",
              "        vertical-align: top;\n",
              "    }\n",
              "\n",
              "    .dataframe thead th {\n",
              "        text-align: right;\n",
              "    }\n",
              "</style>\n",
              "<table border=\"1\" class=\"dataframe\">\n",
              "  <thead>\n",
              "    <tr style=\"text-align: right;\">\n",
              "      <th></th>\n",
              "      <th>Company</th>\n",
              "      <th>Valuation</th>\n",
              "      <th>Date Joined</th>\n",
              "      <th>Industry</th>\n",
              "      <th>City</th>\n",
              "      <th>Country/Region</th>\n",
              "      <th>Continent</th>\n",
              "      <th>Year Founded</th>\n",
              "      <th>Funding</th>\n",
              "      <th>Select Investors</th>\n",
              "      <th>Years to unicorn</th>\n",
              "      <th>High Valuation</th>\n",
              "      <th>Continent Number</th>\n",
              "      <th>Country/Region Numeric</th>\n",
              "      <th>Artificial intelligence</th>\n",
              "      <th>Auto &amp; transportation</th>\n",
              "      <th>Consumer &amp; retail</th>\n",
              "      <th>Cybersecurity</th>\n",
              "      <th>Data management &amp; analytics</th>\n",
              "      <th>E-commerce &amp; direct-to-consumer</th>\n",
              "      <th>Edtech</th>\n",
              "      <th>Fintech</th>\n",
              "      <th>Hardware</th>\n",
              "      <th>Health</th>\n",
              "      <th>Internet software &amp; services</th>\n",
              "      <th>Mobile &amp; telecommunications</th>\n",
              "      <th>Other</th>\n",
              "      <th>Supply chain, logistics, &amp; delivery</th>\n",
              "      <th>Travel</th>\n",
              "    </tr>\n",
              "  </thead>\n",
              "  <tbody>\n",
              "    <tr>\n",
              "      <th>0</th>\n",
              "      <td>Bytedance</td>\n",
              "      <td>180</td>\n",
              "      <td>2017-04-07</td>\n",
              "      <td>Artificial intelligence</td>\n",
              "      <td>Beijing</td>\n",
              "      <td>China</td>\n",
              "      <td>Asia</td>\n",
              "      <td>2012</td>\n",
              "      <td>$8B</td>\n",
              "      <td>Sequoia Capital China, SIG Asia Investments, S...</td>\n",
              "      <td>5</td>\n",
              "      <td>high</td>\n",
              "      <td>2</td>\n",
              "      <td>9</td>\n",
              "      <td>1</td>\n",
              "      <td>0</td>\n",
              "      <td>0</td>\n",
              "      <td>0</td>\n",
              "      <td>0</td>\n",
              "      <td>0</td>\n",
              "      <td>0</td>\n",
              "      <td>0</td>\n",
              "      <td>0</td>\n",
              "      <td>0</td>\n",
              "      <td>0</td>\n",
              "      <td>0</td>\n",
              "      <td>0</td>\n",
              "      <td>0</td>\n",
              "      <td>0</td>\n",
              "    </tr>\n",
              "    <tr>\n",
              "      <th>1</th>\n",
              "      <td>SpaceX</td>\n",
              "      <td>100</td>\n",
              "      <td>2012-12-01</td>\n",
              "      <td>Other</td>\n",
              "      <td>Hawthorne</td>\n",
              "      <td>United States</td>\n",
              "      <td>North America</td>\n",
              "      <td>2002</td>\n",
              "      <td>$7B</td>\n",
              "      <td>Founders Fund, Draper Fisher Jurvetson, Rothen...</td>\n",
              "      <td>10</td>\n",
              "      <td>high</td>\n",
              "      <td>1</td>\n",
              "      <td>44</td>\n",
              "      <td>0</td>\n",
              "      <td>0</td>\n",
              "      <td>0</td>\n",
              "      <td>0</td>\n",
              "      <td>0</td>\n",
              "      <td>0</td>\n",
              "      <td>0</td>\n",
              "      <td>0</td>\n",
              "      <td>0</td>\n",
              "      <td>0</td>\n",
              "      <td>0</td>\n",
              "      <td>0</td>\n",
              "      <td>1</td>\n",
              "      <td>0</td>\n",
              "      <td>0</td>\n",
              "    </tr>\n",
              "    <tr>\n",
              "      <th>2</th>\n",
              "      <td>SHEIN</td>\n",
              "      <td>100</td>\n",
              "      <td>2018-07-03</td>\n",
              "      <td>E-commerce &amp; direct-to-consumer</td>\n",
              "      <td>Shenzhen</td>\n",
              "      <td>China</td>\n",
              "      <td>Asia</td>\n",
              "      <td>2008</td>\n",
              "      <td>$2B</td>\n",
              "      <td>Tiger Global Management, Sequoia Capital China...</td>\n",
              "      <td>10</td>\n",
              "      <td>high</td>\n",
              "      <td>2</td>\n",
              "      <td>9</td>\n",
              "      <td>0</td>\n",
              "      <td>0</td>\n",
              "      <td>0</td>\n",
              "      <td>0</td>\n",
              "      <td>0</td>\n",
              "      <td>1</td>\n",
              "      <td>0</td>\n",
              "      <td>0</td>\n",
              "      <td>0</td>\n",
              "      <td>0</td>\n",
              "      <td>0</td>\n",
              "      <td>0</td>\n",
              "      <td>0</td>\n",
              "      <td>0</td>\n",
              "      <td>0</td>\n",
              "    </tr>\n",
              "    <tr>\n",
              "      <th>3</th>\n",
              "      <td>Stripe</td>\n",
              "      <td>95</td>\n",
              "      <td>2014-01-23</td>\n",
              "      <td>Fintech</td>\n",
              "      <td>San Francisco</td>\n",
              "      <td>United States</td>\n",
              "      <td>North America</td>\n",
              "      <td>2010</td>\n",
              "      <td>$2B</td>\n",
              "      <td>Khosla Ventures, LowercaseCapital, capitalG</td>\n",
              "      <td>4</td>\n",
              "      <td>high</td>\n",
              "      <td>1</td>\n",
              "      <td>44</td>\n",
              "      <td>0</td>\n",
              "      <td>0</td>\n",
              "      <td>0</td>\n",
              "      <td>0</td>\n",
              "      <td>0</td>\n",
              "      <td>0</td>\n",
              "      <td>0</td>\n",
              "      <td>1</td>\n",
              "      <td>0</td>\n",
              "      <td>0</td>\n",
              "      <td>0</td>\n",
              "      <td>0</td>\n",
              "      <td>0</td>\n",
              "      <td>0</td>\n",
              "      <td>0</td>\n",
              "    </tr>\n",
              "    <tr>\n",
              "      <th>4</th>\n",
              "      <td>Klarna</td>\n",
              "      <td>46</td>\n",
              "      <td>2011-12-12</td>\n",
              "      <td>Fintech</td>\n",
              "      <td>Stockholm</td>\n",
              "      <td>Sweden</td>\n",
              "      <td>Europe</td>\n",
              "      <td>2005</td>\n",
              "      <td>$4B</td>\n",
              "      <td>Institutional Venture Partners, Sequoia Capita...</td>\n",
              "      <td>6</td>\n",
              "      <td>high</td>\n",
              "      <td>3</td>\n",
              "      <td>38</td>\n",
              "      <td>0</td>\n",
              "      <td>0</td>\n",
              "      <td>0</td>\n",
              "      <td>0</td>\n",
              "      <td>0</td>\n",
              "      <td>0</td>\n",
              "      <td>0</td>\n",
              "      <td>1</td>\n",
              "      <td>0</td>\n",
              "      <td>0</td>\n",
              "      <td>0</td>\n",
              "      <td>0</td>\n",
              "      <td>0</td>\n",
              "      <td>0</td>\n",
              "      <td>0</td>\n",
              "    </tr>\n",
              "  </tbody>\n",
              "</table>\n",
              "</div>"
            ],
            "text/plain": [
              "     Company  Valuation Date Joined                         Industry  \\\n",
              "0  Bytedance        180  2017-04-07          Artificial intelligence   \n",
              "1     SpaceX        100  2012-12-01                            Other   \n",
              "2      SHEIN        100  2018-07-03  E-commerce & direct-to-consumer   \n",
              "3     Stripe         95  2014-01-23                          Fintech   \n",
              "4     Klarna         46  2011-12-12                          Fintech   \n",
              "\n",
              "            City Country/Region      Continent  Year Founded Funding  \\\n",
              "0        Beijing          China           Asia          2012     $8B   \n",
              "1      Hawthorne  United States  North America          2002     $7B   \n",
              "2       Shenzhen          China           Asia          2008     $2B   \n",
              "3  San Francisco  United States  North America          2010     $2B   \n",
              "4      Stockholm         Sweden         Europe          2005     $4B   \n",
              "\n",
              "                                    Select Investors  Years to unicorn  \\\n",
              "0  Sequoia Capital China, SIG Asia Investments, S...                 5   \n",
              "1  Founders Fund, Draper Fisher Jurvetson, Rothen...                10   \n",
              "2  Tiger Global Management, Sequoia Capital China...                10   \n",
              "3        Khosla Ventures, LowercaseCapital, capitalG                 4   \n",
              "4  Institutional Venture Partners, Sequoia Capita...                 6   \n",
              "\n",
              "  High Valuation  Continent Number  Country/Region Numeric  \\\n",
              "0           high                 2                       9   \n",
              "1           high                 1                      44   \n",
              "2           high                 2                       9   \n",
              "3           high                 1                      44   \n",
              "4           high                 3                      38   \n",
              "\n",
              "   Artificial intelligence  Auto & transportation  Consumer & retail  \\\n",
              "0                        1                      0                  0   \n",
              "1                        0                      0                  0   \n",
              "2                        0                      0                  0   \n",
              "3                        0                      0                  0   \n",
              "4                        0                      0                  0   \n",
              "\n",
              "   Cybersecurity  Data management & analytics  \\\n",
              "0              0                            0   \n",
              "1              0                            0   \n",
              "2              0                            0   \n",
              "3              0                            0   \n",
              "4              0                            0   \n",
              "\n",
              "   E-commerce & direct-to-consumer  Edtech  Fintech  Hardware  Health  \\\n",
              "0                                0       0        0         0       0   \n",
              "1                                0       0        0         0       0   \n",
              "2                                1       0        0         0       0   \n",
              "3                                0       0        1         0       0   \n",
              "4                                0       0        1         0       0   \n",
              "\n",
              "   Internet software & services  Mobile & telecommunications  Other  \\\n",
              "0                             0                            0      0   \n",
              "1                             0                            0      1   \n",
              "2                             0                            0      0   \n",
              "3                             0                            0      0   \n",
              "4                             0                            0      0   \n",
              "\n",
              "   Supply chain, logistics, & delivery  Travel  \n",
              "0                                    0       0  \n",
              "1                                    0       0  \n",
              "2                                    0       0  \n",
              "3                                    0       0  \n",
              "4                                    0       0  "
            ]
          },
          "execution_count": 22,
          "metadata": {},
          "output_type": "execute_result"
        }
      ],
      "source": [
        "companies_encoded.head()"
      ]
    },
    {
      "cell_type": "markdown",
      "id": "adc26824-609c-4a9b-a5d7-c3abfb5258e1",
      "metadata": {
        "id": "adc26824-609c-4a9b-a5d7-c3abfb5258e1"
      },
      "source": [
        "<details>\n",
        "  <summary><h4><strong>Hint 1</strong></h4></summary>\n",
        "\n",
        "Consider using `pd.get_dummies` on the specified column.\n",
        "    \n",
        "</details>"
      ]
    },
    {
      "cell_type": "markdown",
      "id": "5f2bf2c6-fc4b-4d5f-b985-dd8fe5a7d87d",
      "metadata": {
        "id": "5f2bf2c6-fc4b-4d5f-b985-dd8fe5a7d87d"
      },
      "source": [
        "<details>\n",
        "  <summary><h4><strong>Hint 2</strong></h4></summary>\n",
        "\n",
        "When you call `pd.get_dummies()` on a specified series, it will return a dataframe consisting of each possible category contained in the series represented as its own binary column. You'll then have to combine this new dataframe of binary columns with the existing `companies` dataframe.\n",
        "    \n",
        "</details>"
      ]
    },
    {
      "cell_type": "markdown",
      "id": "fa14d383-ff64-4249-b51b-8026618a4571",
      "metadata": {
        "id": "fa14d383-ff64-4249-b51b-8026618a4571"
      },
      "source": [
        "<details>\n",
        "  <summary><h4><strong>Hint 3</strong></h4></summary>\n",
        "\n",
        "You can use `pd.concat([col_a, col_b])` to combine the two dataframes. Remember to specify the correct axis of concatenation and to reassign the result back to the `companies` dataframe.\n",
        "    \n",
        "</details>"
      ]
    },
    {
      "cell_type": "markdown",
      "id": "f7edb136-45f0-4ff1-84d7-ff6bcc29dd43",
      "metadata": {
        "id": "f7edb136-45f0-4ff1-84d7-ff6bcc29dd43"
      },
      "source": [
        "**Question: Which categorical encoding approach did you use for each variable? Why?**"
      ]
    },
    {
      "cell_type": "markdown",
      "id": "qNl-29W8ejOX",
      "metadata": {
        "id": "qNl-29W8ejOX"
      },
      "source": [
        "* For `Continent`, I used Ordinal label encoding because there was a hierarchical order to the categories.\n",
        "* For `Country/Region`, I used Nominal label encoding because there wasn't a hierarchical order the categories.\n",
        "* For `Industry`, I used Dummy encoding because there weren't many different categories and they were all equally important."
      ]
    },
    {
      "cell_type": "markdown",
      "id": "whD4Y6q4FlPj",
      "metadata": {
        "id": "whD4Y6q4FlPj"
      },
      "source": [
        "**Question: How does label encoding change the data?**\n"
      ]
    },
    {
      "cell_type": "markdown",
      "id": "3Ablt6wYFlPj",
      "metadata": {
        "id": "3Ablt6wYFlPj"
      },
      "source": [
        "Label encoding changes data becauseit assigns unique numbers to categorical data."
      ]
    },
    {
      "cell_type": "markdown",
      "id": "cVvcV_CGFlPk",
      "metadata": {
        "id": "cVvcV_CGFlPk"
      },
      "source": [
        "**Question: What are the benefits of label encoding?**\n"
      ]
    },
    {
      "cell_type": "markdown",
      "id": "z-nZx4OZFlPk",
      "metadata": {
        "id": "z-nZx4OZFlPk"
      },
      "source": [
        "Label encoding is used for machine learning models which require numerical input."
      ]
    },
    {
      "cell_type": "markdown",
      "id": "PSsEw3mxFlPk",
      "metadata": {
        "id": "PSsEw3mxFlPk"
      },
      "source": [
        "**Question: What are the disadvantages of label encoding?**\n"
      ]
    },
    {
      "cell_type": "markdown",
      "id": "oQ9WbQQbFlPk",
      "metadata": {
        "id": "oQ9WbQQbFlPk"
      },
      "source": [
        "It may make it difficult to interpret what a column value represents. Additionally, it may create unwanted realtionships between categorical data."
      ]
    },
    {
      "cell_type": "markdown",
      "id": "c38f5e8d-89fa-4eaf-acd3-4841583e427c",
      "metadata": {
        "id": "c38f5e8d-89fa-4eaf-acd3-4841583e427c",
        "tags": []
      },
      "source": [
        "## Conclusion\n",
        "\n",
        "**What are some key takeaways that you learned during this lab?**"
      ]
    },
    {
      "cell_type": "markdown",
      "id": "D9fOcrfWFlPk",
      "metadata": {
        "id": "D9fOcrfWFlPk"
      },
      "source": [
        "- Validating input is crucial for maintaining the integrity and accuracy of data.\n",
        "- Input validation involves a process of experimentation to pinpoint problems and figure out optimal solutions.\n",
        "- Both label encoding and dummy/one-hot encoding come with their own set of advantages and drawbacks.\n",
        "- Choosing between label encoding and dummy/one-hot encoding should be done considering the specifics of each case."
      ]
    },
    {
      "cell_type": "markdown",
      "id": "R9sAADZgr-YI",
      "metadata": {
        "id": "R9sAADZgr-YI"
      },
      "source": [
        "**Reference**\n",
        "\n",
        "[Bhat, M.A. *Unicorn Companies*](https://www.kaggle.com/datasets/mysarahmadbhat/unicorn-companies)\n",
        "\n"
      ]
    },
    {
      "cell_type": "markdown",
      "id": "WA1F4KFSFlPk",
      "metadata": {
        "id": "WA1F4KFSFlPk"
      },
      "source": [
        "**Congratulations!** You've completed this lab. However, you may not notice a green check mark next to this item on Coursera's platform. Please continue your progress regardless of the check mark. Just click on the \"save\" icon at the top of this notebook to ensure your work has been logged."
      ]
    }
  ],
  "metadata": {
    "colab": {
      "include_colab_link": true,
      "provenance": []
    },
    "kernelspec": {
      "display_name": "Python 3",
      "language": "python",
      "name": "python3"
    },
    "language_info": {
      "codemirror_mode": {
        "name": "ipython",
        "version": 3
      },
      "file_extension": ".py",
      "mimetype": "text/x-python",
      "name": "python",
      "nbconvert_exporter": "python",
      "pygments_lexer": "ipython3",
      "version": "3.11.4"
    },
    "toc-autonumbering": false,
    "toc-showtags": false
  },
  "nbformat": 4,
  "nbformat_minor": 5
}
