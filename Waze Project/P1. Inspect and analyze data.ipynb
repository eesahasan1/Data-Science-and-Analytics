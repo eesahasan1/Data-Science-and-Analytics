{
  "cells": [
    {
      "cell_type": "markdown",
      "metadata": {
        "id": "DtNBZFHO3M7n"
      },
      "source": [
        "# **Waze Project**"
      ]
    },
    {
      "cell_type": "markdown",
      "metadata": {
        "id": "zJCatj3xzrQZ"
      },
      "source": [
        "In this project, I am an analyst assisting The Waze data analytics team on a user churn project. To get clear insights, the user data provided must be inspected and prepared for the upcoming process of exploratory data analysis (EDA), which is where I come in."
      ]
    },
    {
      "cell_type": "markdown",
      "metadata": {
        "id": "rgSbVJvomcVa"
      },
      "source": [
        "# **Course 2 End-of-course project: Inspect and analyze data**\n",
        "\n",
        "In this activity, I will examine data provided and prepare it for analysis using the PACE workflow. This activity will help ensure the information is,\n",
        "\n",
        "1.   Ready to answer questions and yield insights\n",
        "\n",
        "2.   Ready for visualizations\n",
        "\n",
        "3.   Ready for future hypothesis testing and statistical methods\n",
        "<br/>\n",
        "\n",
        "**The purpose** of this project is to investigate and understand the data provided.\n",
        "\n",
        "**The goal** is to use a dataframe contructed within Python, perform a cursory inspection of the provided dataset, and inform team members of my findings.\n",
        "<br/>\n",
        "\n",
        "*This activity has three parts:*\n",
        "\n",
        "**Part 1:** Understand the situation\n",
        "* How can I best prepare to understand and organize the provided information?\n",
        "\n",
        "**Part 2:** Understand the data\n",
        "\n",
        "* Create a pandas dataframe for data learning, future exploratory data analysis (EDA), and statistical activities\n",
        "\n",
        "* Compile summary information about the data to inform next steps\n",
        "\n",
        "**Part 3:** Understand the variables\n",
        "\n",
        "* Use insights from my examination of the summary data to guide deeper investigation into variables\n",
        "\n",
        "\n"
      ]
    },
    {
      "cell_type": "markdown",
      "metadata": {
        "id": "HjFGokxv2pc5"
      },
      "source": [
        "# **Identify data types and compile summary information**\n"
      ]
    },
    {
      "cell_type": "markdown",
      "metadata": {
        "id": "MRUYfzCb4vop"
      },
      "source": [
        "<img src=\"data/images/Pace.png\" width=\"100\" height=\"100\" align=left>\n",
        "\n",
        "# **PACE stages**"
      ]
    },
    {
      "cell_type": "markdown",
      "metadata": {
        "id": "b4B47DQPcSQu"
      },
      "source": [
        "Throughout the project, you'll see references to the problem-solving framework, PACE. The following notebook components are labeled with the respective PACE stages: Plan, Analyze, Construct, and Execute."
      ]
    },
    {
      "cell_type": "markdown",
      "metadata": {
        "id": "zRHb2QQWj99m"
      },
      "source": [
        "<img src=\"data/images/Plan.png\" width=\"100\" height=\"100\" align=left>\n",
        "\n",
        "\n",
        "## **PACE: Plan**\n"
      ]
    },
    {
      "cell_type": "markdown",
      "metadata": {
        "id": "pWEfG5zJV5oG"
      },
      "source": [
        "### **Task 1. Understand the situation**\n",
        "\n",
        "*   How can I best prepare to understand and organize the provided driver data?\n",
        "\n",
        "\n",
        "*Begin by exploring the dataset and consider reviewing the Data Dictionary.*"
      ]
    },
    {
      "cell_type": "markdown",
      "metadata": {
        "id": "irvqnKSe6Z80"
      },
      "source": [
        "Having a solid understanding of the columns and rows and knowing what the data entails and the purpose of it's existence will aid in doing proper analysis."
      ]
    },
    {
      "cell_type": "markdown",
      "metadata": {
        "id": "1E9Y5aC0IAA-"
      },
      "source": [
        "<img src=\"data/images/Analyze.png\" width=\"100\" height=\"100\" align=left>\n",
        "\n",
        "## **PACE: Analyze**\n"
      ]
    },
    {
      "cell_type": "markdown",
      "metadata": {
        "id": "D4WK_AxP_S__"
      },
      "source": [
        "### **Task 2a. Imports and data loading**\n"
      ]
    },
    {
      "cell_type": "code",
      "execution_count": 22,
      "metadata": {
        "id": "OZSXM4q5zrQh"
      },
      "outputs": [],
      "source": [
        "# Import packages for data manipulation\n",
        "import pandas as pd\n",
        "import numpy as np"
      ]
    },
    {
      "cell_type": "code",
      "execution_count": 5,
      "metadata": {
        "id": "uwxDwelkDMTn"
      },
      "outputs": [],
      "source": [
        "# Load dataset into dataframe\n",
        "df = pd.read_csv('Data/P1_waze_dataset.csv')"
      ]
    },
    {
      "cell_type": "markdown",
      "metadata": {
        "id": "gYx1emvno7U_"
      },
      "source": [
        "### **Task 2b. Summary information**\n",
        "\n",
        "View and inspect summary information about the dataframe by **coding the following:**\n",
        "\n",
        "1.   df.head(10)\n",
        "2.   df.info()\n",
        "\n",
        "*Consider the following questions:*\n",
        "\n",
        "1. When reviewing the `df.head()` output, are there any variables that have missing values?\n",
        "\n",
        "2. When reviewing the `df.info()` output, what are the data types? How many rows and columns are there?\n",
        "\n",
        "3. Does the dataset have any missing values?"
      ]
    },
    {
      "cell_type": "code",
      "execution_count": 41,
      "metadata": {
        "id": "t7Nck2hh4R6J",
        "outputId": "a15f39dd-2fae-4b21-a663-e4d05831b508"
      },
      "outputs": [
        {
          "data": {
            "text/html": [
              "<div>\n",
              "<style scoped>\n",
              "    .dataframe tbody tr th:only-of-type {\n",
              "        vertical-align: middle;\n",
              "    }\n",
              "\n",
              "    .dataframe tbody tr th {\n",
              "        vertical-align: top;\n",
              "    }\n",
              "\n",
              "    .dataframe thead th {\n",
              "        text-align: right;\n",
              "    }\n",
              "</style>\n",
              "<table border=\"1\" class=\"dataframe\">\n",
              "  <thead>\n",
              "    <tr style=\"text-align: right;\">\n",
              "      <th></th>\n",
              "      <th>ID</th>\n",
              "      <th>label</th>\n",
              "      <th>sessions</th>\n",
              "      <th>drives</th>\n",
              "      <th>total_sessions</th>\n",
              "      <th>n_days_after_onboarding</th>\n",
              "      <th>total_navigations_fav1</th>\n",
              "      <th>total_navigations_fav2</th>\n",
              "      <th>driven_km_drives</th>\n",
              "      <th>duration_minutes_drives</th>\n",
              "      <th>activity_days</th>\n",
              "      <th>driving_days</th>\n",
              "      <th>device</th>\n",
              "    </tr>\n",
              "  </thead>\n",
              "  <tbody>\n",
              "    <tr>\n",
              "      <th>0</th>\n",
              "      <td>0</td>\n",
              "      <td>retained</td>\n",
              "      <td>283</td>\n",
              "      <td>226</td>\n",
              "      <td>296.748273</td>\n",
              "      <td>2276</td>\n",
              "      <td>208</td>\n",
              "      <td>0</td>\n",
              "      <td>2628.845068</td>\n",
              "      <td>1985.775061</td>\n",
              "      <td>28</td>\n",
              "      <td>19</td>\n",
              "      <td>Android</td>\n",
              "    </tr>\n",
              "    <tr>\n",
              "      <th>1</th>\n",
              "      <td>1</td>\n",
              "      <td>retained</td>\n",
              "      <td>133</td>\n",
              "      <td>107</td>\n",
              "      <td>326.896596</td>\n",
              "      <td>1225</td>\n",
              "      <td>19</td>\n",
              "      <td>64</td>\n",
              "      <td>13715.920550</td>\n",
              "      <td>3160.472914</td>\n",
              "      <td>13</td>\n",
              "      <td>11</td>\n",
              "      <td>iPhone</td>\n",
              "    </tr>\n",
              "    <tr>\n",
              "      <th>2</th>\n",
              "      <td>2</td>\n",
              "      <td>retained</td>\n",
              "      <td>114</td>\n",
              "      <td>95</td>\n",
              "      <td>135.522926</td>\n",
              "      <td>2651</td>\n",
              "      <td>0</td>\n",
              "      <td>0</td>\n",
              "      <td>3059.148818</td>\n",
              "      <td>1610.735904</td>\n",
              "      <td>14</td>\n",
              "      <td>8</td>\n",
              "      <td>Android</td>\n",
              "    </tr>\n",
              "    <tr>\n",
              "      <th>3</th>\n",
              "      <td>3</td>\n",
              "      <td>retained</td>\n",
              "      <td>49</td>\n",
              "      <td>40</td>\n",
              "      <td>67.589221</td>\n",
              "      <td>15</td>\n",
              "      <td>322</td>\n",
              "      <td>7</td>\n",
              "      <td>913.591123</td>\n",
              "      <td>587.196542</td>\n",
              "      <td>7</td>\n",
              "      <td>3</td>\n",
              "      <td>iPhone</td>\n",
              "    </tr>\n",
              "    <tr>\n",
              "      <th>4</th>\n",
              "      <td>4</td>\n",
              "      <td>retained</td>\n",
              "      <td>84</td>\n",
              "      <td>68</td>\n",
              "      <td>168.247020</td>\n",
              "      <td>1562</td>\n",
              "      <td>166</td>\n",
              "      <td>5</td>\n",
              "      <td>3950.202008</td>\n",
              "      <td>1219.555924</td>\n",
              "      <td>27</td>\n",
              "      <td>18</td>\n",
              "      <td>Android</td>\n",
              "    </tr>\n",
              "    <tr>\n",
              "      <th>5</th>\n",
              "      <td>5</td>\n",
              "      <td>retained</td>\n",
              "      <td>113</td>\n",
              "      <td>103</td>\n",
              "      <td>279.544437</td>\n",
              "      <td>2637</td>\n",
              "      <td>0</td>\n",
              "      <td>0</td>\n",
              "      <td>901.238699</td>\n",
              "      <td>439.101397</td>\n",
              "      <td>15</td>\n",
              "      <td>11</td>\n",
              "      <td>iPhone</td>\n",
              "    </tr>\n",
              "    <tr>\n",
              "      <th>6</th>\n",
              "      <td>6</td>\n",
              "      <td>retained</td>\n",
              "      <td>3</td>\n",
              "      <td>2</td>\n",
              "      <td>236.725314</td>\n",
              "      <td>360</td>\n",
              "      <td>185</td>\n",
              "      <td>18</td>\n",
              "      <td>5249.172828</td>\n",
              "      <td>726.577205</td>\n",
              "      <td>28</td>\n",
              "      <td>23</td>\n",
              "      <td>iPhone</td>\n",
              "    </tr>\n",
              "    <tr>\n",
              "      <th>7</th>\n",
              "      <td>7</td>\n",
              "      <td>retained</td>\n",
              "      <td>39</td>\n",
              "      <td>35</td>\n",
              "      <td>176.072845</td>\n",
              "      <td>2999</td>\n",
              "      <td>0</td>\n",
              "      <td>0</td>\n",
              "      <td>7892.052468</td>\n",
              "      <td>2466.981741</td>\n",
              "      <td>22</td>\n",
              "      <td>20</td>\n",
              "      <td>iPhone</td>\n",
              "    </tr>\n",
              "    <tr>\n",
              "      <th>8</th>\n",
              "      <td>8</td>\n",
              "      <td>retained</td>\n",
              "      <td>57</td>\n",
              "      <td>46</td>\n",
              "      <td>183.532018</td>\n",
              "      <td>424</td>\n",
              "      <td>0</td>\n",
              "      <td>26</td>\n",
              "      <td>2651.709764</td>\n",
              "      <td>1594.342984</td>\n",
              "      <td>25</td>\n",
              "      <td>20</td>\n",
              "      <td>Android</td>\n",
              "    </tr>\n",
              "    <tr>\n",
              "      <th>9</th>\n",
              "      <td>9</td>\n",
              "      <td>churned</td>\n",
              "      <td>84</td>\n",
              "      <td>68</td>\n",
              "      <td>244.802115</td>\n",
              "      <td>2997</td>\n",
              "      <td>72</td>\n",
              "      <td>0</td>\n",
              "      <td>6043.460295</td>\n",
              "      <td>2341.838528</td>\n",
              "      <td>7</td>\n",
              "      <td>3</td>\n",
              "      <td>iPhone</td>\n",
              "    </tr>\n",
              "  </tbody>\n",
              "</table>\n",
              "</div>"
            ],
            "text/plain": [
              "   ID     label  sessions  drives  total_sessions  n_days_after_onboarding  \\\n",
              "0   0  retained       283     226      296.748273                     2276   \n",
              "1   1  retained       133     107      326.896596                     1225   \n",
              "2   2  retained       114      95      135.522926                     2651   \n",
              "3   3  retained        49      40       67.589221                       15   \n",
              "4   4  retained        84      68      168.247020                     1562   \n",
              "5   5  retained       113     103      279.544437                     2637   \n",
              "6   6  retained         3       2      236.725314                      360   \n",
              "7   7  retained        39      35      176.072845                     2999   \n",
              "8   8  retained        57      46      183.532018                      424   \n",
              "9   9   churned        84      68      244.802115                     2997   \n",
              "\n",
              "   total_navigations_fav1  total_navigations_fav2  driven_km_drives  \\\n",
              "0                     208                       0       2628.845068   \n",
              "1                      19                      64      13715.920550   \n",
              "2                       0                       0       3059.148818   \n",
              "3                     322                       7        913.591123   \n",
              "4                     166                       5       3950.202008   \n",
              "5                       0                       0        901.238699   \n",
              "6                     185                      18       5249.172828   \n",
              "7                       0                       0       7892.052468   \n",
              "8                       0                      26       2651.709764   \n",
              "9                      72                       0       6043.460295   \n",
              "\n",
              "   duration_minutes_drives  activity_days  driving_days   device  \n",
              "0              1985.775061             28            19  Android  \n",
              "1              3160.472914             13            11   iPhone  \n",
              "2              1610.735904             14             8  Android  \n",
              "3               587.196542              7             3   iPhone  \n",
              "4              1219.555924             27            18  Android  \n",
              "5               439.101397             15            11   iPhone  \n",
              "6               726.577205             28            23   iPhone  \n",
              "7              2466.981741             22            20   iPhone  \n",
              "8              1594.342984             25            20  Android  \n",
              "9              2341.838528              7             3   iPhone  "
            ]
          },
          "execution_count": 41,
          "metadata": {},
          "output_type": "execute_result"
        }
      ],
      "source": [
        "df.head(10)"
      ]
    },
    {
      "cell_type": "code",
      "execution_count": 42,
      "metadata": {
        "id": "3NctoTSAvGGD",
        "outputId": "940c1703-c7a8-4cd2-b814-beadf4571591"
      },
      "outputs": [
        {
          "name": "stdout",
          "output_type": "stream",
          "text": [
            "<class 'pandas.core.frame.DataFrame'>\n",
            "RangeIndex: 14999 entries, 0 to 14998\n",
            "Data columns (total 13 columns):\n",
            " #   Column                   Non-Null Count  Dtype  \n",
            "---  ------                   --------------  -----  \n",
            " 0   ID                       14999 non-null  int64  \n",
            " 1   label                    14299 non-null  object \n",
            " 2   sessions                 14999 non-null  int64  \n",
            " 3   drives                   14999 non-null  int64  \n",
            " 4   total_sessions           14999 non-null  float64\n",
            " 5   n_days_after_onboarding  14999 non-null  int64  \n",
            " 6   total_navigations_fav1   14999 non-null  int64  \n",
            " 7   total_navigations_fav2   14999 non-null  int64  \n",
            " 8   driven_km_drives         14999 non-null  float64\n",
            " 9   duration_minutes_drives  14999 non-null  float64\n",
            " 10  activity_days            14999 non-null  int64  \n",
            " 11  driving_days             14999 non-null  int64  \n",
            " 12  device                   14999 non-null  object \n",
            "dtypes: float64(3), int64(8), object(2)\n",
            "memory usage: 1.5+ MB\n"
          ]
        }
      ],
      "source": [
        "df.info()"
      ]
    },
    {
      "cell_type": "markdown",
      "metadata": {
        "id": "JscqNfr6ZVsE"
      },
      "source": [
        "When reviewing the df.head() output, are there any variables that have missing values?\n",
        "- There are zeroes in the total_navigations column, but the data is most likely valid\n",
        "\n",
        "When reviewing the df.info() output, what are the data types? How many rows and columns do are there?\n",
        "- integers, floats, and objects\n",
        "- Total of 14999 columns\n",
        "\n",
        "Does the dataset have any missing values?\n",
        "- Label column has 14299 rows when all other columns have 14999\n"
      ]
    },
    {
      "cell_type": "markdown",
      "metadata": {
        "id": "BMNnIoc51_1N"
      },
      "source": [
        "### **Task 2c. Null values and summary statistics**\n",
        "\n",
        "Compare the summary statistics of the 700 rows that are missing labels with summary statistics of the rows that are not missing any values.\n",
        "\n",
        "**Question:** Is there a discernible difference between the two populations?\n"
      ]
    },
    {
      "cell_type": "code",
      "execution_count": 25,
      "metadata": {
        "id": "bAQeHW-d2S1-",
        "outputId": "47483483-baa0-491a-c321-7eeea3cfe786"
      },
      "outputs": [
        {
          "data": {
            "text/html": [
              "<div>\n",
              "<style scoped>\n",
              "    .dataframe tbody tr th:only-of-type {\n",
              "        vertical-align: middle;\n",
              "    }\n",
              "\n",
              "    .dataframe tbody tr th {\n",
              "        vertical-align: top;\n",
              "    }\n",
              "\n",
              "    .dataframe thead th {\n",
              "        text-align: right;\n",
              "    }\n",
              "</style>\n",
              "<table border=\"1\" class=\"dataframe\">\n",
              "  <thead>\n",
              "    <tr style=\"text-align: right;\">\n",
              "      <th></th>\n",
              "      <th>ID</th>\n",
              "      <th>sessions</th>\n",
              "      <th>drives</th>\n",
              "      <th>total_sessions</th>\n",
              "      <th>n_days_after_onboarding</th>\n",
              "      <th>total_navigations_fav1</th>\n",
              "      <th>total_navigations_fav2</th>\n",
              "      <th>driven_km_drives</th>\n",
              "      <th>duration_minutes_drives</th>\n",
              "      <th>activity_days</th>\n",
              "      <th>driving_days</th>\n",
              "    </tr>\n",
              "  </thead>\n",
              "  <tbody>\n",
              "    <tr>\n",
              "      <th>count</th>\n",
              "      <td>700.000000</td>\n",
              "      <td>700.000000</td>\n",
              "      <td>700.000000</td>\n",
              "      <td>700.000000</td>\n",
              "      <td>700.000000</td>\n",
              "      <td>700.000000</td>\n",
              "      <td>700.000000</td>\n",
              "      <td>700.000000</td>\n",
              "      <td>700.000000</td>\n",
              "      <td>700.000000</td>\n",
              "      <td>700.000000</td>\n",
              "    </tr>\n",
              "    <tr>\n",
              "      <th>mean</th>\n",
              "      <td>7405.584286</td>\n",
              "      <td>80.837143</td>\n",
              "      <td>67.798571</td>\n",
              "      <td>198.483348</td>\n",
              "      <td>1709.295714</td>\n",
              "      <td>118.717143</td>\n",
              "      <td>30.371429</td>\n",
              "      <td>3935.967029</td>\n",
              "      <td>1795.123358</td>\n",
              "      <td>15.382857</td>\n",
              "      <td>12.125714</td>\n",
              "    </tr>\n",
              "    <tr>\n",
              "      <th>std</th>\n",
              "      <td>4306.900234</td>\n",
              "      <td>79.987440</td>\n",
              "      <td>65.271926</td>\n",
              "      <td>140.561715</td>\n",
              "      <td>1005.306562</td>\n",
              "      <td>156.308140</td>\n",
              "      <td>46.306984</td>\n",
              "      <td>2443.107121</td>\n",
              "      <td>1419.242246</td>\n",
              "      <td>8.772714</td>\n",
              "      <td>7.626373</td>\n",
              "    </tr>\n",
              "    <tr>\n",
              "      <th>min</th>\n",
              "      <td>77.000000</td>\n",
              "      <td>0.000000</td>\n",
              "      <td>0.000000</td>\n",
              "      <td>5.582648</td>\n",
              "      <td>16.000000</td>\n",
              "      <td>0.000000</td>\n",
              "      <td>0.000000</td>\n",
              "      <td>290.119811</td>\n",
              "      <td>66.588493</td>\n",
              "      <td>0.000000</td>\n",
              "      <td>0.000000</td>\n",
              "    </tr>\n",
              "    <tr>\n",
              "      <th>25%</th>\n",
              "      <td>3744.500000</td>\n",
              "      <td>23.000000</td>\n",
              "      <td>20.000000</td>\n",
              "      <td>94.056340</td>\n",
              "      <td>869.000000</td>\n",
              "      <td>4.000000</td>\n",
              "      <td>0.000000</td>\n",
              "      <td>2119.344818</td>\n",
              "      <td>779.009271</td>\n",
              "      <td>8.000000</td>\n",
              "      <td>6.000000</td>\n",
              "    </tr>\n",
              "    <tr>\n",
              "      <th>50%</th>\n",
              "      <td>7443.000000</td>\n",
              "      <td>56.000000</td>\n",
              "      <td>47.500000</td>\n",
              "      <td>177.255925</td>\n",
              "      <td>1650.500000</td>\n",
              "      <td>62.500000</td>\n",
              "      <td>10.000000</td>\n",
              "      <td>3421.156721</td>\n",
              "      <td>1414.966279</td>\n",
              "      <td>15.000000</td>\n",
              "      <td>12.000000</td>\n",
              "    </tr>\n",
              "    <tr>\n",
              "      <th>75%</th>\n",
              "      <td>11007.000000</td>\n",
              "      <td>112.250000</td>\n",
              "      <td>94.000000</td>\n",
              "      <td>266.058022</td>\n",
              "      <td>2508.750000</td>\n",
              "      <td>169.250000</td>\n",
              "      <td>43.000000</td>\n",
              "      <td>5166.097373</td>\n",
              "      <td>2443.955404</td>\n",
              "      <td>23.000000</td>\n",
              "      <td>18.000000</td>\n",
              "    </tr>\n",
              "    <tr>\n",
              "      <th>max</th>\n",
              "      <td>14993.000000</td>\n",
              "      <td>556.000000</td>\n",
              "      <td>445.000000</td>\n",
              "      <td>1076.879741</td>\n",
              "      <td>3498.000000</td>\n",
              "      <td>1096.000000</td>\n",
              "      <td>352.000000</td>\n",
              "      <td>15135.391280</td>\n",
              "      <td>9746.253023</td>\n",
              "      <td>31.000000</td>\n",
              "      <td>30.000000</td>\n",
              "    </tr>\n",
              "  </tbody>\n",
              "</table>\n",
              "</div>"
            ],
            "text/plain": [
              "                 ID    sessions      drives  total_sessions  \\\n",
              "count    700.000000  700.000000  700.000000      700.000000   \n",
              "mean    7405.584286   80.837143   67.798571      198.483348   \n",
              "std     4306.900234   79.987440   65.271926      140.561715   \n",
              "min       77.000000    0.000000    0.000000        5.582648   \n",
              "25%     3744.500000   23.000000   20.000000       94.056340   \n",
              "50%     7443.000000   56.000000   47.500000      177.255925   \n",
              "75%    11007.000000  112.250000   94.000000      266.058022   \n",
              "max    14993.000000  556.000000  445.000000     1076.879741   \n",
              "\n",
              "       n_days_after_onboarding  total_navigations_fav1  \\\n",
              "count               700.000000              700.000000   \n",
              "mean               1709.295714              118.717143   \n",
              "std                1005.306562              156.308140   \n",
              "min                  16.000000                0.000000   \n",
              "25%                 869.000000                4.000000   \n",
              "50%                1650.500000               62.500000   \n",
              "75%                2508.750000              169.250000   \n",
              "max                3498.000000             1096.000000   \n",
              "\n",
              "       total_navigations_fav2  driven_km_drives  duration_minutes_drives  \\\n",
              "count              700.000000        700.000000               700.000000   \n",
              "mean                30.371429       3935.967029              1795.123358   \n",
              "std                 46.306984       2443.107121              1419.242246   \n",
              "min                  0.000000        290.119811                66.588493   \n",
              "25%                  0.000000       2119.344818               779.009271   \n",
              "50%                 10.000000       3421.156721              1414.966279   \n",
              "75%                 43.000000       5166.097373              2443.955404   \n",
              "max                352.000000      15135.391280              9746.253023   \n",
              "\n",
              "       activity_days  driving_days  \n",
              "count     700.000000    700.000000  \n",
              "mean       15.382857     12.125714  \n",
              "std         8.772714      7.626373  \n",
              "min         0.000000      0.000000  \n",
              "25%         8.000000      6.000000  \n",
              "50%        15.000000     12.000000  \n",
              "75%        23.000000     18.000000  \n",
              "max        31.000000     30.000000  "
            ]
          },
          "execution_count": 25,
          "metadata": {},
          "output_type": "execute_result"
        }
      ],
      "source": [
        "# Isolate rows with null values\n",
        "'''\n",
        "df_null_values and null_values are the same. The difference is null_values needs to be called using\n",
        "df[null_values], while df_null_values does not since it's already being called within the boolean mask.\n",
        "'''\n",
        "df_null_values = df[df['label'].isnull()]\n",
        "# nullvalues\n",
        "\n",
        "null_values = df['label'].isnull()\n",
        "# df[nullvalues2]\n",
        "\n",
        "# Display summary stats of rows with null values\n",
        "# df_nullvalues.describe()\n",
        "df[null_values].describe()\n"
      ]
    },
    {
      "cell_type": "code",
      "execution_count": 9,
      "metadata": {
        "id": "W77hp8q3w-zi",
        "outputId": "de3ca239-5576-4b97-da2b-dd1eceadd62f"
      },
      "outputs": [
        {
          "data": {
            "text/html": [
              "<div>\n",
              "<style scoped>\n",
              "    .dataframe tbody tr th:only-of-type {\n",
              "        vertical-align: middle;\n",
              "    }\n",
              "\n",
              "    .dataframe tbody tr th {\n",
              "        vertical-align: top;\n",
              "    }\n",
              "\n",
              "    .dataframe thead th {\n",
              "        text-align: right;\n",
              "    }\n",
              "</style>\n",
              "<table border=\"1\" class=\"dataframe\">\n",
              "  <thead>\n",
              "    <tr style=\"text-align: right;\">\n",
              "      <th></th>\n",
              "      <th>ID</th>\n",
              "      <th>sessions</th>\n",
              "      <th>drives</th>\n",
              "      <th>total_sessions</th>\n",
              "      <th>n_days_after_onboarding</th>\n",
              "      <th>total_navigations_fav1</th>\n",
              "      <th>total_navigations_fav2</th>\n",
              "      <th>driven_km_drives</th>\n",
              "      <th>duration_minutes_drives</th>\n",
              "      <th>activity_days</th>\n",
              "      <th>driving_days</th>\n",
              "    </tr>\n",
              "  </thead>\n",
              "  <tbody>\n",
              "    <tr>\n",
              "      <th>count</th>\n",
              "      <td>14299.000000</td>\n",
              "      <td>14299.000000</td>\n",
              "      <td>14299.000000</td>\n",
              "      <td>14299.000000</td>\n",
              "      <td>14299.000000</td>\n",
              "      <td>14299.000000</td>\n",
              "      <td>14299.000000</td>\n",
              "      <td>14299.000000</td>\n",
              "      <td>14299.000000</td>\n",
              "      <td>14299.000000</td>\n",
              "      <td>14299.000000</td>\n",
              "    </tr>\n",
              "    <tr>\n",
              "      <th>mean</th>\n",
              "      <td>7503.573117</td>\n",
              "      <td>80.623820</td>\n",
              "      <td>67.255822</td>\n",
              "      <td>189.547409</td>\n",
              "      <td>1751.822505</td>\n",
              "      <td>121.747395</td>\n",
              "      <td>29.638296</td>\n",
              "      <td>4044.401535</td>\n",
              "      <td>1864.199794</td>\n",
              "      <td>15.544653</td>\n",
              "      <td>12.182530</td>\n",
              "    </tr>\n",
              "    <tr>\n",
              "      <th>std</th>\n",
              "      <td>4331.207621</td>\n",
              "      <td>80.736502</td>\n",
              "      <td>65.947295</td>\n",
              "      <td>136.189764</td>\n",
              "      <td>1008.663834</td>\n",
              "      <td>147.713428</td>\n",
              "      <td>45.350890</td>\n",
              "      <td>2504.977970</td>\n",
              "      <td>1448.005047</td>\n",
              "      <td>9.016088</td>\n",
              "      <td>7.833835</td>\n",
              "    </tr>\n",
              "    <tr>\n",
              "      <th>min</th>\n",
              "      <td>0.000000</td>\n",
              "      <td>0.000000</td>\n",
              "      <td>0.000000</td>\n",
              "      <td>0.220211</td>\n",
              "      <td>4.000000</td>\n",
              "      <td>0.000000</td>\n",
              "      <td>0.000000</td>\n",
              "      <td>60.441250</td>\n",
              "      <td>18.282082</td>\n",
              "      <td>0.000000</td>\n",
              "      <td>0.000000</td>\n",
              "    </tr>\n",
              "    <tr>\n",
              "      <th>25%</th>\n",
              "      <td>3749.500000</td>\n",
              "      <td>23.000000</td>\n",
              "      <td>20.000000</td>\n",
              "      <td>90.457733</td>\n",
              "      <td>878.500000</td>\n",
              "      <td>10.000000</td>\n",
              "      <td>0.000000</td>\n",
              "      <td>2217.319909</td>\n",
              "      <td>840.181344</td>\n",
              "      <td>8.000000</td>\n",
              "      <td>5.000000</td>\n",
              "    </tr>\n",
              "    <tr>\n",
              "      <th>50%</th>\n",
              "      <td>7504.000000</td>\n",
              "      <td>56.000000</td>\n",
              "      <td>48.000000</td>\n",
              "      <td>158.718571</td>\n",
              "      <td>1749.000000</td>\n",
              "      <td>71.000000</td>\n",
              "      <td>9.000000</td>\n",
              "      <td>3496.545617</td>\n",
              "      <td>1479.394387</td>\n",
              "      <td>16.000000</td>\n",
              "      <td>12.000000</td>\n",
              "    </tr>\n",
              "    <tr>\n",
              "      <th>75%</th>\n",
              "      <td>11257.500000</td>\n",
              "      <td>111.000000</td>\n",
              "      <td>93.000000</td>\n",
              "      <td>253.540450</td>\n",
              "      <td>2627.500000</td>\n",
              "      <td>178.000000</td>\n",
              "      <td>43.000000</td>\n",
              "      <td>5299.972162</td>\n",
              "      <td>2466.928876</td>\n",
              "      <td>23.000000</td>\n",
              "      <td>19.000000</td>\n",
              "    </tr>\n",
              "    <tr>\n",
              "      <th>max</th>\n",
              "      <td>14998.000000</td>\n",
              "      <td>743.000000</td>\n",
              "      <td>596.000000</td>\n",
              "      <td>1216.154633</td>\n",
              "      <td>3500.000000</td>\n",
              "      <td>1236.000000</td>\n",
              "      <td>415.000000</td>\n",
              "      <td>21183.401890</td>\n",
              "      <td>15851.727160</td>\n",
              "      <td>31.000000</td>\n",
              "      <td>30.000000</td>\n",
              "    </tr>\n",
              "  </tbody>\n",
              "</table>\n",
              "</div>"
            ],
            "text/plain": [
              "                 ID      sessions        drives  total_sessions  \\\n",
              "count  14299.000000  14299.000000  14299.000000    14299.000000   \n",
              "mean    7503.573117     80.623820     67.255822      189.547409   \n",
              "std     4331.207621     80.736502     65.947295      136.189764   \n",
              "min        0.000000      0.000000      0.000000        0.220211   \n",
              "25%     3749.500000     23.000000     20.000000       90.457733   \n",
              "50%     7504.000000     56.000000     48.000000      158.718571   \n",
              "75%    11257.500000    111.000000     93.000000      253.540450   \n",
              "max    14998.000000    743.000000    596.000000     1216.154633   \n",
              "\n",
              "       n_days_after_onboarding  total_navigations_fav1  \\\n",
              "count             14299.000000            14299.000000   \n",
              "mean               1751.822505              121.747395   \n",
              "std                1008.663834              147.713428   \n",
              "min                   4.000000                0.000000   \n",
              "25%                 878.500000               10.000000   \n",
              "50%                1749.000000               71.000000   \n",
              "75%                2627.500000              178.000000   \n",
              "max                3500.000000             1236.000000   \n",
              "\n",
              "       total_navigations_fav2  driven_km_drives  duration_minutes_drives  \\\n",
              "count            14299.000000      14299.000000             14299.000000   \n",
              "mean                29.638296       4044.401535              1864.199794   \n",
              "std                 45.350890       2504.977970              1448.005047   \n",
              "min                  0.000000         60.441250                18.282082   \n",
              "25%                  0.000000       2217.319909               840.181344   \n",
              "50%                  9.000000       3496.545617              1479.394387   \n",
              "75%                 43.000000       5299.972162              2466.928876   \n",
              "max                415.000000      21183.401890             15851.727160   \n",
              "\n",
              "       activity_days  driving_days  \n",
              "count   14299.000000  14299.000000  \n",
              "mean       15.544653     12.182530  \n",
              "std         9.016088      7.833835  \n",
              "min         0.000000      0.000000  \n",
              "25%         8.000000      5.000000  \n",
              "50%        16.000000     12.000000  \n",
              "75%        23.000000     19.000000  \n",
              "max        31.000000     30.000000  "
            ]
          },
          "execution_count": 9,
          "metadata": {},
          "output_type": "execute_result"
        }
      ],
      "source": [
        "# Isolate rows without null values\n",
        "df_no_null_values = df[df['label'].notnull()]\n",
        "\n",
        "# Display summary stats of rows without null values\n",
        "df_no_null_values.describe()"
      ]
    },
    {
      "cell_type": "markdown",
      "metadata": {
        "id": "sJpXfBZUlWC5"
      },
      "source": [
        "Is there a discernible difference between the two populations?\n",
        "- There is a difference between null and not null, however, it's nothing alarming"
      ]
    },
    {
      "cell_type": "markdown",
      "metadata": {
        "id": "S2CupDgSlpm4"
      },
      "source": [
        "### **Task 2d. Null values - device counts**\n",
        "\n",
        "Next, check the two populations with respect to the `device` variable.\n",
        "\n",
        "**Question:** How many iPhone users had null values and how many Android users had null values?"
      ]
    },
    {
      "cell_type": "code",
      "execution_count": 10,
      "metadata": {
        "id": "IbCnokO8lsq3",
        "outputId": "fec4b25c-4f9c-44f8-9895-86fed4d4cead"
      },
      "outputs": [
        {
          "data": {
            "text/plain": [
              "iPhone     447\n",
              "Android    253\n",
              "Name: device, dtype: int64"
            ]
          },
          "execution_count": 10,
          "metadata": {},
          "output_type": "execute_result"
        }
      ],
      "source": [
        "# Get count of null values by device\n",
        "df_null_values['device'].value_counts()"
      ]
    },
    {
      "cell_type": "markdown",
      "metadata": {
        "id": "JKfLfQQUltQk"
      },
      "source": [
        "> 447 iPhone users and 253 Android users from a total of 700 users with null values"
      ]
    },
    {
      "cell_type": "markdown",
      "metadata": {
        "id": "xodMNO1Ql5PZ"
      },
      "source": [
        "Now, of the rows with null values, calculate the percentage with each device&mdash;Android and iPhone."
      ]
    },
    {
      "cell_type": "code",
      "execution_count": 11,
      "metadata": {
        "id": "ajlCljYHmCTa",
        "outputId": "31d60c46-c174-44a9-e3a1-52b34a6a76de"
      },
      "outputs": [
        {
          "data": {
            "text/plain": [
              "iPhone     0.638571\n",
              "Android    0.361429\n",
              "Name: device, dtype: float64"
            ]
          },
          "execution_count": 11,
          "metadata": {},
          "output_type": "execute_result"
        }
      ],
      "source": [
        "# Calculate % of iPhone nulls and Android nulls\n",
        "null_iphone_users = (df['device'] == 'iPhone') & (df['label'].isnull())\n",
        "null_android_users = (df['device'] == 'Android') & (df['label'].isnull())\n",
        "\n",
        "df_null_values['device'].value_counts(normalize=True)"
      ]
    },
    {
      "cell_type": "code",
      "execution_count": 12,
      "metadata": {
        "id": "K-ztnQ1TDMTo",
        "outputId": "f5a83764-f177-484b-9ffe-8cccefd99282"
      },
      "outputs": [
        {
          "data": {
            "text/plain": [
              "Series([], dtype: float64)"
            ]
          },
          "execution_count": 12,
          "metadata": {},
          "output_type": "execute_result"
        }
      ],
      "source": [
        "df[null_iphone_users].value_counts(normalize=True)"
      ]
    },
    {
      "cell_type": "markdown",
      "metadata": {
        "id": "dA_ps_fA3xn9"
      },
      "source": [
        "How does this compare to the device ratio in the full dataset?"
      ]
    },
    {
      "cell_type": "code",
      "execution_count": 13,
      "metadata": {
        "id": "Dm-qKyQNmCsQ",
        "outputId": "41b87fce-75bb-41d2-b27a-f6d64717651b"
      },
      "outputs": [
        {
          "data": {
            "text/plain": [
              "iPhone     0.644843\n",
              "Android    0.355157\n",
              "Name: device, dtype: float64"
            ]
          },
          "execution_count": 13,
          "metadata": {},
          "output_type": "execute_result"
        }
      ],
      "source": [
        "# Calculate % of iPhone users and Android users in full dataset\n",
        "df['device'].value_counts(normalize=True)"
      ]
    },
    {
      "cell_type": "markdown",
      "metadata": {
        "id": "eEIeGZdgmRh9"
      },
      "source": [
        "The percentage of missing values by each device is consistent with their representation in the data overall.\n",
        "\n",
        "There is nothing to suggest a non-random cause of the missing data."
      ]
    },
    {
      "cell_type": "markdown",
      "metadata": {
        "id": "uIzg4fXtmSTe"
      },
      "source": [
        "Examine the counts and percentages of users who churned vs. those who were retained. How many of each group are represented in the data?"
      ]
    },
    {
      "cell_type": "code",
      "execution_count": 14,
      "metadata": {
        "id": "zQ1mu8g9maYX",
        "outputId": "fe920b83-1b79-4817-b93b-cda2676d978e"
      },
      "outputs": [
        {
          "name": "stdout",
          "output_type": "stream",
          "text": [
            "retained    11763\n",
            "churned      2536\n",
            "Name: label, dtype: int64\n",
            "\n",
            "retained    0.822645\n",
            "churned     0.177355\n",
            "Name: label, dtype: float64\n"
          ]
        }
      ],
      "source": [
        "# Calculate counts of churned vs. retained\n",
        "print(df['label'].value_counts())\n",
        "print()\n",
        "print(df['label'].value_counts(normalize=True))"
      ]
    },
    {
      "cell_type": "markdown",
      "metadata": {
        "id": "VYTZIIOKmfIz"
      },
      "source": [
        "This dataset contains 82% retained users and 18% churned users.\n",
        "\n",
        "Next, compare the medians of each variable for churned and retained users. The reason for calculating the median and not the mean is that you don't want outliers to unduly affect the portrayal of a typical user. Notice, for example, that the maximum value in the `driven_km_drives` column is 21,183 km. That's more than half the circumference of the earth!"
      ]
    },
    {
      "cell_type": "code",
      "execution_count": 30,
      "metadata": {
        "id": "jzngebHRmmFA",
        "outputId": "addd6142-8f5d-4922-da73-fa3d9a809002"
      },
      "outputs": [
        {
          "data": {
            "text/html": [
              "<div>\n",
              "<style scoped>\n",
              "    .dataframe tbody tr th:only-of-type {\n",
              "        vertical-align: middle;\n",
              "    }\n",
              "\n",
              "    .dataframe tbody tr th {\n",
              "        vertical-align: top;\n",
              "    }\n",
              "\n",
              "    .dataframe thead th {\n",
              "        text-align: right;\n",
              "    }\n",
              "</style>\n",
              "<table border=\"1\" class=\"dataframe\">\n",
              "  <thead>\n",
              "    <tr style=\"text-align: right;\">\n",
              "      <th></th>\n",
              "      <th>ID</th>\n",
              "      <th>sessions</th>\n",
              "      <th>drives</th>\n",
              "      <th>total_sessions</th>\n",
              "      <th>n_days_after_onboarding</th>\n",
              "      <th>total_navigations_fav1</th>\n",
              "      <th>total_navigations_fav2</th>\n",
              "      <th>driven_km_drives</th>\n",
              "      <th>duration_minutes_drives</th>\n",
              "      <th>activity_days</th>\n",
              "      <th>driving_days</th>\n",
              "    </tr>\n",
              "    <tr>\n",
              "      <th>label</th>\n",
              "      <th></th>\n",
              "      <th></th>\n",
              "      <th></th>\n",
              "      <th></th>\n",
              "      <th></th>\n",
              "      <th></th>\n",
              "      <th></th>\n",
              "      <th></th>\n",
              "      <th></th>\n",
              "      <th></th>\n",
              "      <th></th>\n",
              "    </tr>\n",
              "  </thead>\n",
              "  <tbody>\n",
              "    <tr>\n",
              "      <th>churned</th>\n",
              "      <td>7477.5</td>\n",
              "      <td>59.0</td>\n",
              "      <td>50.0</td>\n",
              "      <td>164.339042</td>\n",
              "      <td>1321.0</td>\n",
              "      <td>84.5</td>\n",
              "      <td>11.0</td>\n",
              "      <td>3652.655666</td>\n",
              "      <td>1607.183785</td>\n",
              "      <td>8.0</td>\n",
              "      <td>6.0</td>\n",
              "    </tr>\n",
              "    <tr>\n",
              "      <th>retained</th>\n",
              "      <td>7509.0</td>\n",
              "      <td>56.0</td>\n",
              "      <td>47.0</td>\n",
              "      <td>157.586756</td>\n",
              "      <td>1843.0</td>\n",
              "      <td>68.0</td>\n",
              "      <td>9.0</td>\n",
              "      <td>3464.684614</td>\n",
              "      <td>1458.046141</td>\n",
              "      <td>17.0</td>\n",
              "      <td>14.0</td>\n",
              "    </tr>\n",
              "  </tbody>\n",
              "</table>\n",
              "</div>"
            ],
            "text/plain": [
              "              ID  sessions  drives  total_sessions  n_days_after_onboarding  \\\n",
              "label                                                                         \n",
              "churned   7477.5      59.0    50.0      164.339042                   1321.0   \n",
              "retained  7509.0      56.0    47.0      157.586756                   1843.0   \n",
              "\n",
              "          total_navigations_fav1  total_navigations_fav2  driven_km_drives  \\\n",
              "label                                                                        \n",
              "churned                     84.5                    11.0       3652.655666   \n",
              "retained                    68.0                     9.0       3464.684614   \n",
              "\n",
              "          duration_minutes_drives  activity_days  driving_days  \n",
              "label                                                           \n",
              "churned               1607.183785            8.0           6.0  \n",
              "retained              1458.046141           17.0          14.0  "
            ]
          },
          "execution_count": 30,
          "metadata": {},
          "output_type": "execute_result"
        }
      ],
      "source": [
        "# Calculate median values of all columns for churned and retained users\n",
        "df.groupby('label').median(numeric_only=True)"
      ]
    },
    {
      "cell_type": "code",
      "execution_count": 31,
      "metadata": {},
      "outputs": [
        {
          "name": "stderr",
          "output_type": "stream",
          "text": [
            "/var/folders/f3/0d944_pd5rx5b4_161ksr2_w0000gn/T/ipykernel_42927/1190087137.py:1: FutureWarning: ['device'] did not aggregate successfully. If any error is raised this will raise in a future version of pandas. Drop these columns/ops to avoid this warning.\n",
            "  df.groupby(['label']).agg(['median', 'mean'])\n"
          ]
        },
        {
          "data": {
            "text/html": [
              "<div>\n",
              "<style scoped>\n",
              "    .dataframe tbody tr th:only-of-type {\n",
              "        vertical-align: middle;\n",
              "    }\n",
              "\n",
              "    .dataframe tbody tr th {\n",
              "        vertical-align: top;\n",
              "    }\n",
              "\n",
              "    .dataframe thead tr th {\n",
              "        text-align: left;\n",
              "    }\n",
              "\n",
              "    .dataframe thead tr:last-of-type th {\n",
              "        text-align: right;\n",
              "    }\n",
              "</style>\n",
              "<table border=\"1\" class=\"dataframe\">\n",
              "  <thead>\n",
              "    <tr>\n",
              "      <th></th>\n",
              "      <th colspan=\"2\" halign=\"left\">ID</th>\n",
              "      <th colspan=\"2\" halign=\"left\">sessions</th>\n",
              "      <th colspan=\"2\" halign=\"left\">drives</th>\n",
              "      <th colspan=\"2\" halign=\"left\">total_sessions</th>\n",
              "      <th colspan=\"2\" halign=\"left\">n_days_after_onboarding</th>\n",
              "      <th>...</th>\n",
              "      <th colspan=\"2\" halign=\"left\">total_navigations_fav2</th>\n",
              "      <th colspan=\"2\" halign=\"left\">driven_km_drives</th>\n",
              "      <th colspan=\"2\" halign=\"left\">duration_minutes_drives</th>\n",
              "      <th colspan=\"2\" halign=\"left\">activity_days</th>\n",
              "      <th colspan=\"2\" halign=\"left\">driving_days</th>\n",
              "    </tr>\n",
              "    <tr>\n",
              "      <th></th>\n",
              "      <th>median</th>\n",
              "      <th>mean</th>\n",
              "      <th>median</th>\n",
              "      <th>mean</th>\n",
              "      <th>median</th>\n",
              "      <th>mean</th>\n",
              "      <th>median</th>\n",
              "      <th>mean</th>\n",
              "      <th>median</th>\n",
              "      <th>mean</th>\n",
              "      <th>...</th>\n",
              "      <th>median</th>\n",
              "      <th>mean</th>\n",
              "      <th>median</th>\n",
              "      <th>mean</th>\n",
              "      <th>median</th>\n",
              "      <th>mean</th>\n",
              "      <th>median</th>\n",
              "      <th>mean</th>\n",
              "      <th>median</th>\n",
              "      <th>mean</th>\n",
              "    </tr>\n",
              "    <tr>\n",
              "      <th>label</th>\n",
              "      <th></th>\n",
              "      <th></th>\n",
              "      <th></th>\n",
              "      <th></th>\n",
              "      <th></th>\n",
              "      <th></th>\n",
              "      <th></th>\n",
              "      <th></th>\n",
              "      <th></th>\n",
              "      <th></th>\n",
              "      <th></th>\n",
              "      <th></th>\n",
              "      <th></th>\n",
              "      <th></th>\n",
              "      <th></th>\n",
              "      <th></th>\n",
              "      <th></th>\n",
              "      <th></th>\n",
              "      <th></th>\n",
              "      <th></th>\n",
              "      <th></th>\n",
              "    </tr>\n",
              "  </thead>\n",
              "  <tbody>\n",
              "    <tr>\n",
              "      <th>churned</th>\n",
              "      <td>7477.5</td>\n",
              "      <td>7544.852918</td>\n",
              "      <td>59.0</td>\n",
              "      <td>87.238959</td>\n",
              "      <td>50.0</td>\n",
              "      <td>72.730678</td>\n",
              "      <td>164.339042</td>\n",
              "      <td>196.893424</td>\n",
              "      <td>1321.0</td>\n",
              "      <td>1471.027603</td>\n",
              "      <td>...</td>\n",
              "      <td>11.0</td>\n",
              "      <td>31.596609</td>\n",
              "      <td>3652.655666</td>\n",
              "      <td>4147.171864</td>\n",
              "      <td>1607.183785</td>\n",
              "      <td>1975.459630</td>\n",
              "      <td>8.0</td>\n",
              "      <td>9.644716</td>\n",
              "      <td>6.0</td>\n",
              "      <td>7.218060</td>\n",
              "    </tr>\n",
              "    <tr>\n",
              "      <th>retained</th>\n",
              "      <td>7509.0</td>\n",
              "      <td>7494.673553</td>\n",
              "      <td>56.0</td>\n",
              "      <td>79.197654</td>\n",
              "      <td>47.0</td>\n",
              "      <td>66.075491</td>\n",
              "      <td>157.586756</td>\n",
              "      <td>187.963672</td>\n",
              "      <td>1843.0</td>\n",
              "      <td>1812.359432</td>\n",
              "      <td>...</td>\n",
              "      <td>9.0</td>\n",
              "      <td>29.216101</td>\n",
              "      <td>3464.684614</td>\n",
              "      <td>4022.245150</td>\n",
              "      <td>1458.046141</td>\n",
              "      <td>1840.213146</td>\n",
              "      <td>17.0</td>\n",
              "      <td>16.816628</td>\n",
              "      <td>14.0</td>\n",
              "      <td>13.252827</td>\n",
              "    </tr>\n",
              "  </tbody>\n",
              "</table>\n",
              "<p>2 rows × 22 columns</p>\n",
              "</div>"
            ],
            "text/plain": [
              "              ID              sessions            drives             \\\n",
              "          median         mean   median       mean median       mean   \n",
              "label                                                                 \n",
              "churned   7477.5  7544.852918     59.0  87.238959   50.0  72.730678   \n",
              "retained  7509.0  7494.673553     56.0  79.197654   47.0  66.075491   \n",
              "\n",
              "         total_sessions             n_days_after_onboarding               ...  \\\n",
              "                 median        mean                  median         mean  ...   \n",
              "label                                                                     ...   \n",
              "churned      164.339042  196.893424                  1321.0  1471.027603  ...   \n",
              "retained     157.586756  187.963672                  1843.0  1812.359432  ...   \n",
              "\n",
              "         total_navigations_fav2            driven_km_drives               \\\n",
              "                         median       mean           median         mean   \n",
              "label                                                                      \n",
              "churned                    11.0  31.596609      3652.655666  4147.171864   \n",
              "retained                    9.0  29.216101      3464.684614  4022.245150   \n",
              "\n",
              "         duration_minutes_drives              activity_days             \\\n",
              "                          median         mean        median       mean   \n",
              "label                                                                    \n",
              "churned              1607.183785  1975.459630           8.0   9.644716   \n",
              "retained             1458.046141  1840.213146          17.0  16.816628   \n",
              "\n",
              "         driving_days             \n",
              "               median       mean  \n",
              "label                             \n",
              "churned           6.0   7.218060  \n",
              "retained         14.0  13.252827  \n",
              "\n",
              "[2 rows x 22 columns]"
            ]
          },
          "execution_count": 31,
          "metadata": {},
          "output_type": "execute_result"
        }
      ],
      "source": [
        "df.groupby(['label']).agg(['median', 'mean'])"
      ]
    },
    {
      "cell_type": "markdown",
      "metadata": {
        "id": "NvnPFKS3mm71"
      },
      "source": [
        "This offers an interesting snapshot of the two groups, churned vs. retained:\n",
        "\n",
        "Users who churned averaged ~3 more drives in the last month than retained users, but retained users used the app on over twice as many days as churned users in the same time period.\n",
        "\n",
        "The median churned user drove ~200 more kilometers and 2.5 more hours during the last month than the median retained user.\n",
        "\n",
        "It seems that churned users had more drives in fewer days, and their trips were farther and longer in duration. Perhaps this is suggestive of a user profile."
      ]
    },
    {
      "cell_type": "markdown",
      "metadata": {
        "id": "cUAkU-JInALK"
      },
      "source": [
        "Calculate the median kilometers per drive in the last month for both retained and churned users."
      ]
    },
    {
      "cell_type": "code",
      "execution_count": 39,
      "metadata": {
        "id": "TVcP2PPhnBMZ",
        "outputId": "402d7f95-e48c-4946-9608-0e4a88eceff0"
      },
      "outputs": [
        {
          "data": {
            "text/plain": [
              "label\n",
              "churned     73.053113\n",
              "retained    73.716694\n",
              "dtype: float64"
            ]
          },
          "execution_count": 39,
          "metadata": {},
          "output_type": "execute_result"
        }
      ],
      "source": [
        "# Group data by `label` and calculate the medians\n",
        "medians_by_label = df.groupby(['label']).median(numeric_only=True)\n",
        "\n",
        "# Divide the median distance by median number of drives\n",
        "medians_by_label['driven_km_drives'] / medians_by_label['drives']\n"
      ]
    },
    {
      "cell_type": "markdown",
      "metadata": {
        "id": "C6VicaRVnFzq"
      },
      "source": [
        "The median user from both groups drove ~73 km/drive. How many kilometers per driving day was this?"
      ]
    },
    {
      "cell_type": "code",
      "execution_count": 33,
      "metadata": {
        "id": "I6lD33kfnGQb",
        "outputId": "abb7e6eb-9bc3-415c-a401-185bd4996d59"
      },
      "outputs": [
        {
          "name": "stdout",
          "output_type": "stream",
          "text": [
            "Median number of km driven per median number of driving days:\n"
          ]
        },
        {
          "data": {
            "text/plain": [
              "label\n",
              "churned     608.775944\n",
              "retained    247.477472\n",
              "dtype: float64"
            ]
          },
          "execution_count": 33,
          "metadata": {},
          "output_type": "execute_result"
        }
      ],
      "source": [
        "# Divide the median distance by median number of driving days\n",
        "print ('Median number of km driven per median number of driving days:')\n",
        "medians_by_label['driven_km_drives'] / medians_by_label['driving_days']"
      ]
    },
    {
      "cell_type": "markdown",
      "metadata": {
        "id": "kIfSmukAnVSs"
      },
      "source": [
        "Now, calculate the median number of drives per driving day for each group."
      ]
    },
    {
      "cell_type": "code",
      "execution_count": 34,
      "metadata": {
        "id": "VAHqOO8endWX",
        "outputId": "0cbb22dd-05ef-498b-e66a-f86895679a3b"
      },
      "outputs": [
        {
          "name": "stdout",
          "output_type": "stream",
          "text": [
            "Median number of drives per median number of driving days:\n"
          ]
        },
        {
          "data": {
            "text/plain": [
              "label\n",
              "churned     8.333333\n",
              "retained    3.357143\n",
              "dtype: float64"
            ]
          },
          "execution_count": 34,
          "metadata": {},
          "output_type": "execute_result"
        }
      ],
      "source": [
        "# Divide the median number of drives by median number of driving days\n",
        "print ('Median number of drives per median number of driving days:')\n",
        "medians_by_label['drives'] / medians_by_label['driving_days']"
      ]
    },
    {
      "cell_type": "markdown",
      "metadata": {
        "id": "LVRAwsb1nv2L"
      },
      "source": [
        "The median user who churned drove 608 kilometers each day they drove last month, which is almost 250% the per-drive-day distance of retained users. The median churned user had a similarly disproporionate number of drives per drive day compared to retained users.\n",
        "\n",
        "It is clear from these figures that, regardless of whether a user churned or not, the users represented in this data are serious drivers! It would probably be safe to assume that this data does not represent typical drivers at large. Perhaps the data&mdash;and in particular the sample of churned users&mdash;contains a high proportion of long-haul truckers.\n",
        "\n",
        "In consideration of how much these users drive, it would be worthwhile to recommend to Waze that they gather more data on these super-drivers. It's possible that the reason for their driving so much is also the reason why the Waze app does not meet their specific set of needs, which may differ from the needs of a more typical driver, such as a commuter."
      ]
    },
    {
      "cell_type": "markdown",
      "metadata": {
        "id": "xc7Q6elLoD1R"
      },
      "source": [
        "Finally, examine whether there is an imbalance in how many users churned by device type.\n",
        "\n",
        "Begin by getting the overall counts of each device type for each group, churned and retained."
      ]
    },
    {
      "cell_type": "code",
      "execution_count": 35,
      "metadata": {
        "id": "LGkODIILoEp-",
        "outputId": "ce7f611b-8c30-470a-b47f-a43e966c6f85"
      },
      "outputs": [
        {
          "data": {
            "text/plain": [
              "label     device \n",
              "churned   Android     891\n",
              "          iPhone     1645\n",
              "retained  Android    4183\n",
              "          iPhone     7580\n",
              "dtype: int64"
            ]
          },
          "execution_count": 35,
          "metadata": {},
          "output_type": "execute_result"
        }
      ],
      "source": [
        "# For each label, calculate the number of Android users and iPhone users\n",
        "df.groupby(['label', 'device']).size()"
      ]
    },
    {
      "cell_type": "markdown",
      "metadata": {
        "id": "yTVM6qFkoJs4"
      },
      "source": [
        "Now, within each group, churned and retained, calculate what percent was Android and what percent was iPhone."
      ]
    },
    {
      "cell_type": "code",
      "execution_count": 36,
      "metadata": {
        "id": "rx0ElsS6oO7y",
        "outputId": "9ca6dc59-48a6-4968-b0a4-9a0177db125c"
      },
      "outputs": [
        {
          "data": {
            "text/plain": [
              "label     device \n",
              "churned   iPhone     0.648659\n",
              "          Android    0.351341\n",
              "retained  iPhone     0.644393\n",
              "          Android    0.355607\n",
              "Name: device, dtype: float64"
            ]
          },
          "execution_count": 36,
          "metadata": {},
          "output_type": "execute_result"
        }
      ],
      "source": [
        "# For each label, calculate the percentage of Android users and iPhone users\n",
        "df.groupby('label')['device'].value_counts(normalize=True)"
      ]
    },
    {
      "cell_type": "markdown",
      "metadata": {
        "id": "DQVIMPzroavO"
      },
      "source": [
        "The ratio of iPhone users and Android users is consistent between the churned group and the retained group, and those ratios are both consistent with the ratio found in the overall dataset."
      ]
    },
    {
      "cell_type": "markdown",
      "metadata": {
        "id": "tF_82VLgzrQm"
      },
      "source": [
        "<img src=\"data/images/Construct.png\" width=\"100\" height=\"100\" align=left>\n",
        "\n",
        "## **PACE: Construct**\n",
        "\n",
        "**Note**: The Construct stage does not apply to this workflow. The PACE framework can be adapted to fit the specific requirements of any project.\n",
        "\n"
      ]
    },
    {
      "cell_type": "markdown",
      "metadata": {
        "id": "BMHV86A6zrQo"
      },
      "source": [
        "<img src=\"data/images/Execute.png\" width=\"100\" height=\"100\" align=left>\n",
        "\n",
        "## **PACE: Execute**\n"
      ]
    },
    {
      "cell_type": "markdown",
      "metadata": {
        "id": "u3HxcMZgz6iW"
      },
      "source": [
        "### **Task 3. Conclusion**\n",
        "\n",
        "What findings would I share with the data team in an executive summary?\n",
        "\n",
        "**Questions:**\n",
        "\n",
        "1. Did the data contain any missing values? How many, and which variables were affected? Was there a pattern to the missing data?\n",
        "\n",
        "2. What is a benefit of using the median value of a sample instead of the mean?\n",
        "\n",
        "3. Did the investigation give rise to further questions that I would like to explore or ask the Waze team about?\n",
        "\n",
        "4. What percentage of the users in the dataset were Android users and what percentage were iPhone users?\n",
        "\n",
        "5. What were some distinguishing characteristics of users who churned vs. users who were retained?\n",
        "\n",
        "6. Was there an appreciable difference in churn rate between iPhone users vs. Android users?\n",
        "\n",
        "\n",
        "\n"
      ]
    },
    {
      "cell_type": "markdown",
      "metadata": {
        "id": "iMHlK7k5_2PV"
      },
      "source": [
        "> 1. Yes, the data did contain missing values. However, only values from the 'labels' column were missing - 700 in total, and there is no obvious pattern to the missing values.\n",
        "> 2. Mean accounts is the sum of all values divided by the number values. This includes outliers, which can skew results. Using median instead can give a better idea of what a true middle range would be.\n",
        "> 3. Yes, perhaps being given more data to work with. From the analysis so far, it seems like most of the drivers churned are long-commuters e.g. truckers. The median user drove 608 km/day, 250% over the median retained user.\n",
        "> 4. 64% iPhone users, and 36% Android users\n",
        "> 5. Users who churned had a lot more miles driven than those retained, even in a shorter a time frame. Additionally, they used the app about half as many times as retained users over the same period.\n",
        "> 6. No, there was not. iPhone vs Android in churned vs retained had minimal difference. Percentages for both were near equal."
      ]
    }
  ],
  "metadata": {
    "colab": {
      "provenance": [],
      "toc_visible": true
    },
    "kernelspec": {
      "display_name": "Python 3",
      "language": "python",
      "name": "python3"
    },
    "language_info": {
      "codemirror_mode": {
        "name": "ipython",
        "version": 3
      },
      "file_extension": ".py",
      "mimetype": "text/x-python",
      "name": "python",
      "nbconvert_exporter": "python",
      "pygments_lexer": "ipython3",
      "version": "3.11.4"
    }
  },
  "nbformat": 4,
  "nbformat_minor": 0
}
